{
    "metadata": {
        "kernelspec": {
            "name": "SQL",
            "display_name": "SQL",
            "language": "sql"
        },
        "language_info": {
            "name": "sql",
            "version": ""
        }
    },
    "nbformat_minor": 2,
    "nbformat": 4,
    "cells": [
        {
            "cell_type": "markdown",
            "source": [
                "Listázzuk azon vendégek nevét, email-címét és felhasználói nevét, akik egynél többször foglaltak!\n",
                "\n",
                "- Hagyjuk ki azokat a vendégeket, akik május hónapban születtek!"
            ],
            "metadata": {
                "azdata_cell_guid": "0dda1f1b-6a3d-4a95-97f8-eeb9c80f3797"
            },
            "attachments": {}
        },
        {
            "cell_type": "code",
            "source": [
                "select distinct v.email, v.USERNEV\r\n",
                "from vendeg v join foglalas f on v.USERNEV = f.ugyfel_fk\r\n",
                "where month(v.SZUL_DAT) != 5\r\n",
                "GROUP by v.email, v.usernev\r\n",
                "having count(*) > 1\r\n",
                ""
            ],
            "metadata": {
                "azdata_cell_guid": "35a19385-72c0-4901-b9b1-553341c93992",
                "language": "sql"
            },
            "outputs": [
                {
                    "output_type": "display_data",
                    "data": {
                        "text/html": "(169 rows affected)"
                    },
                    "metadata": {}
                },
                {
                    "output_type": "display_data",
                    "data": {
                        "text/html": "Total execution time: 00:00:00.011"
                    },
                    "metadata": {}
                },
                {
                    "output_type": "execute_result",
                    "metadata": {},
                    "execution_count": 10,
                    "data": {
                        "application/vnd.dataresource+json": {
                            "schema": {
                                "fields": [
                                    {
                                        "name": "email"
                                    },
                                    {
                                        "name": "USERNEV"
                                    }
                                ]
                            },
                            "data": [
                                {
                                    "email": "ádám.kiss@mail.hu",
                                    "USERNEV": "adam1"
                                },
                                {
                                    "email": "adam3@gmail.com",
                                    "USERNEV": "adam3"
                                },
                                {
                                    "email": "ádám.bieniek@mail.hu",
                                    "USERNEV": "adam4"
                                },
                                {
                                    "email": "agnes@gmail.com",
                                    "USERNEV": "agnes"
                                },
                                {
                                    "email": "agnes3@gmail.com",
                                    "USERNEV": "agnes3"
                                },
                                {
                                    "email": "AGNESH@gmail.com",
                                    "USERNEV": "AGNESH"
                                },
                                {
                                    "email": "AGNESK@gmail.com",
                                    "USERNEV": "AGNESK"
                                },
                                {
                                    "email": "ákos.bíró@mail.hu",
                                    "USERNEV": "akos"
                                },
                                {
                                    "email": "aladár.dunai@mail.hu",
                                    "USERNEV": "aladar"
                                },
                                {
                                    "email": "alexandra.bagóczki@mail.hu",
                                    "USERNEV": "alexandra"
                                },
                                {
                                    "email": "andrás.tóth@mail.hu",
                                    "USERNEV": "andras2"
                                },
                                {
                                    "email": "andrás.molnár@mail.hu",
                                    "USERNEV": "andras21"
                                },
                                {
                                    "email": "andrás.vígh@mail.hu",
                                    "USERNEV": "andras3"
                                },
                                {
                                    "email": "andras4@gmail.com",
                                    "USERNEV": "andras4"
                                },
                                {
                                    "email": "andras41@gmail.com",
                                    "USERNEV": "andras41"
                                },
                                {
                                    "email": "andrea.kiss@mail.hu",
                                    "USERNEV": "andrea"
                                },
                                {
                                    "email": "ANDREAT@gmail.com",
                                    "USERNEV": "ANDREAT"
                                },
                                {
                                    "email": "anett.pivarcsi@mail.hu",
                                    "USERNEV": "anett3"
                                },
                                {
                                    "email": "aniko@gmail.com",
                                    "USERNEV": "aniko"
                                },
                                {
                                    "email": "aniko4@gmail.com",
                                    "USERNEV": "aniko4"
                                },
                                {
                                    "email": "ANIKOS@gmail.com",
                                    "USERNEV": "ANIKOS"
                                },
                                {
                                    "email": "anita.hamvay-kovács@mail.hu",
                                    "USERNEV": "anita"
                                },
                                {
                                    "email": "annamária.szűcs@mail.hu",
                                    "USERNEV": "annamaria1"
                                },
                                {
                                    "email": "ANNAMARIAR@gmail.com",
                                    "USERNEV": "ANNAMARIAR"
                                },
                                {
                                    "email": "aron2@gmail.com",
                                    "USERNEV": "aron2"
                                },
                                {
                                    "email": "áron.kelemen@mail.hu",
                                    "USERNEV": "ARONK"
                                },
                                {
                                    "email": "árpád.ötvös@mail.hu",
                                    "USERNEV": "arpad2"
                                },
                                {
                                    "email": "árpád.móricz@mail.hu",
                                    "USERNEV": "ARPADM"
                                },
                                {
                                    "email": "attila@gmail.com",
                                    "USERNEV": "attila"
                                },
                                {
                                    "email": "attila.gulyás@mail.hu",
                                    "USERNEV": "attila1"
                                },
                                {
                                    "email": "attila.baróti@mail.hu",
                                    "USERNEV": "attila4"
                                },
                                {
                                    "email": "balázs.bozsik@mail.hu",
                                    "USERNEV": "balazs1"
                                },
                                {
                                    "email": "balázs.szűcs@mail.hu",
                                    "USERNEV": "balazs2"
                                },
                                {
                                    "email": "balazs3@gmail.com",
                                    "USERNEV": "balazs3"
                                },
                                {
                                    "email": "balint@gmail.com",
                                    "USERNEV": "balint"
                                },
                                {
                                    "email": "balint1@gmail.com",
                                    "USERNEV": "balint1"
                                },
                                {
                                    "email": "balint2@gmail.com",
                                    "USERNEV": "balint2"
                                },
                                {
                                    "email": "bálint.endresz@mail.hu",
                                    "USERNEV": "balu"
                                },
                                {
                                    "email": "beáta.bagi@mail.hu",
                                    "USERNEV": "beata4"
                                },
                                {
                                    "email": "beatrix.kerényi@mail.hu",
                                    "USERNEV": "BEATRIXK"
                                },
                                {
                                    "email": "beatrix.szekendi@mail.hu",
                                    "USERNEV": "BEATRIXS"
                                },
                                {
                                    "email": "BELAF@gmail.com",
                                    "USERNEV": "BELAF"
                                },
                                {
                                    "email": "bence@gmail.com",
                                    "USERNEV": "bence"
                                },
                                {
                                    "email": "bence.bajusz@mail.hu",
                                    "USERNEV": "BENCEB"
                                },
                                {
                                    "email": "bernadett1@gmail.com",
                                    "USERNEV": "bernadett1"
                                },
                                {
                                    "email": "bernadett.kovács@mail.hu",
                                    "USERNEV": "bernadett2"
                                },
                                {
                                    "email": "bernadett.orbán@mail.hu",
                                    "USERNEV": "BERNADETTO"
                                },
                                {
                                    "email": "bertalan@gmail.com",
                                    "USERNEV": "bertalan"
                                },
                                {
                                    "email": "brigitta.székely@mail.hu",
                                    "USERNEV": "brigitta"
                                },
                                {
                                    "email": "csongor.nagymihály@mail.hu",
                                    "USERNEV": "csongor3"
                                },
                                {
                                    "email": "daniel@gmail.com",
                                    "USERNEV": "dani"
                                },
                                {
                                    "email": "dániel.rácz@mail.hu",
                                    "USERNEV": "daniel"
                                },
                                {
                                    "email": "dániel.keszler@mail.hu",
                                    "USERNEV": "daniel1"
                                },
                                {
                                    "email": "david@gmail.com",
                                    "USERNEV": "david"
                                },
                                {
                                    "email": "david1@gmail.com",
                                    "USERNEV": "david1"
                                },
                                {
                                    "email": "debóra.barna@mail.hu",
                                    "USERNEV": "debora"
                                },
                                {
                                    "email": "denes@gmail.com",
                                    "USERNEV": "denes"
                                },
                                {
                                    "email": "edit.bittmann@mail.hu",
                                    "USERNEV": "edit"
                                },
                                {
                                    "email": "emese.kuruc@mail.hu",
                                    "USERNEV": "emese"
                                },
                                {
                                    "email": "eszter.balogh@mail.hu",
                                    "USERNEV": "eszter2"
                                },
                                {
                                    "email": "eszter.fülöp@mail.hu",
                                    "USERNEV": "eszter4"
                                },
                                {
                                    "email": "eszter.érsek@mail.hu",
                                    "USERNEV": "ESZTERE"
                                },
                                {
                                    "email": "eva@gmail.com",
                                    "USERNEV": "eva"
                                },
                                {
                                    "email": "eva2@gmail.com",
                                    "USERNEV": "eva2"
                                },
                                {
                                    "email": "EVAV@gmail.com",
                                    "USERNEV": "EVAV"
                                },
                                {
                                    "email": "ferenc.orosz@mail.hu",
                                    "USERNEV": "ferenc1"
                                },
                                {
                                    "email": "fruzsina4@gmail.com",
                                    "USERNEV": "fruzsina4"
                                },
                                {
                                    "email": "gabor1@gmail.com",
                                    "USERNEV": "gabor1"
                                },
                                {
                                    "email": "gábor.telek@mail.hu",
                                    "USERNEV": "gabor4"
                                },
                                {
                                    "email": "gabriella1@gmail.com",
                                    "USERNEV": "gabriella1"
                                },
                                {
                                    "email": "georgij.nyíri@mail.hu",
                                    "USERNEV": "georgij"
                                },
                                {
                                    "email": "gusztav@gmail.com",
                                    "USERNEV": "gusztav"
                                },
                                {
                                    "email": "gyöngyi.kornseé@mail.hu",
                                    "USERNEV": "GYONGYIK"
                                },
                                {
                                    "email": "GYORGYO@gmail.com",
                                    "USERNEV": "GYORGYO"
                                },
                                {
                                    "email": "henrik.nádudvari@mail.hu",
                                    "USERNEV": "henrik3"
                                },
                                {
                                    "email": "ibolya.andor@mail.hu",
                                    "USERNEV": "IBOLYAA"
                                },
                                {
                                    "email": "ilona3@gmail.com",
                                    "USERNEV": "ilona3"
                                },
                                {
                                    "email": "imre.búza@mail.hu",
                                    "USERNEV": "imre"
                                },
                                {
                                    "email": "imre.papp@mail.hu",
                                    "USERNEV": "imre1"
                                },
                                {
                                    "email": "istvan@gmail.com",
                                    "USERNEV": "istvan"
                                },
                                {
                                    "email": "istván.vizi@mail.hu",
                                    "USERNEV": "istvan1"
                                },
                                {
                                    "email": "ISTVANV@gmail.com",
                                    "USERNEV": "ISTVANV"
                                },
                                {
                                    "email": "janos3@gmail.com",
                                    "USERNEV": "janos3"
                                },
                                {
                                    "email": "JANOSG@gmail.com",
                                    "USERNEV": "JANOSG"
                                },
                                {
                                    "email": "JANOSP@gmail.com",
                                    "USERNEV": "JANOSP"
                                },
                                {
                                    "email": "jozsef@gmail.com",
                                    "USERNEV": "jozsef"
                                },
                                {
                                    "email": "józsef.vajda@mail.hu",
                                    "USERNEV": "jozsef2"
                                },
                                {
                                    "email": "JUDITH@gmail.com",
                                    "USERNEV": "JUDITH"
                                },
                                {
                                    "email": "julia@gmail.com",
                                    "USERNEV": "julia"
                                },
                                {
                                    "email": "julia4@gmail.com",
                                    "USERNEV": "julia4"
                                },
                                {
                                    "email": "julianna4@gmail.com",
                                    "USERNEV": "julianna4"
                                },
                                {
                                    "email": "katalin.gondos@mail.hu",
                                    "USERNEV": "kata"
                                },
                                {
                                    "email": "katalin.horváth@mail.hu",
                                    "USERNEV": "katalin"
                                },
                                {
                                    "email": "katalin4@gmail.com",
                                    "USERNEV": "katalin4"
                                },
                                {
                                    "email": "katalin.kovács@mail.hu",
                                    "USERNEV": "katka"
                                },
                                {
                                    "email": "klaudia.bakó@mail.hu",
                                    "USERNEV": "klaudia2"
                                },
                                {
                                    "email": "kornél.lukács@mail.hu",
                                    "USERNEV": "kornel4"
                                },
                                {
                                    "email": "kristof4@gmail.com",
                                    "USERNEV": "kristof4"
                                },
                                {
                                    "email": "kriszti@gmail.com",
                                    "USERNEV": "kriszti"
                                },
                                {
                                    "email": "krisztián.czérna@mail.hu",
                                    "USERNEV": "krisztian4"
                                },
                                {
                                    "email": "krisztina.bori@mail.hu",
                                    "USERNEV": "krisztina1"
                                },
                                {
                                    "email": "KRISZTINAG@gmail.com",
                                    "USERNEV": "KRISZTINAG"
                                },
                                {
                                    "email": "lajos.kiss@mail.hu",
                                    "USERNEV": "lajos"
                                },
                                {
                                    "email": "lajos.nagymihály@mail.hu",
                                    "USERNEV": "lala"
                                },
                                {
                                    "email": "lászló.móra@mail.hu",
                                    "USERNEV": "laszlo2"
                                },
                                {
                                    "email": "lászló.antal@mail.hu",
                                    "USERNEV": "LASZLOA"
                                },
                                {
                                    "email": "lászló.nagy@mail.hu",
                                    "USERNEV": "LASZLON"
                                },
                                {
                                    "email": "mária.baráth@mail.hu",
                                    "USERNEV": "maria1"
                                },
                                {
                                    "email": "márk.kispál@mail.hu",
                                    "USERNEV": "mark"
                                },
                                {
                                    "email": "márk.horváth@mail.hu",
                                    "USERNEV": "MARKH"
                                },
                                {
                                    "email": "marton@gmail.com",
                                    "USERNEV": "marton"
                                },
                                {
                                    "email": "máté.koza@mail.hu",
                                    "USERNEV": "MATEK"
                                },
                                {
                                    "email": "matyas2@gmail.com",
                                    "USERNEV": "matyas2"
                                },
                                {
                                    "email": "mátyás.szilágyi@mail.hu",
                                    "USERNEV": "MATYASS"
                                },
                                {
                                    "email": "mihály.juhász@mail.hu",
                                    "USERNEV": "MIHALYJ"
                                },
                                {
                                    "email": "miklos2@gmail.com",
                                    "USERNEV": "miklos2"
                                },
                                {
                                    "email": "miklós.balla@mail.hu",
                                    "USERNEV": "MIKLOSB"
                                },
                                {
                                    "email": "mónika.mohos@mail.hu",
                                    "USERNEV": "MONIKAM"
                                },
                                {
                                    "email": "nándor.fő@mail.hu",
                                    "USERNEV": "NANDORF"
                                },
                                {
                                    "email": "nikolett3@gmail.com",
                                    "USERNEV": "nikolett3"
                                },
                                {
                                    "email": "nikoletta4@gmail.com",
                                    "USERNEV": "nikoletta4"
                                },
                                {
                                    "email": "nikoletta.tatár@mail.hu",
                                    "USERNEV": "NIKOLETTAT"
                                },
                                {
                                    "email": "norbert@gmail.com",
                                    "USERNEV": "norbert"
                                },
                                {
                                    "email": "norbert.hegedűs@mail.hu",
                                    "USERNEV": "norbert2"
                                },
                                {
                                    "email": "norbert4@gmail.com",
                                    "USERNEV": "norbert4"
                                },
                                {
                                    "email": "norbert5@gmail.com",
                                    "USERNEV": "norbert5"
                                },
                                {
                                    "email": "pál.barabás@mail.hu",
                                    "USERNEV": "pal"
                                },
                                {
                                    "email": "peter1@gmail.com",
                                    "USERNEV": "peter1"
                                },
                                {
                                    "email": "peter2@gmail.com",
                                    "USERNEV": "peter2"
                                },
                                {
                                    "email": "peter3@gmail.com",
                                    "USERNEV": "peter3"
                                },
                                {
                                    "email": "péter.bíró@mail.hu",
                                    "USERNEV": "peter4"
                                },
                                {
                                    "email": "péter.berendi@mail.hu",
                                    "USERNEV": "PETERB"
                                },
                                {
                                    "email": "polla@gmail.com",
                                    "USERNEV": "polla"
                                },
                                {
                                    "email": "rajmond.rácz@mail.hu",
                                    "USERNEV": "rajmond4"
                                },
                                {
                                    "email": "réka.szikszai@mail.hu",
                                    "USERNEV": "reka4"
                                },
                                {
                                    "email": "RENATAS@gmail.com",
                                    "USERNEV": "RENATAS"
                                },
                                {
                                    "email": "robert2@gmail.com",
                                    "USERNEV": "robert2"
                                },
                                {
                                    "email": "róbert.iván@mail.hu",
                                    "USERNEV": "ROBERTI"
                                },
                                {
                                    "email": "roland@gmail.com",
                                    "USERNEV": "roland"
                                },
                                {
                                    "email": "roland.ferencz@mail.hu",
                                    "USERNEV": "roland1"
                                },
                                {
                                    "email": "roza2@gmail.com",
                                    "USERNEV": "roza2"
                                },
                                {
                                    "email": "sandor@gmail.com",
                                    "USERNEV": "sandor"
                                },
                                {
                                    "email": "sándor.farkas@mail.hu",
                                    "USERNEV": "sandor3"
                                },
                                {
                                    "email": "sandor4@gmail.com",
                                    "USERNEV": "sandor4"
                                },
                                {
                                    "email": "sára.farkas@mail.hu",
                                    "USERNEV": "sara"
                                },
                                {
                                    "email": "SEBASTIANF@gmail.com",
                                    "USERNEV": "SEBASTIANF"
                                },
                                {
                                    "email": "sebestyen@gmail.com",
                                    "USERNEV": "sebestyen"
                                },
                                {
                                    "email": "szabolcs.miklós@mail.hu",
                                    "USERNEV": "SZABOLCSM"
                                },
                                {
                                    "email": "szilárd.szalai@mail.hu",
                                    "USERNEV": "SZILARDS"
                                },
                                {
                                    "email": "szilvia.tari@mail.hu",
                                    "USERNEV": "szilvia1"
                                },
                                {
                                    "email": "tamara.miklós@mail.hu",
                                    "USERNEV": "tamara2"
                                },
                                {
                                    "email": "tamás.antal@mail.hu",
                                    "USERNEV": "tamas"
                                },
                                {
                                    "email": "TAMASF@gmail.com",
                                    "USERNEV": "TAMASF"
                                },
                                {
                                    "email": "tibor.gombos@mail.hu",
                                    "USERNEV": "tibor"
                                },
                                {
                                    "email": "tihamér.kazy@mail.hu",
                                    "USERNEV": "tihamer"
                                },
                                {
                                    "email": "tímea.dusha@mail.hu",
                                    "USERNEV": "timea2"
                                },
                                {
                                    "email": "tunde@gmail.com",
                                    "USERNEV": "tunde"
                                },
                                {
                                    "email": "valentin.feró@mail.hu",
                                    "USERNEV": "valentin"
                                },
                                {
                                    "email": "veronika4@gmail.com",
                                    "USERNEV": "veronika4"
                                },
                                {
                                    "email": "vivien3@gmail.com",
                                    "USERNEV": "vivien3"
                                },
                                {
                                    "email": "zoltán.fodor@mail.hu",
                                    "USERNEV": "zoltan"
                                },
                                {
                                    "email": "zoltán.pintér@mail.hu",
                                    "USERNEV": "ZOLTANP"
                                },
                                {
                                    "email": "zoltán.tóth@mail.hu",
                                    "USERNEV": "ZOLTANT"
                                },
                                {
                                    "email": "zsofi1@gmail.com",
                                    "USERNEV": "zsofi1"
                                },
                                {
                                    "email": "ZSOLTJ@gmail.com",
                                    "USERNEV": "ZSOLTJ"
                                },
                                {
                                    "email": "zsuzsanna@gmail.com",
                                    "USERNEV": "zsuzsa"
                                },
                                {
                                    "email": "zsuzsa.varsányi@mail.hu",
                                    "USERNEV": "zsuzsa3"
                                },
                                {
                                    "email": "zsuzsanna.barta@mail.hu",
                                    "USERNEV": "zsuzsanna"
                                },
                                {
                                    "email": "zsuzsa.vajda@mail.hu",
                                    "USERNEV": "ZSUZSAV"
                                }
                            ]
                        },
                        "text/html": [
                            "<table>",
                            "<tr><th>email</th><th>USERNEV</th></tr>",
                            "<tr><td>ádám.kiss@mail.hu</td><td>adam1</td></tr>",
                            "<tr><td>adam3@gmail.com</td><td>adam3</td></tr>",
                            "<tr><td>ádám.bieniek@mail.hu</td><td>adam4</td></tr>",
                            "<tr><td>agnes@gmail.com</td><td>agnes</td></tr>",
                            "<tr><td>agnes3@gmail.com</td><td>agnes3</td></tr>",
                            "<tr><td>AGNESH@gmail.com</td><td>AGNESH</td></tr>",
                            "<tr><td>AGNESK@gmail.com</td><td>AGNESK</td></tr>",
                            "<tr><td>ákos.bíró@mail.hu</td><td>akos</td></tr>",
                            "<tr><td>aladár.dunai@mail.hu</td><td>aladar</td></tr>",
                            "<tr><td>alexandra.bagóczki@mail.hu</td><td>alexandra</td></tr>",
                            "<tr><td>andrás.tóth@mail.hu</td><td>andras2</td></tr>",
                            "<tr><td>andrás.molnár@mail.hu</td><td>andras21</td></tr>",
                            "<tr><td>andrás.vígh@mail.hu</td><td>andras3</td></tr>",
                            "<tr><td>andras4@gmail.com</td><td>andras4</td></tr>",
                            "<tr><td>andras41@gmail.com</td><td>andras41</td></tr>",
                            "<tr><td>andrea.kiss@mail.hu</td><td>andrea</td></tr>",
                            "<tr><td>ANDREAT@gmail.com</td><td>ANDREAT</td></tr>",
                            "<tr><td>anett.pivarcsi@mail.hu</td><td>anett3</td></tr>",
                            "<tr><td>aniko@gmail.com</td><td>aniko</td></tr>",
                            "<tr><td>aniko4@gmail.com</td><td>aniko4</td></tr>",
                            "<tr><td>ANIKOS@gmail.com</td><td>ANIKOS</td></tr>",
                            "<tr><td>anita.hamvay-kovács@mail.hu</td><td>anita</td></tr>",
                            "<tr><td>annamária.szűcs@mail.hu</td><td>annamaria1</td></tr>",
                            "<tr><td>ANNAMARIAR@gmail.com</td><td>ANNAMARIAR</td></tr>",
                            "<tr><td>aron2@gmail.com</td><td>aron2</td></tr>",
                            "<tr><td>áron.kelemen@mail.hu</td><td>ARONK</td></tr>",
                            "<tr><td>árpád.ötvös@mail.hu</td><td>arpad2</td></tr>",
                            "<tr><td>árpád.móricz@mail.hu</td><td>ARPADM</td></tr>",
                            "<tr><td>attila@gmail.com</td><td>attila</td></tr>",
                            "<tr><td>attila.gulyás@mail.hu</td><td>attila1</td></tr>",
                            "<tr><td>attila.baróti@mail.hu</td><td>attila4</td></tr>",
                            "<tr><td>balázs.bozsik@mail.hu</td><td>balazs1</td></tr>",
                            "<tr><td>balázs.szűcs@mail.hu</td><td>balazs2</td></tr>",
                            "<tr><td>balazs3@gmail.com</td><td>balazs3</td></tr>",
                            "<tr><td>balint@gmail.com</td><td>balint</td></tr>",
                            "<tr><td>balint1@gmail.com</td><td>balint1</td></tr>",
                            "<tr><td>balint2@gmail.com</td><td>balint2</td></tr>",
                            "<tr><td>bálint.endresz@mail.hu</td><td>balu</td></tr>",
                            "<tr><td>beáta.bagi@mail.hu</td><td>beata4</td></tr>",
                            "<tr><td>beatrix.kerényi@mail.hu</td><td>BEATRIXK</td></tr>",
                            "<tr><td>beatrix.szekendi@mail.hu</td><td>BEATRIXS</td></tr>",
                            "<tr><td>BELAF@gmail.com</td><td>BELAF</td></tr>",
                            "<tr><td>bence@gmail.com</td><td>bence</td></tr>",
                            "<tr><td>bence.bajusz@mail.hu</td><td>BENCEB</td></tr>",
                            "<tr><td>bernadett1@gmail.com</td><td>bernadett1</td></tr>",
                            "<tr><td>bernadett.kovács@mail.hu</td><td>bernadett2</td></tr>",
                            "<tr><td>bernadett.orbán@mail.hu</td><td>BERNADETTO</td></tr>",
                            "<tr><td>bertalan@gmail.com</td><td>bertalan</td></tr>",
                            "<tr><td>brigitta.székely@mail.hu</td><td>brigitta</td></tr>",
                            "<tr><td>csongor.nagymihály@mail.hu</td><td>csongor3</td></tr>",
                            "<tr><td>daniel@gmail.com</td><td>dani</td></tr>",
                            "<tr><td>dániel.rácz@mail.hu</td><td>daniel</td></tr>",
                            "<tr><td>dániel.keszler@mail.hu</td><td>daniel1</td></tr>",
                            "<tr><td>david@gmail.com</td><td>david</td></tr>",
                            "<tr><td>david1@gmail.com</td><td>david1</td></tr>",
                            "<tr><td>debóra.barna@mail.hu</td><td>debora</td></tr>",
                            "<tr><td>denes@gmail.com</td><td>denes</td></tr>",
                            "<tr><td>edit.bittmann@mail.hu</td><td>edit</td></tr>",
                            "<tr><td>emese.kuruc@mail.hu</td><td>emese</td></tr>",
                            "<tr><td>eszter.balogh@mail.hu</td><td>eszter2</td></tr>",
                            "<tr><td>eszter.fülöp@mail.hu</td><td>eszter4</td></tr>",
                            "<tr><td>eszter.érsek@mail.hu</td><td>ESZTERE</td></tr>",
                            "<tr><td>eva@gmail.com</td><td>eva</td></tr>",
                            "<tr><td>eva2@gmail.com</td><td>eva2</td></tr>",
                            "<tr><td>EVAV@gmail.com</td><td>EVAV</td></tr>",
                            "<tr><td>ferenc.orosz@mail.hu</td><td>ferenc1</td></tr>",
                            "<tr><td>fruzsina4@gmail.com</td><td>fruzsina4</td></tr>",
                            "<tr><td>gabor1@gmail.com</td><td>gabor1</td></tr>",
                            "<tr><td>gábor.telek@mail.hu</td><td>gabor4</td></tr>",
                            "<tr><td>gabriella1@gmail.com</td><td>gabriella1</td></tr>",
                            "<tr><td>georgij.nyíri@mail.hu</td><td>georgij</td></tr>",
                            "<tr><td>gusztav@gmail.com</td><td>gusztav</td></tr>",
                            "<tr><td>gyöngyi.kornseé@mail.hu</td><td>GYONGYIK</td></tr>",
                            "<tr><td>GYORGYO@gmail.com</td><td>GYORGYO</td></tr>",
                            "<tr><td>henrik.nádudvari@mail.hu</td><td>henrik3</td></tr>",
                            "<tr><td>ibolya.andor@mail.hu</td><td>IBOLYAA</td></tr>",
                            "<tr><td>ilona3@gmail.com</td><td>ilona3</td></tr>",
                            "<tr><td>imre.búza@mail.hu</td><td>imre</td></tr>",
                            "<tr><td>imre.papp@mail.hu</td><td>imre1</td></tr>",
                            "<tr><td>istvan@gmail.com</td><td>istvan</td></tr>",
                            "<tr><td>istván.vizi@mail.hu</td><td>istvan1</td></tr>",
                            "<tr><td>ISTVANV@gmail.com</td><td>ISTVANV</td></tr>",
                            "<tr><td>janos3@gmail.com</td><td>janos3</td></tr>",
                            "<tr><td>JANOSG@gmail.com</td><td>JANOSG</td></tr>",
                            "<tr><td>JANOSP@gmail.com</td><td>JANOSP</td></tr>",
                            "<tr><td>jozsef@gmail.com</td><td>jozsef</td></tr>",
                            "<tr><td>józsef.vajda@mail.hu</td><td>jozsef2</td></tr>",
                            "<tr><td>JUDITH@gmail.com</td><td>JUDITH</td></tr>",
                            "<tr><td>julia@gmail.com</td><td>julia</td></tr>",
                            "<tr><td>julia4@gmail.com</td><td>julia4</td></tr>",
                            "<tr><td>julianna4@gmail.com</td><td>julianna4</td></tr>",
                            "<tr><td>katalin.gondos@mail.hu</td><td>kata</td></tr>",
                            "<tr><td>katalin.horváth@mail.hu</td><td>katalin</td></tr>",
                            "<tr><td>katalin4@gmail.com</td><td>katalin4</td></tr>",
                            "<tr><td>katalin.kovács@mail.hu</td><td>katka</td></tr>",
                            "<tr><td>klaudia.bakó@mail.hu</td><td>klaudia2</td></tr>",
                            "<tr><td>kornél.lukács@mail.hu</td><td>kornel4</td></tr>",
                            "<tr><td>kristof4@gmail.com</td><td>kristof4</td></tr>",
                            "<tr><td>kriszti@gmail.com</td><td>kriszti</td></tr>",
                            "<tr><td>krisztián.czérna@mail.hu</td><td>krisztian4</td></tr>",
                            "<tr><td>krisztina.bori@mail.hu</td><td>krisztina1</td></tr>",
                            "<tr><td>KRISZTINAG@gmail.com</td><td>KRISZTINAG</td></tr>",
                            "<tr><td>lajos.kiss@mail.hu</td><td>lajos</td></tr>",
                            "<tr><td>lajos.nagymihály@mail.hu</td><td>lala</td></tr>",
                            "<tr><td>lászló.móra@mail.hu</td><td>laszlo2</td></tr>",
                            "<tr><td>lászló.antal@mail.hu</td><td>LASZLOA</td></tr>",
                            "<tr><td>lászló.nagy@mail.hu</td><td>LASZLON</td></tr>",
                            "<tr><td>mária.baráth@mail.hu</td><td>maria1</td></tr>",
                            "<tr><td>márk.kispál@mail.hu</td><td>mark</td></tr>",
                            "<tr><td>márk.horváth@mail.hu</td><td>MARKH</td></tr>",
                            "<tr><td>marton@gmail.com</td><td>marton</td></tr>",
                            "<tr><td>máté.koza@mail.hu</td><td>MATEK</td></tr>",
                            "<tr><td>matyas2@gmail.com</td><td>matyas2</td></tr>",
                            "<tr><td>mátyás.szilágyi@mail.hu</td><td>MATYASS</td></tr>",
                            "<tr><td>mihály.juhász@mail.hu</td><td>MIHALYJ</td></tr>",
                            "<tr><td>miklos2@gmail.com</td><td>miklos2</td></tr>",
                            "<tr><td>miklós.balla@mail.hu</td><td>MIKLOSB</td></tr>",
                            "<tr><td>mónika.mohos@mail.hu</td><td>MONIKAM</td></tr>",
                            "<tr><td>nándor.fő@mail.hu</td><td>NANDORF</td></tr>",
                            "<tr><td>nikolett3@gmail.com</td><td>nikolett3</td></tr>",
                            "<tr><td>nikoletta4@gmail.com</td><td>nikoletta4</td></tr>",
                            "<tr><td>nikoletta.tatár@mail.hu</td><td>NIKOLETTAT</td></tr>",
                            "<tr><td>norbert@gmail.com</td><td>norbert</td></tr>",
                            "<tr><td>norbert.hegedűs@mail.hu</td><td>norbert2</td></tr>",
                            "<tr><td>norbert4@gmail.com</td><td>norbert4</td></tr>",
                            "<tr><td>norbert5@gmail.com</td><td>norbert5</td></tr>",
                            "<tr><td>pál.barabás@mail.hu</td><td>pal</td></tr>",
                            "<tr><td>peter1@gmail.com</td><td>peter1</td></tr>",
                            "<tr><td>peter2@gmail.com</td><td>peter2</td></tr>",
                            "<tr><td>peter3@gmail.com</td><td>peter3</td></tr>",
                            "<tr><td>péter.bíró@mail.hu</td><td>peter4</td></tr>",
                            "<tr><td>péter.berendi@mail.hu</td><td>PETERB</td></tr>",
                            "<tr><td>polla@gmail.com</td><td>polla</td></tr>",
                            "<tr><td>rajmond.rácz@mail.hu</td><td>rajmond4</td></tr>",
                            "<tr><td>réka.szikszai@mail.hu</td><td>reka4</td></tr>",
                            "<tr><td>RENATAS@gmail.com</td><td>RENATAS</td></tr>",
                            "<tr><td>robert2@gmail.com</td><td>robert2</td></tr>",
                            "<tr><td>róbert.iván@mail.hu</td><td>ROBERTI</td></tr>",
                            "<tr><td>roland@gmail.com</td><td>roland</td></tr>",
                            "<tr><td>roland.ferencz@mail.hu</td><td>roland1</td></tr>",
                            "<tr><td>roza2@gmail.com</td><td>roza2</td></tr>",
                            "<tr><td>sandor@gmail.com</td><td>sandor</td></tr>",
                            "<tr><td>sándor.farkas@mail.hu</td><td>sandor3</td></tr>",
                            "<tr><td>sandor4@gmail.com</td><td>sandor4</td></tr>",
                            "<tr><td>sára.farkas@mail.hu</td><td>sara</td></tr>",
                            "<tr><td>SEBASTIANF@gmail.com</td><td>SEBASTIANF</td></tr>",
                            "<tr><td>sebestyen@gmail.com</td><td>sebestyen</td></tr>",
                            "<tr><td>szabolcs.miklós@mail.hu</td><td>SZABOLCSM</td></tr>",
                            "<tr><td>szilárd.szalai@mail.hu</td><td>SZILARDS</td></tr>",
                            "<tr><td>szilvia.tari@mail.hu</td><td>szilvia1</td></tr>",
                            "<tr><td>tamara.miklós@mail.hu</td><td>tamara2</td></tr>",
                            "<tr><td>tamás.antal@mail.hu</td><td>tamas</td></tr>",
                            "<tr><td>TAMASF@gmail.com</td><td>TAMASF</td></tr>",
                            "<tr><td>tibor.gombos@mail.hu</td><td>tibor</td></tr>",
                            "<tr><td>tihamér.kazy@mail.hu</td><td>tihamer</td></tr>",
                            "<tr><td>tímea.dusha@mail.hu</td><td>timea2</td></tr>",
                            "<tr><td>tunde@gmail.com</td><td>tunde</td></tr>",
                            "<tr><td>valentin.feró@mail.hu</td><td>valentin</td></tr>",
                            "<tr><td>veronika4@gmail.com</td><td>veronika4</td></tr>",
                            "<tr><td>vivien3@gmail.com</td><td>vivien3</td></tr>",
                            "<tr><td>zoltán.fodor@mail.hu</td><td>zoltan</td></tr>",
                            "<tr><td>zoltán.pintér@mail.hu</td><td>ZOLTANP</td></tr>",
                            "<tr><td>zoltán.tóth@mail.hu</td><td>ZOLTANT</td></tr>",
                            "<tr><td>zsofi1@gmail.com</td><td>zsofi1</td></tr>",
                            "<tr><td>ZSOLTJ@gmail.com</td><td>ZSOLTJ</td></tr>",
                            "<tr><td>zsuzsanna@gmail.com</td><td>zsuzsa</td></tr>",
                            "<tr><td>zsuzsa.varsányi@mail.hu</td><td>zsuzsa3</td></tr>",
                            "<tr><td>zsuzsanna.barta@mail.hu</td><td>zsuzsanna</td></tr>",
                            "<tr><td>zsuzsa.vajda@mail.hu</td><td>ZSUZSAV</td></tr>",
                            "</table>"
                        ]
                    }
                }
            ],
            "execution_count": 10
        },
        {
            "cell_type": "markdown",
            "source": [
                "Listázzuk azon vendégek adatait, akik a legtöbb férőhelyes szobát (vagy szobákat) már lefoglalták!\n",
                "\n",
                "- Csak klímás szoba jöhet számításba"
            ],
            "metadata": {
                "azdata_cell_guid": "2377d67c-57d0-4055-8adb-6567db8d04d6"
            },
            "attachments": {}
        },
        {
            "cell_type": "code",
            "source": [
                "select v.USERNEV, v.NEV, v.EMAIL, v.SZAML_CIM, v.SZUL_DAT\r\n",
                "from szoba sz join foglalas f on sz.SZOBA_ID = f.SZOBA_FK\r\n",
                "                join vendeg v on v.usernev = f.ugyfel_fk\r\n",
                "where sz.KLIMAS = 'i'\r\n",
                "group by v.USERNEV, v.NEV, v.EMAIL, v.SZAML_CIM, v.SZUL_DAT, sz.FEROHELY\r\n",
                "having sz.FEROHELY = MAX(sz.FEROHELY)"
            ],
            "metadata": {
                "azdata_cell_guid": "8905b315-67e6-45c5-bf2f-7907c2951fb8",
                "language": "sql"
            },
            "outputs": [
                {
                    "output_type": "display_data",
                    "data": {
                        "text/html": "(334 rows affected)"
                    },
                    "metadata": {}
                },
                {
                    "output_type": "display_data",
                    "data": {
                        "text/html": "Total execution time: 00:00:00.018"
                    },
                    "metadata": {}
                },
                {
                    "output_type": "execute_result",
                    "metadata": {},
                    "execution_count": 8,
                    "data": {
                        "application/vnd.dataresource+json": {
                            "schema": {
                                "fields": [
                                    {
                                        "name": "USERNEV"
                                    },
                                    {
                                        "name": "NEV"
                                    },
                                    {
                                        "name": "EMAIL"
                                    },
                                    {
                                        "name": "SZAML_CIM"
                                    },
                                    {
                                        "name": "SZUL_DAT"
                                    }
                                ]
                            },
                            "data": [
                                {
                                    "USERNEV": "adam4",
                                    "NEV": "Bieniek Ádám",
                                    "EMAIL": "ádám.bieniek@mail.hu",
                                    "SZAML_CIM": "8630 Balatonboglár Juhászföldi út 1.",
                                    "SZUL_DAT": "1976-08-01"
                                },
                                {
                                    "USERNEV": "agnes",
                                    "NEV": "Lengyel Ágnes",
                                    "EMAIL": "agnes@gmail.com",
                                    "SZAML_CIM": "5200 Törökszentmiklós Deák Ferenc út 5.",
                                    "SZUL_DAT": "1979-12-10"
                                },
                                {
                                    "USERNEV": "AGNESK",
                                    "NEV": "Kovács Ágnes",
                                    "EMAIL": "AGNESK@gmail.com",
                                    "SZAML_CIM": "1084 Budapest Endrődi Sándor utca 47.",
                                    "SZUL_DAT": "1988-10-02"
                                },
                                {
                                    "USERNEV": "akos",
                                    "NEV": "Bíró Ákos",
                                    "EMAIL": "ákos.bíró@mail.hu",
                                    "SZAML_CIM": "9023 Győr Kossuth Lajos utca 47/b.",
                                    "SZUL_DAT": "1982-04-24"
                                },
                                {
                                    "USERNEV": "aladar",
                                    "NEV": "Dunai Aladár",
                                    "EMAIL": "aladár.dunai@mail.hu",
                                    "SZAML_CIM": "5931 Nagyszénás Árpád utca 23.",
                                    "SZUL_DAT": "1980-11-01"
                                },
                                {
                                    "USERNEV": "alexandra",
                                    "NEV": "Bagóczki Alexandra",
                                    "EMAIL": "alexandra.bagóczki@mail.hu",
                                    "SZAML_CIM": "2381 Táborfalva Petőfi utca 1/2.",
                                    "SZUL_DAT": "1992-03-25"
                                },
                                {
                                    "USERNEV": "andi",
                                    "NEV": "Maródi Andrea",
                                    "EMAIL": "andrea.maródi@mail.hu",
                                    "SZAML_CIM": "5465 Cserkeszőlő Árpád utca 4.",
                                    "SZUL_DAT": "1968-05-07"
                                },
                                {
                                    "USERNEV": "andras2",
                                    "NEV": "Tóth András",
                                    "EMAIL": "andrás.tóth@mail.hu",
                                    "SZAML_CIM": "4071 Egyek Petőfi utca 30.",
                                    "SZUL_DAT": "1997-10-31"
                                },
                                {
                                    "USERNEV": "andras21",
                                    "NEV": "Molnár András",
                                    "EMAIL": "andrás.molnár@mail.hu",
                                    "SZAML_CIM": "7900 Szigetvár Rákóczi utca 67.",
                                    "SZUL_DAT": "1977-11-16"
                                },
                                {
                                    "USERNEV": "andras3",
                                    "NEV": "Vígh András",
                                    "EMAIL": "andrás.vígh@mail.hu",
                                    "SZAML_CIM": "1118 Budapest Arany János utca 1.",
                                    "SZUL_DAT": "1971-04-02"
                                },
                                {
                                    "USERNEV": "andras4",
                                    "NEV": "Back András",
                                    "EMAIL": "andras4@gmail.com",
                                    "SZAML_CIM": "3783 Edelény Fő út 169.",
                                    "SZUL_DAT": "1984-04-07"
                                },
                                {
                                    "USERNEV": "andras41",
                                    "NEV": "Komjáti András",
                                    "EMAIL": "andras41@gmail.com",
                                    "SZAML_CIM": "5065 Nagykörű Kossuth út 24.",
                                    "SZUL_DAT": "1997-10-25"
                                },
                                {
                                    "USERNEV": "ANDRASE",
                                    "NEV": "Erdei András",
                                    "EMAIL": "ANDRASE@gmail.com",
                                    "SZAML_CIM": "5071 Besenyszög Szolnoki út 8.",
                                    "SZUL_DAT": "1997-05-29"
                                },
                                {
                                    "USERNEV": "andrea",
                                    "NEV": "Kiss Andrea",
                                    "EMAIL": "andrea.kiss@mail.hu",
                                    "SZAML_CIM": "1113 Budapest Petőfi Sándor utca 87.",
                                    "SZUL_DAT": "1993-03-25"
                                },
                                {
                                    "USERNEV": "andrea4",
                                    "NEV": "Neizer Andrea",
                                    "EMAIL": "andrea4@gmail.com",
                                    "SZAML_CIM": "1124 Budapest Kiss u. 8.",
                                    "SZUL_DAT": "1981-05-17"
                                },
                                {
                                    "USERNEV": "ANDREAT",
                                    "NEV": "Tornyos Andrea",
                                    "EMAIL": "ANDREAT@gmail.com",
                                    "SZAML_CIM": "6131 Szank Bécsi utca 82.",
                                    "SZUL_DAT": "1986-11-14"
                                },
                                {
                                    "USERNEV": "anett3",
                                    "NEV": "Pivarcsi Anett",
                                    "EMAIL": "anett.pivarcsi@mail.hu",
                                    "SZAML_CIM": "1149 Budapest Fő út 60.",
                                    "SZUL_DAT": "1967-01-03"
                                },
                                {
                                    "USERNEV": "aniko",
                                    "NEV": "Tóth Anikó",
                                    "EMAIL": "aniko@gmail.com",
                                    "SZAML_CIM": "2085 Pilisvörösvár Deák Ferenc út 5.",
                                    "SZUL_DAT": "1973-06-03"
                                },
                                {
                                    "USERNEV": "aniko4",
                                    "NEV": "Böröcz Anikó",
                                    "EMAIL": "aniko4@gmail.com",
                                    "SZAML_CIM": "2484 Agárd Petőfi Sándor tér 1.",
                                    "SZUL_DAT": "1978-03-26"
                                },
                                {
                                    "USERNEV": "ANIKOS",
                                    "NEV": "Simon Anikó",
                                    "EMAIL": "ANIKOS@gmail.com",
                                    "SZAML_CIM": "5137 Jászkisér Bécsi utca 82.",
                                    "SZUL_DAT": "1988-12-14"
                                },
                                {
                                    "USERNEV": "anita",
                                    "NEV": "Hamvay-Kovács Anita",
                                    "EMAIL": "anita.hamvay-kovács@mail.hu",
                                    "SZAML_CIM": "7220 Sarkad Táncsics utca 19.",
                                    "SZUL_DAT": "1971-03-20"
                                },
                                {
                                    "USERNEV": "ANNAMARIAR",
                                    "NEV": "Regős Annamária",
                                    "EMAIL": "ANNAMARIAR@gmail.com",
                                    "SZAML_CIM": "8283 Káptalantóti Petőfi Sándor tér 1.",
                                    "SZUL_DAT": "1977-09-26"
                                },
                                {
                                    "USERNEV": "aron2",
                                    "NEV": "Jakab Áron",
                                    "EMAIL": "aron2@gmail.com",
                                    "SZAML_CIM": "7133 Fadd Bajcsy-Zsilinszky utca 4.",
                                    "SZUL_DAT": "1971-04-26"
                                },
                                {
                                    "USERNEV": "ARONK",
                                    "NEV": "Kelemen Áron",
                                    "EMAIL": "áron.kelemen@mail.hu",
                                    "SZAML_CIM": "8200 Veszprém Petőfi utca 8.",
                                    "SZUL_DAT": "1989-08-10"
                                },
                                {
                                    "USERNEV": "arpad2",
                                    "NEV": "Ötvös Árpád",
                                    "EMAIL": "árpád.ötvös@mail.hu",
                                    "SZAML_CIM": "2600 Vác Padragi út 158.",
                                    "SZUL_DAT": "1990-06-08"
                                },
                                {
                                    "USERNEV": "ARPADH",
                                    "NEV": "Horváth Árpád",
                                    "EMAIL": "árpád.horváth@mail.hu",
                                    "SZAML_CIM": "7349 Szászvár Dózsa György u. 1.",
                                    "SZUL_DAT": "1990-05-18"
                                },
                                {
                                    "USERNEV": "ARPADM",
                                    "NEV": "Móricz Árpád",
                                    "EMAIL": "árpád.móricz@mail.hu",
                                    "SZAML_CIM": "3910 Tokaj Rákóczi utca 67.",
                                    "SZUL_DAT": "1986-04-20"
                                },
                                {
                                    "USERNEV": "attila1",
                                    "NEV": "Gulyás Attila",
                                    "EMAIL": "attila.gulyás@mail.hu",
                                    "SZAML_CIM": "3881 Abaújszántó Szolnoki út 8.",
                                    "SZUL_DAT": "1982-08-16"
                                },
                                {
                                    "USERNEV": "ATTILAO",
                                    "NEV": "Opra Attila",
                                    "EMAIL": "ATTILAO@gmail.com",
                                    "SZAML_CIM": "8283 Káptalantóti Rákóczi út 200.",
                                    "SZUL_DAT": "1995-05-08"
                                },
                                {
                                    "USERNEV": "balazs1",
                                    "NEV": "Bozsik Balázs",
                                    "EMAIL": "balázs.bozsik@mail.hu",
                                    "SZAML_CIM": "2300 Ráckeve Bécsi utca 82.",
                                    "SZUL_DAT": "1992-11-03"
                                },
                                {
                                    "USERNEV": "balazs2",
                                    "NEV": "Szűcs Balázs",
                                    "EMAIL": "balázs.szűcs@mail.hu",
                                    "SZAML_CIM": "3170 Szécsény Szabadság utca 95.",
                                    "SZUL_DAT": "1984-10-31"
                                },
                                {
                                    "USERNEV": "balazs3",
                                    "NEV": "Bakódy Balázs",
                                    "EMAIL": "balazs3@gmail.com",
                                    "SZAML_CIM": "2131 Göd Arany János utca 1.",
                                    "SZUL_DAT": "1986-09-09"
                                },
                                {
                                    "USERNEV": "balint",
                                    "NEV": "Horváth Bálint",
                                    "EMAIL": "balint@gmail.com",
                                    "SZAML_CIM": "6646 Tömörkény Endrődi Sándor utca 47.",
                                    "SZUL_DAT": "1996-03-17"
                                },
                                {
                                    "USERNEV": "balint1",
                                    "NEV": "Molnár Bálint",
                                    "EMAIL": "balint1@gmail.com",
                                    "SZAML_CIM": "9181 Kimle Fő út 169.",
                                    "SZUL_DAT": "1989-08-24"
                                },
                                {
                                    "USERNEV": "balu",
                                    "NEV": "Endresz Bálint",
                                    "EMAIL": "bálint.endresz@mail.hu",
                                    "SZAML_CIM": "3973 Cigánd Fő út 169.",
                                    "SZUL_DAT": "1976-08-01"
                                },
                                {
                                    "USERNEV": "beata4",
                                    "NEV": "Bagi Beáta",
                                    "EMAIL": "beáta.bagi@mail.hu",
                                    "SZAML_CIM": "8477 Tüskevár Felszabadulás utca 32.",
                                    "SZUL_DAT": "1994-03-19"
                                },
                                {
                                    "USERNEV": "BEATRIXK",
                                    "NEV": "Kerényi Beatrix",
                                    "EMAIL": "beatrix.kerényi@mail.hu",
                                    "SZAML_CIM": "7396 Magyarszék Kossuth Lajos utca 47/b.",
                                    "SZUL_DAT": "1972-04-06"
                                },
                                {
                                    "USERNEV": "BEATRIXS",
                                    "NEV": "Szekendi Beatrix",
                                    "EMAIL": "beatrix.szekendi@mail.hu",
                                    "SZAML_CIM": "4060 Balmazújváros Jászai tér 21.",
                                    "SZUL_DAT": "1981-04-06"
                                },
                                {
                                    "USERNEV": "BELAF",
                                    "NEV": "Farkas Béla",
                                    "EMAIL": "BELAF@gmail.com",
                                    "SZAML_CIM": "5530 Vésztő Petőfi Sándor utca 3.",
                                    "SZUL_DAT": "1995-02-24"
                                },
                                {
                                    "USERNEV": "bence",
                                    "NEV": "Győrffy Bence",
                                    "EMAIL": "bence@gmail.com",
                                    "SZAML_CIM": "6900 Makó Árpád utca 23.",
                                    "SZUL_DAT": "1987-07-09"
                                },
                                {
                                    "USERNEV": "BENCEB",
                                    "NEV": "Bajusz Bence",
                                    "EMAIL": "bence.bajusz@mail.hu",
                                    "SZAML_CIM": "8391 Sármellék Fő utca 56.",
                                    "SZUL_DAT": "1973-06-21"
                                },
                                {
                                    "USERNEV": "bernadett1",
                                    "NEV": "Simon Bernadett",
                                    "EMAIL": "bernadett1@gmail.com",
                                    "SZAML_CIM": "2300 Ráckeve Fő utca 108.",
                                    "SZUL_DAT": "1984-10-13"
                                },
                                {
                                    "USERNEV": "bernadett2",
                                    "NEV": "Kovács Bernadett",
                                    "EMAIL": "bernadett.kovács@mail.hu",
                                    "SZAML_CIM": "4200 Hajdúszoboszló Fő út 122.",
                                    "SZUL_DAT": "1996-08-20"
                                },
                                {
                                    "USERNEV": "BERNADETTO",
                                    "NEV": "Orbán Bernadett",
                                    "EMAIL": "bernadett.orbán@mail.hu",
                                    "SZAML_CIM": "5085 Rákóczifalva Arany János utca 1.",
                                    "SZUL_DAT": "1987-12-07"
                                },
                                {
                                    "USERNEV": "bertalan",
                                    "NEV": "Csiger Bertalan",
                                    "EMAIL": "bertalan@gmail.com",
                                    "SZAML_CIM": "1192 Budapest Fő út 169.",
                                    "SZUL_DAT": "1977-10-15"
                                },
                                {
                                    "USERNEV": "brigitta",
                                    "NEV": "Székely Brigitta",
                                    "EMAIL": "brigitta.székely@mail.hu",
                                    "SZAML_CIM": "2462 Martonvásár Fő utca 47.",
                                    "SZUL_DAT": "1978-09-13"
                                },
                                {
                                    "USERNEV": "brigitta3",
                                    "NEV": "Pataki Brigitta",
                                    "EMAIL": "brigitta.pataki@mail.hu",
                                    "SZAML_CIM": "2730 Albertirsa Rendeki utca 21.",
                                    "SZUL_DAT": "1991-05-23"
                                },
                                {
                                    "USERNEV": "csongor3",
                                    "NEV": "Nagymihály Csongor",
                                    "EMAIL": "csongor.nagymihály@mail.hu",
                                    "SZAML_CIM": "9181 Kimle Deák Ferenc út 5.",
                                    "SZUL_DAT": "1984-03-05"
                                },
                                {
                                    "USERNEV": "dani",
                                    "NEV": "Vörös Dániel",
                                    "EMAIL": "daniel@gmail.com",
                                    "SZAML_CIM": "7150 Bonyhád Dózsa György u. 1.",
                                    "SZUL_DAT": "1986-10-14"
                                },
                                {
                                    "USERNEV": "daniel",
                                    "NEV": "Rácz Dániel",
                                    "EMAIL": "dániel.rácz@mail.hu",
                                    "SZAML_CIM": "9181 Kimle Szabadság tér 9.",
                                    "SZUL_DAT": "1978-11-28"
                                },
                                {
                                    "USERNEV": "daniel1",
                                    "NEV": "Keszler Dániel",
                                    "EMAIL": "dániel.keszler@mail.hu",
                                    "SZAML_CIM": "3580 Tiszaújváros Kossuth Lajos utca 6.",
                                    "SZUL_DAT": "1969-07-16"
                                },
                                {
                                    "USERNEV": "david",
                                    "NEV": "Ambrus Dávid",
                                    "EMAIL": "david@gmail.com",
                                    "SZAML_CIM": "1149 Budapest Fő út 18.",
                                    "SZUL_DAT": "1974-02-11"
                                },
                                {
                                    "USERNEV": "david1",
                                    "NEV": "Sobják Dávid",
                                    "EMAIL": "david1@gmail.com",
                                    "SZAML_CIM": "5083 Kengyel Arany János utca 3.",
                                    "SZUL_DAT": "1970-08-16"
                                },
                                {
                                    "USERNEV": "debora",
                                    "NEV": "Barna Debóra",
                                    "EMAIL": "debóra.barna@mail.hu",
                                    "SZAML_CIM": "1155 Budapest Fő út 169.",
                                    "SZUL_DAT": "1976-10-14"
                                },
                                {
                                    "USERNEV": "denes",
                                    "NEV": "Tömböly Dénes",
                                    "EMAIL": "denes@gmail.com",
                                    "SZAML_CIM": "2400 Dunaújváros Kossuth út 39.",
                                    "SZUL_DAT": "1975-03-14"
                                },
                                {
                                    "USERNEV": "dora3",
                                    "NEV": "Sarodi Dóra",
                                    "EMAIL": "dóra.sarodi@mail.hu",
                                    "SZAML_CIM": "2855 Bokod Fő út 18.",
                                    "SZUL_DAT": "1995-05-18"
                                },
                                {
                                    "USERNEV": "edit",
                                    "NEV": "Bittmann Edit",
                                    "EMAIL": "edit.bittmann@mail.hu",
                                    "SZAML_CIM": "6077 Orgovány Fő utca 60.",
                                    "SZUL_DAT": "1984-04-20"
                                },
                                {
                                    "USERNEV": "emese",
                                    "NEV": "Kuruc Emese",
                                    "EMAIL": "emese.kuruc@mail.hu",
                                    "SZAML_CIM": "6700 Szeged Rákóczi utca 67.",
                                    "SZUL_DAT": "1989-08-10"
                                },
                                {
                                    "USERNEV": "eszter2",
                                    "NEV": "Balogh Eszter",
                                    "EMAIL": "eszter.balogh@mail.hu",
                                    "SZAML_CIM": "6760 Kistelek Kossuth utca 11.",
                                    "SZUL_DAT": "1998-01-31"
                                },
                                {
                                    "USERNEV": "eszter4",
                                    "NEV": "Fülöp Eszter",
                                    "EMAIL": "eszter.fülöp@mail.hu",
                                    "SZAML_CIM": "3643 Dédestapolcsány Kossuth Lajos utca 47/b.",
                                    "SZUL_DAT": "1993-06-28"
                                },
                                {
                                    "USERNEV": "ESZTERE",
                                    "NEV": "Érsek Eszter",
                                    "EMAIL": "eszter.érsek@mail.hu",
                                    "SZAML_CIM": "6785 Pusztamérges Kossuth Lajos utca 6.",
                                    "SZUL_DAT": "1978-08-28"
                                },
                                {
                                    "USERNEV": "eva2",
                                    "NEV": "Perlinger Éva",
                                    "EMAIL": "eva2@gmail.com",
                                    "SZAML_CIM": "9653 Répcelak Bécsi utca 82.",
                                    "SZUL_DAT": "1971-08-19"
                                },
                                {
                                    "USERNEV": "EVAV",
                                    "NEV": "Viktor Éva",
                                    "EMAIL": "EVAV@gmail.com",
                                    "SZAML_CIM": "6913 Csanádpalota Arany János utca 3.",
                                    "SZUL_DAT": "1980-12-26"
                                },
                                {
                                    "USERNEV": "ferenc1",
                                    "NEV": "Orosz Ferenc",
                                    "EMAIL": "ferenc.orosz@mail.hu",
                                    "SZAML_CIM": "5061 Tiszasüly Arany János utca 3.",
                                    "SZUL_DAT": "1983-10-08"
                                },
                                {
                                    "USERNEV": "fruzsina4",
                                    "NEV": "Frank Fruzsina",
                                    "EMAIL": "fruzsina4@gmail.com",
                                    "SZAML_CIM": "9700 Szombathely Szabadság utca 95.",
                                    "SZUL_DAT": "1996-08-16"
                                },
                                {
                                    "USERNEV": "gabor1",
                                    "NEV": "Köves Gábor",
                                    "EMAIL": "gabor1@gmail.com",
                                    "SZAML_CIM": "6762 Sándorfalva Árpád utca 23.",
                                    "SZUL_DAT": "1973-07-15"
                                },
                                {
                                    "USERNEV": "gabriella1",
                                    "NEV": "Nagy Gabriella",
                                    "EMAIL": "gabriella1@gmail.com",
                                    "SZAML_CIM": "1077 Budapest Dob utca 1",
                                    "SZUL_DAT": "1982-11-01"
                                },
                                {
                                    "USERNEV": "georgij",
                                    "NEV": "Nyíri Georgij",
                                    "EMAIL": "georgij.nyíri@mail.hu",
                                    "SZAML_CIM": "8391 Sármellék Grassalkovich út 10.",
                                    "SZUL_DAT": "1983-02-23"
                                },
                                {
                                    "USERNEV": "gusztav",
                                    "NEV": "Bárci Gusztáv",
                                    "EMAIL": "gusztav@gmail.com",
                                    "SZAML_CIM": "3643 Dédestapolcsány Endrődi Sándor utca 47.",
                                    "SZUL_DAT": "1967-02-25"
                                },
                                {
                                    "USERNEV": "GYONGYIK",
                                    "NEV": "Kornseé Gyöngyi",
                                    "EMAIL": "gyöngyi.kornseé@mail.hu",
                                    "SZAML_CIM": "8800 Nagykanizsa Fő út 60.",
                                    "SZUL_DAT": "1974-06-07"
                                },
                                {
                                    "USERNEV": "GYORGYO",
                                    "NEV": "Oroszi György",
                                    "EMAIL": "GYORGYO@gmail.com",
                                    "SZAML_CIM": "7220 Sarkad Dózsa György u. 1.",
                                    "SZUL_DAT": "1980-03-23"
                                },
                                {
                                    "USERNEV": "IBOLYAA",
                                    "NEV": "Andor Ibolya",
                                    "EMAIL": "ibolya.andor@mail.hu",
                                    "SZAML_CIM": "9023 Győr Posta köz 2.",
                                    "SZUL_DAT": "1983-11-27"
                                },
                                {
                                    "USERNEV": "ilona3",
                                    "NEV": "Bosnyák Ilona",
                                    "EMAIL": "ilona3@gmail.com",
                                    "SZAML_CIM": "2483 Gárdony Posta köz 2.",
                                    "SZUL_DAT": "1990-08-06"
                                },
                                {
                                    "USERNEV": "imre",
                                    "NEV": "Búza Imre",
                                    "EMAIL": "imre.búza@mail.hu",
                                    "SZAML_CIM": "9181 Kimle Petőfi Sándor tér 1.",
                                    "SZUL_DAT": "1988-09-30"
                                },
                                {
                                    "USERNEV": "imre1",
                                    "NEV": "Papp Imre",
                                    "EMAIL": "imre.papp@mail.hu",
                                    "SZAML_CIM": "1077 Budapest Szolnoki út 8.",
                                    "SZUL_DAT": "1976-06-25"
                                },
                                {
                                    "USERNEV": "istvan",
                                    "NEV": "Soós István",
                                    "EMAIL": "istvan@gmail.com",
                                    "SZAML_CIM": "2370 Dabas Kossuth utca 27.",
                                    "SZUL_DAT": "1986-06-28"
                                },
                                {
                                    "USERNEV": "istvan1",
                                    "NEV": "Vizi István",
                                    "EMAIL": "istván.vizi@mail.hu",
                                    "SZAML_CIM": "7086 Ozora Rákóczi utca 1.",
                                    "SZUL_DAT": "1997-12-01"
                                },
                                {
                                    "USERNEV": "janos3",
                                    "NEV": "Harangozó János",
                                    "EMAIL": "janos3@gmail.com",
                                    "SZAML_CIM": "8700 Marcali Petőfi Sándor tér 1.",
                                    "SZUL_DAT": "1967-11-02"
                                },
                                {
                                    "USERNEV": "JANOSG",
                                    "NEV": "Giliga János",
                                    "EMAIL": "JANOSG@gmail.com",
                                    "SZAML_CIM": "3300 Eger Deák Ferenc út 5.",
                                    "SZUL_DAT": "1975-01-03"
                                },
                                {
                                    "USERNEV": "JANOSP",
                                    "NEV": "Pálinkás János",
                                    "EMAIL": "JANOSP@gmail.com",
                                    "SZAML_CIM": "5920 Csorvás Padragi út 158.",
                                    "SZUL_DAT": "1984-10-12"
                                },
                                {
                                    "USERNEV": "jozsef",
                                    "NEV": "Gergely József",
                                    "EMAIL": "jozsef@gmail.com",
                                    "SZAML_CIM": "6050 Lajosmizse Fő út 18.",
                                    "SZUL_DAT": "1985-11-01"
                                },
                                {
                                    "USERNEV": "jozsef2",
                                    "NEV": "Vajda József",
                                    "EMAIL": "józsef.vajda@mail.hu",
                                    "SZAML_CIM": "6700 Szeged Baracsi László utca 14.",
                                    "SZUL_DAT": "1978-09-04"
                                },
                                {
                                    "USERNEV": "JOZSEFG",
                                    "NEV": "Gyuris József",
                                    "EMAIL": "józsef.gyuris@mail.hu",
                                    "SZAML_CIM": "2660 Balassagyarmat Petőfi utca 1/2.",
                                    "SZUL_DAT": "1975-05-26"
                                },
                                {
                                    "USERNEV": "JUDITH",
                                    "NEV": "Hídasi Judit",
                                    "EMAIL": "JUDITH@gmail.com",
                                    "SZAML_CIM": "2100 Gödöllő Fő út 169.",
                                    "SZUL_DAT": "1997-07-12"
                                },
                                {
                                    "USERNEV": "julia",
                                    "NEV": "Tóth Júlia",
                                    "EMAIL": "julia@gmail.com",
                                    "SZAML_CIM": "5310 Kisújszállás Árpád utca 4.",
                                    "SZUL_DAT": "1993-03-02"
                                },
                                {
                                    "USERNEV": "julia4",
                                    "NEV": "Nagy Júlia",
                                    "EMAIL": "julia4@gmail.com",
                                    "SZAML_CIM": "7000 Sárbogárd Jászai tér 21.",
                                    "SZUL_DAT": "1985-08-11"
                                },
                                {
                                    "USERNEV": "julianna4",
                                    "NEV": "Szabó Julianna",
                                    "EMAIL": "julianna4@gmail.com",
                                    "SZAML_CIM": "6700 Szeged Kossuth Lajos utca 6.",
                                    "SZUL_DAT": "1990-09-29"
                                },
                                {
                                    "USERNEV": "kata",
                                    "NEV": "Gondos Katalin",
                                    "EMAIL": "katalin.gondos@mail.hu",
                                    "SZAML_CIM": "8237 Tihany Kossuth Lajos utca 6.",
                                    "SZUL_DAT": "1968-06-22"
                                },
                                {
                                    "USERNEV": "katalin",
                                    "NEV": "Horváth Katalin",
                                    "EMAIL": "katalin.horváth@mail.hu",
                                    "SZAML_CIM": "2424 Előszállás Rákóczi út 200.",
                                    "SZUL_DAT": "1968-01-01"
                                },
                                {
                                    "USERNEV": "katalin4",
                                    "NEV": "Kertész Katalin",
                                    "EMAIL": "katalin4@gmail.com",
                                    "SZAML_CIM": "2800 Tatabánya Búvár utca 4.",
                                    "SZUL_DAT": "1986-04-13"
                                },
                                {
                                    "USERNEV": "kati",
                                    "NEV": "Zatykó Katalin",
                                    "EMAIL": "katalin.zatykó@mail.hu",
                                    "SZAML_CIM": "7511 Ötvöskónyi Kossuth Lajos utca 6.",
                                    "SZUL_DAT": "1995-05-01"
                                },
                                {
                                    "USERNEV": "katka",
                                    "NEV": "Kovács Katalin",
                                    "EMAIL": "katalin.kovács@mail.hu",
                                    "SZAML_CIM": "8254 Kővágóörs Petőfi utca 22.",
                                    "SZUL_DAT": "1975-03-31"
                                },
                                {
                                    "USERNEV": "klaudia2",
                                    "NEV": "Bakó Klaudia",
                                    "EMAIL": "klaudia.bakó@mail.hu",
                                    "SZAML_CIM": "8254 Kővágóörs Kossuth Lajos utca 6.",
                                    "SZUL_DAT": "1982-04-16"
                                },
                                {
                                    "USERNEV": "kornel4",
                                    "NEV": "Lukács Kornél",
                                    "EMAIL": "kornél.lukács@mail.hu",
                                    "SZAML_CIM": "2053 Herceghalom Bécsi utca 82.",
                                    "SZUL_DAT": "1975-09-30"
                                },
                                {
                                    "USERNEV": "kriszti",
                                    "NEV": "Horváth Krisztina",
                                    "EMAIL": "kriszti@gmail.com",
                                    "SZAML_CIM": "6060 Tiszakécske Árpád utca 4.",
                                    "SZUL_DAT": "1978-06-12"
                                },
                                {
                                    "USERNEV": "krisztian4",
                                    "NEV": "Czérna Krisztián",
                                    "EMAIL": "krisztián.czérna@mail.hu",
                                    "SZAML_CIM": "1107 Budapest Dózsa György utca 37.",
                                    "SZUL_DAT": "1970-08-01"
                                },
                                {
                                    "USERNEV": "KRISZTIANM",
                                    "NEV": "Mogyródi Krisztián",
                                    "EMAIL": "KRISZTIANM@gmail.com",
                                    "SZAML_CIM": "9155 Lébény Jászai tér 21.",
                                    "SZUL_DAT": "1968-05-27"
                                },
                                {
                                    "USERNEV": "krisztina",
                                    "NEV": "Szedlár Krisztina",
                                    "EMAIL": "krisztina@gmail.com",
                                    "SZAML_CIM": "6646 Tömörkény Arany János utca 1.",
                                    "SZUL_DAT": "1979-05-10"
                                },
                                {
                                    "USERNEV": "krisztina1",
                                    "NEV": "Bori Krisztina",
                                    "EMAIL": "krisztina.bori@mail.hu",
                                    "SZAML_CIM": "2115 Vácszentlászló Fő utca 47.",
                                    "SZUL_DAT": "1969-10-13"
                                },
                                {
                                    "USERNEV": "KRISZTINAG",
                                    "NEV": "Gyárfás Krisztina",
                                    "EMAIL": "KRISZTINAG@gmail.com",
                                    "SZAML_CIM": "6762 Sándorfalva Arany János utca 1.",
                                    "SZUL_DAT": "1987-09-19"
                                },
                                {
                                    "USERNEV": "lajos",
                                    "NEV": "Kiss Lajos",
                                    "EMAIL": "lajos.kiss@mail.hu",
                                    "SZAML_CIM": "1077 Budapest Dob utca 1",
                                    "SZUL_DAT": "1978-10-31"
                                },
                                {
                                    "USERNEV": "lala",
                                    "NEV": "Nagymihály Lajos",
                                    "EMAIL": "lajos.nagymihály@mail.hu",
                                    "SZAML_CIM": "8638 Balatonlelle Rákóczi út 200.",
                                    "SZUL_DAT": "1997-02-24"
                                },
                                {
                                    "USERNEV": "laszlo1",
                                    "NEV": "Farkas László",
                                    "EMAIL": "lászló.farkas@mail.hu",
                                    "SZAML_CIM": "5200 Törökszentmiklós Rendeki utca 21.",
                                    "SZUL_DAT": "1967-10-30"
                                },
                                {
                                    "USERNEV": "laszlo2",
                                    "NEV": "Móra László",
                                    "EMAIL": "lászló.móra@mail.hu",
                                    "SZAML_CIM": "9970 Szentgotthárd Petőfi utca 1/2.",
                                    "SZUL_DAT": "1975-02-19"
                                },
                                {
                                    "USERNEV": "LASZLOA",
                                    "NEV": "Antal László",
                                    "EMAIL": "lászló.antal@mail.hu",
                                    "SZAML_CIM": "2484 Agárd Bécsi utca 82.",
                                    "SZUL_DAT": "1969-06-29"
                                },
                                {
                                    "USERNEV": "LASZLON",
                                    "NEV": "Nagy László",
                                    "EMAIL": "lászló.nagy@mail.hu",
                                    "SZAML_CIM": "1173 Budapest Jászai tér 21.",
                                    "SZUL_DAT": "1969-04-12"
                                },
                                {
                                    "USERNEV": "maria1",
                                    "NEV": "Baráth Mária",
                                    "EMAIL": "mária.baráth@mail.hu",
                                    "SZAML_CIM": "1047 Budapest Posta köz 2.",
                                    "SZUL_DAT": "1995-11-19"
                                },
                                {
                                    "USERNEV": "mark",
                                    "NEV": "Kispál Márk",
                                    "EMAIL": "márk.kispál@mail.hu",
                                    "SZAML_CIM": "1086 Budapest Juhászföldi út 1.",
                                    "SZUL_DAT": "1996-01-23"
                                },
                                {
                                    "USERNEV": "MARKH",
                                    "NEV": "Horváth Márk",
                                    "EMAIL": "márk.horváth@mail.hu",
                                    "SZAML_CIM": "4400 Nyíregyháza Badacsonyi utca 12.",
                                    "SZUL_DAT": "1997-09-23"
                                },
                                {
                                    "USERNEV": "marton",
                                    "NEV": "Kalacsi Márton",
                                    "EMAIL": "marton@gmail.com",
                                    "SZAML_CIM": "5137 Jászkisér Fő út 169.",
                                    "SZUL_DAT": "1989-06-24"
                                },
                                {
                                    "USERNEV": "MATEK",
                                    "NEV": "Koza Máté",
                                    "EMAIL": "máté.koza@mail.hu",
                                    "SZAML_CIM": "1011 Budapest Központi telep 3.",
                                    "SZUL_DAT": "1997-02-28"
                                },
                                {
                                    "USERNEV": "matyas2",
                                    "NEV": "Botka Mátyás",
                                    "EMAIL": "matyas2@gmail.com",
                                    "SZAML_CIM": "2700 Cegléd Kossuth Lajos utca 6.",
                                    "SZUL_DAT": "1972-07-07"
                                },
                                {
                                    "USERNEV": "MATYASS",
                                    "NEV": "Szilágyi Mátyás",
                                    "EMAIL": "mátyás.szilágyi@mail.hu",
                                    "SZAML_CIM": "9023 Győr Kossuth Lajos utca 6.",
                                    "SZUL_DAT": "1975-03-22"
                                },
                                {
                                    "USERNEV": "MIHALYJ",
                                    "NEV": "Juhász Mihály",
                                    "EMAIL": "mihály.juhász@mail.hu",
                                    "SZAML_CIM": "6786 Ruzsa Rákóczi utca 1.",
                                    "SZUL_DAT": "1979-10-12"
                                },
                                {
                                    "USERNEV": "MIKLOSB",
                                    "NEV": "Balla Miklós",
                                    "EMAIL": "miklós.balla@mail.hu",
                                    "SZAML_CIM": "4060 Balmazújváros Szent István utca 2.",
                                    "SZUL_DAT": "1979-02-16"
                                },
                                {
                                    "USERNEV": "MONIKAM",
                                    "NEV": "Mohos Mónika",
                                    "EMAIL": "mónika.mohos@mail.hu",
                                    "SZAML_CIM": "2241 Sülysáp Baracsi László utca 14.",
                                    "SZUL_DAT": "1974-10-01"
                                },
                                {
                                    "USERNEV": "nikolett3",
                                    "NEV": "Horváth Nikolett",
                                    "EMAIL": "nikolett3@gmail.com",
                                    "SZAML_CIM": "1072 Budapest Arany János utca 1.",
                                    "SZUL_DAT": "1981-09-29"
                                },
                                {
                                    "USERNEV": "nikoletta4",
                                    "NEV": "Kő Nikoletta",
                                    "EMAIL": "nikoletta4@gmail.com",
                                    "SZAML_CIM": "5537 Zsadány Fő út 18.",
                                    "SZUL_DAT": "1972-01-10"
                                },
                                {
                                    "USERNEV": "NIKOLETTAT",
                                    "NEV": "Tatár Nikoletta",
                                    "EMAIL": "nikoletta.tatár@mail.hu",
                                    "SZAML_CIM": "1067 Budapest Győri utca 12.",
                                    "SZUL_DAT": "1997-10-19"
                                },
                                {
                                    "USERNEV": "norbert",
                                    "NEV": "Szűcs Norbert",
                                    "EMAIL": "norbert@gmail.com",
                                    "SZAML_CIM": "5071 Besenyszög Győri utca 12.",
                                    "SZUL_DAT": "1969-07-17"
                                },
                                {
                                    "USERNEV": "norbert2",
                                    "NEV": "Hegedűs Norbert",
                                    "EMAIL": "norbert.hegedűs@mail.hu",
                                    "SZAML_CIM": "2081 Piliscsaba Rendeki utca 21.",
                                    "SZUL_DAT": "1991-07-17"
                                },
                                {
                                    "USERNEV": "norbert4",
                                    "NEV": "Mile Norbert",
                                    "EMAIL": "norbert4@gmail.com",
                                    "SZAML_CIM": "3973 Cigánd Bajcsy-Zsilinszky utca 4.",
                                    "SZUL_DAT": "1983-06-15"
                                },
                                {
                                    "USERNEV": "norbert5",
                                    "NEV": "Béres Norbert",
                                    "EMAIL": "norbert5@gmail.com",
                                    "SZAML_CIM": "8640 Fonyód Bajcsy-Zsilinszky utca 4.",
                                    "SZUL_DAT": "1975-07-27"
                                },
                                {
                                    "USERNEV": "peter1",
                                    "NEV": "Kozma Péter",
                                    "EMAIL": "peter1@gmail.com",
                                    "SZAML_CIM": "6913 Csanádpalota Központi telep 3.",
                                    "SZUL_DAT": "1976-03-18"
                                },
                                {
                                    "USERNEV": "peter2",
                                    "NEV": "Bozsó Péter",
                                    "EMAIL": "peter2@gmail.com",
                                    "SZAML_CIM": "4800 Vásárosnamény Zombori út 2/A",
                                    "SZUL_DAT": "1976-01-26"
                                },
                                {
                                    "USERNEV": "peter3",
                                    "NEV": "Szalai Péter",
                                    "EMAIL": "peter3@gmail.com",
                                    "SZAML_CIM": "1155 Budapest Arany János utca 3.",
                                    "SZUL_DAT": "1983-07-18"
                                },
                                {
                                    "USERNEV": "peter4",
                                    "NEV": "Bíró Péter",
                                    "EMAIL": "péter.bíró@mail.hu",
                                    "SZAML_CIM": "5137 Jászkisér Rákóczi utca 67.",
                                    "SZUL_DAT": "1985-09-01"
                                },
                                {
                                    "USERNEV": "PETERB",
                                    "NEV": "Berendi Péter",
                                    "EMAIL": "péter.berendi@mail.hu",
                                    "SZAML_CIM": "3980 Sátoraljaújhely Vasút utca 4/10.",
                                    "SZUL_DAT": "1969-01-01"
                                },
                                {
                                    "USERNEV": "polla",
                                    "NEV": "Palágyi Polla",
                                    "EMAIL": "polla@gmail.com",
                                    "SZAML_CIM": "2484 Agárd Fő út 18.",
                                    "SZUL_DAT": "1994-02-04"
                                },
                                {
                                    "USERNEV": "rajmond4",
                                    "NEV": "Rácz Rajmond",
                                    "EMAIL": "rajmond.rácz@mail.hu",
                                    "SZAML_CIM": "9155 Lébény Petőfi utca 1/2.",
                                    "SZUL_DAT": "1993-09-25"
                                },
                                {
                                    "USERNEV": "reka4",
                                    "NEV": "Szikszai Réka",
                                    "EMAIL": "réka.szikszai@mail.hu",
                                    "SZAML_CIM": "8254 Kővágóörs Templom utca 73.",
                                    "SZUL_DAT": "1969-11-27"
                                },
                                {
                                    "USERNEV": "RENATAK",
                                    "NEV": "Kardos Renáta",
                                    "EMAIL": "renáta.kardos@mail.hu",
                                    "SZAML_CIM": "7086 Ozora Bécsi utca 82.",
                                    "SZUL_DAT": "1988-05-17"
                                },
                                {
                                    "USERNEV": "RENATAS",
                                    "NEV": "Szirmai Renáta",
                                    "EMAIL": "RENATAS@gmail.com",
                                    "SZAML_CIM": "2053 Herceghalom Kossuth utca 27.",
                                    "SZUL_DAT": "1991-03-26"
                                },
                                {
                                    "USERNEV": "robert2",
                                    "NEV": "Patay Róbert",
                                    "EMAIL": "robert2@gmail.com",
                                    "SZAML_CIM": "2370 Dabas Rákóczi utca 21.",
                                    "SZUL_DAT": "1977-01-08"
                                },
                                {
                                    "USERNEV": "ROBERTI",
                                    "NEV": "Iván Róbert",
                                    "EMAIL": "róbert.iván@mail.hu",
                                    "SZAML_CIM": "2377 Örkény Petőfi Sándor utca 3.",
                                    "SZUL_DAT": "1967-07-02"
                                },
                                {
                                    "USERNEV": "ROBERTP",
                                    "NEV": "Pásztor Róbert",
                                    "EMAIL": "ROBERTP@gmail.com",
                                    "SZAML_CIM": "5137 Jászkisér Ady Endre út 27.",
                                    "SZUL_DAT": "1972-05-16"
                                },
                                {
                                    "USERNEV": "roland1",
                                    "NEV": "Ferencz Roland",
                                    "EMAIL": "roland.ferencz@mail.hu",
                                    "SZAML_CIM": "2424 Előszállás Fő út 169.",
                                    "SZUL_DAT": "1985-12-31"
                                },
                                {
                                    "USERNEV": "roza2",
                                    "NEV": "Bucskó Róza",
                                    "EMAIL": "roza2@gmail.com",
                                    "SZAML_CIM": "5661 Újkígyós Arany János utca 3.",
                                    "SZUL_DAT": "1988-12-26"
                                },
                                {
                                    "USERNEV": "sandor",
                                    "NEV": "Karasz Sándor",
                                    "EMAIL": "sandor@gmail.com",
                                    "SZAML_CIM": "8283 Káptalantóti Kossuth Lajos utca 1/a.",
                                    "SZUL_DAT": "1970-01-27"
                                },
                                {
                                    "USERNEV": "sandor3",
                                    "NEV": "Farkas Sándor",
                                    "EMAIL": "sándor.farkas@mail.hu",
                                    "SZAML_CIM": "8640 Fonyód Tanácsköztársaság tér 1.",
                                    "SZUL_DAT": "1989-01-27"
                                },
                                {
                                    "USERNEV": "sandor4",
                                    "NEV": "Nagy Sándor",
                                    "EMAIL": "sandor4@gmail.com",
                                    "SZAML_CIM": "4600 Kisvárda Fő utca 47.",
                                    "SZUL_DAT": "1997-06-11"
                                },
                                {
                                    "USERNEV": "sara",
                                    "NEV": "Farkas Sára",
                                    "EMAIL": "sára.farkas@mail.hu",
                                    "SZAML_CIM": "5940 Tótkomlós Felszabadulás utca 32.",
                                    "SZUL_DAT": "1973-04-05"
                                },
                                {
                                    "USERNEV": "SEBASTIANF",
                                    "NEV": "Foltényi Sebastián",
                                    "EMAIL": "SEBASTIANF@gmail.com",
                                    "SZAML_CIM": "7960 Sellye Grassalkovich út 10.",
                                    "SZUL_DAT": "1992-09-09"
                                },
                                {
                                    "USERNEV": "sebestyen",
                                    "NEV": "Rab Sebestyén",
                                    "EMAIL": "sebestyen@gmail.com",
                                    "SZAML_CIM": "7130 Tolna Központi telep 3.",
                                    "SZUL_DAT": "1992-03-03"
                                },
                                {
                                    "USERNEV": "szabolcs",
                                    "NEV": "Bodor Szabolcs",
                                    "EMAIL": "szabolcs.bodor@mail.hu",
                                    "SZAML_CIM": "6786 Ruzsa Ady Endre út 27.",
                                    "SZUL_DAT": "1990-07-16"
                                },
                                {
                                    "USERNEV": "SZABOLCSM",
                                    "NEV": "Miklós Szabolcs",
                                    "EMAIL": "szabolcs.miklós@mail.hu",
                                    "SZAML_CIM": "1102 Budapest Fő út 169.",
                                    "SZUL_DAT": "1980-08-11"
                                },
                                {
                                    "USERNEV": "SZILARDS",
                                    "NEV": "Szalai Szilárd",
                                    "EMAIL": "szilárd.szalai@mail.hu",
                                    "SZAML_CIM": "1077 Budapest Fő út 18.",
                                    "SZUL_DAT": "1967-09-28"
                                },
                                {
                                    "USERNEV": "szilvia1",
                                    "NEV": "Tari Szilvia",
                                    "EMAIL": "szilvia.tari@mail.hu",
                                    "SZAML_CIM": "6080 Szabadszállás Bécsi utca 82.",
                                    "SZUL_DAT": "1971-03-09"
                                },
                                {
                                    "USERNEV": "tamara2",
                                    "NEV": "Miklós Tamara",
                                    "EMAIL": "tamara.miklós@mail.hu",
                                    "SZAML_CIM": "3910 Tokaj Kossuth út 39.",
                                    "SZUL_DAT": "1980-08-11"
                                },
                                {
                                    "USERNEV": "tamas",
                                    "NEV": "Antal Tamás",
                                    "EMAIL": "tamás.antal@mail.hu",
                                    "SZAML_CIM": "4440 Tiszavasvári Posta köz 2.",
                                    "SZUL_DAT": "1984-09-05"
                                },
                                {
                                    "USERNEV": "TAMASF",
                                    "NEV": "Fényes Tamás",
                                    "EMAIL": "TAMASF@gmail.com",
                                    "SZAML_CIM": "9023 Győr Arany János utca 1.",
                                    "SZUL_DAT": "1997-11-06"
                                },
                                {
                                    "USERNEV": "tibor",
                                    "NEV": "Gombos Tibor",
                                    "EMAIL": "tibor.gombos@mail.hu",
                                    "SZAML_CIM": "7100 Szekszárd Kossuth utca 77.",
                                    "SZUL_DAT": "1993-11-28"
                                },
                                {
                                    "USERNEV": "timea",
                                    "NEV": "Papós Tímea",
                                    "EMAIL": "timea@gmail.com",
                                    "SZAML_CIM": "1035 Budapest  Kossuth út 77.",
                                    "SZUL_DAT": "1996-01-08"
                                },
                                {
                                    "USERNEV": "timea2",
                                    "NEV": "Dusha Tímea",
                                    "EMAIL": "tímea.dusha@mail.hu",
                                    "SZAML_CIM": "5920 Csorvás Kossuth utca 8.",
                                    "SZUL_DAT": "1975-08-22"
                                },
                                {
                                    "USERNEV": "tunde",
                                    "NEV": "Turcsik Tünde",
                                    "EMAIL": "tunde@gmail.com",
                                    "SZAML_CIM": "7130 Tolna Fő út 122.",
                                    "SZUL_DAT": "1974-02-12"
                                },
                                {
                                    "USERNEV": "valentin",
                                    "NEV": "Feró Valentin",
                                    "EMAIL": "valentin.feró@mail.hu",
                                    "SZAML_CIM": "3895 Gönc Búvár utca 4.",
                                    "SZUL_DAT": "1986-01-09"
                                },
                                {
                                    "USERNEV": "veronika4",
                                    "NEV": "Tankó Veronika",
                                    "EMAIL": "veronika4@gmail.com",
                                    "SZAML_CIM": "6412 Balotaszállás Rendeki utca 21.",
                                    "SZUL_DAT": "1983-08-28"
                                },
                                {
                                    "USERNEV": "VIKTORIAU",
                                    "NEV": "Urbán Viktoria",
                                    "EMAIL": "viktoria.urbán@mail.hu",
                                    "SZAML_CIM": "3860 Encs Népboltsor  2.",
                                    "SZUL_DAT": "1996-05-03"
                                },
                                {
                                    "USERNEV": "VIKTORK",
                                    "NEV": "Keresztúri Viktor",
                                    "EMAIL": "viktor.keresztúri@mail.hu",
                                    "SZAML_CIM": "2532 Tokodaltáró Nagy Lajos tér 4.",
                                    "SZUL_DAT": "1989-05-05"
                                },
                                {
                                    "USERNEV": "vivien3",
                                    "NEV": "Boros Vivien",
                                    "EMAIL": "vivien3@gmail.com",
                                    "SZAML_CIM": "2117 Isaszeg Fő út 122.",
                                    "SZUL_DAT": "1991-07-01"
                                },
                                {
                                    "USERNEV": "zoltan",
                                    "NEV": "Fodor Zoltán",
                                    "EMAIL": "zoltán.fodor@mail.hu",
                                    "SZAML_CIM": "3441 Mezőkeresztes Fő utca 23.",
                                    "SZUL_DAT": "1979-11-25"
                                },
                                {
                                    "USERNEV": "zoltan4",
                                    "NEV": "Barna Zoltán",
                                    "EMAIL": "zoltan4@gmail.com",
                                    "SZAML_CIM": "8313 Balatongyörök Jászai tér 21.",
                                    "SZUL_DAT": "1986-05-20"
                                },
                                {
                                    "USERNEV": "ZOLTANP",
                                    "NEV": "Pintér Zoltán",
                                    "EMAIL": "zoltán.pintér@mail.hu",
                                    "SZAML_CIM": "6050 Lajosmizse Fő út 18.",
                                    "SZUL_DAT": "1977-06-07"
                                },
                                {
                                    "USERNEV": "ZOLTANT",
                                    "NEV": "Tóth Zoltán",
                                    "EMAIL": "zoltán.tóth@mail.hu",
                                    "SZAML_CIM": "4244 Újfehértó Posta köz 2.",
                                    "SZUL_DAT": "1985-12-14"
                                },
                                {
                                    "USERNEV": "zsofi1",
                                    "NEV": "Molnár Zsófi",
                                    "EMAIL": "zsofi1@gmail.com",
                                    "SZAML_CIM": "2730 Albertirsa Árpád utca 23.",
                                    "SZUL_DAT": "1983-11-17"
                                },
                                {
                                    "USERNEV": "zsolt1",
                                    "NEV": "Pulai Zsolt",
                                    "EMAIL": "zsolt.pulai@mail.hu",
                                    "SZAML_CIM": "8391 Sármellék Fő utca 60.",
                                    "SZUL_DAT": "1988-05-27"
                                },
                                {
                                    "USERNEV": "ZSOLTJ",
                                    "NEV": "Józsa Zsolt",
                                    "EMAIL": "ZSOLTJ@gmail.com",
                                    "SZAML_CIM": "8315 Gyenesdiás Bajcsy-Zsilinszky utca 4.",
                                    "SZUL_DAT": "1983-09-29"
                                },
                                {
                                    "USERNEV": "zsuzsa",
                                    "NEV": "Pusztai Zsuzsanna",
                                    "EMAIL": "zsuzsanna@gmail.com",
                                    "SZAML_CIM": "6783 Ásotthalom Badacsonyi utca 12.",
                                    "SZUL_DAT": "1980-09-17"
                                },
                                {
                                    "USERNEV": "zsuzsa3",
                                    "NEV": "Varsányi Zsuzsa",
                                    "EMAIL": "zsuzsa.varsányi@mail.hu",
                                    "SZAML_CIM": "8600 Siófok Árpád utca 4.",
                                    "SZUL_DAT": "1979-03-06"
                                },
                                {
                                    "USERNEV": "zsuzsanna",
                                    "NEV": "Barta Zsuzsanna",
                                    "EMAIL": "zsuzsanna.barta@mail.hu",
                                    "SZAML_CIM": "4172 Biharnagybajom Dózsa György utca 37.",
                                    "SZUL_DAT": "1994-10-07"
                                },
                                {
                                    "USERNEV": "ZSUZSAV",
                                    "NEV": "Vajda Zsuzsa",
                                    "EMAIL": "zsuzsa.vajda@mail.hu",
                                    "SZAML_CIM": "6786 Ruzsa Kossuth utca 77.",
                                    "SZUL_DAT": "1976-12-11"
                                },
                                {
                                    "USERNEV": "adam1",
                                    "NEV": "Kiss Ádám",
                                    "EMAIL": "ádám.kiss@mail.hu",
                                    "SZAML_CIM": "5630 Békés Szolnoki út 8.",
                                    "SZUL_DAT": "1991-12-28"
                                },
                                {
                                    "USERNEV": "adam4",
                                    "NEV": "Bieniek Ádám",
                                    "EMAIL": "ádám.bieniek@mail.hu",
                                    "SZAML_CIM": "8630 Balatonboglár Juhászföldi út 1.",
                                    "SZUL_DAT": "1976-08-01"
                                },
                                {
                                    "USERNEV": "agnes",
                                    "NEV": "Lengyel Ágnes",
                                    "EMAIL": "agnes@gmail.com",
                                    "SZAML_CIM": "5200 Törökszentmiklós Deák Ferenc út 5.",
                                    "SZUL_DAT": "1979-12-10"
                                },
                                {
                                    "USERNEV": "agnes3",
                                    "NEV": "Hartyánszky Ágnes",
                                    "EMAIL": "agnes3@gmail.com",
                                    "SZAML_CIM": "6430 Bácsalmás Posta köz 2.",
                                    "SZUL_DAT": "1967-04-11"
                                },
                                {
                                    "USERNEV": "AGNESH",
                                    "NEV": "Horváth Ágnes",
                                    "EMAIL": "AGNESH@gmail.com",
                                    "SZAML_CIM": "8200 Veszprém Rákóczi utca 21.",
                                    "SZUL_DAT": "1981-12-24"
                                },
                                {
                                    "USERNEV": "akos",
                                    "NEV": "Bíró Ákos",
                                    "EMAIL": "ákos.bíró@mail.hu",
                                    "SZAML_CIM": "9023 Győr Kossuth Lajos utca 47/b.",
                                    "SZUL_DAT": "1982-04-24"
                                },
                                {
                                    "USERNEV": "alexandra",
                                    "NEV": "Bagóczki Alexandra",
                                    "EMAIL": "alexandra.bagóczki@mail.hu",
                                    "SZAML_CIM": "2381 Táborfalva Petőfi utca 1/2.",
                                    "SZUL_DAT": "1992-03-25"
                                },
                                {
                                    "USERNEV": "andi",
                                    "NEV": "Maródi Andrea",
                                    "EMAIL": "andrea.maródi@mail.hu",
                                    "SZAML_CIM": "5465 Cserkeszőlő Árpád utca 4.",
                                    "SZUL_DAT": "1968-05-07"
                                },
                                {
                                    "USERNEV": "andras2",
                                    "NEV": "Tóth András",
                                    "EMAIL": "andrás.tóth@mail.hu",
                                    "SZAML_CIM": "4071 Egyek Petőfi utca 30.",
                                    "SZUL_DAT": "1997-10-31"
                                },
                                {
                                    "USERNEV": "andras21",
                                    "NEV": "Molnár András",
                                    "EMAIL": "andrás.molnár@mail.hu",
                                    "SZAML_CIM": "7900 Szigetvár Rákóczi utca 67.",
                                    "SZUL_DAT": "1977-11-16"
                                },
                                {
                                    "USERNEV": "andras3",
                                    "NEV": "Vígh András",
                                    "EMAIL": "andrás.vígh@mail.hu",
                                    "SZAML_CIM": "1118 Budapest Arany János utca 1.",
                                    "SZUL_DAT": "1971-04-02"
                                },
                                {
                                    "USERNEV": "andras41",
                                    "NEV": "Komjáti András",
                                    "EMAIL": "andras41@gmail.com",
                                    "SZAML_CIM": "5065 Nagykörű Kossuth út 24.",
                                    "SZUL_DAT": "1997-10-25"
                                },
                                {
                                    "USERNEV": "ANDRASN",
                                    "NEV": "Nagy András",
                                    "EMAIL": "andrás.nagy@mail.hu",
                                    "SZAML_CIM": "6500 Baja Fő út 169.",
                                    "SZUL_DAT": "1980-09-05"
                                },
                                {
                                    "USERNEV": "andrea",
                                    "NEV": "Kiss Andrea",
                                    "EMAIL": "andrea.kiss@mail.hu",
                                    "SZAML_CIM": "1113 Budapest Petőfi Sándor utca 87.",
                                    "SZUL_DAT": "1993-03-25"
                                },
                                {
                                    "USERNEV": "andrea3",
                                    "NEV": "Szomor Andrea",
                                    "EMAIL": "andrea3@gmail.com",
                                    "SZAML_CIM": "7960 Sellye Bécsi utca 82.",
                                    "SZUL_DAT": "1996-05-10"
                                },
                                {
                                    "USERNEV": "anett3",
                                    "NEV": "Pivarcsi Anett",
                                    "EMAIL": "anett.pivarcsi@mail.hu",
                                    "SZAML_CIM": "1149 Budapest Fő út 60.",
                                    "SZUL_DAT": "1967-01-03"
                                },
                                {
                                    "USERNEV": "aniko",
                                    "NEV": "Tóth Anikó",
                                    "EMAIL": "aniko@gmail.com",
                                    "SZAML_CIM": "2085 Pilisvörösvár Deák Ferenc út 5.",
                                    "SZUL_DAT": "1973-06-03"
                                },
                                {
                                    "USERNEV": "ANIKOS",
                                    "NEV": "Simon Anikó",
                                    "EMAIL": "ANIKOS@gmail.com",
                                    "SZAML_CIM": "5137 Jászkisér Bécsi utca 82.",
                                    "SZUL_DAT": "1988-12-14"
                                },
                                {
                                    "USERNEV": "anita",
                                    "NEV": "Hamvay-Kovács Anita",
                                    "EMAIL": "anita.hamvay-kovács@mail.hu",
                                    "SZAML_CIM": "7220 Sarkad Táncsics utca 19.",
                                    "SZUL_DAT": "1971-03-20"
                                },
                                {
                                    "USERNEV": "annamaria1",
                                    "NEV": "Szűcs Annamária",
                                    "EMAIL": "annamária.szűcs@mail.hu",
                                    "SZAML_CIM": "1191 Budapest Rendeki utca 21.",
                                    "SZUL_DAT": "1990-04-27"
                                },
                                {
                                    "USERNEV": "aron2",
                                    "NEV": "Jakab Áron",
                                    "EMAIL": "aron2@gmail.com",
                                    "SZAML_CIM": "7133 Fadd Bajcsy-Zsilinszky utca 4.",
                                    "SZUL_DAT": "1971-04-26"
                                },
                                {
                                    "USERNEV": "ARONK",
                                    "NEV": "Kelemen Áron",
                                    "EMAIL": "áron.kelemen@mail.hu",
                                    "SZAML_CIM": "8200 Veszprém Petőfi utca 8.",
                                    "SZUL_DAT": "1989-08-10"
                                },
                                {
                                    "USERNEV": "arpad2",
                                    "NEV": "Ötvös Árpád",
                                    "EMAIL": "árpád.ötvös@mail.hu",
                                    "SZAML_CIM": "2600 Vác Padragi út 158.",
                                    "SZUL_DAT": "1990-06-08"
                                },
                                {
                                    "USERNEV": "ARPADH",
                                    "NEV": "Horváth Árpád",
                                    "EMAIL": "árpád.horváth@mail.hu",
                                    "SZAML_CIM": "7349 Szászvár Dózsa György u. 1.",
                                    "SZUL_DAT": "1990-05-18"
                                },
                                {
                                    "USERNEV": "ARPADM",
                                    "NEV": "Móricz Árpád",
                                    "EMAIL": "árpád.móricz@mail.hu",
                                    "SZAML_CIM": "3910 Tokaj Rákóczi utca 67.",
                                    "SZUL_DAT": "1986-04-20"
                                },
                                {
                                    "USERNEV": "attila",
                                    "NEV": "Csóti Attila",
                                    "EMAIL": "attila@gmail.com",
                                    "SZAML_CIM": "3000 Hatvan Bajcsy-Zsilinszky utca 4.",
                                    "SZUL_DAT": "1979-12-25"
                                },
                                {
                                    "USERNEV": "attila1",
                                    "NEV": "Gulyás Attila",
                                    "EMAIL": "attila.gulyás@mail.hu",
                                    "SZAML_CIM": "3881 Abaújszántó Szolnoki út 8.",
                                    "SZUL_DAT": "1982-08-16"
                                },
                                {
                                    "USERNEV": "attila4",
                                    "NEV": "Baróti Attila",
                                    "EMAIL": "attila.baróti@mail.hu",
                                    "SZAML_CIM": "7149 Báta Arany János utca 3.",
                                    "SZUL_DAT": "1975-11-06"
                                },
                                {
                                    "USERNEV": "balazs1",
                                    "NEV": "Bozsik Balázs",
                                    "EMAIL": "balázs.bozsik@mail.hu",
                                    "SZAML_CIM": "2300 Ráckeve Bécsi utca 82.",
                                    "SZUL_DAT": "1992-11-03"
                                },
                                {
                                    "USERNEV": "balazs2",
                                    "NEV": "Szűcs Balázs",
                                    "EMAIL": "balázs.szűcs@mail.hu",
                                    "SZAML_CIM": "3170 Szécsény Szabadság utca 95.",
                                    "SZUL_DAT": "1984-10-31"
                                },
                                {
                                    "USERNEV": "balazs3",
                                    "NEV": "Bakódy Balázs",
                                    "EMAIL": "balazs3@gmail.com",
                                    "SZAML_CIM": "2131 Göd Arany János utca 1.",
                                    "SZUL_DAT": "1986-09-09"
                                },
                                {
                                    "USERNEV": "balint1",
                                    "NEV": "Molnár Bálint",
                                    "EMAIL": "balint1@gmail.com",
                                    "SZAML_CIM": "9181 Kimle Fő út 169.",
                                    "SZUL_DAT": "1989-08-24"
                                },
                                {
                                    "USERNEV": "balint2",
                                    "NEV": "Vukasinovity Bálint",
                                    "EMAIL": "balint2@gmail.com",
                                    "SZAML_CIM": "2330 Dunaharaszti Béke utca 7.",
                                    "SZUL_DAT": "1997-09-03"
                                },
                                {
                                    "USERNEV": "beata4",
                                    "NEV": "Bagi Beáta",
                                    "EMAIL": "beáta.bagi@mail.hu",
                                    "SZAML_CIM": "8477 Tüskevár Felszabadulás utca 32.",
                                    "SZUL_DAT": "1994-03-19"
                                },
                                {
                                    "USERNEV": "BEATRIXK",
                                    "NEV": "Kerényi Beatrix",
                                    "EMAIL": "beatrix.kerényi@mail.hu",
                                    "SZAML_CIM": "7396 Magyarszék Kossuth Lajos utca 47/b.",
                                    "SZUL_DAT": "1972-04-06"
                                },
                                {
                                    "USERNEV": "BEATRIXS",
                                    "NEV": "Szekendi Beatrix",
                                    "EMAIL": "beatrix.szekendi@mail.hu",
                                    "SZAML_CIM": "4060 Balmazújváros Jászai tér 21.",
                                    "SZUL_DAT": "1981-04-06"
                                },
                                {
                                    "USERNEV": "BELAF",
                                    "NEV": "Farkas Béla",
                                    "EMAIL": "BELAF@gmail.com",
                                    "SZAML_CIM": "5530 Vésztő Petőfi Sándor utca 3.",
                                    "SZUL_DAT": "1995-02-24"
                                },
                                {
                                    "USERNEV": "bence",
                                    "NEV": "Győrffy Bence",
                                    "EMAIL": "bence@gmail.com",
                                    "SZAML_CIM": "6900 Makó Árpád utca 23.",
                                    "SZUL_DAT": "1987-07-09"
                                },
                                {
                                    "USERNEV": "BENCEB",
                                    "NEV": "Bajusz Bence",
                                    "EMAIL": "bence.bajusz@mail.hu",
                                    "SZAML_CIM": "8391 Sármellék Fő utca 56.",
                                    "SZUL_DAT": "1973-06-21"
                                },
                                {
                                    "USERNEV": "bernadett1",
                                    "NEV": "Simon Bernadett",
                                    "EMAIL": "bernadett1@gmail.com",
                                    "SZAML_CIM": "2300 Ráckeve Fő utca 108.",
                                    "SZUL_DAT": "1984-10-13"
                                },
                                {
                                    "USERNEV": "bernadett2",
                                    "NEV": "Kovács Bernadett",
                                    "EMAIL": "bernadett.kovács@mail.hu",
                                    "SZAML_CIM": "4200 Hajdúszoboszló Fő út 122.",
                                    "SZUL_DAT": "1996-08-20"
                                },
                                {
                                    "USERNEV": "BERNADETTO",
                                    "NEV": "Orbán Bernadett",
                                    "EMAIL": "bernadett.orbán@mail.hu",
                                    "SZAML_CIM": "5085 Rákóczifalva Arany János utca 1.",
                                    "SZUL_DAT": "1987-12-07"
                                },
                                {
                                    "USERNEV": "bertalan",
                                    "NEV": "Csiger Bertalan",
                                    "EMAIL": "bertalan@gmail.com",
                                    "SZAML_CIM": "1192 Budapest Fő út 169.",
                                    "SZUL_DAT": "1977-10-15"
                                },
                                {
                                    "USERNEV": "brigitta",
                                    "NEV": "Székely Brigitta",
                                    "EMAIL": "brigitta.székely@mail.hu",
                                    "SZAML_CIM": "2462 Martonvásár Fő utca 47.",
                                    "SZUL_DAT": "1978-09-13"
                                },
                                {
                                    "USERNEV": "brigitta3",
                                    "NEV": "Pataki Brigitta",
                                    "EMAIL": "brigitta.pataki@mail.hu",
                                    "SZAML_CIM": "2730 Albertirsa Rendeki utca 21.",
                                    "SZUL_DAT": "1991-05-23"
                                },
                                {
                                    "USERNEV": "csongor3",
                                    "NEV": "Nagymihály Csongor",
                                    "EMAIL": "csongor.nagymihály@mail.hu",
                                    "SZAML_CIM": "9181 Kimle Deák Ferenc út 5.",
                                    "SZUL_DAT": "1984-03-05"
                                },
                                {
                                    "USERNEV": "dani",
                                    "NEV": "Vörös Dániel",
                                    "EMAIL": "daniel@gmail.com",
                                    "SZAML_CIM": "7150 Bonyhád Dózsa György u. 1.",
                                    "SZUL_DAT": "1986-10-14"
                                },
                                {
                                    "USERNEV": "daniel",
                                    "NEV": "Rácz Dániel",
                                    "EMAIL": "dániel.rácz@mail.hu",
                                    "SZAML_CIM": "9181 Kimle Szabadság tér 9.",
                                    "SZUL_DAT": "1978-11-28"
                                },
                                {
                                    "USERNEV": "daniel1",
                                    "NEV": "Keszler Dániel",
                                    "EMAIL": "dániel.keszler@mail.hu",
                                    "SZAML_CIM": "3580 Tiszaújváros Kossuth Lajos utca 6.",
                                    "SZUL_DAT": "1969-07-16"
                                },
                                {
                                    "USERNEV": "david",
                                    "NEV": "Ambrus Dávid",
                                    "EMAIL": "david@gmail.com",
                                    "SZAML_CIM": "1149 Budapest Fő út 18.",
                                    "SZUL_DAT": "1974-02-11"
                                },
                                {
                                    "USERNEV": "david1",
                                    "NEV": "Sobják Dávid",
                                    "EMAIL": "david1@gmail.com",
                                    "SZAML_CIM": "5083 Kengyel Arany János utca 3.",
                                    "SZUL_DAT": "1970-08-16"
                                },
                                {
                                    "USERNEV": "denes",
                                    "NEV": "Tömböly Dénes",
                                    "EMAIL": "denes@gmail.com",
                                    "SZAML_CIM": "2400 Dunaújváros Kossuth út 39.",
                                    "SZUL_DAT": "1975-03-14"
                                },
                                {
                                    "USERNEV": "dora3",
                                    "NEV": "Sarodi Dóra",
                                    "EMAIL": "dóra.sarodi@mail.hu",
                                    "SZAML_CIM": "2855 Bokod Fő út 18.",
                                    "SZUL_DAT": "1995-05-18"
                                },
                                {
                                    "USERNEV": "edit",
                                    "NEV": "Bittmann Edit",
                                    "EMAIL": "edit.bittmann@mail.hu",
                                    "SZAML_CIM": "6077 Orgovány Fő utca 60.",
                                    "SZUL_DAT": "1984-04-20"
                                },
                                {
                                    "USERNEV": "emese",
                                    "NEV": "Kuruc Emese",
                                    "EMAIL": "emese.kuruc@mail.hu",
                                    "SZAML_CIM": "6700 Szeged Rákóczi utca 67.",
                                    "SZUL_DAT": "1989-08-10"
                                },
                                {
                                    "USERNEV": "eszter",
                                    "NEV": "Molnár Eszter",
                                    "EMAIL": "eszter.molnár@mail.hu",
                                    "SZAML_CIM": "6800 Hódmezővásárhely Fő út 77.",
                                    "SZUL_DAT": "1987-05-10"
                                },
                                {
                                    "USERNEV": "eszter2",
                                    "NEV": "Balogh Eszter",
                                    "EMAIL": "eszter.balogh@mail.hu",
                                    "SZAML_CIM": "6760 Kistelek Kossuth utca 11.",
                                    "SZUL_DAT": "1998-01-31"
                                },
                                {
                                    "USERNEV": "eva",
                                    "NEV": "Enyedi Éva",
                                    "EMAIL": "eva@gmail.com",
                                    "SZAML_CIM": "4231 Bököny Petőfi utca 8.",
                                    "SZUL_DAT": "1967-06-30"
                                },
                                {
                                    "USERNEV": "eva2",
                                    "NEV": "Perlinger Éva",
                                    "EMAIL": "eva2@gmail.com",
                                    "SZAML_CIM": "9653 Répcelak Bécsi utca 82.",
                                    "SZUL_DAT": "1971-08-19"
                                },
                                {
                                    "USERNEV": "EVAV",
                                    "NEV": "Viktor Éva",
                                    "EMAIL": "EVAV@gmail.com",
                                    "SZAML_CIM": "6913 Csanádpalota Arany János utca 3.",
                                    "SZUL_DAT": "1980-12-26"
                                },
                                {
                                    "USERNEV": "fruzsina4",
                                    "NEV": "Frank Fruzsina",
                                    "EMAIL": "fruzsina4@gmail.com",
                                    "SZAML_CIM": "9700 Szombathely Szabadság utca 95.",
                                    "SZUL_DAT": "1996-08-16"
                                },
                                {
                                    "USERNEV": "gabor1",
                                    "NEV": "Köves Gábor",
                                    "EMAIL": "gabor1@gmail.com",
                                    "SZAML_CIM": "6762 Sándorfalva Árpád utca 23.",
                                    "SZUL_DAT": "1973-07-15"
                                },
                                {
                                    "USERNEV": "gabor4",
                                    "NEV": "Telek Gábor",
                                    "EMAIL": "gábor.telek@mail.hu",
                                    "SZAML_CIM": "9071 Görbeháza Fő út 169.",
                                    "SZUL_DAT": "1987-03-15"
                                },
                                {
                                    "USERNEV": "gabriella1",
                                    "NEV": "Nagy Gabriella",
                                    "EMAIL": "gabriella1@gmail.com",
                                    "SZAML_CIM": "1077 Budapest Dob utca 1",
                                    "SZUL_DAT": "1982-11-01"
                                },
                                {
                                    "USERNEV": "gabriella10",
                                    "NEV": "Vida Gabriella",
                                    "EMAIL": "gabriella10@gmail.com",
                                    "SZAML_CIM": "2484 Agárd Arany János utca 3.",
                                    "SZUL_DAT": "1969-06-18"
                                },
                                {
                                    "USERNEV": "georgij",
                                    "NEV": "Nyíri Georgij",
                                    "EMAIL": "georgij.nyíri@mail.hu",
                                    "SZAML_CIM": "8391 Sármellék Grassalkovich út 10.",
                                    "SZUL_DAT": "1983-02-23"
                                },
                                {
                                    "USERNEV": "gusztav",
                                    "NEV": "Bárci Gusztáv",
                                    "EMAIL": "gusztav@gmail.com",
                                    "SZAML_CIM": "3643 Dédestapolcsány Endrődi Sándor utca 47.",
                                    "SZUL_DAT": "1967-02-25"
                                },
                                {
                                    "USERNEV": "GYONGYIK",
                                    "NEV": "Kornseé Gyöngyi",
                                    "EMAIL": "gyöngyi.kornseé@mail.hu",
                                    "SZAML_CIM": "8800 Nagykanizsa Fő út 60.",
                                    "SZUL_DAT": "1974-06-07"
                                },
                                {
                                    "USERNEV": "GYORGYO",
                                    "NEV": "Oroszi György",
                                    "EMAIL": "GYORGYO@gmail.com",
                                    "SZAML_CIM": "7220 Sarkad Dózsa György u. 1.",
                                    "SZUL_DAT": "1980-03-23"
                                },
                                {
                                    "USERNEV": "henrik3",
                                    "NEV": "Nádudvari Henrik",
                                    "EMAIL": "henrik.nádudvari@mail.hu",
                                    "SZAML_CIM": "1077 Budapest Tanácsköztársaság tér 1.",
                                    "SZUL_DAT": "1986-12-05"
                                },
                                {
                                    "USERNEV": "ilona3",
                                    "NEV": "Bosnyák Ilona",
                                    "EMAIL": "ilona3@gmail.com",
                                    "SZAML_CIM": "2483 Gárdony Posta köz 2.",
                                    "SZUL_DAT": "1990-08-06"
                                },
                                {
                                    "USERNEV": "imre",
                                    "NEV": "Búza Imre",
                                    "EMAIL": "imre.búza@mail.hu",
                                    "SZAML_CIM": "9181 Kimle Petőfi Sándor tér 1.",
                                    "SZUL_DAT": "1988-09-30"
                                },
                                {
                                    "USERNEV": "imre1",
                                    "NEV": "Papp Imre",
                                    "EMAIL": "imre.papp@mail.hu",
                                    "SZAML_CIM": "1077 Budapest Szolnoki út 8.",
                                    "SZUL_DAT": "1976-06-25"
                                },
                                {
                                    "USERNEV": "istvan",
                                    "NEV": "Soós István",
                                    "EMAIL": "istvan@gmail.com",
                                    "SZAML_CIM": "2370 Dabas Kossuth utca 27.",
                                    "SZUL_DAT": "1986-06-28"
                                },
                                {
                                    "USERNEV": "istvan1",
                                    "NEV": "Vizi István",
                                    "EMAIL": "istván.vizi@mail.hu",
                                    "SZAML_CIM": "7086 Ozora Rákóczi utca 1.",
                                    "SZUL_DAT": "1997-12-01"
                                },
                                {
                                    "USERNEV": "ISTVANV",
                                    "NEV": "Varga István",
                                    "EMAIL": "ISTVANV@gmail.com",
                                    "SZAML_CIM": "6320 Solt Hősök tere 11.",
                                    "SZUL_DAT": "1989-04-09"
                                },
                                {
                                    "USERNEV": "janos3",
                                    "NEV": "Harangozó János",
                                    "EMAIL": "janos3@gmail.com",
                                    "SZAML_CIM": "8700 Marcali Petőfi Sándor tér 1.",
                                    "SZUL_DAT": "1967-11-02"
                                },
                                {
                                    "USERNEV": "JANOSG",
                                    "NEV": "Giliga János",
                                    "EMAIL": "JANOSG@gmail.com",
                                    "SZAML_CIM": "3300 Eger Deák Ferenc út 5.",
                                    "SZUL_DAT": "1975-01-03"
                                },
                                {
                                    "USERNEV": "JANOSP",
                                    "NEV": "Pálinkás János",
                                    "EMAIL": "JANOSP@gmail.com",
                                    "SZAML_CIM": "5920 Csorvás Padragi út 158.",
                                    "SZUL_DAT": "1984-10-12"
                                },
                                {
                                    "USERNEV": "jozsef2",
                                    "NEV": "Vajda József",
                                    "EMAIL": "józsef.vajda@mail.hu",
                                    "SZAML_CIM": "6700 Szeged Baracsi László utca 14.",
                                    "SZUL_DAT": "1978-09-04"
                                },
                                {
                                    "USERNEV": "JOZSEFG",
                                    "NEV": "Gyuris József",
                                    "EMAIL": "józsef.gyuris@mail.hu",
                                    "SZAML_CIM": "2660 Balassagyarmat Petőfi utca 1/2.",
                                    "SZUL_DAT": "1975-05-26"
                                },
                                {
                                    "USERNEV": "JUDITH",
                                    "NEV": "Hídasi Judit",
                                    "EMAIL": "JUDITH@gmail.com",
                                    "SZAML_CIM": "2100 Gödöllő Fő út 169.",
                                    "SZUL_DAT": "1997-07-12"
                                },
                                {
                                    "USERNEV": "julia",
                                    "NEV": "Tóth Júlia",
                                    "EMAIL": "julia@gmail.com",
                                    "SZAML_CIM": "5310 Kisújszállás Árpád utca 4.",
                                    "SZUL_DAT": "1993-03-02"
                                },
                                {
                                    "USERNEV": "julia4",
                                    "NEV": "Nagy Júlia",
                                    "EMAIL": "julia4@gmail.com",
                                    "SZAML_CIM": "7000 Sárbogárd Jászai tér 21.",
                                    "SZUL_DAT": "1985-08-11"
                                },
                                {
                                    "USERNEV": "julianna4",
                                    "NEV": "Szabó Julianna",
                                    "EMAIL": "julianna4@gmail.com",
                                    "SZAML_CIM": "6700 Szeged Kossuth Lajos utca 6.",
                                    "SZUL_DAT": "1990-09-29"
                                },
                                {
                                    "USERNEV": "kata",
                                    "NEV": "Gondos Katalin",
                                    "EMAIL": "katalin.gondos@mail.hu",
                                    "SZAML_CIM": "8237 Tihany Kossuth Lajos utca 6.",
                                    "SZUL_DAT": "1968-06-22"
                                },
                                {
                                    "USERNEV": "katalin",
                                    "NEV": "Horváth Katalin",
                                    "EMAIL": "katalin.horváth@mail.hu",
                                    "SZAML_CIM": "2424 Előszállás Rákóczi út 200.",
                                    "SZUL_DAT": "1968-01-01"
                                },
                                {
                                    "USERNEV": "katalin4",
                                    "NEV": "Kertész Katalin",
                                    "EMAIL": "katalin4@gmail.com",
                                    "SZAML_CIM": "2800 Tatabánya Búvár utca 4.",
                                    "SZUL_DAT": "1986-04-13"
                                },
                                {
                                    "USERNEV": "kati",
                                    "NEV": "Zatykó Katalin",
                                    "EMAIL": "katalin.zatykó@mail.hu",
                                    "SZAML_CIM": "7511 Ötvöskónyi Kossuth Lajos utca 6.",
                                    "SZUL_DAT": "1995-05-01"
                                },
                                {
                                    "USERNEV": "katka",
                                    "NEV": "Kovács Katalin",
                                    "EMAIL": "katalin.kovács@mail.hu",
                                    "SZAML_CIM": "8254 Kővágóörs Petőfi utca 22.",
                                    "SZUL_DAT": "1975-03-31"
                                },
                                {
                                    "USERNEV": "klaudia2",
                                    "NEV": "Bakó Klaudia",
                                    "EMAIL": "klaudia.bakó@mail.hu",
                                    "SZAML_CIM": "8254 Kővágóörs Kossuth Lajos utca 6.",
                                    "SZUL_DAT": "1982-04-16"
                                },
                                {
                                    "USERNEV": "kornel4",
                                    "NEV": "Lukács Kornél",
                                    "EMAIL": "kornél.lukács@mail.hu",
                                    "SZAML_CIM": "2053 Herceghalom Bécsi utca 82.",
                                    "SZUL_DAT": "1975-09-30"
                                },
                                {
                                    "USERNEV": "kriszti",
                                    "NEV": "Horváth Krisztina",
                                    "EMAIL": "kriszti@gmail.com",
                                    "SZAML_CIM": "6060 Tiszakécske Árpád utca 4.",
                                    "SZUL_DAT": "1978-06-12"
                                },
                                {
                                    "USERNEV": "krisztian4",
                                    "NEV": "Czérna Krisztián",
                                    "EMAIL": "krisztián.czérna@mail.hu",
                                    "SZAML_CIM": "1107 Budapest Dózsa György utca 37.",
                                    "SZUL_DAT": "1970-08-01"
                                },
                                {
                                    "USERNEV": "krisztina",
                                    "NEV": "Szedlár Krisztina",
                                    "EMAIL": "krisztina@gmail.com",
                                    "SZAML_CIM": "6646 Tömörkény Arany János utca 1.",
                                    "SZUL_DAT": "1979-05-10"
                                },
                                {
                                    "USERNEV": "krisztina1",
                                    "NEV": "Bori Krisztina",
                                    "EMAIL": "krisztina.bori@mail.hu",
                                    "SZAML_CIM": "2115 Vácszentlászló Fő utca 47.",
                                    "SZUL_DAT": "1969-10-13"
                                },
                                {
                                    "USERNEV": "KRISZTINAG",
                                    "NEV": "Gyárfás Krisztina",
                                    "EMAIL": "KRISZTINAG@gmail.com",
                                    "SZAML_CIM": "6762 Sándorfalva Arany János utca 1.",
                                    "SZUL_DAT": "1987-09-19"
                                },
                                {
                                    "USERNEV": "lajos",
                                    "NEV": "Kiss Lajos",
                                    "EMAIL": "lajos.kiss@mail.hu",
                                    "SZAML_CIM": "1077 Budapest Dob utca 1",
                                    "SZUL_DAT": "1978-10-31"
                                },
                                {
                                    "USERNEV": "lala",
                                    "NEV": "Nagymihály Lajos",
                                    "EMAIL": "lajos.nagymihály@mail.hu",
                                    "SZAML_CIM": "8638 Balatonlelle Rákóczi út 200.",
                                    "SZUL_DAT": "1997-02-24"
                                },
                                {
                                    "USERNEV": "laszlo2",
                                    "NEV": "Móra László",
                                    "EMAIL": "lászló.móra@mail.hu",
                                    "SZAML_CIM": "9970 Szentgotthárd Petőfi utca 1/2.",
                                    "SZUL_DAT": "1975-02-19"
                                },
                                {
                                    "USERNEV": "LASZLON",
                                    "NEV": "Nagy László",
                                    "EMAIL": "lászló.nagy@mail.hu",
                                    "SZAML_CIM": "1173 Budapest Jászai tér 21.",
                                    "SZUL_DAT": "1969-04-12"
                                },
                                {
                                    "USERNEV": "mark",
                                    "NEV": "Kispál Márk",
                                    "EMAIL": "márk.kispál@mail.hu",
                                    "SZAML_CIM": "1086 Budapest Juhászföldi út 1.",
                                    "SZUL_DAT": "1996-01-23"
                                },
                                {
                                    "USERNEV": "marton",
                                    "NEV": "Kalacsi Márton",
                                    "EMAIL": "marton@gmail.com",
                                    "SZAML_CIM": "5137 Jászkisér Fő út 169.",
                                    "SZUL_DAT": "1989-06-24"
                                },
                                {
                                    "USERNEV": "matyas2",
                                    "NEV": "Botka Mátyás",
                                    "EMAIL": "matyas2@gmail.com",
                                    "SZAML_CIM": "2700 Cegléd Kossuth Lajos utca 6.",
                                    "SZUL_DAT": "1972-07-07"
                                },
                                {
                                    "USERNEV": "MATYASS",
                                    "NEV": "Szilágyi Mátyás",
                                    "EMAIL": "mátyás.szilágyi@mail.hu",
                                    "SZAML_CIM": "9023 Győr Kossuth Lajos utca 6.",
                                    "SZUL_DAT": "1975-03-22"
                                },
                                {
                                    "USERNEV": "MIHALYJ",
                                    "NEV": "Juhász Mihály",
                                    "EMAIL": "mihály.juhász@mail.hu",
                                    "SZAML_CIM": "6786 Ruzsa Rákóczi utca 1.",
                                    "SZUL_DAT": "1979-10-12"
                                },
                                {
                                    "USERNEV": "miklos2",
                                    "NEV": "Gondos Miklós",
                                    "EMAIL": "miklos2@gmail.com",
                                    "SZAML_CIM": "2100 Gödöllő Árpád utca 23.",
                                    "SZUL_DAT": "1995-10-07"
                                },
                                {
                                    "USERNEV": "MIKLOSB",
                                    "NEV": "Balla Miklós",
                                    "EMAIL": "miklós.balla@mail.hu",
                                    "SZAML_CIM": "4060 Balmazújváros Szent István utca 2.",
                                    "SZUL_DAT": "1979-02-16"
                                },
                                {
                                    "USERNEV": "MONIKAM",
                                    "NEV": "Mohos Mónika",
                                    "EMAIL": "mónika.mohos@mail.hu",
                                    "SZAML_CIM": "2241 Sülysáp Baracsi László utca 14.",
                                    "SZUL_DAT": "1974-10-01"
                                },
                                {
                                    "USERNEV": "NANDORF",
                                    "NEV": "Fő Nándor",
                                    "EMAIL": "nándor.fő@mail.hu",
                                    "SZAML_CIM": "5920 Csorvás Bécsi utca 82.",
                                    "SZUL_DAT": "1968-11-12"
                                },
                                {
                                    "USERNEV": "nikolett3",
                                    "NEV": "Horváth Nikolett",
                                    "EMAIL": "nikolett3@gmail.com",
                                    "SZAML_CIM": "1072 Budapest Arany János utca 1.",
                                    "SZUL_DAT": "1981-09-29"
                                },
                                {
                                    "USERNEV": "nikoletta4",
                                    "NEV": "Kő Nikoletta",
                                    "EMAIL": "nikoletta4@gmail.com",
                                    "SZAML_CIM": "5537 Zsadány Fő út 18.",
                                    "SZUL_DAT": "1972-01-10"
                                },
                                {
                                    "USERNEV": "NIKOLETTAT",
                                    "NEV": "Tatár Nikoletta",
                                    "EMAIL": "nikoletta.tatár@mail.hu",
                                    "SZAML_CIM": "1067 Budapest Győri utca 12.",
                                    "SZUL_DAT": "1997-10-19"
                                },
                                {
                                    "USERNEV": "norbert",
                                    "NEV": "Szűcs Norbert",
                                    "EMAIL": "norbert@gmail.com",
                                    "SZAML_CIM": "5071 Besenyszög Győri utca 12.",
                                    "SZUL_DAT": "1969-07-17"
                                },
                                {
                                    "USERNEV": "norbert2",
                                    "NEV": "Hegedűs Norbert",
                                    "EMAIL": "norbert.hegedűs@mail.hu",
                                    "SZAML_CIM": "2081 Piliscsaba Rendeki utca 21.",
                                    "SZUL_DAT": "1991-07-17"
                                },
                                {
                                    "USERNEV": "norbert4",
                                    "NEV": "Mile Norbert",
                                    "EMAIL": "norbert4@gmail.com",
                                    "SZAML_CIM": "3973 Cigánd Bajcsy-Zsilinszky utca 4.",
                                    "SZUL_DAT": "1983-06-15"
                                },
                                {
                                    "USERNEV": "norbert5",
                                    "NEV": "Béres Norbert",
                                    "EMAIL": "norbert5@gmail.com",
                                    "SZAML_CIM": "8640 Fonyód Bajcsy-Zsilinszky utca 4.",
                                    "SZUL_DAT": "1975-07-27"
                                },
                                {
                                    "USERNEV": "pal",
                                    "NEV": "Barabás Pál",
                                    "EMAIL": "pál.barabás@mail.hu",
                                    "SZAML_CIM": "1183 Budapest Szolnoki út 8.",
                                    "SZUL_DAT": "1968-02-06"
                                },
                                {
                                    "USERNEV": "peter1",
                                    "NEV": "Kozma Péter",
                                    "EMAIL": "peter1@gmail.com",
                                    "SZAML_CIM": "6913 Csanádpalota Központi telep 3.",
                                    "SZUL_DAT": "1976-03-18"
                                },
                                {
                                    "USERNEV": "peter2",
                                    "NEV": "Bozsó Péter",
                                    "EMAIL": "peter2@gmail.com",
                                    "SZAML_CIM": "4800 Vásárosnamény Zombori út 2/A",
                                    "SZUL_DAT": "1976-01-26"
                                },
                                {
                                    "USERNEV": "peter3",
                                    "NEV": "Szalai Péter",
                                    "EMAIL": "peter3@gmail.com",
                                    "SZAML_CIM": "1155 Budapest Arany János utca 3.",
                                    "SZUL_DAT": "1983-07-18"
                                },
                                {
                                    "USERNEV": "peter4",
                                    "NEV": "Bíró Péter",
                                    "EMAIL": "péter.bíró@mail.hu",
                                    "SZAML_CIM": "5137 Jászkisér Rákóczi utca 67.",
                                    "SZUL_DAT": "1985-09-01"
                                },
                                {
                                    "USERNEV": "polla",
                                    "NEV": "Palágyi Polla",
                                    "EMAIL": "polla@gmail.com",
                                    "SZAML_CIM": "2484 Agárd Fő út 18.",
                                    "SZUL_DAT": "1994-02-04"
                                },
                                {
                                    "USERNEV": "rajmond4",
                                    "NEV": "Rácz Rajmond",
                                    "EMAIL": "rajmond.rácz@mail.hu",
                                    "SZAML_CIM": "9155 Lébény Petőfi utca 1/2.",
                                    "SZUL_DAT": "1993-09-25"
                                },
                                {
                                    "USERNEV": "reka4",
                                    "NEV": "Szikszai Réka",
                                    "EMAIL": "réka.szikszai@mail.hu",
                                    "SZAML_CIM": "8254 Kővágóörs Templom utca 73.",
                                    "SZUL_DAT": "1969-11-27"
                                },
                                {
                                    "USERNEV": "RENATAK",
                                    "NEV": "Kardos Renáta",
                                    "EMAIL": "renáta.kardos@mail.hu",
                                    "SZAML_CIM": "7086 Ozora Bécsi utca 82.",
                                    "SZUL_DAT": "1988-05-17"
                                },
                                {
                                    "USERNEV": "RENATAS",
                                    "NEV": "Szirmai Renáta",
                                    "EMAIL": "RENATAS@gmail.com",
                                    "SZAML_CIM": "2053 Herceghalom Kossuth utca 27.",
                                    "SZUL_DAT": "1991-03-26"
                                },
                                {
                                    "USERNEV": "robert2",
                                    "NEV": "Patay Róbert",
                                    "EMAIL": "robert2@gmail.com",
                                    "SZAML_CIM": "2370 Dabas Rákóczi utca 21.",
                                    "SZUL_DAT": "1977-01-08"
                                },
                                {
                                    "USERNEV": "ROBERTP",
                                    "NEV": "Pásztor Róbert",
                                    "EMAIL": "ROBERTP@gmail.com",
                                    "SZAML_CIM": "5137 Jászkisér Ady Endre út 27.",
                                    "SZUL_DAT": "1972-05-16"
                                },
                                {
                                    "USERNEV": "roland",
                                    "NEV": "Tóth Roland",
                                    "EMAIL": "roland@gmail.com",
                                    "SZAML_CIM": "2000 Szentendre Fő út 169.",
                                    "SZUL_DAT": "1968-03-21"
                                },
                                {
                                    "USERNEV": "roland1",
                                    "NEV": "Ferencz Roland",
                                    "EMAIL": "roland.ferencz@mail.hu",
                                    "SZAML_CIM": "2424 Előszállás Fő út 169.",
                                    "SZUL_DAT": "1985-12-31"
                                },
                                {
                                    "USERNEV": "roza2",
                                    "NEV": "Bucskó Róza",
                                    "EMAIL": "roza2@gmail.com",
                                    "SZAML_CIM": "5661 Újkígyós Arany János utca 3.",
                                    "SZUL_DAT": "1988-12-26"
                                },
                                {
                                    "USERNEV": "sandor",
                                    "NEV": "Karasz Sándor",
                                    "EMAIL": "sandor@gmail.com",
                                    "SZAML_CIM": "8283 Káptalantóti Kossuth Lajos utca 1/a.",
                                    "SZUL_DAT": "1970-01-27"
                                },
                                {
                                    "USERNEV": "sandor3",
                                    "NEV": "Farkas Sándor",
                                    "EMAIL": "sándor.farkas@mail.hu",
                                    "SZAML_CIM": "8640 Fonyód Tanácsköztársaság tér 1.",
                                    "SZUL_DAT": "1989-01-27"
                                },
                                {
                                    "USERNEV": "sandor4",
                                    "NEV": "Nagy Sándor",
                                    "EMAIL": "sandor4@gmail.com",
                                    "SZAML_CIM": "4600 Kisvárda Fő utca 47.",
                                    "SZUL_DAT": "1997-06-11"
                                },
                                {
                                    "USERNEV": "sara",
                                    "NEV": "Farkas Sára",
                                    "EMAIL": "sára.farkas@mail.hu",
                                    "SZAML_CIM": "5940 Tótkomlós Felszabadulás utca 32.",
                                    "SZUL_DAT": "1973-04-05"
                                },
                                {
                                    "USERNEV": "SEBASTIANF",
                                    "NEV": "Foltényi Sebastián",
                                    "EMAIL": "SEBASTIANF@gmail.com",
                                    "SZAML_CIM": "7960 Sellye Grassalkovich út 10.",
                                    "SZUL_DAT": "1992-09-09"
                                },
                                {
                                    "USERNEV": "sebestyen",
                                    "NEV": "Rab Sebestyén",
                                    "EMAIL": "sebestyen@gmail.com",
                                    "SZAML_CIM": "7130 Tolna Központi telep 3.",
                                    "SZUL_DAT": "1992-03-03"
                                },
                                {
                                    "USERNEV": "SZABOLCSM",
                                    "NEV": "Miklós Szabolcs",
                                    "EMAIL": "szabolcs.miklós@mail.hu",
                                    "SZAML_CIM": "1102 Budapest Fő út 169.",
                                    "SZUL_DAT": "1980-08-11"
                                },
                                {
                                    "USERNEV": "SZILARDS",
                                    "NEV": "Szalai Szilárd",
                                    "EMAIL": "szilárd.szalai@mail.hu",
                                    "SZAML_CIM": "1077 Budapest Fő út 18.",
                                    "SZUL_DAT": "1967-09-28"
                                },
                                {
                                    "USERNEV": "szilvia1",
                                    "NEV": "Tari Szilvia",
                                    "EMAIL": "szilvia.tari@mail.hu",
                                    "SZAML_CIM": "6080 Szabadszállás Bécsi utca 82.",
                                    "SZUL_DAT": "1971-03-09"
                                },
                                {
                                    "USERNEV": "tamas",
                                    "NEV": "Antal Tamás",
                                    "EMAIL": "tamás.antal@mail.hu",
                                    "SZAML_CIM": "4440 Tiszavasvári Posta köz 2.",
                                    "SZUL_DAT": "1984-09-05"
                                },
                                {
                                    "USERNEV": "TAMASF",
                                    "NEV": "Fényes Tamás",
                                    "EMAIL": "TAMASF@gmail.com",
                                    "SZAML_CIM": "9023 Győr Arany János utca 1.",
                                    "SZUL_DAT": "1997-11-06"
                                },
                                {
                                    "USERNEV": "tihamer",
                                    "NEV": "Kazy Tihamér",
                                    "EMAIL": "tihamér.kazy@mail.hu",
                                    "SZAML_CIM": "2370 Dabas Fő utca 60.",
                                    "SZUL_DAT": "1991-07-05"
                                },
                                {
                                    "USERNEV": "timea2",
                                    "NEV": "Dusha Tímea",
                                    "EMAIL": "tímea.dusha@mail.hu",
                                    "SZAML_CIM": "5920 Csorvás Kossuth utca 8.",
                                    "SZUL_DAT": "1975-08-22"
                                },
                                {
                                    "USERNEV": "tunde",
                                    "NEV": "Turcsik Tünde",
                                    "EMAIL": "tunde@gmail.com",
                                    "SZAML_CIM": "7130 Tolna Fő út 122.",
                                    "SZUL_DAT": "1974-02-12"
                                },
                                {
                                    "USERNEV": "valentin",
                                    "NEV": "Feró Valentin",
                                    "EMAIL": "valentin.feró@mail.hu",
                                    "SZAML_CIM": "3895 Gönc Búvár utca 4.",
                                    "SZUL_DAT": "1986-01-09"
                                },
                                {
                                    "USERNEV": "veronika4",
                                    "NEV": "Tankó Veronika",
                                    "EMAIL": "veronika4@gmail.com",
                                    "SZAML_CIM": "6412 Balotaszállás Rendeki utca 21.",
                                    "SZUL_DAT": "1983-08-28"
                                },
                                {
                                    "USERNEV": "VIKTORIAU",
                                    "NEV": "Urbán Viktoria",
                                    "EMAIL": "viktoria.urbán@mail.hu",
                                    "SZAML_CIM": "3860 Encs Népboltsor  2.",
                                    "SZUL_DAT": "1996-05-03"
                                },
                                {
                                    "USERNEV": "VIKTORK",
                                    "NEV": "Keresztúri Viktor",
                                    "EMAIL": "viktor.keresztúri@mail.hu",
                                    "SZAML_CIM": "2532 Tokodaltáró Nagy Lajos tér 4.",
                                    "SZUL_DAT": "1989-05-05"
                                },
                                {
                                    "USERNEV": "vivien3",
                                    "NEV": "Boros Vivien",
                                    "EMAIL": "vivien3@gmail.com",
                                    "SZAML_CIM": "2117 Isaszeg Fő út 122.",
                                    "SZUL_DAT": "1991-07-01"
                                },
                                {
                                    "USERNEV": "zoltan",
                                    "NEV": "Fodor Zoltán",
                                    "EMAIL": "zoltán.fodor@mail.hu",
                                    "SZAML_CIM": "3441 Mezőkeresztes Fő utca 23.",
                                    "SZUL_DAT": "1979-11-25"
                                },
                                {
                                    "USERNEV": "zoltan4",
                                    "NEV": "Barna Zoltán",
                                    "EMAIL": "zoltan4@gmail.com",
                                    "SZAML_CIM": "8313 Balatongyörök Jászai tér 21.",
                                    "SZUL_DAT": "1986-05-20"
                                },
                                {
                                    "USERNEV": "ZOLTANP",
                                    "NEV": "Pintér Zoltán",
                                    "EMAIL": "zoltán.pintér@mail.hu",
                                    "SZAML_CIM": "6050 Lajosmizse Fő út 18.",
                                    "SZUL_DAT": "1977-06-07"
                                },
                                {
                                    "USERNEV": "ZOLTANT",
                                    "NEV": "Tóth Zoltán",
                                    "EMAIL": "zoltán.tóth@mail.hu",
                                    "SZAML_CIM": "4244 Újfehértó Posta köz 2.",
                                    "SZUL_DAT": "1985-12-14"
                                },
                                {
                                    "USERNEV": "zsofi1",
                                    "NEV": "Molnár Zsófi",
                                    "EMAIL": "zsofi1@gmail.com",
                                    "SZAML_CIM": "2730 Albertirsa Árpád utca 23.",
                                    "SZUL_DAT": "1983-11-17"
                                },
                                {
                                    "USERNEV": "zsolt1",
                                    "NEV": "Pulai Zsolt",
                                    "EMAIL": "zsolt.pulai@mail.hu",
                                    "SZAML_CIM": "8391 Sármellék Fő utca 60.",
                                    "SZUL_DAT": "1988-05-27"
                                },
                                {
                                    "USERNEV": "ZSOLTJ",
                                    "NEV": "Józsa Zsolt",
                                    "EMAIL": "ZSOLTJ@gmail.com",
                                    "SZAML_CIM": "8315 Gyenesdiás Bajcsy-Zsilinszky utca 4.",
                                    "SZUL_DAT": "1983-09-29"
                                },
                                {
                                    "USERNEV": "zsuzsa",
                                    "NEV": "Pusztai Zsuzsanna",
                                    "EMAIL": "zsuzsanna@gmail.com",
                                    "SZAML_CIM": "6783 Ásotthalom Badacsonyi utca 12.",
                                    "SZUL_DAT": "1980-09-17"
                                },
                                {
                                    "USERNEV": "ZSUZSAV",
                                    "NEV": "Vajda Zsuzsa",
                                    "EMAIL": "zsuzsa.vajda@mail.hu",
                                    "SZAML_CIM": "6786 Ruzsa Kossuth utca 77.",
                                    "SZUL_DAT": "1976-12-11"
                                },
                                {
                                    "USERNEV": "JOZSEFG",
                                    "NEV": "Gyuris József",
                                    "EMAIL": "józsef.gyuris@mail.hu",
                                    "SZAML_CIM": "2660 Balassagyarmat Petőfi utca 1/2.",
                                    "SZUL_DAT": "1975-05-26"
                                },
                                {
                                    "USERNEV": "PETERB",
                                    "NEV": "Berendi Péter",
                                    "EMAIL": "péter.berendi@mail.hu",
                                    "SZAML_CIM": "3980 Sátoraljaújhely Vasút utca 4/10.",
                                    "SZUL_DAT": "1969-01-01"
                                },
                                {
                                    "USERNEV": "tunde",
                                    "NEV": "Turcsik Tünde",
                                    "EMAIL": "tunde@gmail.com",
                                    "SZAML_CIM": "7130 Tolna Fő út 122.",
                                    "SZUL_DAT": "1974-02-12"
                                }
                            ]
                        },
                        "text/html": [
                            "<table>",
                            "<tr><th>USERNEV</th><th>NEV</th><th>EMAIL</th><th>SZAML_CIM</th><th>SZUL_DAT</th></tr>",
                            "<tr><td>adam4</td><td>Bieniek Ádám</td><td>ádám.bieniek@mail.hu</td><td>8630 Balatonboglár Juhászföldi út 1.</td><td>1976-08-01</td></tr>",
                            "<tr><td>agnes</td><td>Lengyel Ágnes</td><td>agnes@gmail.com</td><td>5200 Törökszentmiklós Deák Ferenc út 5.</td><td>1979-12-10</td></tr>",
                            "<tr><td>AGNESK</td><td>Kovács Ágnes</td><td>AGNESK@gmail.com</td><td>1084 Budapest Endrődi Sándor utca 47.</td><td>1988-10-02</td></tr>",
                            "<tr><td>akos</td><td>Bíró Ákos</td><td>ákos.bíró@mail.hu</td><td>9023 Győr Kossuth Lajos utca 47/b.</td><td>1982-04-24</td></tr>",
                            "<tr><td>aladar</td><td>Dunai Aladár</td><td>aladár.dunai@mail.hu</td><td>5931 Nagyszénás Árpád utca 23.</td><td>1980-11-01</td></tr>",
                            "<tr><td>alexandra</td><td>Bagóczki Alexandra</td><td>alexandra.bagóczki@mail.hu</td><td>2381 Táborfalva Petőfi utca 1/2.</td><td>1992-03-25</td></tr>",
                            "<tr><td>andi</td><td>Maródi Andrea</td><td>andrea.maródi@mail.hu</td><td>5465 Cserkeszőlő Árpád utca 4.</td><td>1968-05-07</td></tr>",
                            "<tr><td>andras2</td><td>Tóth András</td><td>andrás.tóth@mail.hu</td><td>4071 Egyek Petőfi utca 30.</td><td>1997-10-31</td></tr>",
                            "<tr><td>andras21</td><td>Molnár András</td><td>andrás.molnár@mail.hu</td><td>7900 Szigetvár Rákóczi utca 67.</td><td>1977-11-16</td></tr>",
                            "<tr><td>andras3</td><td>Vígh András</td><td>andrás.vígh@mail.hu</td><td>1118 Budapest Arany János utca 1.</td><td>1971-04-02</td></tr>",
                            "<tr><td>andras4</td><td>Back András</td><td>andras4@gmail.com</td><td>3783 Edelény Fő út 169.</td><td>1984-04-07</td></tr>",
                            "<tr><td>andras41</td><td>Komjáti András</td><td>andras41@gmail.com</td><td>5065 Nagykörű Kossuth út 24.</td><td>1997-10-25</td></tr>",
                            "<tr><td>ANDRASE</td><td>Erdei András</td><td>ANDRASE@gmail.com</td><td>5071 Besenyszög Szolnoki út 8.</td><td>1997-05-29</td></tr>",
                            "<tr><td>andrea</td><td>Kiss Andrea</td><td>andrea.kiss@mail.hu</td><td>1113 Budapest Petőfi Sándor utca 87.</td><td>1993-03-25</td></tr>",
                            "<tr><td>andrea4</td><td>Neizer Andrea</td><td>andrea4@gmail.com</td><td>1124 Budapest Kiss u. 8.</td><td>1981-05-17</td></tr>",
                            "<tr><td>ANDREAT</td><td>Tornyos Andrea</td><td>ANDREAT@gmail.com</td><td>6131 Szank Bécsi utca 82.</td><td>1986-11-14</td></tr>",
                            "<tr><td>anett3</td><td>Pivarcsi Anett</td><td>anett.pivarcsi@mail.hu</td><td>1149 Budapest Fő út 60.</td><td>1967-01-03</td></tr>",
                            "<tr><td>aniko</td><td>Tóth Anikó</td><td>aniko@gmail.com</td><td>2085 Pilisvörösvár Deák Ferenc út 5.</td><td>1973-06-03</td></tr>",
                            "<tr><td>aniko4</td><td>Böröcz Anikó</td><td>aniko4@gmail.com</td><td>2484 Agárd Petőfi Sándor tér 1.</td><td>1978-03-26</td></tr>",
                            "<tr><td>ANIKOS</td><td>Simon Anikó</td><td>ANIKOS@gmail.com</td><td>5137 Jászkisér Bécsi utca 82.</td><td>1988-12-14</td></tr>",
                            "<tr><td>anita</td><td>Hamvay-Kovács Anita</td><td>anita.hamvay-kovács@mail.hu</td><td>7220 Sarkad Táncsics utca 19.</td><td>1971-03-20</td></tr>",
                            "<tr><td>ANNAMARIAR</td><td>Regős Annamária</td><td>ANNAMARIAR@gmail.com</td><td>8283 Káptalantóti Petőfi Sándor tér 1.</td><td>1977-09-26</td></tr>",
                            "<tr><td>aron2</td><td>Jakab Áron</td><td>aron2@gmail.com</td><td>7133 Fadd Bajcsy-Zsilinszky utca 4.</td><td>1971-04-26</td></tr>",
                            "<tr><td>ARONK</td><td>Kelemen Áron</td><td>áron.kelemen@mail.hu</td><td>8200 Veszprém Petőfi utca 8.</td><td>1989-08-10</td></tr>",
                            "<tr><td>arpad2</td><td>Ötvös Árpád</td><td>árpád.ötvös@mail.hu</td><td>2600 Vác Padragi út 158.</td><td>1990-06-08</td></tr>",
                            "<tr><td>ARPADH</td><td>Horváth Árpád</td><td>árpád.horváth@mail.hu</td><td>7349 Szászvár Dózsa György u. 1.</td><td>1990-05-18</td></tr>",
                            "<tr><td>ARPADM</td><td>Móricz Árpád</td><td>árpád.móricz@mail.hu</td><td>3910 Tokaj Rákóczi utca 67.</td><td>1986-04-20</td></tr>",
                            "<tr><td>attila1</td><td>Gulyás Attila</td><td>attila.gulyás@mail.hu</td><td>3881 Abaújszántó Szolnoki út 8.</td><td>1982-08-16</td></tr>",
                            "<tr><td>ATTILAO</td><td>Opra Attila</td><td>ATTILAO@gmail.com</td><td>8283 Káptalantóti Rákóczi út 200.</td><td>1995-05-08</td></tr>",
                            "<tr><td>balazs1</td><td>Bozsik Balázs</td><td>balázs.bozsik@mail.hu</td><td>2300 Ráckeve Bécsi utca 82.</td><td>1992-11-03</td></tr>",
                            "<tr><td>balazs2</td><td>Szűcs Balázs</td><td>balázs.szűcs@mail.hu</td><td>3170 Szécsény Szabadság utca 95.</td><td>1984-10-31</td></tr>",
                            "<tr><td>balazs3</td><td>Bakódy Balázs</td><td>balazs3@gmail.com</td><td>2131 Göd Arany János utca 1.</td><td>1986-09-09</td></tr>",
                            "<tr><td>balint</td><td>Horváth Bálint</td><td>balint@gmail.com</td><td>6646 Tömörkény Endrődi Sándor utca 47.</td><td>1996-03-17</td></tr>",
                            "<tr><td>balint1</td><td>Molnár Bálint</td><td>balint1@gmail.com</td><td>9181 Kimle Fő út 169.</td><td>1989-08-24</td></tr>",
                            "<tr><td>balu</td><td>Endresz Bálint</td><td>bálint.endresz@mail.hu</td><td>3973 Cigánd Fő út 169.</td><td>1976-08-01</td></tr>",
                            "<tr><td>beata4</td><td>Bagi Beáta</td><td>beáta.bagi@mail.hu</td><td>8477 Tüskevár Felszabadulás utca 32.</td><td>1994-03-19</td></tr>",
                            "<tr><td>BEATRIXK</td><td>Kerényi Beatrix</td><td>beatrix.kerényi@mail.hu</td><td>7396 Magyarszék Kossuth Lajos utca 47/b.</td><td>1972-04-06</td></tr>",
                            "<tr><td>BEATRIXS</td><td>Szekendi Beatrix</td><td>beatrix.szekendi@mail.hu</td><td>4060 Balmazújváros Jászai tér 21.</td><td>1981-04-06</td></tr>",
                            "<tr><td>BELAF</td><td>Farkas Béla</td><td>BELAF@gmail.com</td><td>5530 Vésztő Petőfi Sándor utca 3.</td><td>1995-02-24</td></tr>",
                            "<tr><td>bence</td><td>Győrffy Bence</td><td>bence@gmail.com</td><td>6900 Makó Árpád utca 23.</td><td>1987-07-09</td></tr>",
                            "<tr><td>BENCEB</td><td>Bajusz Bence</td><td>bence.bajusz@mail.hu</td><td>8391 Sármellék Fő utca 56.</td><td>1973-06-21</td></tr>",
                            "<tr><td>bernadett1</td><td>Simon Bernadett</td><td>bernadett1@gmail.com</td><td>2300 Ráckeve Fő utca 108.</td><td>1984-10-13</td></tr>",
                            "<tr><td>bernadett2</td><td>Kovács Bernadett</td><td>bernadett.kovács@mail.hu</td><td>4200 Hajdúszoboszló Fő út 122.</td><td>1996-08-20</td></tr>",
                            "<tr><td>BERNADETTO</td><td>Orbán Bernadett</td><td>bernadett.orbán@mail.hu</td><td>5085 Rákóczifalva Arany János utca 1.</td><td>1987-12-07</td></tr>",
                            "<tr><td>bertalan</td><td>Csiger Bertalan</td><td>bertalan@gmail.com</td><td>1192 Budapest Fő út 169.</td><td>1977-10-15</td></tr>",
                            "<tr><td>brigitta</td><td>Székely Brigitta</td><td>brigitta.székely@mail.hu</td><td>2462 Martonvásár Fő utca 47.</td><td>1978-09-13</td></tr>",
                            "<tr><td>brigitta3</td><td>Pataki Brigitta</td><td>brigitta.pataki@mail.hu</td><td>2730 Albertirsa Rendeki utca 21.</td><td>1991-05-23</td></tr>",
                            "<tr><td>csongor3</td><td>Nagymihály Csongor</td><td>csongor.nagymihály@mail.hu</td><td>9181 Kimle Deák Ferenc út 5.</td><td>1984-03-05</td></tr>",
                            "<tr><td>dani</td><td>Vörös Dániel</td><td>daniel@gmail.com</td><td>7150 Bonyhád Dózsa György u. 1.</td><td>1986-10-14</td></tr>",
                            "<tr><td>daniel</td><td>Rácz Dániel</td><td>dániel.rácz@mail.hu</td><td>9181 Kimle Szabadság tér 9.</td><td>1978-11-28</td></tr>",
                            "<tr><td>daniel1</td><td>Keszler Dániel</td><td>dániel.keszler@mail.hu</td><td>3580 Tiszaújváros Kossuth Lajos utca 6.</td><td>1969-07-16</td></tr>",
                            "<tr><td>david</td><td>Ambrus Dávid</td><td>david@gmail.com</td><td>1149 Budapest Fő út 18.</td><td>1974-02-11</td></tr>",
                            "<tr><td>david1</td><td>Sobják Dávid</td><td>david1@gmail.com</td><td>5083 Kengyel Arany János utca 3.</td><td>1970-08-16</td></tr>",
                            "<tr><td>debora</td><td>Barna Debóra</td><td>debóra.barna@mail.hu</td><td>1155 Budapest Fő út 169.</td><td>1976-10-14</td></tr>",
                            "<tr><td>denes</td><td>Tömböly Dénes</td><td>denes@gmail.com</td><td>2400 Dunaújváros Kossuth út 39.</td><td>1975-03-14</td></tr>",
                            "<tr><td>dora3</td><td>Sarodi Dóra</td><td>dóra.sarodi@mail.hu</td><td>2855 Bokod Fő út 18.</td><td>1995-05-18</td></tr>",
                            "<tr><td>edit</td><td>Bittmann Edit</td><td>edit.bittmann@mail.hu</td><td>6077 Orgovány Fő utca 60.</td><td>1984-04-20</td></tr>",
                            "<tr><td>emese</td><td>Kuruc Emese</td><td>emese.kuruc@mail.hu</td><td>6700 Szeged Rákóczi utca 67.</td><td>1989-08-10</td></tr>",
                            "<tr><td>eszter2</td><td>Balogh Eszter</td><td>eszter.balogh@mail.hu</td><td>6760 Kistelek Kossuth utca 11.</td><td>1998-01-31</td></tr>",
                            "<tr><td>eszter4</td><td>Fülöp Eszter</td><td>eszter.fülöp@mail.hu</td><td>3643 Dédestapolcsány Kossuth Lajos utca 47/b.</td><td>1993-06-28</td></tr>",
                            "<tr><td>ESZTERE</td><td>Érsek Eszter</td><td>eszter.érsek@mail.hu</td><td>6785 Pusztamérges Kossuth Lajos utca 6.</td><td>1978-08-28</td></tr>",
                            "<tr><td>eva2</td><td>Perlinger Éva</td><td>eva2@gmail.com</td><td>9653 Répcelak Bécsi utca 82.</td><td>1971-08-19</td></tr>",
                            "<tr><td>EVAV</td><td>Viktor Éva</td><td>EVAV@gmail.com</td><td>6913 Csanádpalota Arany János utca 3.</td><td>1980-12-26</td></tr>",
                            "<tr><td>ferenc1</td><td>Orosz Ferenc</td><td>ferenc.orosz@mail.hu</td><td>5061 Tiszasüly Arany János utca 3.</td><td>1983-10-08</td></tr>",
                            "<tr><td>fruzsina4</td><td>Frank Fruzsina</td><td>fruzsina4@gmail.com</td><td>9700 Szombathely Szabadság utca 95.</td><td>1996-08-16</td></tr>",
                            "<tr><td>gabor1</td><td>Köves Gábor</td><td>gabor1@gmail.com</td><td>6762 Sándorfalva Árpád utca 23.</td><td>1973-07-15</td></tr>",
                            "<tr><td>gabriella1</td><td>Nagy Gabriella</td><td>gabriella1@gmail.com</td><td>1077 Budapest Dob utca 1</td><td>1982-11-01</td></tr>",
                            "<tr><td>georgij</td><td>Nyíri Georgij</td><td>georgij.nyíri@mail.hu</td><td>8391 Sármellék Grassalkovich út 10.</td><td>1983-02-23</td></tr>",
                            "<tr><td>gusztav</td><td>Bárci Gusztáv</td><td>gusztav@gmail.com</td><td>3643 Dédestapolcsány Endrődi Sándor utca 47.</td><td>1967-02-25</td></tr>",
                            "<tr><td>GYONGYIK</td><td>Kornseé Gyöngyi</td><td>gyöngyi.kornseé@mail.hu</td><td>8800 Nagykanizsa Fő út 60.</td><td>1974-06-07</td></tr>",
                            "<tr><td>GYORGYO</td><td>Oroszi György</td><td>GYORGYO@gmail.com</td><td>7220 Sarkad Dózsa György u. 1.</td><td>1980-03-23</td></tr>",
                            "<tr><td>IBOLYAA</td><td>Andor Ibolya</td><td>ibolya.andor@mail.hu</td><td>9023 Győr Posta köz 2.</td><td>1983-11-27</td></tr>",
                            "<tr><td>ilona3</td><td>Bosnyák Ilona</td><td>ilona3@gmail.com</td><td>2483 Gárdony Posta köz 2.</td><td>1990-08-06</td></tr>",
                            "<tr><td>imre</td><td>Búza Imre</td><td>imre.búza@mail.hu</td><td>9181 Kimle Petőfi Sándor tér 1.</td><td>1988-09-30</td></tr>",
                            "<tr><td>imre1</td><td>Papp Imre</td><td>imre.papp@mail.hu</td><td>1077 Budapest Szolnoki út 8.</td><td>1976-06-25</td></tr>",
                            "<tr><td>istvan</td><td>Soós István</td><td>istvan@gmail.com</td><td>2370 Dabas Kossuth utca 27.</td><td>1986-06-28</td></tr>",
                            "<tr><td>istvan1</td><td>Vizi István</td><td>istván.vizi@mail.hu</td><td>7086 Ozora Rákóczi utca 1.</td><td>1997-12-01</td></tr>",
                            "<tr><td>janos3</td><td>Harangozó János</td><td>janos3@gmail.com</td><td>8700 Marcali Petőfi Sándor tér 1.</td><td>1967-11-02</td></tr>",
                            "<tr><td>JANOSG</td><td>Giliga János</td><td>JANOSG@gmail.com</td><td>3300 Eger Deák Ferenc út 5.</td><td>1975-01-03</td></tr>",
                            "<tr><td>JANOSP</td><td>Pálinkás János</td><td>JANOSP@gmail.com</td><td>5920 Csorvás Padragi út 158.</td><td>1984-10-12</td></tr>",
                            "<tr><td>jozsef</td><td>Gergely József</td><td>jozsef@gmail.com</td><td>6050 Lajosmizse Fő út 18.</td><td>1985-11-01</td></tr>",
                            "<tr><td>jozsef2</td><td>Vajda József</td><td>józsef.vajda@mail.hu</td><td>6700 Szeged Baracsi László utca 14.</td><td>1978-09-04</td></tr>",
                            "<tr><td>JOZSEFG</td><td>Gyuris József</td><td>józsef.gyuris@mail.hu</td><td>2660 Balassagyarmat Petőfi utca 1/2.</td><td>1975-05-26</td></tr>",
                            "<tr><td>JUDITH</td><td>Hídasi Judit</td><td>JUDITH@gmail.com</td><td>2100 Gödöllő Fő út 169.</td><td>1997-07-12</td></tr>",
                            "<tr><td>julia</td><td>Tóth Júlia</td><td>julia@gmail.com</td><td>5310 Kisújszállás Árpád utca 4.</td><td>1993-03-02</td></tr>",
                            "<tr><td>julia4</td><td>Nagy Júlia</td><td>julia4@gmail.com</td><td>7000 Sárbogárd Jászai tér 21.</td><td>1985-08-11</td></tr>",
                            "<tr><td>julianna4</td><td>Szabó Julianna</td><td>julianna4@gmail.com</td><td>6700 Szeged Kossuth Lajos utca 6.</td><td>1990-09-29</td></tr>",
                            "<tr><td>kata</td><td>Gondos Katalin</td><td>katalin.gondos@mail.hu</td><td>8237 Tihany Kossuth Lajos utca 6.</td><td>1968-06-22</td></tr>",
                            "<tr><td>katalin</td><td>Horváth Katalin</td><td>katalin.horváth@mail.hu</td><td>2424 Előszállás Rákóczi út 200.</td><td>1968-01-01</td></tr>",
                            "<tr><td>katalin4</td><td>Kertész Katalin</td><td>katalin4@gmail.com</td><td>2800 Tatabánya Búvár utca 4.</td><td>1986-04-13</td></tr>",
                            "<tr><td>kati</td><td>Zatykó Katalin</td><td>katalin.zatykó@mail.hu</td><td>7511 Ötvöskónyi Kossuth Lajos utca 6.</td><td>1995-05-01</td></tr>",
                            "<tr><td>katka</td><td>Kovács Katalin</td><td>katalin.kovács@mail.hu</td><td>8254 Kővágóörs Petőfi utca 22.</td><td>1975-03-31</td></tr>",
                            "<tr><td>klaudia2</td><td>Bakó Klaudia</td><td>klaudia.bakó@mail.hu</td><td>8254 Kővágóörs Kossuth Lajos utca 6.</td><td>1982-04-16</td></tr>",
                            "<tr><td>kornel4</td><td>Lukács Kornél</td><td>kornél.lukács@mail.hu</td><td>2053 Herceghalom Bécsi utca 82.</td><td>1975-09-30</td></tr>",
                            "<tr><td>kriszti</td><td>Horváth Krisztina</td><td>kriszti@gmail.com</td><td>6060 Tiszakécske Árpád utca 4.</td><td>1978-06-12</td></tr>",
                            "<tr><td>krisztian4</td><td>Czérna Krisztián</td><td>krisztián.czérna@mail.hu</td><td>1107 Budapest Dózsa György utca 37.</td><td>1970-08-01</td></tr>",
                            "<tr><td>KRISZTIANM</td><td>Mogyródi Krisztián</td><td>KRISZTIANM@gmail.com</td><td>9155 Lébény Jászai tér 21.</td><td>1968-05-27</td></tr>",
                            "<tr><td>krisztina</td><td>Szedlár Krisztina</td><td>krisztina@gmail.com</td><td>6646 Tömörkény Arany János utca 1.</td><td>1979-05-10</td></tr>",
                            "<tr><td>krisztina1</td><td>Bori Krisztina</td><td>krisztina.bori@mail.hu</td><td>2115 Vácszentlászló Fő utca 47.</td><td>1969-10-13</td></tr>",
                            "<tr><td>KRISZTINAG</td><td>Gyárfás Krisztina</td><td>KRISZTINAG@gmail.com</td><td>6762 Sándorfalva Arany János utca 1.</td><td>1987-09-19</td></tr>",
                            "<tr><td>lajos</td><td>Kiss Lajos</td><td>lajos.kiss@mail.hu</td><td>1077 Budapest Dob utca 1</td><td>1978-10-31</td></tr>",
                            "<tr><td>lala</td><td>Nagymihály Lajos</td><td>lajos.nagymihály@mail.hu</td><td>8638 Balatonlelle Rákóczi út 200.</td><td>1997-02-24</td></tr>",
                            "<tr><td>laszlo1</td><td>Farkas László</td><td>lászló.farkas@mail.hu</td><td>5200 Törökszentmiklós Rendeki utca 21.</td><td>1967-10-30</td></tr>",
                            "<tr><td>laszlo2</td><td>Móra László</td><td>lászló.móra@mail.hu</td><td>9970 Szentgotthárd Petőfi utca 1/2.</td><td>1975-02-19</td></tr>",
                            "<tr><td>LASZLOA</td><td>Antal László</td><td>lászló.antal@mail.hu</td><td>2484 Agárd Bécsi utca 82.</td><td>1969-06-29</td></tr>",
                            "<tr><td>LASZLON</td><td>Nagy László</td><td>lászló.nagy@mail.hu</td><td>1173 Budapest Jászai tér 21.</td><td>1969-04-12</td></tr>",
                            "<tr><td>maria1</td><td>Baráth Mária</td><td>mária.baráth@mail.hu</td><td>1047 Budapest Posta köz 2.</td><td>1995-11-19</td></tr>",
                            "<tr><td>mark</td><td>Kispál Márk</td><td>márk.kispál@mail.hu</td><td>1086 Budapest Juhászföldi út 1.</td><td>1996-01-23</td></tr>",
                            "<tr><td>MARKH</td><td>Horváth Márk</td><td>márk.horváth@mail.hu</td><td>4400 Nyíregyháza Badacsonyi utca 12.</td><td>1997-09-23</td></tr>",
                            "<tr><td>marton</td><td>Kalacsi Márton</td><td>marton@gmail.com</td><td>5137 Jászkisér Fő út 169.</td><td>1989-06-24</td></tr>",
                            "<tr><td>MATEK</td><td>Koza Máté</td><td>máté.koza@mail.hu</td><td>1011 Budapest Központi telep 3.</td><td>1997-02-28</td></tr>",
                            "<tr><td>matyas2</td><td>Botka Mátyás</td><td>matyas2@gmail.com</td><td>2700 Cegléd Kossuth Lajos utca 6.</td><td>1972-07-07</td></tr>",
                            "<tr><td>MATYASS</td><td>Szilágyi Mátyás</td><td>mátyás.szilágyi@mail.hu</td><td>9023 Győr Kossuth Lajos utca 6.</td><td>1975-03-22</td></tr>",
                            "<tr><td>MIHALYJ</td><td>Juhász Mihály</td><td>mihály.juhász@mail.hu</td><td>6786 Ruzsa Rákóczi utca 1.</td><td>1979-10-12</td></tr>",
                            "<tr><td>MIKLOSB</td><td>Balla Miklós</td><td>miklós.balla@mail.hu</td><td>4060 Balmazújváros Szent István utca 2.</td><td>1979-02-16</td></tr>",
                            "<tr><td>MONIKAM</td><td>Mohos Mónika</td><td>mónika.mohos@mail.hu</td><td>2241 Sülysáp Baracsi László utca 14.</td><td>1974-10-01</td></tr>",
                            "<tr><td>nikolett3</td><td>Horváth Nikolett</td><td>nikolett3@gmail.com</td><td>1072 Budapest Arany János utca 1.</td><td>1981-09-29</td></tr>",
                            "<tr><td>nikoletta4</td><td>Kő Nikoletta</td><td>nikoletta4@gmail.com</td><td>5537 Zsadány Fő út 18.</td><td>1972-01-10</td></tr>",
                            "<tr><td>NIKOLETTAT</td><td>Tatár Nikoletta</td><td>nikoletta.tatár@mail.hu</td><td>1067 Budapest Győri utca 12.</td><td>1997-10-19</td></tr>",
                            "<tr><td>norbert</td><td>Szűcs Norbert</td><td>norbert@gmail.com</td><td>5071 Besenyszög Győri utca 12.</td><td>1969-07-17</td></tr>",
                            "<tr><td>norbert2</td><td>Hegedűs Norbert</td><td>norbert.hegedűs@mail.hu</td><td>2081 Piliscsaba Rendeki utca 21.</td><td>1991-07-17</td></tr>",
                            "<tr><td>norbert4</td><td>Mile Norbert</td><td>norbert4@gmail.com</td><td>3973 Cigánd Bajcsy-Zsilinszky utca 4.</td><td>1983-06-15</td></tr>",
                            "<tr><td>norbert5</td><td>Béres Norbert</td><td>norbert5@gmail.com</td><td>8640 Fonyód Bajcsy-Zsilinszky utca 4.</td><td>1975-07-27</td></tr>",
                            "<tr><td>peter1</td><td>Kozma Péter</td><td>peter1@gmail.com</td><td>6913 Csanádpalota Központi telep 3.</td><td>1976-03-18</td></tr>",
                            "<tr><td>peter2</td><td>Bozsó Péter</td><td>peter2@gmail.com</td><td>4800 Vásárosnamény Zombori út 2/A</td><td>1976-01-26</td></tr>",
                            "<tr><td>peter3</td><td>Szalai Péter</td><td>peter3@gmail.com</td><td>1155 Budapest Arany János utca 3.</td><td>1983-07-18</td></tr>",
                            "<tr><td>peter4</td><td>Bíró Péter</td><td>péter.bíró@mail.hu</td><td>5137 Jászkisér Rákóczi utca 67.</td><td>1985-09-01</td></tr>",
                            "<tr><td>PETERB</td><td>Berendi Péter</td><td>péter.berendi@mail.hu</td><td>3980 Sátoraljaújhely Vasút utca 4/10.</td><td>1969-01-01</td></tr>",
                            "<tr><td>polla</td><td>Palágyi Polla</td><td>polla@gmail.com</td><td>2484 Agárd Fő út 18.</td><td>1994-02-04</td></tr>",
                            "<tr><td>rajmond4</td><td>Rácz Rajmond</td><td>rajmond.rácz@mail.hu</td><td>9155 Lébény Petőfi utca 1/2.</td><td>1993-09-25</td></tr>",
                            "<tr><td>reka4</td><td>Szikszai Réka</td><td>réka.szikszai@mail.hu</td><td>8254 Kővágóörs Templom utca 73.</td><td>1969-11-27</td></tr>",
                            "<tr><td>RENATAK</td><td>Kardos Renáta</td><td>renáta.kardos@mail.hu</td><td>7086 Ozora Bécsi utca 82.</td><td>1988-05-17</td></tr>",
                            "<tr><td>RENATAS</td><td>Szirmai Renáta</td><td>RENATAS@gmail.com</td><td>2053 Herceghalom Kossuth utca 27.</td><td>1991-03-26</td></tr>",
                            "<tr><td>robert2</td><td>Patay Róbert</td><td>robert2@gmail.com</td><td>2370 Dabas Rákóczi utca 21.</td><td>1977-01-08</td></tr>",
                            "<tr><td>ROBERTI</td><td>Iván Róbert</td><td>róbert.iván@mail.hu</td><td>2377 Örkény Petőfi Sándor utca 3.</td><td>1967-07-02</td></tr>",
                            "<tr><td>ROBERTP</td><td>Pásztor Róbert</td><td>ROBERTP@gmail.com</td><td>5137 Jászkisér Ady Endre út 27.</td><td>1972-05-16</td></tr>",
                            "<tr><td>roland1</td><td>Ferencz Roland</td><td>roland.ferencz@mail.hu</td><td>2424 Előszállás Fő út 169.</td><td>1985-12-31</td></tr>",
                            "<tr><td>roza2</td><td>Bucskó Róza</td><td>roza2@gmail.com</td><td>5661 Újkígyós Arany János utca 3.</td><td>1988-12-26</td></tr>",
                            "<tr><td>sandor</td><td>Karasz Sándor</td><td>sandor@gmail.com</td><td>8283 Káptalantóti Kossuth Lajos utca 1/a.</td><td>1970-01-27</td></tr>",
                            "<tr><td>sandor3</td><td>Farkas Sándor</td><td>sándor.farkas@mail.hu</td><td>8640 Fonyód Tanácsköztársaság tér 1.</td><td>1989-01-27</td></tr>",
                            "<tr><td>sandor4</td><td>Nagy Sándor</td><td>sandor4@gmail.com</td><td>4600 Kisvárda Fő utca 47.</td><td>1997-06-11</td></tr>",
                            "<tr><td>sara</td><td>Farkas Sára</td><td>sára.farkas@mail.hu</td><td>5940 Tótkomlós Felszabadulás utca 32.</td><td>1973-04-05</td></tr>",
                            "<tr><td>SEBASTIANF</td><td>Foltényi Sebastián</td><td>SEBASTIANF@gmail.com</td><td>7960 Sellye Grassalkovich út 10.</td><td>1992-09-09</td></tr>",
                            "<tr><td>sebestyen</td><td>Rab Sebestyén</td><td>sebestyen@gmail.com</td><td>7130 Tolna Központi telep 3.</td><td>1992-03-03</td></tr>",
                            "<tr><td>szabolcs</td><td>Bodor Szabolcs</td><td>szabolcs.bodor@mail.hu</td><td>6786 Ruzsa Ady Endre út 27.</td><td>1990-07-16</td></tr>",
                            "<tr><td>SZABOLCSM</td><td>Miklós Szabolcs</td><td>szabolcs.miklós@mail.hu</td><td>1102 Budapest Fő út 169.</td><td>1980-08-11</td></tr>",
                            "<tr><td>SZILARDS</td><td>Szalai Szilárd</td><td>szilárd.szalai@mail.hu</td><td>1077 Budapest Fő út 18.</td><td>1967-09-28</td></tr>",
                            "<tr><td>szilvia1</td><td>Tari Szilvia</td><td>szilvia.tari@mail.hu</td><td>6080 Szabadszállás Bécsi utca 82.</td><td>1971-03-09</td></tr>",
                            "<tr><td>tamara2</td><td>Miklós Tamara</td><td>tamara.miklós@mail.hu</td><td>3910 Tokaj Kossuth út 39.</td><td>1980-08-11</td></tr>",
                            "<tr><td>tamas</td><td>Antal Tamás</td><td>tamás.antal@mail.hu</td><td>4440 Tiszavasvári Posta köz 2.</td><td>1984-09-05</td></tr>",
                            "<tr><td>TAMASF</td><td>Fényes Tamás</td><td>TAMASF@gmail.com</td><td>9023 Győr Arany János utca 1.</td><td>1997-11-06</td></tr>",
                            "<tr><td>tibor</td><td>Gombos Tibor</td><td>tibor.gombos@mail.hu</td><td>7100 Szekszárd Kossuth utca 77.</td><td>1993-11-28</td></tr>",
                            "<tr><td>timea</td><td>Papós Tímea</td><td>timea@gmail.com</td><td>1035 Budapest  Kossuth út 77.</td><td>1996-01-08</td></tr>",
                            "<tr><td>timea2</td><td>Dusha Tímea</td><td>tímea.dusha@mail.hu</td><td>5920 Csorvás Kossuth utca 8.</td><td>1975-08-22</td></tr>",
                            "<tr><td>tunde</td><td>Turcsik Tünde</td><td>tunde@gmail.com</td><td>7130 Tolna Fő út 122.</td><td>1974-02-12</td></tr>",
                            "<tr><td>valentin</td><td>Feró Valentin</td><td>valentin.feró@mail.hu</td><td>3895 Gönc Búvár utca 4.</td><td>1986-01-09</td></tr>",
                            "<tr><td>veronika4</td><td>Tankó Veronika</td><td>veronika4@gmail.com</td><td>6412 Balotaszállás Rendeki utca 21.</td><td>1983-08-28</td></tr>",
                            "<tr><td>VIKTORIAU</td><td>Urbán Viktoria</td><td>viktoria.urbán@mail.hu</td><td>3860 Encs Népboltsor  2.</td><td>1996-05-03</td></tr>",
                            "<tr><td>VIKTORK</td><td>Keresztúri Viktor</td><td>viktor.keresztúri@mail.hu</td><td>2532 Tokodaltáró Nagy Lajos tér 4.</td><td>1989-05-05</td></tr>",
                            "<tr><td>vivien3</td><td>Boros Vivien</td><td>vivien3@gmail.com</td><td>2117 Isaszeg Fő út 122.</td><td>1991-07-01</td></tr>",
                            "<tr><td>zoltan</td><td>Fodor Zoltán</td><td>zoltán.fodor@mail.hu</td><td>3441 Mezőkeresztes Fő utca 23.</td><td>1979-11-25</td></tr>",
                            "<tr><td>zoltan4</td><td>Barna Zoltán</td><td>zoltan4@gmail.com</td><td>8313 Balatongyörök Jászai tér 21.</td><td>1986-05-20</td></tr>",
                            "<tr><td>ZOLTANP</td><td>Pintér Zoltán</td><td>zoltán.pintér@mail.hu</td><td>6050 Lajosmizse Fő út 18.</td><td>1977-06-07</td></tr>",
                            "<tr><td>ZOLTANT</td><td>Tóth Zoltán</td><td>zoltán.tóth@mail.hu</td><td>4244 Újfehértó Posta köz 2.</td><td>1985-12-14</td></tr>",
                            "<tr><td>zsofi1</td><td>Molnár Zsófi</td><td>zsofi1@gmail.com</td><td>2730 Albertirsa Árpád utca 23.</td><td>1983-11-17</td></tr>",
                            "<tr><td>zsolt1</td><td>Pulai Zsolt</td><td>zsolt.pulai@mail.hu</td><td>8391 Sármellék Fő utca 60.</td><td>1988-05-27</td></tr>",
                            "<tr><td>ZSOLTJ</td><td>Józsa Zsolt</td><td>ZSOLTJ@gmail.com</td><td>8315 Gyenesdiás Bajcsy-Zsilinszky utca 4.</td><td>1983-09-29</td></tr>",
                            "<tr><td>zsuzsa</td><td>Pusztai Zsuzsanna</td><td>zsuzsanna@gmail.com</td><td>6783 Ásotthalom Badacsonyi utca 12.</td><td>1980-09-17</td></tr>",
                            "<tr><td>zsuzsa3</td><td>Varsányi Zsuzsa</td><td>zsuzsa.varsányi@mail.hu</td><td>8600 Siófok Árpád utca 4.</td><td>1979-03-06</td></tr>",
                            "<tr><td>zsuzsanna</td><td>Barta Zsuzsanna</td><td>zsuzsanna.barta@mail.hu</td><td>4172 Biharnagybajom Dózsa György utca 37.</td><td>1994-10-07</td></tr>",
                            "<tr><td>ZSUZSAV</td><td>Vajda Zsuzsa</td><td>zsuzsa.vajda@mail.hu</td><td>6786 Ruzsa Kossuth utca 77.</td><td>1976-12-11</td></tr>",
                            "<tr><td>adam1</td><td>Kiss Ádám</td><td>ádám.kiss@mail.hu</td><td>5630 Békés Szolnoki út 8.</td><td>1991-12-28</td></tr>",
                            "<tr><td>adam4</td><td>Bieniek Ádám</td><td>ádám.bieniek@mail.hu</td><td>8630 Balatonboglár Juhászföldi út 1.</td><td>1976-08-01</td></tr>",
                            "<tr><td>agnes</td><td>Lengyel Ágnes</td><td>agnes@gmail.com</td><td>5200 Törökszentmiklós Deák Ferenc út 5.</td><td>1979-12-10</td></tr>",
                            "<tr><td>agnes3</td><td>Hartyánszky Ágnes</td><td>agnes3@gmail.com</td><td>6430 Bácsalmás Posta köz 2.</td><td>1967-04-11</td></tr>",
                            "<tr><td>AGNESH</td><td>Horváth Ágnes</td><td>AGNESH@gmail.com</td><td>8200 Veszprém Rákóczi utca 21.</td><td>1981-12-24</td></tr>",
                            "<tr><td>akos</td><td>Bíró Ákos</td><td>ákos.bíró@mail.hu</td><td>9023 Győr Kossuth Lajos utca 47/b.</td><td>1982-04-24</td></tr>",
                            "<tr><td>alexandra</td><td>Bagóczki Alexandra</td><td>alexandra.bagóczki@mail.hu</td><td>2381 Táborfalva Petőfi utca 1/2.</td><td>1992-03-25</td></tr>",
                            "<tr><td>andi</td><td>Maródi Andrea</td><td>andrea.maródi@mail.hu</td><td>5465 Cserkeszőlő Árpád utca 4.</td><td>1968-05-07</td></tr>",
                            "<tr><td>andras2</td><td>Tóth András</td><td>andrás.tóth@mail.hu</td><td>4071 Egyek Petőfi utca 30.</td><td>1997-10-31</td></tr>",
                            "<tr><td>andras21</td><td>Molnár András</td><td>andrás.molnár@mail.hu</td><td>7900 Szigetvár Rákóczi utca 67.</td><td>1977-11-16</td></tr>",
                            "<tr><td>andras3</td><td>Vígh András</td><td>andrás.vígh@mail.hu</td><td>1118 Budapest Arany János utca 1.</td><td>1971-04-02</td></tr>",
                            "<tr><td>andras41</td><td>Komjáti András</td><td>andras41@gmail.com</td><td>5065 Nagykörű Kossuth út 24.</td><td>1997-10-25</td></tr>",
                            "<tr><td>ANDRASN</td><td>Nagy András</td><td>andrás.nagy@mail.hu</td><td>6500 Baja Fő út 169.</td><td>1980-09-05</td></tr>",
                            "<tr><td>andrea</td><td>Kiss Andrea</td><td>andrea.kiss@mail.hu</td><td>1113 Budapest Petőfi Sándor utca 87.</td><td>1993-03-25</td></tr>",
                            "<tr><td>andrea3</td><td>Szomor Andrea</td><td>andrea3@gmail.com</td><td>7960 Sellye Bécsi utca 82.</td><td>1996-05-10</td></tr>",
                            "<tr><td>anett3</td><td>Pivarcsi Anett</td><td>anett.pivarcsi@mail.hu</td><td>1149 Budapest Fő út 60.</td><td>1967-01-03</td></tr>",
                            "<tr><td>aniko</td><td>Tóth Anikó</td><td>aniko@gmail.com</td><td>2085 Pilisvörösvár Deák Ferenc út 5.</td><td>1973-06-03</td></tr>",
                            "<tr><td>ANIKOS</td><td>Simon Anikó</td><td>ANIKOS@gmail.com</td><td>5137 Jászkisér Bécsi utca 82.</td><td>1988-12-14</td></tr>",
                            "<tr><td>anita</td><td>Hamvay-Kovács Anita</td><td>anita.hamvay-kovács@mail.hu</td><td>7220 Sarkad Táncsics utca 19.</td><td>1971-03-20</td></tr>",
                            "<tr><td>annamaria1</td><td>Szűcs Annamária</td><td>annamária.szűcs@mail.hu</td><td>1191 Budapest Rendeki utca 21.</td><td>1990-04-27</td></tr>",
                            "<tr><td>aron2</td><td>Jakab Áron</td><td>aron2@gmail.com</td><td>7133 Fadd Bajcsy-Zsilinszky utca 4.</td><td>1971-04-26</td></tr>",
                            "<tr><td>ARONK</td><td>Kelemen Áron</td><td>áron.kelemen@mail.hu</td><td>8200 Veszprém Petőfi utca 8.</td><td>1989-08-10</td></tr>",
                            "<tr><td>arpad2</td><td>Ötvös Árpád</td><td>árpád.ötvös@mail.hu</td><td>2600 Vác Padragi út 158.</td><td>1990-06-08</td></tr>",
                            "<tr><td>ARPADH</td><td>Horváth Árpád</td><td>árpád.horváth@mail.hu</td><td>7349 Szászvár Dózsa György u. 1.</td><td>1990-05-18</td></tr>",
                            "<tr><td>ARPADM</td><td>Móricz Árpád</td><td>árpád.móricz@mail.hu</td><td>3910 Tokaj Rákóczi utca 67.</td><td>1986-04-20</td></tr>",
                            "<tr><td>attila</td><td>Csóti Attila</td><td>attila@gmail.com</td><td>3000 Hatvan Bajcsy-Zsilinszky utca 4.</td><td>1979-12-25</td></tr>",
                            "<tr><td>attila1</td><td>Gulyás Attila</td><td>attila.gulyás@mail.hu</td><td>3881 Abaújszántó Szolnoki út 8.</td><td>1982-08-16</td></tr>",
                            "<tr><td>attila4</td><td>Baróti Attila</td><td>attila.baróti@mail.hu</td><td>7149 Báta Arany János utca 3.</td><td>1975-11-06</td></tr>",
                            "<tr><td>balazs1</td><td>Bozsik Balázs</td><td>balázs.bozsik@mail.hu</td><td>2300 Ráckeve Bécsi utca 82.</td><td>1992-11-03</td></tr>",
                            "<tr><td>balazs2</td><td>Szűcs Balázs</td><td>balázs.szűcs@mail.hu</td><td>3170 Szécsény Szabadság utca 95.</td><td>1984-10-31</td></tr>",
                            "<tr><td>balazs3</td><td>Bakódy Balázs</td><td>balazs3@gmail.com</td><td>2131 Göd Arany János utca 1.</td><td>1986-09-09</td></tr>",
                            "<tr><td>balint1</td><td>Molnár Bálint</td><td>balint1@gmail.com</td><td>9181 Kimle Fő út 169.</td><td>1989-08-24</td></tr>",
                            "<tr><td>balint2</td><td>Vukasinovity Bálint</td><td>balint2@gmail.com</td><td>2330 Dunaharaszti Béke utca 7.</td><td>1997-09-03</td></tr>",
                            "<tr><td>beata4</td><td>Bagi Beáta</td><td>beáta.bagi@mail.hu</td><td>8477 Tüskevár Felszabadulás utca 32.</td><td>1994-03-19</td></tr>",
                            "<tr><td>BEATRIXK</td><td>Kerényi Beatrix</td><td>beatrix.kerényi@mail.hu</td><td>7396 Magyarszék Kossuth Lajos utca 47/b.</td><td>1972-04-06</td></tr>",
                            "<tr><td>BEATRIXS</td><td>Szekendi Beatrix</td><td>beatrix.szekendi@mail.hu</td><td>4060 Balmazújváros Jászai tér 21.</td><td>1981-04-06</td></tr>",
                            "<tr><td>BELAF</td><td>Farkas Béla</td><td>BELAF@gmail.com</td><td>5530 Vésztő Petőfi Sándor utca 3.</td><td>1995-02-24</td></tr>",
                            "<tr><td>bence</td><td>Győrffy Bence</td><td>bence@gmail.com</td><td>6900 Makó Árpád utca 23.</td><td>1987-07-09</td></tr>",
                            "<tr><td>BENCEB</td><td>Bajusz Bence</td><td>bence.bajusz@mail.hu</td><td>8391 Sármellék Fő utca 56.</td><td>1973-06-21</td></tr>",
                            "<tr><td>bernadett1</td><td>Simon Bernadett</td><td>bernadett1@gmail.com</td><td>2300 Ráckeve Fő utca 108.</td><td>1984-10-13</td></tr>",
                            "<tr><td>bernadett2</td><td>Kovács Bernadett</td><td>bernadett.kovács@mail.hu</td><td>4200 Hajdúszoboszló Fő út 122.</td><td>1996-08-20</td></tr>",
                            "<tr><td>BERNADETTO</td><td>Orbán Bernadett</td><td>bernadett.orbán@mail.hu</td><td>5085 Rákóczifalva Arany János utca 1.</td><td>1987-12-07</td></tr>",
                            "<tr><td>bertalan</td><td>Csiger Bertalan</td><td>bertalan@gmail.com</td><td>1192 Budapest Fő út 169.</td><td>1977-10-15</td></tr>",
                            "<tr><td>brigitta</td><td>Székely Brigitta</td><td>brigitta.székely@mail.hu</td><td>2462 Martonvásár Fő utca 47.</td><td>1978-09-13</td></tr>",
                            "<tr><td>brigitta3</td><td>Pataki Brigitta</td><td>brigitta.pataki@mail.hu</td><td>2730 Albertirsa Rendeki utca 21.</td><td>1991-05-23</td></tr>",
                            "<tr><td>csongor3</td><td>Nagymihály Csongor</td><td>csongor.nagymihály@mail.hu</td><td>9181 Kimle Deák Ferenc út 5.</td><td>1984-03-05</td></tr>",
                            "<tr><td>dani</td><td>Vörös Dániel</td><td>daniel@gmail.com</td><td>7150 Bonyhád Dózsa György u. 1.</td><td>1986-10-14</td></tr>",
                            "<tr><td>daniel</td><td>Rácz Dániel</td><td>dániel.rácz@mail.hu</td><td>9181 Kimle Szabadság tér 9.</td><td>1978-11-28</td></tr>",
                            "<tr><td>daniel1</td><td>Keszler Dániel</td><td>dániel.keszler@mail.hu</td><td>3580 Tiszaújváros Kossuth Lajos utca 6.</td><td>1969-07-16</td></tr>",
                            "<tr><td>david</td><td>Ambrus Dávid</td><td>david@gmail.com</td><td>1149 Budapest Fő út 18.</td><td>1974-02-11</td></tr>",
                            "<tr><td>david1</td><td>Sobják Dávid</td><td>david1@gmail.com</td><td>5083 Kengyel Arany János utca 3.</td><td>1970-08-16</td></tr>",
                            "<tr><td>denes</td><td>Tömböly Dénes</td><td>denes@gmail.com</td><td>2400 Dunaújváros Kossuth út 39.</td><td>1975-03-14</td></tr>",
                            "<tr><td>dora3</td><td>Sarodi Dóra</td><td>dóra.sarodi@mail.hu</td><td>2855 Bokod Fő út 18.</td><td>1995-05-18</td></tr>",
                            "<tr><td>edit</td><td>Bittmann Edit</td><td>edit.bittmann@mail.hu</td><td>6077 Orgovány Fő utca 60.</td><td>1984-04-20</td></tr>",
                            "<tr><td>emese</td><td>Kuruc Emese</td><td>emese.kuruc@mail.hu</td><td>6700 Szeged Rákóczi utca 67.</td><td>1989-08-10</td></tr>",
                            "<tr><td>eszter</td><td>Molnár Eszter</td><td>eszter.molnár@mail.hu</td><td>6800 Hódmezővásárhely Fő út 77.</td><td>1987-05-10</td></tr>",
                            "<tr><td>eszter2</td><td>Balogh Eszter</td><td>eszter.balogh@mail.hu</td><td>6760 Kistelek Kossuth utca 11.</td><td>1998-01-31</td></tr>",
                            "<tr><td>eva</td><td>Enyedi Éva</td><td>eva@gmail.com</td><td>4231 Bököny Petőfi utca 8.</td><td>1967-06-30</td></tr>",
                            "<tr><td>eva2</td><td>Perlinger Éva</td><td>eva2@gmail.com</td><td>9653 Répcelak Bécsi utca 82.</td><td>1971-08-19</td></tr>",
                            "<tr><td>EVAV</td><td>Viktor Éva</td><td>EVAV@gmail.com</td><td>6913 Csanádpalota Arany János utca 3.</td><td>1980-12-26</td></tr>",
                            "<tr><td>fruzsina4</td><td>Frank Fruzsina</td><td>fruzsina4@gmail.com</td><td>9700 Szombathely Szabadság utca 95.</td><td>1996-08-16</td></tr>",
                            "<tr><td>gabor1</td><td>Köves Gábor</td><td>gabor1@gmail.com</td><td>6762 Sándorfalva Árpád utca 23.</td><td>1973-07-15</td></tr>",
                            "<tr><td>gabor4</td><td>Telek Gábor</td><td>gábor.telek@mail.hu</td><td>9071 Görbeháza Fő út 169.</td><td>1987-03-15</td></tr>",
                            "<tr><td>gabriella1</td><td>Nagy Gabriella</td><td>gabriella1@gmail.com</td><td>1077 Budapest Dob utca 1</td><td>1982-11-01</td></tr>",
                            "<tr><td>gabriella10</td><td>Vida Gabriella</td><td>gabriella10@gmail.com</td><td>2484 Agárd Arany János utca 3.</td><td>1969-06-18</td></tr>",
                            "<tr><td>georgij</td><td>Nyíri Georgij</td><td>georgij.nyíri@mail.hu</td><td>8391 Sármellék Grassalkovich út 10.</td><td>1983-02-23</td></tr>",
                            "<tr><td>gusztav</td><td>Bárci Gusztáv</td><td>gusztav@gmail.com</td><td>3643 Dédestapolcsány Endrődi Sándor utca 47.</td><td>1967-02-25</td></tr>",
                            "<tr><td>GYONGYIK</td><td>Kornseé Gyöngyi</td><td>gyöngyi.kornseé@mail.hu</td><td>8800 Nagykanizsa Fő út 60.</td><td>1974-06-07</td></tr>",
                            "<tr><td>GYORGYO</td><td>Oroszi György</td><td>GYORGYO@gmail.com</td><td>7220 Sarkad Dózsa György u. 1.</td><td>1980-03-23</td></tr>",
                            "<tr><td>henrik3</td><td>Nádudvari Henrik</td><td>henrik.nádudvari@mail.hu</td><td>1077 Budapest Tanácsköztársaság tér 1.</td><td>1986-12-05</td></tr>",
                            "<tr><td>ilona3</td><td>Bosnyák Ilona</td><td>ilona3@gmail.com</td><td>2483 Gárdony Posta köz 2.</td><td>1990-08-06</td></tr>",
                            "<tr><td>imre</td><td>Búza Imre</td><td>imre.búza@mail.hu</td><td>9181 Kimle Petőfi Sándor tér 1.</td><td>1988-09-30</td></tr>",
                            "<tr><td>imre1</td><td>Papp Imre</td><td>imre.papp@mail.hu</td><td>1077 Budapest Szolnoki út 8.</td><td>1976-06-25</td></tr>",
                            "<tr><td>istvan</td><td>Soós István</td><td>istvan@gmail.com</td><td>2370 Dabas Kossuth utca 27.</td><td>1986-06-28</td></tr>",
                            "<tr><td>istvan1</td><td>Vizi István</td><td>istván.vizi@mail.hu</td><td>7086 Ozora Rákóczi utca 1.</td><td>1997-12-01</td></tr>",
                            "<tr><td>ISTVANV</td><td>Varga István</td><td>ISTVANV@gmail.com</td><td>6320 Solt Hősök tere 11.</td><td>1989-04-09</td></tr>",
                            "<tr><td>janos3</td><td>Harangozó János</td><td>janos3@gmail.com</td><td>8700 Marcali Petőfi Sándor tér 1.</td><td>1967-11-02</td></tr>",
                            "<tr><td>JANOSG</td><td>Giliga János</td><td>JANOSG@gmail.com</td><td>3300 Eger Deák Ferenc út 5.</td><td>1975-01-03</td></tr>",
                            "<tr><td>JANOSP</td><td>Pálinkás János</td><td>JANOSP@gmail.com</td><td>5920 Csorvás Padragi út 158.</td><td>1984-10-12</td></tr>",
                            "<tr><td>jozsef2</td><td>Vajda József</td><td>józsef.vajda@mail.hu</td><td>6700 Szeged Baracsi László utca 14.</td><td>1978-09-04</td></tr>",
                            "<tr><td>JOZSEFG</td><td>Gyuris József</td><td>józsef.gyuris@mail.hu</td><td>2660 Balassagyarmat Petőfi utca 1/2.</td><td>1975-05-26</td></tr>",
                            "<tr><td>JUDITH</td><td>Hídasi Judit</td><td>JUDITH@gmail.com</td><td>2100 Gödöllő Fő út 169.</td><td>1997-07-12</td></tr>",
                            "<tr><td>julia</td><td>Tóth Júlia</td><td>julia@gmail.com</td><td>5310 Kisújszállás Árpád utca 4.</td><td>1993-03-02</td></tr>",
                            "<tr><td>julia4</td><td>Nagy Júlia</td><td>julia4@gmail.com</td><td>7000 Sárbogárd Jászai tér 21.</td><td>1985-08-11</td></tr>",
                            "<tr><td>julianna4</td><td>Szabó Julianna</td><td>julianna4@gmail.com</td><td>6700 Szeged Kossuth Lajos utca 6.</td><td>1990-09-29</td></tr>",
                            "<tr><td>kata</td><td>Gondos Katalin</td><td>katalin.gondos@mail.hu</td><td>8237 Tihany Kossuth Lajos utca 6.</td><td>1968-06-22</td></tr>",
                            "<tr><td>katalin</td><td>Horváth Katalin</td><td>katalin.horváth@mail.hu</td><td>2424 Előszállás Rákóczi út 200.</td><td>1968-01-01</td></tr>",
                            "<tr><td>katalin4</td><td>Kertész Katalin</td><td>katalin4@gmail.com</td><td>2800 Tatabánya Búvár utca 4.</td><td>1986-04-13</td></tr>",
                            "<tr><td>kati</td><td>Zatykó Katalin</td><td>katalin.zatykó@mail.hu</td><td>7511 Ötvöskónyi Kossuth Lajos utca 6.</td><td>1995-05-01</td></tr>",
                            "<tr><td>katka</td><td>Kovács Katalin</td><td>katalin.kovács@mail.hu</td><td>8254 Kővágóörs Petőfi utca 22.</td><td>1975-03-31</td></tr>",
                            "<tr><td>klaudia2</td><td>Bakó Klaudia</td><td>klaudia.bakó@mail.hu</td><td>8254 Kővágóörs Kossuth Lajos utca 6.</td><td>1982-04-16</td></tr>",
                            "<tr><td>kornel4</td><td>Lukács Kornél</td><td>kornél.lukács@mail.hu</td><td>2053 Herceghalom Bécsi utca 82.</td><td>1975-09-30</td></tr>",
                            "<tr><td>kriszti</td><td>Horváth Krisztina</td><td>kriszti@gmail.com</td><td>6060 Tiszakécske Árpád utca 4.</td><td>1978-06-12</td></tr>",
                            "<tr><td>krisztian4</td><td>Czérna Krisztián</td><td>krisztián.czérna@mail.hu</td><td>1107 Budapest Dózsa György utca 37.</td><td>1970-08-01</td></tr>",
                            "<tr><td>krisztina</td><td>Szedlár Krisztina</td><td>krisztina@gmail.com</td><td>6646 Tömörkény Arany János utca 1.</td><td>1979-05-10</td></tr>",
                            "<tr><td>krisztina1</td><td>Bori Krisztina</td><td>krisztina.bori@mail.hu</td><td>2115 Vácszentlászló Fő utca 47.</td><td>1969-10-13</td></tr>",
                            "<tr><td>KRISZTINAG</td><td>Gyárfás Krisztina</td><td>KRISZTINAG@gmail.com</td><td>6762 Sándorfalva Arany János utca 1.</td><td>1987-09-19</td></tr>",
                            "<tr><td>lajos</td><td>Kiss Lajos</td><td>lajos.kiss@mail.hu</td><td>1077 Budapest Dob utca 1</td><td>1978-10-31</td></tr>",
                            "<tr><td>lala</td><td>Nagymihály Lajos</td><td>lajos.nagymihály@mail.hu</td><td>8638 Balatonlelle Rákóczi út 200.</td><td>1997-02-24</td></tr>",
                            "<tr><td>laszlo2</td><td>Móra László</td><td>lászló.móra@mail.hu</td><td>9970 Szentgotthárd Petőfi utca 1/2.</td><td>1975-02-19</td></tr>",
                            "<tr><td>LASZLON</td><td>Nagy László</td><td>lászló.nagy@mail.hu</td><td>1173 Budapest Jászai tér 21.</td><td>1969-04-12</td></tr>",
                            "<tr><td>mark</td><td>Kispál Márk</td><td>márk.kispál@mail.hu</td><td>1086 Budapest Juhászföldi út 1.</td><td>1996-01-23</td></tr>",
                            "<tr><td>marton</td><td>Kalacsi Márton</td><td>marton@gmail.com</td><td>5137 Jászkisér Fő út 169.</td><td>1989-06-24</td></tr>",
                            "<tr><td>matyas2</td><td>Botka Mátyás</td><td>matyas2@gmail.com</td><td>2700 Cegléd Kossuth Lajos utca 6.</td><td>1972-07-07</td></tr>",
                            "<tr><td>MATYASS</td><td>Szilágyi Mátyás</td><td>mátyás.szilágyi@mail.hu</td><td>9023 Győr Kossuth Lajos utca 6.</td><td>1975-03-22</td></tr>",
                            "<tr><td>MIHALYJ</td><td>Juhász Mihály</td><td>mihály.juhász@mail.hu</td><td>6786 Ruzsa Rákóczi utca 1.</td><td>1979-10-12</td></tr>",
                            "<tr><td>miklos2</td><td>Gondos Miklós</td><td>miklos2@gmail.com</td><td>2100 Gödöllő Árpád utca 23.</td><td>1995-10-07</td></tr>",
                            "<tr><td>MIKLOSB</td><td>Balla Miklós</td><td>miklós.balla@mail.hu</td><td>4060 Balmazújváros Szent István utca 2.</td><td>1979-02-16</td></tr>",
                            "<tr><td>MONIKAM</td><td>Mohos Mónika</td><td>mónika.mohos@mail.hu</td><td>2241 Sülysáp Baracsi László utca 14.</td><td>1974-10-01</td></tr>",
                            "<tr><td>NANDORF</td><td>Fő Nándor</td><td>nándor.fő@mail.hu</td><td>5920 Csorvás Bécsi utca 82.</td><td>1968-11-12</td></tr>",
                            "<tr><td>nikolett3</td><td>Horváth Nikolett</td><td>nikolett3@gmail.com</td><td>1072 Budapest Arany János utca 1.</td><td>1981-09-29</td></tr>",
                            "<tr><td>nikoletta4</td><td>Kő Nikoletta</td><td>nikoletta4@gmail.com</td><td>5537 Zsadány Fő út 18.</td><td>1972-01-10</td></tr>",
                            "<tr><td>NIKOLETTAT</td><td>Tatár Nikoletta</td><td>nikoletta.tatár@mail.hu</td><td>1067 Budapest Győri utca 12.</td><td>1997-10-19</td></tr>",
                            "<tr><td>norbert</td><td>Szűcs Norbert</td><td>norbert@gmail.com</td><td>5071 Besenyszög Győri utca 12.</td><td>1969-07-17</td></tr>",
                            "<tr><td>norbert2</td><td>Hegedűs Norbert</td><td>norbert.hegedűs@mail.hu</td><td>2081 Piliscsaba Rendeki utca 21.</td><td>1991-07-17</td></tr>",
                            "<tr><td>norbert4</td><td>Mile Norbert</td><td>norbert4@gmail.com</td><td>3973 Cigánd Bajcsy-Zsilinszky utca 4.</td><td>1983-06-15</td></tr>",
                            "<tr><td>norbert5</td><td>Béres Norbert</td><td>norbert5@gmail.com</td><td>8640 Fonyód Bajcsy-Zsilinszky utca 4.</td><td>1975-07-27</td></tr>",
                            "<tr><td>pal</td><td>Barabás Pál</td><td>pál.barabás@mail.hu</td><td>1183 Budapest Szolnoki út 8.</td><td>1968-02-06</td></tr>",
                            "<tr><td>peter1</td><td>Kozma Péter</td><td>peter1@gmail.com</td><td>6913 Csanádpalota Központi telep 3.</td><td>1976-03-18</td></tr>",
                            "<tr><td>peter2</td><td>Bozsó Péter</td><td>peter2@gmail.com</td><td>4800 Vásárosnamény Zombori út 2/A</td><td>1976-01-26</td></tr>",
                            "<tr><td>peter3</td><td>Szalai Péter</td><td>peter3@gmail.com</td><td>1155 Budapest Arany János utca 3.</td><td>1983-07-18</td></tr>",
                            "<tr><td>peter4</td><td>Bíró Péter</td><td>péter.bíró@mail.hu</td><td>5137 Jászkisér Rákóczi utca 67.</td><td>1985-09-01</td></tr>",
                            "<tr><td>polla</td><td>Palágyi Polla</td><td>polla@gmail.com</td><td>2484 Agárd Fő út 18.</td><td>1994-02-04</td></tr>",
                            "<tr><td>rajmond4</td><td>Rácz Rajmond</td><td>rajmond.rácz@mail.hu</td><td>9155 Lébény Petőfi utca 1/2.</td><td>1993-09-25</td></tr>",
                            "<tr><td>reka4</td><td>Szikszai Réka</td><td>réka.szikszai@mail.hu</td><td>8254 Kővágóörs Templom utca 73.</td><td>1969-11-27</td></tr>",
                            "<tr><td>RENATAK</td><td>Kardos Renáta</td><td>renáta.kardos@mail.hu</td><td>7086 Ozora Bécsi utca 82.</td><td>1988-05-17</td></tr>",
                            "<tr><td>RENATAS</td><td>Szirmai Renáta</td><td>RENATAS@gmail.com</td><td>2053 Herceghalom Kossuth utca 27.</td><td>1991-03-26</td></tr>",
                            "<tr><td>robert2</td><td>Patay Róbert</td><td>robert2@gmail.com</td><td>2370 Dabas Rákóczi utca 21.</td><td>1977-01-08</td></tr>",
                            "<tr><td>ROBERTP</td><td>Pásztor Róbert</td><td>ROBERTP@gmail.com</td><td>5137 Jászkisér Ady Endre út 27.</td><td>1972-05-16</td></tr>",
                            "<tr><td>roland</td><td>Tóth Roland</td><td>roland@gmail.com</td><td>2000 Szentendre Fő út 169.</td><td>1968-03-21</td></tr>",
                            "<tr><td>roland1</td><td>Ferencz Roland</td><td>roland.ferencz@mail.hu</td><td>2424 Előszállás Fő út 169.</td><td>1985-12-31</td></tr>",
                            "<tr><td>roza2</td><td>Bucskó Róza</td><td>roza2@gmail.com</td><td>5661 Újkígyós Arany János utca 3.</td><td>1988-12-26</td></tr>",
                            "<tr><td>sandor</td><td>Karasz Sándor</td><td>sandor@gmail.com</td><td>8283 Káptalantóti Kossuth Lajos utca 1/a.</td><td>1970-01-27</td></tr>",
                            "<tr><td>sandor3</td><td>Farkas Sándor</td><td>sándor.farkas@mail.hu</td><td>8640 Fonyód Tanácsköztársaság tér 1.</td><td>1989-01-27</td></tr>",
                            "<tr><td>sandor4</td><td>Nagy Sándor</td><td>sandor4@gmail.com</td><td>4600 Kisvárda Fő utca 47.</td><td>1997-06-11</td></tr>",
                            "<tr><td>sara</td><td>Farkas Sára</td><td>sára.farkas@mail.hu</td><td>5940 Tótkomlós Felszabadulás utca 32.</td><td>1973-04-05</td></tr>",
                            "<tr><td>SEBASTIANF</td><td>Foltényi Sebastián</td><td>SEBASTIANF@gmail.com</td><td>7960 Sellye Grassalkovich út 10.</td><td>1992-09-09</td></tr>",
                            "<tr><td>sebestyen</td><td>Rab Sebestyén</td><td>sebestyen@gmail.com</td><td>7130 Tolna Központi telep 3.</td><td>1992-03-03</td></tr>",
                            "<tr><td>SZABOLCSM</td><td>Miklós Szabolcs</td><td>szabolcs.miklós@mail.hu</td><td>1102 Budapest Fő út 169.</td><td>1980-08-11</td></tr>",
                            "<tr><td>SZILARDS</td><td>Szalai Szilárd</td><td>szilárd.szalai@mail.hu</td><td>1077 Budapest Fő út 18.</td><td>1967-09-28</td></tr>",
                            "<tr><td>szilvia1</td><td>Tari Szilvia</td><td>szilvia.tari@mail.hu</td><td>6080 Szabadszállás Bécsi utca 82.</td><td>1971-03-09</td></tr>",
                            "<tr><td>tamas</td><td>Antal Tamás</td><td>tamás.antal@mail.hu</td><td>4440 Tiszavasvári Posta köz 2.</td><td>1984-09-05</td></tr>",
                            "<tr><td>TAMASF</td><td>Fényes Tamás</td><td>TAMASF@gmail.com</td><td>9023 Győr Arany János utca 1.</td><td>1997-11-06</td></tr>",
                            "<tr><td>tihamer</td><td>Kazy Tihamér</td><td>tihamér.kazy@mail.hu</td><td>2370 Dabas Fő utca 60.</td><td>1991-07-05</td></tr>",
                            "<tr><td>timea2</td><td>Dusha Tímea</td><td>tímea.dusha@mail.hu</td><td>5920 Csorvás Kossuth utca 8.</td><td>1975-08-22</td></tr>",
                            "<tr><td>tunde</td><td>Turcsik Tünde</td><td>tunde@gmail.com</td><td>7130 Tolna Fő út 122.</td><td>1974-02-12</td></tr>",
                            "<tr><td>valentin</td><td>Feró Valentin</td><td>valentin.feró@mail.hu</td><td>3895 Gönc Búvár utca 4.</td><td>1986-01-09</td></tr>",
                            "<tr><td>veronika4</td><td>Tankó Veronika</td><td>veronika4@gmail.com</td><td>6412 Balotaszállás Rendeki utca 21.</td><td>1983-08-28</td></tr>",
                            "<tr><td>VIKTORIAU</td><td>Urbán Viktoria</td><td>viktoria.urbán@mail.hu</td><td>3860 Encs Népboltsor  2.</td><td>1996-05-03</td></tr>",
                            "<tr><td>VIKTORK</td><td>Keresztúri Viktor</td><td>viktor.keresztúri@mail.hu</td><td>2532 Tokodaltáró Nagy Lajos tér 4.</td><td>1989-05-05</td></tr>",
                            "<tr><td>vivien3</td><td>Boros Vivien</td><td>vivien3@gmail.com</td><td>2117 Isaszeg Fő út 122.</td><td>1991-07-01</td></tr>",
                            "<tr><td>zoltan</td><td>Fodor Zoltán</td><td>zoltán.fodor@mail.hu</td><td>3441 Mezőkeresztes Fő utca 23.</td><td>1979-11-25</td></tr>",
                            "<tr><td>zoltan4</td><td>Barna Zoltán</td><td>zoltan4@gmail.com</td><td>8313 Balatongyörök Jászai tér 21.</td><td>1986-05-20</td></tr>",
                            "<tr><td>ZOLTANP</td><td>Pintér Zoltán</td><td>zoltán.pintér@mail.hu</td><td>6050 Lajosmizse Fő út 18.</td><td>1977-06-07</td></tr>",
                            "<tr><td>ZOLTANT</td><td>Tóth Zoltán</td><td>zoltán.tóth@mail.hu</td><td>4244 Újfehértó Posta köz 2.</td><td>1985-12-14</td></tr>",
                            "<tr><td>zsofi1</td><td>Molnár Zsófi</td><td>zsofi1@gmail.com</td><td>2730 Albertirsa Árpád utca 23.</td><td>1983-11-17</td></tr>",
                            "<tr><td>zsolt1</td><td>Pulai Zsolt</td><td>zsolt.pulai@mail.hu</td><td>8391 Sármellék Fő utca 60.</td><td>1988-05-27</td></tr>",
                            "<tr><td>ZSOLTJ</td><td>Józsa Zsolt</td><td>ZSOLTJ@gmail.com</td><td>8315 Gyenesdiás Bajcsy-Zsilinszky utca 4.</td><td>1983-09-29</td></tr>",
                            "<tr><td>zsuzsa</td><td>Pusztai Zsuzsanna</td><td>zsuzsanna@gmail.com</td><td>6783 Ásotthalom Badacsonyi utca 12.</td><td>1980-09-17</td></tr>",
                            "<tr><td>ZSUZSAV</td><td>Vajda Zsuzsa</td><td>zsuzsa.vajda@mail.hu</td><td>6786 Ruzsa Kossuth utca 77.</td><td>1976-12-11</td></tr>",
                            "<tr><td>JOZSEFG</td><td>Gyuris József</td><td>józsef.gyuris@mail.hu</td><td>2660 Balassagyarmat Petőfi utca 1/2.</td><td>1975-05-26</td></tr>",
                            "<tr><td>PETERB</td><td>Berendi Péter</td><td>péter.berendi@mail.hu</td><td>3980 Sátoraljaújhely Vasút utca 4/10.</td><td>1969-01-01</td></tr>",
                            "<tr><td>tunde</td><td>Turcsik Tünde</td><td>tunde@gmail.com</td><td>7130 Tolna Fő út 122.</td><td>1974-02-12</td></tr>",
                            "</table>"
                        ]
                    }
                }
            ],
            "execution_count": 8
        },
        {
            "cell_type": "markdown",
            "source": [
                "Jelenítsük meg, hogy az egyes szálláshelyek szobáit esetén a legutolsó 5 foglalás átlagosan hány főre történt!\n",
                "\n",
                "- A számításnál vegyük figyelembe a felnőtteket és a gyermekeket is\n",
                "- A foglalás dátumánál a METTOL mezőt használjuk"
            ],
            "metadata": {
                "language": "sql",
                "azdata_cell_guid": "2c38723a-5ef0-4eae-845d-12da44e1f60a"
            },
            "attachments": {}
        },
        {
            "cell_type": "code",
            "source": [
                "select szh.SZALLAS_NEV, avg(f.FELNOTT_SZAM + f.GYERMEK_SZAM) over(PARTITION BY f.foglalas_pk order by f.mettol rows BETWEEN 5 preceding and CURRENT row)\r\n",
                "from Foglalas f join szoba sz on f.SZOBA_FK = sz.SZOBA_ID\r\n",
                "                join szallashely szh on sz.SZALLAS_FK = szh.SZALLAS_ID"
            ],
            "metadata": {
                "language": "sql",
                "azdata_cell_guid": "3d2e8c1b-f489-4479-a4ab-8778d907fc73"
            },
            "outputs": [
                {
                    "output_type": "display_data",
                    "data": {
                        "text/html": "(1027 rows affected)"
                    },
                    "metadata": {}
                },
                {
                    "output_type": "display_data",
                    "data": {
                        "text/html": "Total execution time: 00:00:00.063"
                    },
                    "metadata": {}
                },
                {
                    "output_type": "execute_result",
                    "metadata": {},
                    "execution_count": 14,
                    "data": {
                        "application/vnd.dataresource+json": {
                            "schema": {
                                "fields": [
                                    {
                                        "name": "SZALLAS_NEV"
                                    },
                                    {
                                        "name": "(No column name)"
                                    }
                                ]
                            },
                            "data": [
                                {
                                    "SZALLAS_NEV": "Szieszta Apartmanház",
                                    "(No column name)": "3"
                                },
                                {
                                    "SZALLAS_NEV": "Jáde panzió",
                                    "(No column name)": "2"
                                },
                                {
                                    "SZALLAS_NEV": "Sába-Ház",
                                    "(No column name)": "2"
                                },
                                {
                                    "SZALLAS_NEV": "Fortuna Panzió",
                                    "(No column name)": "2"
                                },
                                {
                                    "SZALLAS_NEV": "Sába-Ház",
                                    "(No column name)": "1"
                                },
                                {
                                    "SZALLAS_NEV": "Kentaur Hotel",
                                    "(No column name)": "4"
                                },
                                {
                                    "SZALLAS_NEV": "Sába-Ház",
                                    "(No column name)": "2"
                                },
                                {
                                    "SZALLAS_NEV": "Lagúna Hotel",
                                    "(No column name)": "2"
                                },
                                {
                                    "SZALLAS_NEV": "Fortuna Apartman",
                                    "(No column name)": "2"
                                },
                                {
                                    "SZALLAS_NEV": "Gold Hotel",
                                    "(No column name)": "1"
                                },
                                {
                                    "SZALLAS_NEV": "Kentaur Hotel",
                                    "(No column name)": "2"
                                },
                                {
                                    "SZALLAS_NEV": "Sába-Ház",
                                    "(No column name)": "2"
                                },
                                {
                                    "SZALLAS_NEV": "Partiszél Vendégház",
                                    "(No column name)": "2"
                                },
                                {
                                    "SZALLAS_NEV": "Gold Hotel",
                                    "(No column name)": "2"
                                },
                                {
                                    "SZALLAS_NEV": "Kentaur Hotel",
                                    "(No column name)": "2"
                                },
                                {
                                    "SZALLAS_NEV": "Gold Hotel",
                                    "(No column name)": "2"
                                },
                                {
                                    "SZALLAS_NEV": "Gold Hotel",
                                    "(No column name)": "2"
                                },
                                {
                                    "SZALLAS_NEV": "Lagúna Hotel",
                                    "(No column name)": "4"
                                },
                                {
                                    "SZALLAS_NEV": "Hotel Három Hattyú",
                                    "(No column name)": "3"
                                },
                                {
                                    "SZALLAS_NEV": "Lagúna Hotel",
                                    "(No column name)": "3"
                                },
                                {
                                    "SZALLAS_NEV": "Gold Hotel",
                                    "(No column name)": "3"
                                },
                                {
                                    "SZALLAS_NEV": "Lagúna Hotel",
                                    "(No column name)": "2"
                                },
                                {
                                    "SZALLAS_NEV": "Jáde panzió",
                                    "(No column name)": "2"
                                },
                                {
                                    "SZALLAS_NEV": "Lagúna Hotel",
                                    "(No column name)": "3"
                                },
                                {
                                    "SZALLAS_NEV": "Lagúna Hotel",
                                    "(No column name)": "2"
                                },
                                {
                                    "SZALLAS_NEV": "Kentaur Hotel",
                                    "(No column name)": "3"
                                },
                                {
                                    "SZALLAS_NEV": "Lagúna Hotel",
                                    "(No column name)": "2"
                                },
                                {
                                    "SZALLAS_NEV": "Kentaur Hotel",
                                    "(No column name)": "3"
                                },
                                {
                                    "SZALLAS_NEV": "Hotel Három Hattyú",
                                    "(No column name)": "1"
                                },
                                {
                                    "SZALLAS_NEV": "Hotel Három Hattyú",
                                    "(No column name)": "1"
                                },
                                {
                                    "SZALLAS_NEV": "Lagúna Hotel",
                                    "(No column name)": "4"
                                },
                                {
                                    "SZALLAS_NEV": "Fortuna Panzió",
                                    "(No column name)": "3"
                                },
                                {
                                    "SZALLAS_NEV": "Fortuna Panzió",
                                    "(No column name)": "2"
                                },
                                {
                                    "SZALLAS_NEV": "Lagúna Hotel",
                                    "(No column name)": "2"
                                },
                                {
                                    "SZALLAS_NEV": "Gold Hotel",
                                    "(No column name)": "2"
                                },
                                {
                                    "SZALLAS_NEV": "Kentaur Hotel",
                                    "(No column name)": "3"
                                },
                                {
                                    "SZALLAS_NEV": "Lagúna Hotel",
                                    "(No column name)": "2"
                                },
                                {
                                    "SZALLAS_NEV": "Kentaur Hotel",
                                    "(No column name)": "2"
                                },
                                {
                                    "SZALLAS_NEV": "Hotel Három Hattyú",
                                    "(No column name)": "3"
                                },
                                {
                                    "SZALLAS_NEV": "Hotel Három Hattyú",
                                    "(No column name)": "2"
                                },
                                {
                                    "SZALLAS_NEV": "Fortuna panzió",
                                    "(No column name)": "4"
                                },
                                {
                                    "SZALLAS_NEV": "Partiszél Vendégház",
                                    "(No column name)": "3"
                                },
                                {
                                    "SZALLAS_NEV": "Gold Hotel",
                                    "(No column name)": "1"
                                },
                                {
                                    "SZALLAS_NEV": "Fortuna panzió",
                                    "(No column name)": "1"
                                },
                                {
                                    "SZALLAS_NEV": "Fortuna Apartman",
                                    "(No column name)": "4"
                                },
                                {
                                    "SZALLAS_NEV": "Fortuna Panzió",
                                    "(No column name)": "3"
                                },
                                {
                                    "SZALLAS_NEV": "Fortuna panzió",
                                    "(No column name)": "2"
                                },
                                {
                                    "SZALLAS_NEV": "Hotel Három Hattyú",
                                    "(No column name)": "3"
                                },
                                {
                                    "SZALLAS_NEV": "Fortuna panzió",
                                    "(No column name)": "4"
                                },
                                {
                                    "SZALLAS_NEV": "Hotel Három Hattyú",
                                    "(No column name)": "3"
                                },
                                {
                                    "SZALLAS_NEV": "Gold Hotel",
                                    "(No column name)": "2"
                                },
                                {
                                    "SZALLAS_NEV": "Sába-Ház",
                                    "(No column name)": "2"
                                },
                                {
                                    "SZALLAS_NEV": "Hotel Három Hattyú",
                                    "(No column name)": "1"
                                },
                                {
                                    "SZALLAS_NEV": "Fortuna panzió",
                                    "(No column name)": "2"
                                },
                                {
                                    "SZALLAS_NEV": "Hotel Három Hattyú",
                                    "(No column name)": "2"
                                },
                                {
                                    "SZALLAS_NEV": "Jáde panzió",
                                    "(No column name)": "2"
                                },
                                {
                                    "SZALLAS_NEV": "Hotel Három Hattyú",
                                    "(No column name)": "3"
                                },
                                {
                                    "SZALLAS_NEV": "Gold Hotel",
                                    "(No column name)": "3"
                                },
                                {
                                    "SZALLAS_NEV": "Hotel Három Hattyú",
                                    "(No column name)": "2"
                                },
                                {
                                    "SZALLAS_NEV": "Hotel Három Hattyú",
                                    "(No column name)": "3"
                                },
                                {
                                    "SZALLAS_NEV": "Hotel Három Hattyú",
                                    "(No column name)": "2"
                                },
                                {
                                    "SZALLAS_NEV": "Jáde panzió",
                                    "(No column name)": "2"
                                },
                                {
                                    "SZALLAS_NEV": "Sába-Ház",
                                    "(No column name)": "1"
                                },
                                {
                                    "SZALLAS_NEV": "Hotel Három Hattyú",
                                    "(No column name)": "2"
                                },
                                {
                                    "SZALLAS_NEV": "Kentaur Hotel",
                                    "(No column name)": "2"
                                },
                                {
                                    "SZALLAS_NEV": "Hotel Három Hattyú",
                                    "(No column name)": "3"
                                },
                                {
                                    "SZALLAS_NEV": "Fortuna panzió",
                                    "(No column name)": "4"
                                },
                                {
                                    "SZALLAS_NEV": "Kentaur Hotel",
                                    "(No column name)": "2"
                                },
                                {
                                    "SZALLAS_NEV": "Fortuna Apartman",
                                    "(No column name)": "2"
                                },
                                {
                                    "SZALLAS_NEV": "Fortuna panzió",
                                    "(No column name)": "3"
                                },
                                {
                                    "SZALLAS_NEV": "Fortuna Panzió",
                                    "(No column name)": "3"
                                },
                                {
                                    "SZALLAS_NEV": "Sába-Ház",
                                    "(No column name)": "3"
                                },
                                {
                                    "SZALLAS_NEV": "Partiszél Vendégház",
                                    "(No column name)": "2"
                                },
                                {
                                    "SZALLAS_NEV": "Hotel Három Hattyú",
                                    "(No column name)": "1"
                                },
                                {
                                    "SZALLAS_NEV": "Hotel Három Hattyú",
                                    "(No column name)": "2"
                                },
                                {
                                    "SZALLAS_NEV": "Gold Hotel",
                                    "(No column name)": "3"
                                },
                                {
                                    "SZALLAS_NEV": "Gold Hotel",
                                    "(No column name)": "2"
                                },
                                {
                                    "SZALLAS_NEV": "Hotel Három Hattyú",
                                    "(No column name)": "4"
                                },
                                {
                                    "SZALLAS_NEV": "Hotel Három Hattyú",
                                    "(No column name)": "2"
                                },
                                {
                                    "SZALLAS_NEV": "Hotel Három Hattyú",
                                    "(No column name)": "2"
                                },
                                {
                                    "SZALLAS_NEV": "Kentaur Hotel",
                                    "(No column name)": "1"
                                },
                                {
                                    "SZALLAS_NEV": "Partiszél Vendégház",
                                    "(No column name)": "3"
                                },
                                {
                                    "SZALLAS_NEV": "Gold Hotel",
                                    "(No column name)": "2"
                                },
                                {
                                    "SZALLAS_NEV": "Lagúna Hotel",
                                    "(No column name)": "3"
                                },
                                {
                                    "SZALLAS_NEV": "Kentaur Hotel",
                                    "(No column name)": "2"
                                },
                                {
                                    "SZALLAS_NEV": "Hotel Három Hattyú",
                                    "(No column name)": "2"
                                },
                                {
                                    "SZALLAS_NEV": "Gold Hotel",
                                    "(No column name)": "2"
                                },
                                {
                                    "SZALLAS_NEV": "Kentaur Hotel",
                                    "(No column name)": "4"
                                },
                                {
                                    "SZALLAS_NEV": "Kentaur Hotel",
                                    "(No column name)": "3"
                                },
                                {
                                    "SZALLAS_NEV": "Szieszta Apartmanház",
                                    "(No column name)": "2"
                                },
                                {
                                    "SZALLAS_NEV": "Lagúna Hotel",
                                    "(No column name)": "1"
                                },
                                {
                                    "SZALLAS_NEV": "Lagúna Hotel",
                                    "(No column name)": "2"
                                },
                                {
                                    "SZALLAS_NEV": "Kentaur Hotel",
                                    "(No column name)": "2"
                                },
                                {
                                    "SZALLAS_NEV": "Sába-Ház",
                                    "(No column name)": "1"
                                },
                                {
                                    "SZALLAS_NEV": "Lagúna Hotel",
                                    "(No column name)": "1"
                                },
                                {
                                    "SZALLAS_NEV": "Partiszél Vendégház",
                                    "(No column name)": "2"
                                },
                                {
                                    "SZALLAS_NEV": "Hotel Három Hattyú",
                                    "(No column name)": "2"
                                },
                                {
                                    "SZALLAS_NEV": "Jáde panzió",
                                    "(No column name)": "2"
                                },
                                {
                                    "SZALLAS_NEV": "Hotel Három Hattyú",
                                    "(No column name)": "2"
                                },
                                {
                                    "SZALLAS_NEV": "Lagúna Hotel",
                                    "(No column name)": "1"
                                },
                                {
                                    "SZALLAS_NEV": "Fortuna Panzió",
                                    "(No column name)": "3"
                                },
                                {
                                    "SZALLAS_NEV": "Gold Hotel",
                                    "(No column name)": "2"
                                },
                                {
                                    "SZALLAS_NEV": "Fortuna Apartman",
                                    "(No column name)": "3"
                                },
                                {
                                    "SZALLAS_NEV": "Lagúna Hotel",
                                    "(No column name)": "1"
                                },
                                {
                                    "SZALLAS_NEV": "Gold Hotel",
                                    "(No column name)": "4"
                                },
                                {
                                    "SZALLAS_NEV": "Családi Ház",
                                    "(No column name)": "4"
                                },
                                {
                                    "SZALLAS_NEV": "Lagúna Hotel",
                                    "(No column name)": "2"
                                },
                                {
                                    "SZALLAS_NEV": "Hotel Három Hattyú",
                                    "(No column name)": "2"
                                },
                                {
                                    "SZALLAS_NEV": "Sába-Ház",
                                    "(No column name)": "3"
                                },
                                {
                                    "SZALLAS_NEV": "Kentaur Hotel",
                                    "(No column name)": "3"
                                },
                                {
                                    "SZALLAS_NEV": "Kentaur Hotel",
                                    "(No column name)": "3"
                                },
                                {
                                    "SZALLAS_NEV": "Gold Hotel",
                                    "(No column name)": "1"
                                },
                                {
                                    "SZALLAS_NEV": "Fortuna Panzió",
                                    "(No column name)": "2"
                                },
                                {
                                    "SZALLAS_NEV": "Hotel Három Hattyú",
                                    "(No column name)": "3"
                                },
                                {
                                    "SZALLAS_NEV": "Gold Hotel",
                                    "(No column name)": "3"
                                },
                                {
                                    "SZALLAS_NEV": "Gold Hotel",
                                    "(No column name)": "2"
                                },
                                {
                                    "SZALLAS_NEV": "Kentaur Hotel",
                                    "(No column name)": "3"
                                },
                                {
                                    "SZALLAS_NEV": "Gold Hotel",
                                    "(No column name)": "3"
                                },
                                {
                                    "SZALLAS_NEV": "Kentaur Hotel",
                                    "(No column name)": "2"
                                },
                                {
                                    "SZALLAS_NEV": "Gold Hotel",
                                    "(No column name)": "3"
                                },
                                {
                                    "SZALLAS_NEV": "Lagúna Hotel",
                                    "(No column name)": "2"
                                },
                                {
                                    "SZALLAS_NEV": "Gold Hotel",
                                    "(No column name)": "3"
                                },
                                {
                                    "SZALLAS_NEV": "Gold Hotel",
                                    "(No column name)": "2"
                                },
                                {
                                    "SZALLAS_NEV": "Kentaur Hotel",
                                    "(No column name)": "2"
                                },
                                {
                                    "SZALLAS_NEV": "Gold Hotel",
                                    "(No column name)": "2"
                                },
                                {
                                    "SZALLAS_NEV": "Kentaur Hotel",
                                    "(No column name)": "2"
                                },
                                {
                                    "SZALLAS_NEV": "Gold Hotel",
                                    "(No column name)": "1"
                                },
                                {
                                    "SZALLAS_NEV": "Hotel Három Hattyú",
                                    "(No column name)": "2"
                                },
                                {
                                    "SZALLAS_NEV": "Fortuna panzió",
                                    "(No column name)": "2"
                                },
                                {
                                    "SZALLAS_NEV": "Családi Ház",
                                    "(No column name)": "2"
                                },
                                {
                                    "SZALLAS_NEV": "Fortuna panzió",
                                    "(No column name)": "2"
                                },
                                {
                                    "SZALLAS_NEV": "Hotel Három Hattyú",
                                    "(No column name)": "1"
                                },
                                {
                                    "SZALLAS_NEV": "Gold Hotel",
                                    "(No column name)": "2"
                                },
                                {
                                    "SZALLAS_NEV": "Hotel Három Hattyú",
                                    "(No column name)": "2"
                                },
                                {
                                    "SZALLAS_NEV": "Lagúna Hotel",
                                    "(No column name)": "2"
                                },
                                {
                                    "SZALLAS_NEV": "Gold Hotel",
                                    "(No column name)": "2"
                                },
                                {
                                    "SZALLAS_NEV": "Sába-Ház",
                                    "(No column name)": "2"
                                },
                                {
                                    "SZALLAS_NEV": "Gold Hotel",
                                    "(No column name)": "3"
                                },
                                {
                                    "SZALLAS_NEV": "Fortuna Apartman",
                                    "(No column name)": "3"
                                },
                                {
                                    "SZALLAS_NEV": "Sába-Ház",
                                    "(No column name)": "1"
                                },
                                {
                                    "SZALLAS_NEV": "Kentaur Hotel",
                                    "(No column name)": "3"
                                },
                                {
                                    "SZALLAS_NEV": "Gold Hotel",
                                    "(No column name)": "2"
                                },
                                {
                                    "SZALLAS_NEV": "Kentaur Hotel",
                                    "(No column name)": "3"
                                },
                                {
                                    "SZALLAS_NEV": "Kentaur Hotel",
                                    "(No column name)": "2"
                                },
                                {
                                    "SZALLAS_NEV": "Kentaur Hotel",
                                    "(No column name)": "1"
                                },
                                {
                                    "SZALLAS_NEV": "Lagúna Hotel",
                                    "(No column name)": "4"
                                },
                                {
                                    "SZALLAS_NEV": "Kentaur Hotel",
                                    "(No column name)": "3"
                                },
                                {
                                    "SZALLAS_NEV": "Fortuna panzió",
                                    "(No column name)": "1"
                                },
                                {
                                    "SZALLAS_NEV": "Hotel Három Hattyú",
                                    "(No column name)": "2"
                                },
                                {
                                    "SZALLAS_NEV": "Fortuna panzió",
                                    "(No column name)": "3"
                                },
                                {
                                    "SZALLAS_NEV": "Hotel Három Hattyú",
                                    "(No column name)": "1"
                                },
                                {
                                    "SZALLAS_NEV": "Gold Hotel",
                                    "(No column name)": "1"
                                },
                                {
                                    "SZALLAS_NEV": "Gold Hotel",
                                    "(No column name)": "2"
                                },
                                {
                                    "SZALLAS_NEV": "Gold Hotel",
                                    "(No column name)": "3"
                                },
                                {
                                    "SZALLAS_NEV": "Kentaur Hotel",
                                    "(No column name)": "3"
                                },
                                {
                                    "SZALLAS_NEV": "Fortuna Apartman",
                                    "(No column name)": "2"
                                },
                                {
                                    "SZALLAS_NEV": "Kentaur Hotel",
                                    "(No column name)": "3"
                                },
                                {
                                    "SZALLAS_NEV": "Hotel Három Hattyú",
                                    "(No column name)": "2"
                                },
                                {
                                    "SZALLAS_NEV": "Hotel Három Hattyú",
                                    "(No column name)": "3"
                                },
                                {
                                    "SZALLAS_NEV": "Hotel Három Hattyú",
                                    "(No column name)": "2"
                                },
                                {
                                    "SZALLAS_NEV": "Hotel Három Hattyú",
                                    "(No column name)": "5"
                                },
                                {
                                    "SZALLAS_NEV": "Kentaur Hotel",
                                    "(No column name)": "3"
                                },
                                {
                                    "SZALLAS_NEV": "Partiszél Vendégház",
                                    "(No column name)": "4"
                                },
                                {
                                    "SZALLAS_NEV": "Gold Hotel",
                                    "(No column name)": "2"
                                },
                                {
                                    "SZALLAS_NEV": "Hotel Három Hattyú",
                                    "(No column name)": "2"
                                },
                                {
                                    "SZALLAS_NEV": "Hotel Három Hattyú",
                                    "(No column name)": "2"
                                },
                                {
                                    "SZALLAS_NEV": "Lagúna Hotel",
                                    "(No column name)": "2"
                                },
                                {
                                    "SZALLAS_NEV": "Fortuna panzió",
                                    "(No column name)": "2"
                                },
                                {
                                    "SZALLAS_NEV": "Hotel Három Hattyú",
                                    "(No column name)": "4"
                                },
                                {
                                    "SZALLAS_NEV": "Hotel Három Hattyú",
                                    "(No column name)": "2"
                                },
                                {
                                    "SZALLAS_NEV": "Fortuna panzió",
                                    "(No column name)": "4"
                                },
                                {
                                    "SZALLAS_NEV": "Szieszta Apartmanház",
                                    "(No column name)": "2"
                                },
                                {
                                    "SZALLAS_NEV": "Lagúna Hotel",
                                    "(No column name)": "2"
                                },
                                {
                                    "SZALLAS_NEV": "Gold Hotel",
                                    "(No column name)": "3"
                                },
                                {
                                    "SZALLAS_NEV": "Hotel Három Hattyú",
                                    "(No column name)": "2"
                                },
                                {
                                    "SZALLAS_NEV": "Lagúna Hotel",
                                    "(No column name)": "1"
                                },
                                {
                                    "SZALLAS_NEV": "Kentaur Hotel",
                                    "(No column name)": "3"
                                },
                                {
                                    "SZALLAS_NEV": "Hotel Három Hattyú",
                                    "(No column name)": "2"
                                },
                                {
                                    "SZALLAS_NEV": "Kentaur Hotel",
                                    "(No column name)": "3"
                                },
                                {
                                    "SZALLAS_NEV": "Hotel Három Hattyú",
                                    "(No column name)": "2"
                                },
                                {
                                    "SZALLAS_NEV": "Sába-Ház",
                                    "(No column name)": "3"
                                },
                                {
                                    "SZALLAS_NEV": "Hotel Három Hattyú",
                                    "(No column name)": "2"
                                },
                                {
                                    "SZALLAS_NEV": "Gold Hotel",
                                    "(No column name)": "2"
                                },
                                {
                                    "SZALLAS_NEV": "Hotel Három Hattyú",
                                    "(No column name)": "4"
                                },
                                {
                                    "SZALLAS_NEV": "Partiszél Vendégház",
                                    "(No column name)": "2"
                                },
                                {
                                    "SZALLAS_NEV": "Gold Hotel",
                                    "(No column name)": "2"
                                },
                                {
                                    "SZALLAS_NEV": "Fortuna Apartman",
                                    "(No column name)": "2"
                                },
                                {
                                    "SZALLAS_NEV": "Lagúna Hotel",
                                    "(No column name)": "2"
                                },
                                {
                                    "SZALLAS_NEV": "Gold Hotel",
                                    "(No column name)": "3"
                                },
                                {
                                    "SZALLAS_NEV": "Gold Hotel",
                                    "(No column name)": "3"
                                },
                                {
                                    "SZALLAS_NEV": "Fortuna panzió",
                                    "(No column name)": "4"
                                },
                                {
                                    "SZALLAS_NEV": "Gold Hotel",
                                    "(No column name)": "4"
                                },
                                {
                                    "SZALLAS_NEV": "Fortuna panzió",
                                    "(No column name)": "4"
                                },
                                {
                                    "SZALLAS_NEV": "Lagúna Hotel",
                                    "(No column name)": "2"
                                },
                                {
                                    "SZALLAS_NEV": "Fortuna Panzió",
                                    "(No column name)": "2"
                                },
                                {
                                    "SZALLAS_NEV": "Gold Hotel",
                                    "(No column name)": "2"
                                },
                                {
                                    "SZALLAS_NEV": "Hotel Három Hattyú",
                                    "(No column name)": "3"
                                },
                                {
                                    "SZALLAS_NEV": "Fortuna Apartman",
                                    "(No column name)": "1"
                                },
                                {
                                    "SZALLAS_NEV": "Kentaur Hotel",
                                    "(No column name)": "3"
                                },
                                {
                                    "SZALLAS_NEV": "Szieszta Apartmanház",
                                    "(No column name)": "1"
                                },
                                {
                                    "SZALLAS_NEV": "Fortuna panzió",
                                    "(No column name)": "4"
                                },
                                {
                                    "SZALLAS_NEV": "Sába-Ház",
                                    "(No column name)": "2"
                                },
                                {
                                    "SZALLAS_NEV": "Jáde panzió",
                                    "(No column name)": "2"
                                },
                                {
                                    "SZALLAS_NEV": "Lagúna Hotel",
                                    "(No column name)": "2"
                                },
                                {
                                    "SZALLAS_NEV": "Hotel Három Hattyú",
                                    "(No column name)": "3"
                                },
                                {
                                    "SZALLAS_NEV": "Családi Ház",
                                    "(No column name)": "3"
                                },
                                {
                                    "SZALLAS_NEV": "Gold Hotel",
                                    "(No column name)": "3"
                                },
                                {
                                    "SZALLAS_NEV": "Lagúna Hotel",
                                    "(No column name)": "2"
                                },
                                {
                                    "SZALLAS_NEV": "Gold Hotel",
                                    "(No column name)": "2"
                                },
                                {
                                    "SZALLAS_NEV": "Fortuna Apartman",
                                    "(No column name)": "3"
                                },
                                {
                                    "SZALLAS_NEV": "Lagúna Hotel",
                                    "(No column name)": "4"
                                },
                                {
                                    "SZALLAS_NEV": "Kentaur Hotel",
                                    "(No column name)": "2"
                                },
                                {
                                    "SZALLAS_NEV": "Fortuna Panzió",
                                    "(No column name)": "3"
                                },
                                {
                                    "SZALLAS_NEV": "Lagúna Hotel",
                                    "(No column name)": "2"
                                },
                                {
                                    "SZALLAS_NEV": "Sába-Ház",
                                    "(No column name)": "3"
                                },
                                {
                                    "SZALLAS_NEV": "Kentaur Hotel",
                                    "(No column name)": "2"
                                },
                                {
                                    "SZALLAS_NEV": "Gold Hotel",
                                    "(No column name)": "2"
                                },
                                {
                                    "SZALLAS_NEV": "Sába-Ház",
                                    "(No column name)": "3"
                                },
                                {
                                    "SZALLAS_NEV": "Hotel Három Hattyú",
                                    "(No column name)": "3"
                                },
                                {
                                    "SZALLAS_NEV": "Fortuna panzió",
                                    "(No column name)": "2"
                                },
                                {
                                    "SZALLAS_NEV": "Fortuna Apartman",
                                    "(No column name)": "3"
                                },
                                {
                                    "SZALLAS_NEV": "Jáde panzió",
                                    "(No column name)": "1"
                                },
                                {
                                    "SZALLAS_NEV": "Hotel Három Hattyú",
                                    "(No column name)": "2"
                                },
                                {
                                    "SZALLAS_NEV": "Gold Hotel",
                                    "(No column name)": "1"
                                },
                                {
                                    "SZALLAS_NEV": "Partiszél Vendégház",
                                    "(No column name)": "1"
                                },
                                {
                                    "SZALLAS_NEV": "Lagúna Hotel",
                                    "(No column name)": "2"
                                },
                                {
                                    "SZALLAS_NEV": "Lagúna Hotel",
                                    "(No column name)": "2"
                                },
                                {
                                    "SZALLAS_NEV": "Gold Hotel",
                                    "(No column name)": "4"
                                },
                                {
                                    "SZALLAS_NEV": "Hotel Három Hattyú",
                                    "(No column name)": "2"
                                },
                                {
                                    "SZALLAS_NEV": "Kentaur Hotel",
                                    "(No column name)": "1"
                                },
                                {
                                    "SZALLAS_NEV": "Sába-Ház",
                                    "(No column name)": "4"
                                },
                                {
                                    "SZALLAS_NEV": "Lagúna Hotel",
                                    "(No column name)": "3"
                                },
                                {
                                    "SZALLAS_NEV": "Sába-Ház",
                                    "(No column name)": "1"
                                },
                                {
                                    "SZALLAS_NEV": "Családi Ház",
                                    "(No column name)": "2"
                                },
                                {
                                    "SZALLAS_NEV": "Gold Hotel",
                                    "(No column name)": "4"
                                },
                                {
                                    "SZALLAS_NEV": "Fortuna Panzió",
                                    "(No column name)": "3"
                                },
                                {
                                    "SZALLAS_NEV": "Gold Hotel",
                                    "(No column name)": "4"
                                },
                                {
                                    "SZALLAS_NEV": "Sába-Ház",
                                    "(No column name)": "3"
                                },
                                {
                                    "SZALLAS_NEV": "Lagúna Hotel",
                                    "(No column name)": "3"
                                },
                                {
                                    "SZALLAS_NEV": "Kentaur Hotel",
                                    "(No column name)": "4"
                                },
                                {
                                    "SZALLAS_NEV": "Kentaur Hotel",
                                    "(No column name)": "3"
                                },
                                {
                                    "SZALLAS_NEV": "Gold Hotel",
                                    "(No column name)": "1"
                                },
                                {
                                    "SZALLAS_NEV": "Fortuna Panzió",
                                    "(No column name)": "2"
                                },
                                {
                                    "SZALLAS_NEV": "Hotel Három Hattyú",
                                    "(No column name)": "3"
                                },
                                {
                                    "SZALLAS_NEV": "Fortuna Panzió",
                                    "(No column name)": "2"
                                },
                                {
                                    "SZALLAS_NEV": "Sába-Ház",
                                    "(No column name)": "1"
                                },
                                {
                                    "SZALLAS_NEV": "Lagúna Hotel",
                                    "(No column name)": "3"
                                },
                                {
                                    "SZALLAS_NEV": "Fortuna Apartman",
                                    "(No column name)": "3"
                                },
                                {
                                    "SZALLAS_NEV": "Hotel Három Hattyú",
                                    "(No column name)": "2"
                                },
                                {
                                    "SZALLAS_NEV": "Fortuna panzió",
                                    "(No column name)": "3"
                                },
                                {
                                    "SZALLAS_NEV": "Lagúna Hotel",
                                    "(No column name)": "2"
                                },
                                {
                                    "SZALLAS_NEV": "Hotel Három Hattyú",
                                    "(No column name)": "3"
                                },
                                {
                                    "SZALLAS_NEV": "Hotel Három Hattyú",
                                    "(No column name)": "3"
                                },
                                {
                                    "SZALLAS_NEV": "Kentaur Hotel",
                                    "(No column name)": "2"
                                },
                                {
                                    "SZALLAS_NEV": "Lagúna Hotel",
                                    "(No column name)": "2"
                                },
                                {
                                    "SZALLAS_NEV": "Családi Ház",
                                    "(No column name)": "3"
                                },
                                {
                                    "SZALLAS_NEV": "Kentaur Hotel",
                                    "(No column name)": "3"
                                },
                                {
                                    "SZALLAS_NEV": "Hotel Három Hattyú",
                                    "(No column name)": "3"
                                },
                                {
                                    "SZALLAS_NEV": "Gold Hotel",
                                    "(No column name)": "3"
                                },
                                {
                                    "SZALLAS_NEV": "Szieszta Apartmanház",
                                    "(No column name)": "3"
                                },
                                {
                                    "SZALLAS_NEV": "Sába-Ház",
                                    "(No column name)": "1"
                                },
                                {
                                    "SZALLAS_NEV": "Kentaur Hotel",
                                    "(No column name)": "2"
                                },
                                {
                                    "SZALLAS_NEV": "Fortuna Apartman",
                                    "(No column name)": "3"
                                },
                                {
                                    "SZALLAS_NEV": "Fortuna panzió",
                                    "(No column name)": "3"
                                },
                                {
                                    "SZALLAS_NEV": "Kentaur Hotel",
                                    "(No column name)": "2"
                                },
                                {
                                    "SZALLAS_NEV": "Fortuna Panzió",
                                    "(No column name)": "3"
                                },
                                {
                                    "SZALLAS_NEV": "Fortuna Panzió",
                                    "(No column name)": "3"
                                },
                                {
                                    "SZALLAS_NEV": "Lagúna Hotel",
                                    "(No column name)": "3"
                                },
                                {
                                    "SZALLAS_NEV": "Fortuna Panzió",
                                    "(No column name)": "2"
                                },
                                {
                                    "SZALLAS_NEV": "Hotel Három Hattyú",
                                    "(No column name)": "2"
                                },
                                {
                                    "SZALLAS_NEV": "Sába-Ház",
                                    "(No column name)": "4"
                                },
                                {
                                    "SZALLAS_NEV": "Fortuna panzió",
                                    "(No column name)": "3"
                                },
                                {
                                    "SZALLAS_NEV": "Kentaur Hotel",
                                    "(No column name)": "4"
                                },
                                {
                                    "SZALLAS_NEV": "Gold Hotel",
                                    "(No column name)": "2"
                                },
                                {
                                    "SZALLAS_NEV": "Sába-Ház",
                                    "(No column name)": "3"
                                },
                                {
                                    "SZALLAS_NEV": "Lagúna Hotel",
                                    "(No column name)": "2"
                                },
                                {
                                    "SZALLAS_NEV": "Lagúna Hotel",
                                    "(No column name)": "1"
                                },
                                {
                                    "SZALLAS_NEV": "Gold Hotel",
                                    "(No column name)": "5"
                                },
                                {
                                    "SZALLAS_NEV": "Hotel Három Hattyú",
                                    "(No column name)": "2"
                                },
                                {
                                    "SZALLAS_NEV": "Hotel Három Hattyú",
                                    "(No column name)": "3"
                                },
                                {
                                    "SZALLAS_NEV": "Kentaur Hotel",
                                    "(No column name)": "2"
                                },
                                {
                                    "SZALLAS_NEV": "Gold Hotel",
                                    "(No column name)": "1"
                                },
                                {
                                    "SZALLAS_NEV": "Lagúna Hotel",
                                    "(No column name)": "3"
                                },
                                {
                                    "SZALLAS_NEV": "Hotel Három Hattyú",
                                    "(No column name)": "4"
                                },
                                {
                                    "SZALLAS_NEV": "Gold Hotel",
                                    "(No column name)": "2"
                                },
                                {
                                    "SZALLAS_NEV": "Lagúna Hotel",
                                    "(No column name)": "2"
                                },
                                {
                                    "SZALLAS_NEV": "Szieszta Apartmanház",
                                    "(No column name)": "3"
                                },
                                {
                                    "SZALLAS_NEV": "Kentaur Hotel",
                                    "(No column name)": "1"
                                },
                                {
                                    "SZALLAS_NEV": "Fortuna Panzió",
                                    "(No column name)": "1"
                                },
                                {
                                    "SZALLAS_NEV": "Kentaur Hotel",
                                    "(No column name)": "3"
                                },
                                {
                                    "SZALLAS_NEV": "Fortuna Apartman",
                                    "(No column name)": "2"
                                },
                                {
                                    "SZALLAS_NEV": "Lagúna Hotel",
                                    "(No column name)": "2"
                                },
                                {
                                    "SZALLAS_NEV": "Sába-Ház",
                                    "(No column name)": "3"
                                },
                                {
                                    "SZALLAS_NEV": "Fortuna Panzió",
                                    "(No column name)": "3"
                                },
                                {
                                    "SZALLAS_NEV": "Fortuna Apartman",
                                    "(No column name)": "1"
                                },
                                {
                                    "SZALLAS_NEV": "Hotel Három Hattyú",
                                    "(No column name)": "2"
                                },
                                {
                                    "SZALLAS_NEV": "Gold Hotel",
                                    "(No column name)": "1"
                                },
                                {
                                    "SZALLAS_NEV": "Kentaur Hotel",
                                    "(No column name)": "3"
                                },
                                {
                                    "SZALLAS_NEV": "Családi Ház",
                                    "(No column name)": "4"
                                },
                                {
                                    "SZALLAS_NEV": "Gold Hotel",
                                    "(No column name)": "1"
                                },
                                {
                                    "SZALLAS_NEV": "Hotel Három Hattyú",
                                    "(No column name)": "1"
                                },
                                {
                                    "SZALLAS_NEV": "Szieszta Apartmanház",
                                    "(No column name)": "3"
                                },
                                {
                                    "SZALLAS_NEV": "Kentaur Hotel",
                                    "(No column name)": "1"
                                },
                                {
                                    "SZALLAS_NEV": "Hotel Három Hattyú",
                                    "(No column name)": "3"
                                },
                                {
                                    "SZALLAS_NEV": "Kentaur Hotel",
                                    "(No column name)": "3"
                                },
                                {
                                    "SZALLAS_NEV": "Gold Hotel",
                                    "(No column name)": "3"
                                },
                                {
                                    "SZALLAS_NEV": "Hotel Három Hattyú",
                                    "(No column name)": "2"
                                },
                                {
                                    "SZALLAS_NEV": "Kentaur Hotel",
                                    "(No column name)": "2"
                                },
                                {
                                    "SZALLAS_NEV": "Szieszta Apartmanház",
                                    "(No column name)": "2"
                                },
                                {
                                    "SZALLAS_NEV": "Gold Hotel",
                                    "(No column name)": "1"
                                },
                                {
                                    "SZALLAS_NEV": "Gold Hotel",
                                    "(No column name)": "4"
                                },
                                {
                                    "SZALLAS_NEV": "Kentaur Hotel",
                                    "(No column name)": "3"
                                },
                                {
                                    "SZALLAS_NEV": "Fortuna panzió",
                                    "(No column name)": "2"
                                },
                                {
                                    "SZALLAS_NEV": "Kentaur Hotel",
                                    "(No column name)": "3"
                                },
                                {
                                    "SZALLAS_NEV": "Fortuna panzió",
                                    "(No column name)": "1"
                                },
                                {
                                    "SZALLAS_NEV": "Sába-Ház",
                                    "(No column name)": "2"
                                },
                                {
                                    "SZALLAS_NEV": "Kentaur Hotel",
                                    "(No column name)": "2"
                                },
                                {
                                    "SZALLAS_NEV": "Kentaur Hotel",
                                    "(No column name)": "2"
                                },
                                {
                                    "SZALLAS_NEV": "Sába-Ház",
                                    "(No column name)": "3"
                                },
                                {
                                    "SZALLAS_NEV": "Kentaur Hotel",
                                    "(No column name)": "3"
                                },
                                {
                                    "SZALLAS_NEV": "Kentaur Hotel",
                                    "(No column name)": "1"
                                },
                                {
                                    "SZALLAS_NEV": "Hotel Három Hattyú",
                                    "(No column name)": "2"
                                },
                                {
                                    "SZALLAS_NEV": "Gold Hotel",
                                    "(No column name)": "1"
                                },
                                {
                                    "SZALLAS_NEV": "Jáde panzió",
                                    "(No column name)": "1"
                                },
                                {
                                    "SZALLAS_NEV": "Sába-Ház",
                                    "(No column name)": "2"
                                },
                                {
                                    "SZALLAS_NEV": "Kentaur Hotel",
                                    "(No column name)": "2"
                                },
                                {
                                    "SZALLAS_NEV": "Hotel Három Hattyú",
                                    "(No column name)": "1"
                                },
                                {
                                    "SZALLAS_NEV": "Kentaur Hotel",
                                    "(No column name)": "3"
                                },
                                {
                                    "SZALLAS_NEV": "Fortuna panzió",
                                    "(No column name)": "2"
                                },
                                {
                                    "SZALLAS_NEV": "Kentaur Hotel",
                                    "(No column name)": "2"
                                },
                                {
                                    "SZALLAS_NEV": "Fortuna Panzió",
                                    "(No column name)": "3"
                                },
                                {
                                    "SZALLAS_NEV": "Kentaur Hotel",
                                    "(No column name)": "2"
                                },
                                {
                                    "SZALLAS_NEV": "Lagúna Hotel",
                                    "(No column name)": "3"
                                },
                                {
                                    "SZALLAS_NEV": "Kentaur Hotel",
                                    "(No column name)": "1"
                                },
                                {
                                    "SZALLAS_NEV": "Gold Hotel",
                                    "(No column name)": "1"
                                },
                                {
                                    "SZALLAS_NEV": "Lagúna Hotel",
                                    "(No column name)": "1"
                                },
                                {
                                    "SZALLAS_NEV": "Fortuna panzió",
                                    "(No column name)": "2"
                                },
                                {
                                    "SZALLAS_NEV": "Fortuna panzió",
                                    "(No column name)": "5"
                                },
                                {
                                    "SZALLAS_NEV": "Családi Ház",
                                    "(No column name)": "2"
                                },
                                {
                                    "SZALLAS_NEV": "Gold Hotel",
                                    "(No column name)": "1"
                                },
                                {
                                    "SZALLAS_NEV": "Gold Hotel",
                                    "(No column name)": "3"
                                },
                                {
                                    "SZALLAS_NEV": "Fortuna panzió",
                                    "(No column name)": "2"
                                },
                                {
                                    "SZALLAS_NEV": "Gold Hotel",
                                    "(No column name)": "2"
                                },
                                {
                                    "SZALLAS_NEV": "Fortuna panzió",
                                    "(No column name)": "2"
                                },
                                {
                                    "SZALLAS_NEV": "Kentaur Hotel",
                                    "(No column name)": "2"
                                },
                                {
                                    "SZALLAS_NEV": "Gold Hotel",
                                    "(No column name)": "3"
                                },
                                {
                                    "SZALLAS_NEV": "Fortuna panzió",
                                    "(No column name)": "1"
                                },
                                {
                                    "SZALLAS_NEV": "Gold Hotel",
                                    "(No column name)": "4"
                                },
                                {
                                    "SZALLAS_NEV": "Fortuna Apartman",
                                    "(No column name)": "2"
                                },
                                {
                                    "SZALLAS_NEV": "Lagúna Hotel",
                                    "(No column name)": "2"
                                },
                                {
                                    "SZALLAS_NEV": "Lagúna Hotel",
                                    "(No column name)": "2"
                                },
                                {
                                    "SZALLAS_NEV": "Jáde panzió",
                                    "(No column name)": "3"
                                },
                                {
                                    "SZALLAS_NEV": "Jáde panzió",
                                    "(No column name)": "2"
                                },
                                {
                                    "SZALLAS_NEV": "Partiszél Vendégház",
                                    "(No column name)": "2"
                                },
                                {
                                    "SZALLAS_NEV": "Gold Hotel",
                                    "(No column name)": "3"
                                },
                                {
                                    "SZALLAS_NEV": "Gold Hotel",
                                    "(No column name)": "2"
                                },
                                {
                                    "SZALLAS_NEV": "Fortuna Panzió",
                                    "(No column name)": "3"
                                },
                                {
                                    "SZALLAS_NEV": "Lagúna Hotel",
                                    "(No column name)": "2"
                                },
                                {
                                    "SZALLAS_NEV": "Fortuna Apartman",
                                    "(No column name)": "3"
                                },
                                {
                                    "SZALLAS_NEV": "Gold Hotel",
                                    "(No column name)": "2"
                                },
                                {
                                    "SZALLAS_NEV": "Sába-Ház",
                                    "(No column name)": "3"
                                },
                                {
                                    "SZALLAS_NEV": "Fortuna panzió",
                                    "(No column name)": "4"
                                },
                                {
                                    "SZALLAS_NEV": "Fortuna panzió",
                                    "(No column name)": "2"
                                },
                                {
                                    "SZALLAS_NEV": "Hotel Három Hattyú",
                                    "(No column name)": "3"
                                },
                                {
                                    "SZALLAS_NEV": "Partiszél Vendégház",
                                    "(No column name)": "4"
                                },
                                {
                                    "SZALLAS_NEV": "Hotel Három Hattyú",
                                    "(No column name)": "1"
                                },
                                {
                                    "SZALLAS_NEV": "Fortuna Panzió",
                                    "(No column name)": "3"
                                },
                                {
                                    "SZALLAS_NEV": "Gold Hotel",
                                    "(No column name)": "3"
                                },
                                {
                                    "SZALLAS_NEV": "Gold Hotel",
                                    "(No column name)": "5"
                                },
                                {
                                    "SZALLAS_NEV": "Partiszél Vendégház",
                                    "(No column name)": "3"
                                },
                                {
                                    "SZALLAS_NEV": "Gold Hotel",
                                    "(No column name)": "2"
                                },
                                {
                                    "SZALLAS_NEV": "Kentaur Hotel",
                                    "(No column name)": "2"
                                },
                                {
                                    "SZALLAS_NEV": "Gold Hotel",
                                    "(No column name)": "4"
                                },
                                {
                                    "SZALLAS_NEV": "Hotel Három Hattyú",
                                    "(No column name)": "2"
                                },
                                {
                                    "SZALLAS_NEV": "Fortuna Panzió",
                                    "(No column name)": "3"
                                },
                                {
                                    "SZALLAS_NEV": "Partiszél Vendégház",
                                    "(No column name)": "3"
                                },
                                {
                                    "SZALLAS_NEV": "Fortuna Apartman",
                                    "(No column name)": "2"
                                },
                                {
                                    "SZALLAS_NEV": "Kentaur Hotel",
                                    "(No column name)": "1"
                                },
                                {
                                    "SZALLAS_NEV": "Kentaur Hotel",
                                    "(No column name)": "2"
                                },
                                {
                                    "SZALLAS_NEV": "Gold Hotel",
                                    "(No column name)": "3"
                                },
                                {
                                    "SZALLAS_NEV": "Kentaur Hotel",
                                    "(No column name)": "2"
                                },
                                {
                                    "SZALLAS_NEV": "Gold Hotel",
                                    "(No column name)": "3"
                                },
                                {
                                    "SZALLAS_NEV": "Kentaur Hotel",
                                    "(No column name)": "4"
                                },
                                {
                                    "SZALLAS_NEV": "Partiszél Vendégház",
                                    "(No column name)": "2"
                                },
                                {
                                    "SZALLAS_NEV": "Hotel Három Hattyú",
                                    "(No column name)": "4"
                                },
                                {
                                    "SZALLAS_NEV": "Hotel Három Hattyú",
                                    "(No column name)": "3"
                                },
                                {
                                    "SZALLAS_NEV": "Gold Hotel",
                                    "(No column name)": "2"
                                },
                                {
                                    "SZALLAS_NEV": "Fortuna Apartman",
                                    "(No column name)": "1"
                                },
                                {
                                    "SZALLAS_NEV": "Sába-Ház",
                                    "(No column name)": "2"
                                },
                                {
                                    "SZALLAS_NEV": "Sába-Ház",
                                    "(No column name)": "3"
                                },
                                {
                                    "SZALLAS_NEV": "Fortuna Apartman",
                                    "(No column name)": "1"
                                },
                                {
                                    "SZALLAS_NEV": "Sába-Ház",
                                    "(No column name)": "1"
                                },
                                {
                                    "SZALLAS_NEV": "Kentaur Hotel",
                                    "(No column name)": "3"
                                },
                                {
                                    "SZALLAS_NEV": "Sába-Ház",
                                    "(No column name)": "2"
                                },
                                {
                                    "SZALLAS_NEV": "Gold Hotel",
                                    "(No column name)": "3"
                                },
                                {
                                    "SZALLAS_NEV": "Hotel Három Hattyú",
                                    "(No column name)": "3"
                                },
                                {
                                    "SZALLAS_NEV": "Kentaur Hotel",
                                    "(No column name)": "1"
                                },
                                {
                                    "SZALLAS_NEV": "Fortuna Panzió",
                                    "(No column name)": "1"
                                },
                                {
                                    "SZALLAS_NEV": "Lagúna Hotel",
                                    "(No column name)": "4"
                                },
                                {
                                    "SZALLAS_NEV": "Gold Hotel",
                                    "(No column name)": "3"
                                },
                                {
                                    "SZALLAS_NEV": "Gold Hotel",
                                    "(No column name)": "3"
                                },
                                {
                                    "SZALLAS_NEV": "Hotel Három Hattyú",
                                    "(No column name)": "2"
                                },
                                {
                                    "SZALLAS_NEV": "Fortuna Panzió",
                                    "(No column name)": "3"
                                },
                                {
                                    "SZALLAS_NEV": "Kentaur Hotel",
                                    "(No column name)": "2"
                                },
                                {
                                    "SZALLAS_NEV": "Hotel Három Hattyú",
                                    "(No column name)": "3"
                                },
                                {
                                    "SZALLAS_NEV": "Kentaur Hotel",
                                    "(No column name)": "4"
                                },
                                {
                                    "SZALLAS_NEV": "Hotel Három Hattyú",
                                    "(No column name)": "2"
                                },
                                {
                                    "SZALLAS_NEV": "Sába-Ház",
                                    "(No column name)": "1"
                                },
                                {
                                    "SZALLAS_NEV": "Hotel Három Hattyú",
                                    "(No column name)": "2"
                                },
                                {
                                    "SZALLAS_NEV": "Hotel Három Hattyú",
                                    "(No column name)": "3"
                                },
                                {
                                    "SZALLAS_NEV": "Lagúna Hotel",
                                    "(No column name)": "2"
                                },
                                {
                                    "SZALLAS_NEV": "Lagúna Hotel",
                                    "(No column name)": "3"
                                },
                                {
                                    "SZALLAS_NEV": "Sába-Ház",
                                    "(No column name)": "2"
                                },
                                {
                                    "SZALLAS_NEV": "Fortuna panzió",
                                    "(No column name)": "3"
                                },
                                {
                                    "SZALLAS_NEV": "Hotel Három Hattyú",
                                    "(No column name)": "3"
                                },
                                {
                                    "SZALLAS_NEV": "Családi Ház",
                                    "(No column name)": "4"
                                },
                                {
                                    "SZALLAS_NEV": "Gold Hotel",
                                    "(No column name)": "1"
                                },
                                {
                                    "SZALLAS_NEV": "Hotel Három Hattyú",
                                    "(No column name)": "2"
                                },
                                {
                                    "SZALLAS_NEV": "Kentaur Hotel",
                                    "(No column name)": "1"
                                },
                                {
                                    "SZALLAS_NEV": "Gold Hotel",
                                    "(No column name)": "5"
                                },
                                {
                                    "SZALLAS_NEV": "Gold Hotel",
                                    "(No column name)": "3"
                                },
                                {
                                    "SZALLAS_NEV": "Fortuna panzió",
                                    "(No column name)": "2"
                                },
                                {
                                    "SZALLAS_NEV": "Lagúna Hotel",
                                    "(No column name)": "1"
                                },
                                {
                                    "SZALLAS_NEV": "Gold Hotel",
                                    "(No column name)": "1"
                                },
                                {
                                    "SZALLAS_NEV": "Kentaur Hotel",
                                    "(No column name)": "4"
                                },
                                {
                                    "SZALLAS_NEV": "Kentaur Hotel",
                                    "(No column name)": "2"
                                },
                                {
                                    "SZALLAS_NEV": "Gold Hotel",
                                    "(No column name)": "2"
                                },
                                {
                                    "SZALLAS_NEV": "Fortuna panzió",
                                    "(No column name)": "5"
                                },
                                {
                                    "SZALLAS_NEV": "Fortuna Panzió",
                                    "(No column name)": "3"
                                },
                                {
                                    "SZALLAS_NEV": "Kentaur Hotel",
                                    "(No column name)": "2"
                                },
                                {
                                    "SZALLAS_NEV": "Jáde panzió",
                                    "(No column name)": "2"
                                },
                                {
                                    "SZALLAS_NEV": "Gold Hotel",
                                    "(No column name)": "2"
                                },
                                {
                                    "SZALLAS_NEV": "Sába-Ház",
                                    "(No column name)": "1"
                                },
                                {
                                    "SZALLAS_NEV": "Gold Hotel",
                                    "(No column name)": "3"
                                },
                                {
                                    "SZALLAS_NEV": "Hotel Három Hattyú",
                                    "(No column name)": "2"
                                },
                                {
                                    "SZALLAS_NEV": "Gold Hotel",
                                    "(No column name)": "3"
                                },
                                {
                                    "SZALLAS_NEV": "Hotel Három Hattyú",
                                    "(No column name)": "2"
                                },
                                {
                                    "SZALLAS_NEV": "Kentaur Hotel",
                                    "(No column name)": "3"
                                },
                                {
                                    "SZALLAS_NEV": "Hotel Három Hattyú",
                                    "(No column name)": "3"
                                },
                                {
                                    "SZALLAS_NEV": "Kentaur Hotel",
                                    "(No column name)": "1"
                                },
                                {
                                    "SZALLAS_NEV": "Hotel Három Hattyú",
                                    "(No column name)": "4"
                                },
                                {
                                    "SZALLAS_NEV": "Jáde panzió",
                                    "(No column name)": "2"
                                },
                                {
                                    "SZALLAS_NEV": "Kentaur Hotel",
                                    "(No column name)": "2"
                                },
                                {
                                    "SZALLAS_NEV": "Sába-Ház",
                                    "(No column name)": "1"
                                },
                                {
                                    "SZALLAS_NEV": "Hotel Három Hattyú",
                                    "(No column name)": "4"
                                },
                                {
                                    "SZALLAS_NEV": "Fortuna panzió",
                                    "(No column name)": "2"
                                },
                                {
                                    "SZALLAS_NEV": "Jáde panzió",
                                    "(No column name)": "2"
                                },
                                {
                                    "SZALLAS_NEV": "Fortuna Apartman",
                                    "(No column name)": "1"
                                },
                                {
                                    "SZALLAS_NEV": "Kentaur Hotel",
                                    "(No column name)": "1"
                                },
                                {
                                    "SZALLAS_NEV": "Hotel Három Hattyú",
                                    "(No column name)": "3"
                                },
                                {
                                    "SZALLAS_NEV": "Gold Hotel",
                                    "(No column name)": "2"
                                },
                                {
                                    "SZALLAS_NEV": "Kentaur Hotel",
                                    "(No column name)": "3"
                                },
                                {
                                    "SZALLAS_NEV": "Partiszél Vendégház",
                                    "(No column name)": "2"
                                },
                                {
                                    "SZALLAS_NEV": "Gold Hotel",
                                    "(No column name)": "3"
                                },
                                {
                                    "SZALLAS_NEV": "Fortuna panzió",
                                    "(No column name)": "3"
                                },
                                {
                                    "SZALLAS_NEV": "Kentaur Hotel",
                                    "(No column name)": "2"
                                },
                                {
                                    "SZALLAS_NEV": "Lagúna Hotel",
                                    "(No column name)": "2"
                                },
                                {
                                    "SZALLAS_NEV": "Gold Hotel",
                                    "(No column name)": "1"
                                },
                                {
                                    "SZALLAS_NEV": "Hotel Három Hattyú",
                                    "(No column name)": "3"
                                },
                                {
                                    "SZALLAS_NEV": "Gold Hotel",
                                    "(No column name)": "1"
                                },
                                {
                                    "SZALLAS_NEV": "Fortuna Panzió",
                                    "(No column name)": "1"
                                },
                                {
                                    "SZALLAS_NEV": "Fortuna Panzió",
                                    "(No column name)": "3"
                                },
                                {
                                    "SZALLAS_NEV": "Sába-Ház",
                                    "(No column name)": "3"
                                },
                                {
                                    "SZALLAS_NEV": "Gold Hotel",
                                    "(No column name)": "4"
                                },
                                {
                                    "SZALLAS_NEV": "Gold Hotel",
                                    "(No column name)": "3"
                                },
                                {
                                    "SZALLAS_NEV": "Fortuna panzió",
                                    "(No column name)": "3"
                                },
                                {
                                    "SZALLAS_NEV": "Jáde panzió",
                                    "(No column name)": "3"
                                },
                                {
                                    "SZALLAS_NEV": "Lagúna Hotel",
                                    "(No column name)": "2"
                                },
                                {
                                    "SZALLAS_NEV": "Hotel Három Hattyú",
                                    "(No column name)": "1"
                                },
                                {
                                    "SZALLAS_NEV": "Kentaur Hotel",
                                    "(No column name)": "4"
                                },
                                {
                                    "SZALLAS_NEV": "Családi Ház",
                                    "(No column name)": "3"
                                },
                                {
                                    "SZALLAS_NEV": "Hotel Három Hattyú",
                                    "(No column name)": "4"
                                },
                                {
                                    "SZALLAS_NEV": "Gold Hotel",
                                    "(No column name)": "3"
                                },
                                {
                                    "SZALLAS_NEV": "Fortuna panzió",
                                    "(No column name)": "4"
                                },
                                {
                                    "SZALLAS_NEV": "Lagúna Hotel",
                                    "(No column name)": "3"
                                },
                                {
                                    "SZALLAS_NEV": "Fortuna panzió",
                                    "(No column name)": "3"
                                },
                                {
                                    "SZALLAS_NEV": "Hotel Három Hattyú",
                                    "(No column name)": "1"
                                },
                                {
                                    "SZALLAS_NEV": "Fortuna Apartman",
                                    "(No column name)": "3"
                                },
                                {
                                    "SZALLAS_NEV": "Hotel Három Hattyú",
                                    "(No column name)": "4"
                                },
                                {
                                    "SZALLAS_NEV": "Szieszta Apartmanház",
                                    "(No column name)": "2"
                                },
                                {
                                    "SZALLAS_NEV": "Sába-Ház",
                                    "(No column name)": "4"
                                },
                                {
                                    "SZALLAS_NEV": "Gold Hotel",
                                    "(No column name)": "2"
                                },
                                {
                                    "SZALLAS_NEV": "Jáde panzió",
                                    "(No column name)": "2"
                                },
                                {
                                    "SZALLAS_NEV": "Hotel Három Hattyú",
                                    "(No column name)": "2"
                                },
                                {
                                    "SZALLAS_NEV": "Lagúna Hotel",
                                    "(No column name)": "2"
                                },
                                {
                                    "SZALLAS_NEV": "Gold Hotel",
                                    "(No column name)": "4"
                                },
                                {
                                    "SZALLAS_NEV": "Családi Ház",
                                    "(No column name)": "3"
                                },
                                {
                                    "SZALLAS_NEV": "Jáde panzió",
                                    "(No column name)": "3"
                                },
                                {
                                    "SZALLAS_NEV": "Lagúna Hotel",
                                    "(No column name)": "2"
                                },
                                {
                                    "SZALLAS_NEV": "Lagúna Hotel",
                                    "(No column name)": "2"
                                },
                                {
                                    "SZALLAS_NEV": "Hotel Három Hattyú",
                                    "(No column name)": "1"
                                },
                                {
                                    "SZALLAS_NEV": "Hotel Három Hattyú",
                                    "(No column name)": "2"
                                },
                                {
                                    "SZALLAS_NEV": "Hotel Három Hattyú",
                                    "(No column name)": "2"
                                },
                                {
                                    "SZALLAS_NEV": "Sába-Ház",
                                    "(No column name)": "3"
                                },
                                {
                                    "SZALLAS_NEV": "Fortuna panzió",
                                    "(No column name)": "3"
                                },
                                {
                                    "SZALLAS_NEV": "Fortuna panzió",
                                    "(No column name)": "2"
                                },
                                {
                                    "SZALLAS_NEV": "Kentaur Hotel",
                                    "(No column name)": "3"
                                },
                                {
                                    "SZALLAS_NEV": "Kentaur Hotel",
                                    "(No column name)": "3"
                                },
                                {
                                    "SZALLAS_NEV": "Fortuna Panzió",
                                    "(No column name)": "1"
                                },
                                {
                                    "SZALLAS_NEV": "Szieszta Apartmanház",
                                    "(No column name)": "1"
                                },
                                {
                                    "SZALLAS_NEV": "Lagúna Hotel",
                                    "(No column name)": "2"
                                },
                                {
                                    "SZALLAS_NEV": "Szieszta Apartmanház",
                                    "(No column name)": "2"
                                },
                                {
                                    "SZALLAS_NEV": "Fortuna panzió",
                                    "(No column name)": "3"
                                },
                                {
                                    "SZALLAS_NEV": "Lagúna Hotel",
                                    "(No column name)": "2"
                                },
                                {
                                    "SZALLAS_NEV": "Hotel Három Hattyú",
                                    "(No column name)": "3"
                                },
                                {
                                    "SZALLAS_NEV": "Kentaur Hotel",
                                    "(No column name)": "2"
                                },
                                {
                                    "SZALLAS_NEV": "Lagúna Hotel",
                                    "(No column name)": "3"
                                },
                                {
                                    "SZALLAS_NEV": "Gold Hotel",
                                    "(No column name)": "3"
                                },
                                {
                                    "SZALLAS_NEV": "Fortuna Panzió",
                                    "(No column name)": "1"
                                },
                                {
                                    "SZALLAS_NEV": "Gold Hotel",
                                    "(No column name)": "2"
                                },
                                {
                                    "SZALLAS_NEV": "Partiszél Vendégház",
                                    "(No column name)": "4"
                                },
                                {
                                    "SZALLAS_NEV": "Sába-Ház",
                                    "(No column name)": "4"
                                },
                                {
                                    "SZALLAS_NEV": "Fortuna Apartman",
                                    "(No column name)": "3"
                                },
                                {
                                    "SZALLAS_NEV": "Kentaur Hotel",
                                    "(No column name)": "3"
                                },
                                {
                                    "SZALLAS_NEV": "Hotel Három Hattyú",
                                    "(No column name)": "2"
                                },
                                {
                                    "SZALLAS_NEV": "Sába-Ház",
                                    "(No column name)": "2"
                                },
                                {
                                    "SZALLAS_NEV": "Gold Hotel",
                                    "(No column name)": "1"
                                },
                                {
                                    "SZALLAS_NEV": "Partiszél Vendégház",
                                    "(No column name)": "2"
                                },
                                {
                                    "SZALLAS_NEV": "Fortuna panzió",
                                    "(No column name)": "2"
                                },
                                {
                                    "SZALLAS_NEV": "Lagúna Hotel",
                                    "(No column name)": "3"
                                },
                                {
                                    "SZALLAS_NEV": "Fortuna panzió",
                                    "(No column name)": "3"
                                },
                                {
                                    "SZALLAS_NEV": "Szieszta Apartmanház",
                                    "(No column name)": "1"
                                },
                                {
                                    "SZALLAS_NEV": "Kentaur Hotel",
                                    "(No column name)": "3"
                                },
                                {
                                    "SZALLAS_NEV": "Kentaur Hotel",
                                    "(No column name)": "2"
                                },
                                {
                                    "SZALLAS_NEV": "Fortuna panzió",
                                    "(No column name)": "4"
                                },
                                {
                                    "SZALLAS_NEV": "Hotel Három Hattyú",
                                    "(No column name)": "3"
                                },
                                {
                                    "SZALLAS_NEV": "Kentaur Hotel",
                                    "(No column name)": "2"
                                },
                                {
                                    "SZALLAS_NEV": "Hotel Három Hattyú",
                                    "(No column name)": "4"
                                },
                                {
                                    "SZALLAS_NEV": "Kentaur Hotel",
                                    "(No column name)": "2"
                                },
                                {
                                    "SZALLAS_NEV": "Lagúna Hotel",
                                    "(No column name)": "3"
                                },
                                {
                                    "SZALLAS_NEV": "Fortuna Panzió",
                                    "(No column name)": "3"
                                },
                                {
                                    "SZALLAS_NEV": "Hotel Három Hattyú",
                                    "(No column name)": "2"
                                },
                                {
                                    "SZALLAS_NEV": "Jáde panzió",
                                    "(No column name)": "3"
                                },
                                {
                                    "SZALLAS_NEV": "Gold Hotel",
                                    "(No column name)": "3"
                                },
                                {
                                    "SZALLAS_NEV": "Kentaur Hotel",
                                    "(No column name)": "2"
                                },
                                {
                                    "SZALLAS_NEV": "Kentaur Hotel",
                                    "(No column name)": "3"
                                },
                                {
                                    "SZALLAS_NEV": "Gold Hotel",
                                    "(No column name)": "2"
                                },
                                {
                                    "SZALLAS_NEV": "Gold Hotel",
                                    "(No column name)": "3"
                                },
                                {
                                    "SZALLAS_NEV": "Kentaur Hotel",
                                    "(No column name)": "2"
                                },
                                {
                                    "SZALLAS_NEV": "Hotel Három Hattyú",
                                    "(No column name)": "3"
                                },
                                {
                                    "SZALLAS_NEV": "Lagúna Hotel",
                                    "(No column name)": "3"
                                },
                                {
                                    "SZALLAS_NEV": "Sába-Ház",
                                    "(No column name)": "3"
                                },
                                {
                                    "SZALLAS_NEV": "Lagúna Hotel",
                                    "(No column name)": "2"
                                },
                                {
                                    "SZALLAS_NEV": "Szieszta Apartmanház",
                                    "(No column name)": "3"
                                },
                                {
                                    "SZALLAS_NEV": "Hotel Három Hattyú",
                                    "(No column name)": "1"
                                },
                                {
                                    "SZALLAS_NEV": "Szieszta Apartmanház",
                                    "(No column name)": "1"
                                },
                                {
                                    "SZALLAS_NEV": "Kentaur Hotel",
                                    "(No column name)": "2"
                                },
                                {
                                    "SZALLAS_NEV": "Lagúna Hotel",
                                    "(No column name)": "3"
                                },
                                {
                                    "SZALLAS_NEV": "Fortuna Apartman",
                                    "(No column name)": "3"
                                },
                                {
                                    "SZALLAS_NEV": "Partiszél Vendégház",
                                    "(No column name)": "2"
                                },
                                {
                                    "SZALLAS_NEV": "Szieszta Apartmanház",
                                    "(No column name)": "2"
                                },
                                {
                                    "SZALLAS_NEV": "Hotel Három Hattyú",
                                    "(No column name)": "1"
                                },
                                {
                                    "SZALLAS_NEV": "Sába-Ház",
                                    "(No column name)": "3"
                                },
                                {
                                    "SZALLAS_NEV": "Jáde panzió",
                                    "(No column name)": "3"
                                },
                                {
                                    "SZALLAS_NEV": "Lagúna Hotel",
                                    "(No column name)": "1"
                                },
                                {
                                    "SZALLAS_NEV": "Kentaur Hotel",
                                    "(No column name)": "2"
                                },
                                {
                                    "SZALLAS_NEV": "Fortuna Apartman",
                                    "(No column name)": "3"
                                },
                                {
                                    "SZALLAS_NEV": "Lagúna Hotel",
                                    "(No column name)": "2"
                                },
                                {
                                    "SZALLAS_NEV": "Gold Hotel",
                                    "(No column name)": "3"
                                },
                                {
                                    "SZALLAS_NEV": "Lagúna Hotel",
                                    "(No column name)": "3"
                                },
                                {
                                    "SZALLAS_NEV": "Fortuna Panzió",
                                    "(No column name)": "3"
                                },
                                {
                                    "SZALLAS_NEV": "Kentaur Hotel",
                                    "(No column name)": "3"
                                },
                                {
                                    "SZALLAS_NEV": "Lagúna Hotel",
                                    "(No column name)": "2"
                                },
                                {
                                    "SZALLAS_NEV": "Hotel Három Hattyú",
                                    "(No column name)": "3"
                                },
                                {
                                    "SZALLAS_NEV": "Kentaur Hotel",
                                    "(No column name)": "2"
                                },
                                {
                                    "SZALLAS_NEV": "Sába-Ház",
                                    "(No column name)": "3"
                                },
                                {
                                    "SZALLAS_NEV": "Hotel Három Hattyú",
                                    "(No column name)": "3"
                                },
                                {
                                    "SZALLAS_NEV": "Gold Hotel",
                                    "(No column name)": "3"
                                },
                                {
                                    "SZALLAS_NEV": "Kentaur Hotel",
                                    "(No column name)": "3"
                                },
                                {
                                    "SZALLAS_NEV": "Sába-Ház",
                                    "(No column name)": "2"
                                },
                                {
                                    "SZALLAS_NEV": "Hotel Három Hattyú",
                                    "(No column name)": "3"
                                },
                                {
                                    "SZALLAS_NEV": "Családi Ház",
                                    "(No column name)": "3"
                                },
                                {
                                    "SZALLAS_NEV": "Fortuna Apartman",
                                    "(No column name)": "4"
                                },
                                {
                                    "SZALLAS_NEV": "Sába-Ház",
                                    "(No column name)": "2"
                                },
                                {
                                    "SZALLAS_NEV": "Sába-Ház",
                                    "(No column name)": "2"
                                },
                                {
                                    "SZALLAS_NEV": "Gold Hotel",
                                    "(No column name)": "2"
                                },
                                {
                                    "SZALLAS_NEV": "Hotel Három Hattyú",
                                    "(No column name)": "1"
                                },
                                {
                                    "SZALLAS_NEV": "Fortuna Panzió",
                                    "(No column name)": "2"
                                },
                                {
                                    "SZALLAS_NEV": "Fortuna panzió",
                                    "(No column name)": "1"
                                },
                                {
                                    "SZALLAS_NEV": "Sába-Ház",
                                    "(No column name)": "2"
                                },
                                {
                                    "SZALLAS_NEV": "Gold Hotel",
                                    "(No column name)": "2"
                                },
                                {
                                    "SZALLAS_NEV": "Fortuna Apartman",
                                    "(No column name)": "3"
                                },
                                {
                                    "SZALLAS_NEV": "Sába-Ház",
                                    "(No column name)": "3"
                                },
                                {
                                    "SZALLAS_NEV": "Gold Hotel",
                                    "(No column name)": "2"
                                },
                                {
                                    "SZALLAS_NEV": "Gold Hotel",
                                    "(No column name)": "2"
                                },
                                {
                                    "SZALLAS_NEV": "Gold Hotel",
                                    "(No column name)": "3"
                                },
                                {
                                    "SZALLAS_NEV": "Fortuna Panzió",
                                    "(No column name)": "3"
                                },
                                {
                                    "SZALLAS_NEV": "Lagúna Hotel",
                                    "(No column name)": "2"
                                },
                                {
                                    "SZALLAS_NEV": "Lagúna Hotel",
                                    "(No column name)": "2"
                                },
                                {
                                    "SZALLAS_NEV": "Gold Hotel",
                                    "(No column name)": "2"
                                },
                                {
                                    "SZALLAS_NEV": "Kentaur Hotel",
                                    "(No column name)": "3"
                                },
                                {
                                    "SZALLAS_NEV": "Jáde panzió",
                                    "(No column name)": "3"
                                },
                                {
                                    "SZALLAS_NEV": "Fortuna panzió",
                                    "(No column name)": "3"
                                },
                                {
                                    "SZALLAS_NEV": "Sába-Ház",
                                    "(No column name)": "3"
                                },
                                {
                                    "SZALLAS_NEV": "Sába-Ház",
                                    "(No column name)": "3"
                                },
                                {
                                    "SZALLAS_NEV": "Gold Hotel",
                                    "(No column name)": "3"
                                },
                                {
                                    "SZALLAS_NEV": "Hotel Három Hattyú",
                                    "(No column name)": "1"
                                },
                                {
                                    "SZALLAS_NEV": "Lagúna Hotel",
                                    "(No column name)": "3"
                                },
                                {
                                    "SZALLAS_NEV": "Lagúna Hotel",
                                    "(No column name)": "1"
                                },
                                {
                                    "SZALLAS_NEV": "Sába-Ház",
                                    "(No column name)": "3"
                                },
                                {
                                    "SZALLAS_NEV": "Fortuna panzió",
                                    "(No column name)": "3"
                                },
                                {
                                    "SZALLAS_NEV": "Kentaur Hotel",
                                    "(No column name)": "1"
                                },
                                {
                                    "SZALLAS_NEV": "Lagúna Hotel",
                                    "(No column name)": "2"
                                },
                                {
                                    "SZALLAS_NEV": "Gold Hotel",
                                    "(No column name)": "3"
                                },
                                {
                                    "SZALLAS_NEV": "Hotel Három Hattyú",
                                    "(No column name)": "2"
                                },
                                {
                                    "SZALLAS_NEV": "Kentaur Hotel",
                                    "(No column name)": "2"
                                },
                                {
                                    "SZALLAS_NEV": "Sába-Ház",
                                    "(No column name)": "2"
                                },
                                {
                                    "SZALLAS_NEV": "Kentaur Hotel",
                                    "(No column name)": "2"
                                },
                                {
                                    "SZALLAS_NEV": "Hotel Három Hattyú",
                                    "(No column name)": "2"
                                },
                                {
                                    "SZALLAS_NEV": "Fortuna Apartman",
                                    "(No column name)": "4"
                                },
                                {
                                    "SZALLAS_NEV": "Lagúna Hotel",
                                    "(No column name)": "2"
                                },
                                {
                                    "SZALLAS_NEV": "Hotel Három Hattyú",
                                    "(No column name)": "1"
                                },
                                {
                                    "SZALLAS_NEV": "Kentaur Hotel",
                                    "(No column name)": "2"
                                },
                                {
                                    "SZALLAS_NEV": "Gold Hotel",
                                    "(No column name)": "1"
                                },
                                {
                                    "SZALLAS_NEV": "Gold Hotel",
                                    "(No column name)": "1"
                                },
                                {
                                    "SZALLAS_NEV": "Fortuna Apartman",
                                    "(No column name)": "4"
                                },
                                {
                                    "SZALLAS_NEV": "Szieszta Apartmanház",
                                    "(No column name)": "3"
                                },
                                {
                                    "SZALLAS_NEV": "Sába-Ház",
                                    "(No column name)": "2"
                                },
                                {
                                    "SZALLAS_NEV": "Gold Hotel",
                                    "(No column name)": "5"
                                },
                                {
                                    "SZALLAS_NEV": "Lagúna Hotel",
                                    "(No column name)": "1"
                                },
                                {
                                    "SZALLAS_NEV": "Jáde panzió",
                                    "(No column name)": "3"
                                },
                                {
                                    "SZALLAS_NEV": "Kentaur Hotel",
                                    "(No column name)": "3"
                                },
                                {
                                    "SZALLAS_NEV": "Hotel Három Hattyú",
                                    "(No column name)": "3"
                                },
                                {
                                    "SZALLAS_NEV": "Gold Hotel",
                                    "(No column name)": "3"
                                },
                                {
                                    "SZALLAS_NEV": "Sába-Ház",
                                    "(No column name)": "2"
                                },
                                {
                                    "SZALLAS_NEV": "Gold Hotel",
                                    "(No column name)": "3"
                                },
                                {
                                    "SZALLAS_NEV": "Gold Hotel",
                                    "(No column name)": "2"
                                },
                                {
                                    "SZALLAS_NEV": "Fortuna panzió",
                                    "(No column name)": "2"
                                },
                                {
                                    "SZALLAS_NEV": "Kentaur Hotel",
                                    "(No column name)": "1"
                                },
                                {
                                    "SZALLAS_NEV": "Fortuna Panzió",
                                    "(No column name)": "1"
                                },
                                {
                                    "SZALLAS_NEV": "Gold Hotel",
                                    "(No column name)": "2"
                                },
                                {
                                    "SZALLAS_NEV": "Szieszta Apartmanház",
                                    "(No column name)": "3"
                                },
                                {
                                    "SZALLAS_NEV": "Partiszél Vendégház",
                                    "(No column name)": "1"
                                },
                                {
                                    "SZALLAS_NEV": "Kentaur Hotel",
                                    "(No column name)": "3"
                                },
                                {
                                    "SZALLAS_NEV": "Hotel Három Hattyú",
                                    "(No column name)": "2"
                                },
                                {
                                    "SZALLAS_NEV": "Lagúna Hotel",
                                    "(No column name)": "3"
                                },
                                {
                                    "SZALLAS_NEV": "Gold Hotel",
                                    "(No column name)": "2"
                                },
                                {
                                    "SZALLAS_NEV": "Fortuna Apartman",
                                    "(No column name)": "5"
                                },
                                {
                                    "SZALLAS_NEV": "Szieszta Apartmanház",
                                    "(No column name)": "3"
                                },
                                {
                                    "SZALLAS_NEV": "Lagúna Hotel",
                                    "(No column name)": "2"
                                },
                                {
                                    "SZALLAS_NEV": "Fortuna Apartman",
                                    "(No column name)": "2"
                                },
                                {
                                    "SZALLAS_NEV": "Lagúna Hotel",
                                    "(No column name)": "4"
                                },
                                {
                                    "SZALLAS_NEV": "Fortuna Panzió",
                                    "(No column name)": "3"
                                },
                                {
                                    "SZALLAS_NEV": "Lagúna Hotel",
                                    "(No column name)": "3"
                                },
                                {
                                    "SZALLAS_NEV": "Kentaur Hotel",
                                    "(No column name)": "1"
                                },
                                {
                                    "SZALLAS_NEV": "Lagúna Hotel",
                                    "(No column name)": "3"
                                },
                                {
                                    "SZALLAS_NEV": "Gold Hotel",
                                    "(No column name)": "4"
                                },
                                {
                                    "SZALLAS_NEV": "Partiszél Vendégház",
                                    "(No column name)": "3"
                                },
                                {
                                    "SZALLAS_NEV": "Fortuna Apartman",
                                    "(No column name)": "4"
                                },
                                {
                                    "SZALLAS_NEV": "Fortuna Panzió",
                                    "(No column name)": "2"
                                },
                                {
                                    "SZALLAS_NEV": "Kentaur Hotel",
                                    "(No column name)": "3"
                                },
                                {
                                    "SZALLAS_NEV": "Hotel Három Hattyú",
                                    "(No column name)": "4"
                                },
                                {
                                    "SZALLAS_NEV": "Hotel Három Hattyú",
                                    "(No column name)": "3"
                                },
                                {
                                    "SZALLAS_NEV": "Gold Hotel",
                                    "(No column name)": "3"
                                },
                                {
                                    "SZALLAS_NEV": "Fortuna Apartman",
                                    "(No column name)": "2"
                                },
                                {
                                    "SZALLAS_NEV": "Hotel Három Hattyú",
                                    "(No column name)": "1"
                                },
                                {
                                    "SZALLAS_NEV": "Fortuna panzió",
                                    "(No column name)": "2"
                                },
                                {
                                    "SZALLAS_NEV": "Hotel Három Hattyú",
                                    "(No column name)": "3"
                                },
                                {
                                    "SZALLAS_NEV": "Gold Hotel",
                                    "(No column name)": "3"
                                },
                                {
                                    "SZALLAS_NEV": "Hotel Három Hattyú",
                                    "(No column name)": "4"
                                },
                                {
                                    "SZALLAS_NEV": "Kentaur Hotel",
                                    "(No column name)": "3"
                                },
                                {
                                    "SZALLAS_NEV": "Jáde panzió",
                                    "(No column name)": "2"
                                },
                                {
                                    "SZALLAS_NEV": "Sába-Ház",
                                    "(No column name)": "4"
                                },
                                {
                                    "SZALLAS_NEV": "Fortuna Panzió",
                                    "(No column name)": "3"
                                },
                                {
                                    "SZALLAS_NEV": "Lagúna Hotel",
                                    "(No column name)": "3"
                                },
                                {
                                    "SZALLAS_NEV": "Hotel Három Hattyú",
                                    "(No column name)": "3"
                                },
                                {
                                    "SZALLAS_NEV": "Kentaur Hotel",
                                    "(No column name)": "1"
                                },
                                {
                                    "SZALLAS_NEV": "Kentaur Hotel",
                                    "(No column name)": "1"
                                },
                                {
                                    "SZALLAS_NEV": "Hotel Három Hattyú",
                                    "(No column name)": "3"
                                },
                                {
                                    "SZALLAS_NEV": "Fortuna Panzió",
                                    "(No column name)": "2"
                                },
                                {
                                    "SZALLAS_NEV": "Hotel Három Hattyú",
                                    "(No column name)": "2"
                                },
                                {
                                    "SZALLAS_NEV": "Kentaur Hotel",
                                    "(No column name)": "3"
                                },
                                {
                                    "SZALLAS_NEV": "Gold Hotel",
                                    "(No column name)": "1"
                                },
                                {
                                    "SZALLAS_NEV": "Gold Hotel",
                                    "(No column name)": "2"
                                },
                                {
                                    "SZALLAS_NEV": "Kentaur Hotel",
                                    "(No column name)": "3"
                                },
                                {
                                    "SZALLAS_NEV": "Kentaur Hotel",
                                    "(No column name)": "2"
                                },
                                {
                                    "SZALLAS_NEV": "Kentaur Hotel",
                                    "(No column name)": "3"
                                },
                                {
                                    "SZALLAS_NEV": "Fortuna panzió",
                                    "(No column name)": "2"
                                },
                                {
                                    "SZALLAS_NEV": "Sába-Ház",
                                    "(No column name)": "2"
                                },
                                {
                                    "SZALLAS_NEV": "Fortuna Apartman",
                                    "(No column name)": "2"
                                },
                                {
                                    "SZALLAS_NEV": "Gold Hotel",
                                    "(No column name)": "4"
                                },
                                {
                                    "SZALLAS_NEV": "Kentaur Hotel",
                                    "(No column name)": "3"
                                },
                                {
                                    "SZALLAS_NEV": "Lagúna Hotel",
                                    "(No column name)": "2"
                                },
                                {
                                    "SZALLAS_NEV": "Hotel Három Hattyú",
                                    "(No column name)": "2"
                                },
                                {
                                    "SZALLAS_NEV": "Gold Hotel",
                                    "(No column name)": "3"
                                },
                                {
                                    "SZALLAS_NEV": "Fortuna Panzió",
                                    "(No column name)": "3"
                                },
                                {
                                    "SZALLAS_NEV": "Családi Ház",
                                    "(No column name)": "2"
                                },
                                {
                                    "SZALLAS_NEV": "Hotel Három Hattyú",
                                    "(No column name)": "4"
                                },
                                {
                                    "SZALLAS_NEV": "Kentaur Hotel",
                                    "(No column name)": "4"
                                },
                                {
                                    "SZALLAS_NEV": "Hotel Három Hattyú",
                                    "(No column name)": "3"
                                },
                                {
                                    "SZALLAS_NEV": "Gold Hotel",
                                    "(No column name)": "2"
                                },
                                {
                                    "SZALLAS_NEV": "Gold Hotel",
                                    "(No column name)": "2"
                                },
                                {
                                    "SZALLAS_NEV": "Hotel Három Hattyú",
                                    "(No column name)": "1"
                                },
                                {
                                    "SZALLAS_NEV": "Gold Hotel",
                                    "(No column name)": "1"
                                },
                                {
                                    "SZALLAS_NEV": "Sába-Ház",
                                    "(No column name)": "1"
                                },
                                {
                                    "SZALLAS_NEV": "Szieszta Apartmanház",
                                    "(No column name)": "3"
                                },
                                {
                                    "SZALLAS_NEV": "Lagúna Hotel",
                                    "(No column name)": "2"
                                },
                                {
                                    "SZALLAS_NEV": "Kentaur Hotel",
                                    "(No column name)": "2"
                                },
                                {
                                    "SZALLAS_NEV": "Lagúna Hotel",
                                    "(No column name)": "2"
                                },
                                {
                                    "SZALLAS_NEV": "Sába-Ház",
                                    "(No column name)": "2"
                                },
                                {
                                    "SZALLAS_NEV": "Kentaur Hotel",
                                    "(No column name)": "1"
                                },
                                {
                                    "SZALLAS_NEV": "Lagúna Hotel",
                                    "(No column name)": "3"
                                },
                                {
                                    "SZALLAS_NEV": "Sába-Ház",
                                    "(No column name)": "4"
                                },
                                {
                                    "SZALLAS_NEV": "Kentaur Hotel",
                                    "(No column name)": "2"
                                },
                                {
                                    "SZALLAS_NEV": "Lagúna Hotel",
                                    "(No column name)": "3"
                                },
                                {
                                    "SZALLAS_NEV": "Hotel Három Hattyú",
                                    "(No column name)": "4"
                                },
                                {
                                    "SZALLAS_NEV": "Kentaur Hotel",
                                    "(No column name)": "3"
                                },
                                {
                                    "SZALLAS_NEV": "Partiszél Vendégház",
                                    "(No column name)": "2"
                                },
                                {
                                    "SZALLAS_NEV": "Gold Hotel",
                                    "(No column name)": "2"
                                },
                                {
                                    "SZALLAS_NEV": "Gold Hotel",
                                    "(No column name)": "2"
                                },
                                {
                                    "SZALLAS_NEV": "Kentaur Hotel",
                                    "(No column name)": "2"
                                },
                                {
                                    "SZALLAS_NEV": "Szieszta Apartmanház",
                                    "(No column name)": "2"
                                },
                                {
                                    "SZALLAS_NEV": "Fortuna Panzió",
                                    "(No column name)": "2"
                                },
                                {
                                    "SZALLAS_NEV": "Hotel Három Hattyú",
                                    "(No column name)": "2"
                                },
                                {
                                    "SZALLAS_NEV": "Kentaur Hotel",
                                    "(No column name)": "2"
                                },
                                {
                                    "SZALLAS_NEV": "Szieszta Apartmanház",
                                    "(No column name)": "3"
                                },
                                {
                                    "SZALLAS_NEV": "Sába-Ház",
                                    "(No column name)": "3"
                                },
                                {
                                    "SZALLAS_NEV": "Fortuna panzió",
                                    "(No column name)": "3"
                                },
                                {
                                    "SZALLAS_NEV": "Gold Hotel",
                                    "(No column name)": "2"
                                },
                                {
                                    "SZALLAS_NEV": "Kentaur Hotel",
                                    "(No column name)": "3"
                                },
                                {
                                    "SZALLAS_NEV": "Gold Hotel",
                                    "(No column name)": "3"
                                },
                                {
                                    "SZALLAS_NEV": "Kentaur Hotel",
                                    "(No column name)": "2"
                                },
                                {
                                    "SZALLAS_NEV": "Lagúna Hotel",
                                    "(No column name)": "2"
                                },
                                {
                                    "SZALLAS_NEV": "Kentaur Hotel",
                                    "(No column name)": "2"
                                },
                                {
                                    "SZALLAS_NEV": "Hotel Három Hattyú",
                                    "(No column name)": "3"
                                },
                                {
                                    "SZALLAS_NEV": "Lagúna Hotel",
                                    "(No column name)": "3"
                                },
                                {
                                    "SZALLAS_NEV": "Partiszél Vendégház",
                                    "(No column name)": "2"
                                },
                                {
                                    "SZALLAS_NEV": "Kentaur Hotel",
                                    "(No column name)": "3"
                                },
                                {
                                    "SZALLAS_NEV": "Hotel Három Hattyú",
                                    "(No column name)": "3"
                                },
                                {
                                    "SZALLAS_NEV": "Fortuna Apartman",
                                    "(No column name)": "2"
                                },
                                {
                                    "SZALLAS_NEV": "Kentaur Hotel",
                                    "(No column name)": "2"
                                },
                                {
                                    "SZALLAS_NEV": "Lagúna Hotel",
                                    "(No column name)": "3"
                                },
                                {
                                    "SZALLAS_NEV": "Hotel Három Hattyú",
                                    "(No column name)": "3"
                                },
                                {
                                    "SZALLAS_NEV": "Fortuna Panzió",
                                    "(No column name)": "2"
                                },
                                {
                                    "SZALLAS_NEV": "Partiszél Vendégház",
                                    "(No column name)": "2"
                                },
                                {
                                    "SZALLAS_NEV": "Kentaur Hotel",
                                    "(No column name)": "2"
                                },
                                {
                                    "SZALLAS_NEV": "Lagúna Hotel",
                                    "(No column name)": "2"
                                },
                                {
                                    "SZALLAS_NEV": "Fortuna Panzió",
                                    "(No column name)": "3"
                                },
                                {
                                    "SZALLAS_NEV": "Hotel Három Hattyú",
                                    "(No column name)": "2"
                                },
                                {
                                    "SZALLAS_NEV": "Lagúna Hotel",
                                    "(No column name)": "4"
                                },
                                {
                                    "SZALLAS_NEV": "Hotel Három Hattyú",
                                    "(No column name)": "3"
                                },
                                {
                                    "SZALLAS_NEV": "Szieszta Apartmanház",
                                    "(No column name)": "2"
                                },
                                {
                                    "SZALLAS_NEV": "Szieszta Apartmanház",
                                    "(No column name)": "3"
                                },
                                {
                                    "SZALLAS_NEV": "Jáde panzió",
                                    "(No column name)": "3"
                                },
                                {
                                    "SZALLAS_NEV": "Gold Hotel",
                                    "(No column name)": "2"
                                },
                                {
                                    "SZALLAS_NEV": "Fortuna Panzió",
                                    "(No column name)": "2"
                                },
                                {
                                    "SZALLAS_NEV": "Gold Hotel",
                                    "(No column name)": "3"
                                },
                                {
                                    "SZALLAS_NEV": "Hotel Három Hattyú",
                                    "(No column name)": "2"
                                },
                                {
                                    "SZALLAS_NEV": "Jáde panzió",
                                    "(No column name)": "1"
                                },
                                {
                                    "SZALLAS_NEV": "Kentaur Hotel",
                                    "(No column name)": "3"
                                },
                                {
                                    "SZALLAS_NEV": "Gold Hotel",
                                    "(No column name)": "1"
                                },
                                {
                                    "SZALLAS_NEV": "Fortuna Panzió",
                                    "(No column name)": "2"
                                },
                                {
                                    "SZALLAS_NEV": "Lagúna Hotel",
                                    "(No column name)": "4"
                                },
                                {
                                    "SZALLAS_NEV": "Sába-Ház",
                                    "(No column name)": "4"
                                },
                                {
                                    "SZALLAS_NEV": "Hotel Három Hattyú",
                                    "(No column name)": "1"
                                },
                                {
                                    "SZALLAS_NEV": "Lagúna Hotel",
                                    "(No column name)": "4"
                                },
                                {
                                    "SZALLAS_NEV": "Gold Hotel",
                                    "(No column name)": "2"
                                },
                                {
                                    "SZALLAS_NEV": "Hotel Három Hattyú",
                                    "(No column name)": "3"
                                },
                                {
                                    "SZALLAS_NEV": "Fortuna Apartman",
                                    "(No column name)": "3"
                                },
                                {
                                    "SZALLAS_NEV": "Gold Hotel",
                                    "(No column name)": "2"
                                },
                                {
                                    "SZALLAS_NEV": "Kentaur Hotel",
                                    "(No column name)": "2"
                                },
                                {
                                    "SZALLAS_NEV": "Sába-Ház",
                                    "(No column name)": "2"
                                },
                                {
                                    "SZALLAS_NEV": "Szieszta Apartmanház",
                                    "(No column name)": "3"
                                },
                                {
                                    "SZALLAS_NEV": "Fortuna panzió",
                                    "(No column name)": "3"
                                },
                                {
                                    "SZALLAS_NEV": "Kentaur Hotel",
                                    "(No column name)": "3"
                                },
                                {
                                    "SZALLAS_NEV": "Gold Hotel",
                                    "(No column name)": "3"
                                },
                                {
                                    "SZALLAS_NEV": "Kentaur Hotel",
                                    "(No column name)": "4"
                                },
                                {
                                    "SZALLAS_NEV": "Kentaur Hotel",
                                    "(No column name)": "3"
                                },
                                {
                                    "SZALLAS_NEV": "Gold Hotel",
                                    "(No column name)": "2"
                                },
                                {
                                    "SZALLAS_NEV": "Kentaur Hotel",
                                    "(No column name)": "3"
                                },
                                {
                                    "SZALLAS_NEV": "Kentaur Hotel",
                                    "(No column name)": "2"
                                },
                                {
                                    "SZALLAS_NEV": "Gold Hotel",
                                    "(No column name)": "1"
                                },
                                {
                                    "SZALLAS_NEV": "Hotel Három Hattyú",
                                    "(No column name)": "3"
                                },
                                {
                                    "SZALLAS_NEV": "Kentaur Hotel",
                                    "(No column name)": "2"
                                },
                                {
                                    "SZALLAS_NEV": "Hotel Három Hattyú",
                                    "(No column name)": "2"
                                },
                                {
                                    "SZALLAS_NEV": "Kentaur Hotel",
                                    "(No column name)": "3"
                                },
                                {
                                    "SZALLAS_NEV": "Sába-Ház",
                                    "(No column name)": "3"
                                },
                                {
                                    "SZALLAS_NEV": "Fortuna panzió",
                                    "(No column name)": "2"
                                },
                                {
                                    "SZALLAS_NEV": "Gold Hotel",
                                    "(No column name)": "1"
                                },
                                {
                                    "SZALLAS_NEV": "Hotel Három Hattyú",
                                    "(No column name)": "3"
                                },
                                {
                                    "SZALLAS_NEV": "Lagúna Hotel",
                                    "(No column name)": "1"
                                },
                                {
                                    "SZALLAS_NEV": "Hotel Három Hattyú",
                                    "(No column name)": "1"
                                },
                                {
                                    "SZALLAS_NEV": "Gold Hotel",
                                    "(No column name)": "3"
                                },
                                {
                                    "SZALLAS_NEV": "Kentaur Hotel",
                                    "(No column name)": "3"
                                },
                                {
                                    "SZALLAS_NEV": "Gold Hotel",
                                    "(No column name)": "1"
                                },
                                {
                                    "SZALLAS_NEV": "Hotel Három Hattyú",
                                    "(No column name)": "2"
                                },
                                {
                                    "SZALLAS_NEV": "Fortuna panzió",
                                    "(No column name)": "2"
                                },
                                {
                                    "SZALLAS_NEV": "Kentaur Hotel",
                                    "(No column name)": "2"
                                },
                                {
                                    "SZALLAS_NEV": "Gold Hotel",
                                    "(No column name)": "3"
                                },
                                {
                                    "SZALLAS_NEV": "Családi Ház",
                                    "(No column name)": "3"
                                },
                                {
                                    "SZALLAS_NEV": "Kentaur Hotel",
                                    "(No column name)": "2"
                                },
                                {
                                    "SZALLAS_NEV": "Szieszta Apartmanház",
                                    "(No column name)": "2"
                                },
                                {
                                    "SZALLAS_NEV": "Gold Hotel",
                                    "(No column name)": "1"
                                },
                                {
                                    "SZALLAS_NEV": "Fortuna panzió",
                                    "(No column name)": "1"
                                },
                                {
                                    "SZALLAS_NEV": "Hotel Három Hattyú",
                                    "(No column name)": "3"
                                },
                                {
                                    "SZALLAS_NEV": "Hotel Három Hattyú",
                                    "(No column name)": "3"
                                },
                                {
                                    "SZALLAS_NEV": "Hotel Három Hattyú",
                                    "(No column name)": "3"
                                },
                                {
                                    "SZALLAS_NEV": "Hotel Három Hattyú",
                                    "(No column name)": "5"
                                },
                                {
                                    "SZALLAS_NEV": "Gold Hotel",
                                    "(No column name)": "3"
                                },
                                {
                                    "SZALLAS_NEV": "Lagúna Hotel",
                                    "(No column name)": "3"
                                },
                                {
                                    "SZALLAS_NEV": "Lagúna Hotel",
                                    "(No column name)": "2"
                                },
                                {
                                    "SZALLAS_NEV": "Szieszta Apartmanház",
                                    "(No column name)": "3"
                                },
                                {
                                    "SZALLAS_NEV": "Hotel Három Hattyú",
                                    "(No column name)": "2"
                                },
                                {
                                    "SZALLAS_NEV": "Lagúna Hotel",
                                    "(No column name)": "3"
                                },
                                {
                                    "SZALLAS_NEV": "Fortuna panzió",
                                    "(No column name)": "4"
                                },
                                {
                                    "SZALLAS_NEV": "Jáde panzió",
                                    "(No column name)": "3"
                                },
                                {
                                    "SZALLAS_NEV": "Hotel Három Hattyú",
                                    "(No column name)": "2"
                                },
                                {
                                    "SZALLAS_NEV": "Kentaur Hotel",
                                    "(No column name)": "2"
                                },
                                {
                                    "SZALLAS_NEV": "Kentaur Hotel",
                                    "(No column name)": "1"
                                },
                                {
                                    "SZALLAS_NEV": "Kentaur Hotel",
                                    "(No column name)": "1"
                                },
                                {
                                    "SZALLAS_NEV": "Hotel Három Hattyú",
                                    "(No column name)": "2"
                                },
                                {
                                    "SZALLAS_NEV": "Lagúna Hotel",
                                    "(No column name)": "3"
                                },
                                {
                                    "SZALLAS_NEV": "Lagúna Hotel",
                                    "(No column name)": "4"
                                },
                                {
                                    "SZALLAS_NEV": "Lagúna Hotel",
                                    "(No column name)": "2"
                                },
                                {
                                    "SZALLAS_NEV": "Hotel Három Hattyú",
                                    "(No column name)": "1"
                                },
                                {
                                    "SZALLAS_NEV": "Hotel Három Hattyú",
                                    "(No column name)": "2"
                                },
                                {
                                    "SZALLAS_NEV": "Hotel Három Hattyú",
                                    "(No column name)": "1"
                                },
                                {
                                    "SZALLAS_NEV": "Gold Hotel",
                                    "(No column name)": "2"
                                },
                                {
                                    "SZALLAS_NEV": "Kentaur Hotel",
                                    "(No column name)": "3"
                                },
                                {
                                    "SZALLAS_NEV": "Fortuna panzió",
                                    "(No column name)": "3"
                                },
                                {
                                    "SZALLAS_NEV": "Hotel Három Hattyú",
                                    "(No column name)": "2"
                                },
                                {
                                    "SZALLAS_NEV": "Kentaur Hotel",
                                    "(No column name)": "1"
                                },
                                {
                                    "SZALLAS_NEV": "Fortuna panzió",
                                    "(No column name)": "2"
                                },
                                {
                                    "SZALLAS_NEV": "Fortuna panzió",
                                    "(No column name)": "2"
                                },
                                {
                                    "SZALLAS_NEV": "Kentaur Hotel",
                                    "(No column name)": "2"
                                },
                                {
                                    "SZALLAS_NEV": "Gold Hotel",
                                    "(No column name)": "2"
                                },
                                {
                                    "SZALLAS_NEV": "Kentaur Hotel",
                                    "(No column name)": "1"
                                },
                                {
                                    "SZALLAS_NEV": "Hotel Három Hattyú",
                                    "(No column name)": "2"
                                },
                                {
                                    "SZALLAS_NEV": "Kentaur Hotel",
                                    "(No column name)": "3"
                                },
                                {
                                    "SZALLAS_NEV": "Gold Hotel",
                                    "(No column name)": "3"
                                },
                                {
                                    "SZALLAS_NEV": "Fortuna panzió",
                                    "(No column name)": "2"
                                },
                                {
                                    "SZALLAS_NEV": "Kentaur Hotel",
                                    "(No column name)": "2"
                                },
                                {
                                    "SZALLAS_NEV": "Gold Hotel",
                                    "(No column name)": "2"
                                },
                                {
                                    "SZALLAS_NEV": "Hotel Három Hattyú",
                                    "(No column name)": "5"
                                },
                                {
                                    "SZALLAS_NEV": "Hotel Három Hattyú",
                                    "(No column name)": "2"
                                },
                                {
                                    "SZALLAS_NEV": "Hotel Három Hattyú",
                                    "(No column name)": "3"
                                },
                                {
                                    "SZALLAS_NEV": "Lagúna Hotel",
                                    "(No column name)": "4"
                                },
                                {
                                    "SZALLAS_NEV": "Hotel Három Hattyú",
                                    "(No column name)": "3"
                                },
                                {
                                    "SZALLAS_NEV": "Kentaur Hotel",
                                    "(No column name)": "1"
                                },
                                {
                                    "SZALLAS_NEV": "Hotel Három Hattyú",
                                    "(No column name)": "2"
                                },
                                {
                                    "SZALLAS_NEV": "Hotel Három Hattyú",
                                    "(No column name)": "2"
                                },
                                {
                                    "SZALLAS_NEV": "Szieszta Apartmanház",
                                    "(No column name)": "3"
                                },
                                {
                                    "SZALLAS_NEV": "Partiszél Vendégház",
                                    "(No column name)": "2"
                                },
                                {
                                    "SZALLAS_NEV": "Lagúna Hotel",
                                    "(No column name)": "2"
                                },
                                {
                                    "SZALLAS_NEV": "Hotel Három Hattyú",
                                    "(No column name)": "2"
                                },
                                {
                                    "SZALLAS_NEV": "Hotel Három Hattyú",
                                    "(No column name)": "1"
                                },
                                {
                                    "SZALLAS_NEV": "Gold Hotel",
                                    "(No column name)": "3"
                                },
                                {
                                    "SZALLAS_NEV": "Szieszta Apartmanház",
                                    "(No column name)": "3"
                                },
                                {
                                    "SZALLAS_NEV": "Kentaur Hotel",
                                    "(No column name)": "3"
                                },
                                {
                                    "SZALLAS_NEV": "Gold Hotel",
                                    "(No column name)": "2"
                                },
                                {
                                    "SZALLAS_NEV": "Hotel Három Hattyú",
                                    "(No column name)": "2"
                                },
                                {
                                    "SZALLAS_NEV": "Jáde panzió",
                                    "(No column name)": "3"
                                },
                                {
                                    "SZALLAS_NEV": "Gold Hotel",
                                    "(No column name)": "2"
                                },
                                {
                                    "SZALLAS_NEV": "Fortuna panzió",
                                    "(No column name)": "3"
                                },
                                {
                                    "SZALLAS_NEV": "Kentaur Hotel",
                                    "(No column name)": "2"
                                },
                                {
                                    "SZALLAS_NEV": "Hotel Három Hattyú",
                                    "(No column name)": "2"
                                },
                                {
                                    "SZALLAS_NEV": "Gold Hotel",
                                    "(No column name)": "3"
                                },
                                {
                                    "SZALLAS_NEV": "Fortuna Apartman",
                                    "(No column name)": "5"
                                },
                                {
                                    "SZALLAS_NEV": "Fortuna panzió",
                                    "(No column name)": "2"
                                },
                                {
                                    "SZALLAS_NEV": "Hotel Három Hattyú",
                                    "(No column name)": "2"
                                },
                                {
                                    "SZALLAS_NEV": "Családi Ház",
                                    "(No column name)": "3"
                                },
                                {
                                    "SZALLAS_NEV": "Hotel Három Hattyú",
                                    "(No column name)": "3"
                                },
                                {
                                    "SZALLAS_NEV": "Gold Hotel",
                                    "(No column name)": "1"
                                },
                                {
                                    "SZALLAS_NEV": "Gold Hotel",
                                    "(No column name)": "2"
                                },
                                {
                                    "SZALLAS_NEV": "Gold Hotel",
                                    "(No column name)": "1"
                                },
                                {
                                    "SZALLAS_NEV": "Sába-Ház",
                                    "(No column name)": "4"
                                },
                                {
                                    "SZALLAS_NEV": "Hotel Három Hattyú",
                                    "(No column name)": "2"
                                },
                                {
                                    "SZALLAS_NEV": "Fortuna Panzió",
                                    "(No column name)": "3"
                                },
                                {
                                    "SZALLAS_NEV": "Kentaur Hotel",
                                    "(No column name)": "2"
                                },
                                {
                                    "SZALLAS_NEV": "Gold Hotel",
                                    "(No column name)": "2"
                                },
                                {
                                    "SZALLAS_NEV": "Hotel Három Hattyú",
                                    "(No column name)": "1"
                                },
                                {
                                    "SZALLAS_NEV": "Gold Hotel",
                                    "(No column name)": "2"
                                },
                                {
                                    "SZALLAS_NEV": "Sába-Ház",
                                    "(No column name)": "1"
                                },
                                {
                                    "SZALLAS_NEV": "Kentaur Hotel",
                                    "(No column name)": "2"
                                },
                                {
                                    "SZALLAS_NEV": "Lagúna Hotel",
                                    "(No column name)": "2"
                                },
                                {
                                    "SZALLAS_NEV": "Lagúna Hotel",
                                    "(No column name)": "3"
                                },
                                {
                                    "SZALLAS_NEV": "Sába-Ház",
                                    "(No column name)": "1"
                                },
                                {
                                    "SZALLAS_NEV": "Fortuna panzió",
                                    "(No column name)": "2"
                                },
                                {
                                    "SZALLAS_NEV": "Fortuna panzió",
                                    "(No column name)": "1"
                                },
                                {
                                    "SZALLAS_NEV": "Gold Hotel",
                                    "(No column name)": "3"
                                },
                                {
                                    "SZALLAS_NEV": "Hotel Három Hattyú",
                                    "(No column name)": "2"
                                },
                                {
                                    "SZALLAS_NEV": "Kentaur Hotel",
                                    "(No column name)": "3"
                                },
                                {
                                    "SZALLAS_NEV": "Hotel Három Hattyú",
                                    "(No column name)": "4"
                                },
                                {
                                    "SZALLAS_NEV": "Gold Hotel",
                                    "(No column name)": "3"
                                },
                                {
                                    "SZALLAS_NEV": "Családi Ház",
                                    "(No column name)": "3"
                                },
                                {
                                    "SZALLAS_NEV": "Kentaur Hotel",
                                    "(No column name)": "1"
                                },
                                {
                                    "SZALLAS_NEV": "Fortuna Panzió",
                                    "(No column name)": "2"
                                },
                                {
                                    "SZALLAS_NEV": "Hotel Három Hattyú",
                                    "(No column name)": "3"
                                },
                                {
                                    "SZALLAS_NEV": "Kentaur Hotel",
                                    "(No column name)": "2"
                                },
                                {
                                    "SZALLAS_NEV": "Kentaur Hotel",
                                    "(No column name)": "2"
                                },
                                {
                                    "SZALLAS_NEV": "Lagúna Hotel",
                                    "(No column name)": "2"
                                },
                                {
                                    "SZALLAS_NEV": "Gold Hotel",
                                    "(No column name)": "2"
                                },
                                {
                                    "SZALLAS_NEV": "Lagúna Hotel",
                                    "(No column name)": "1"
                                },
                                {
                                    "SZALLAS_NEV": "Kentaur Hotel",
                                    "(No column name)": "2"
                                },
                                {
                                    "SZALLAS_NEV": "Hotel Három Hattyú",
                                    "(No column name)": "3"
                                },
                                {
                                    "SZALLAS_NEV": "Szieszta Apartmanház",
                                    "(No column name)": "3"
                                },
                                {
                                    "SZALLAS_NEV": "Fortuna panzió",
                                    "(No column name)": "2"
                                },
                                {
                                    "SZALLAS_NEV": "Hotel Három Hattyú",
                                    "(No column name)": "2"
                                },
                                {
                                    "SZALLAS_NEV": "Szieszta Apartmanház",
                                    "(No column name)": "3"
                                },
                                {
                                    "SZALLAS_NEV": "Kentaur Hotel",
                                    "(No column name)": "2"
                                },
                                {
                                    "SZALLAS_NEV": "Kentaur Hotel",
                                    "(No column name)": "3"
                                },
                                {
                                    "SZALLAS_NEV": "Fortuna panzió",
                                    "(No column name)": "2"
                                },
                                {
                                    "SZALLAS_NEV": "Lagúna Hotel",
                                    "(No column name)": "2"
                                },
                                {
                                    "SZALLAS_NEV": "Kentaur Hotel",
                                    "(No column name)": "1"
                                },
                                {
                                    "SZALLAS_NEV": "Lagúna Hotel",
                                    "(No column name)": "4"
                                },
                                {
                                    "SZALLAS_NEV": "Gold Hotel",
                                    "(No column name)": "3"
                                },
                                {
                                    "SZALLAS_NEV": "Kentaur Hotel",
                                    "(No column name)": "2"
                                },
                                {
                                    "SZALLAS_NEV": "Kentaur Hotel",
                                    "(No column name)": "2"
                                },
                                {
                                    "SZALLAS_NEV": "Kentaur Hotel",
                                    "(No column name)": "1"
                                },
                                {
                                    "SZALLAS_NEV": "Gold Hotel",
                                    "(No column name)": "4"
                                },
                                {
                                    "SZALLAS_NEV": "Hotel Három Hattyú",
                                    "(No column name)": "4"
                                },
                                {
                                    "SZALLAS_NEV": "Családi Ház",
                                    "(No column name)": "1"
                                },
                                {
                                    "SZALLAS_NEV": "Lagúna Hotel",
                                    "(No column name)": "3"
                                },
                                {
                                    "SZALLAS_NEV": "Lagúna Hotel",
                                    "(No column name)": "3"
                                },
                                {
                                    "SZALLAS_NEV": "Hotel Három Hattyú",
                                    "(No column name)": "3"
                                },
                                {
                                    "SZALLAS_NEV": "Gold Hotel",
                                    "(No column name)": "2"
                                },
                                {
                                    "SZALLAS_NEV": "Jáde panzió",
                                    "(No column name)": "2"
                                },
                                {
                                    "SZALLAS_NEV": "Jáde panzió",
                                    "(No column name)": "2"
                                },
                                {
                                    "SZALLAS_NEV": "Fortuna panzió",
                                    "(No column name)": "3"
                                },
                                {
                                    "SZALLAS_NEV": "Kentaur Hotel",
                                    "(No column name)": "2"
                                },
                                {
                                    "SZALLAS_NEV": "Fortuna panzió",
                                    "(No column name)": "2"
                                },
                                {
                                    "SZALLAS_NEV": "Lagúna Hotel",
                                    "(No column name)": "2"
                                },
                                {
                                    "SZALLAS_NEV": "Fortuna panzió",
                                    "(No column name)": "1"
                                },
                                {
                                    "SZALLAS_NEV": "Hotel Három Hattyú",
                                    "(No column name)": "2"
                                },
                                {
                                    "SZALLAS_NEV": "Hotel Három Hattyú",
                                    "(No column name)": "3"
                                },
                                {
                                    "SZALLAS_NEV": "Hotel Három Hattyú",
                                    "(No column name)": "4"
                                },
                                {
                                    "SZALLAS_NEV": "Gold Hotel",
                                    "(No column name)": "2"
                                },
                                {
                                    "SZALLAS_NEV": "Hotel Három Hattyú",
                                    "(No column name)": "2"
                                },
                                {
                                    "SZALLAS_NEV": "Hotel Három Hattyú",
                                    "(No column name)": "2"
                                },
                                {
                                    "SZALLAS_NEV": "Partiszél Vendégház",
                                    "(No column name)": "2"
                                },
                                {
                                    "SZALLAS_NEV": "Hotel Három Hattyú",
                                    "(No column name)": "2"
                                },
                                {
                                    "SZALLAS_NEV": "Hotel Három Hattyú",
                                    "(No column name)": "2"
                                },
                                {
                                    "SZALLAS_NEV": "Lagúna Hotel",
                                    "(No column name)": "2"
                                },
                                {
                                    "SZALLAS_NEV": "Gold Hotel",
                                    "(No column name)": "2"
                                },
                                {
                                    "SZALLAS_NEV": "Sába-Ház",
                                    "(No column name)": "2"
                                },
                                {
                                    "SZALLAS_NEV": "Hotel Három Hattyú",
                                    "(No column name)": "4"
                                },
                                {
                                    "SZALLAS_NEV": "Hotel Három Hattyú",
                                    "(No column name)": "3"
                                },
                                {
                                    "SZALLAS_NEV": "Hotel Három Hattyú",
                                    "(No column name)": "5"
                                },
                                {
                                    "SZALLAS_NEV": "Kentaur Hotel",
                                    "(No column name)": "3"
                                },
                                {
                                    "SZALLAS_NEV": "Gold Hotel",
                                    "(No column name)": "3"
                                },
                                {
                                    "SZALLAS_NEV": "Családi Ház",
                                    "(No column name)": "3"
                                },
                                {
                                    "SZALLAS_NEV": "Hotel Három Hattyú",
                                    "(No column name)": "4"
                                },
                                {
                                    "SZALLAS_NEV": "Hotel Három Hattyú",
                                    "(No column name)": "3"
                                },
                                {
                                    "SZALLAS_NEV": "Hotel Három Hattyú",
                                    "(No column name)": "3"
                                },
                                {
                                    "SZALLAS_NEV": "Gold Hotel",
                                    "(No column name)": "2"
                                },
                                {
                                    "SZALLAS_NEV": "Gold Hotel",
                                    "(No column name)": "3"
                                },
                                {
                                    "SZALLAS_NEV": "Kentaur Hotel",
                                    "(No column name)": "1"
                                },
                                {
                                    "SZALLAS_NEV": "Fortuna Apartman",
                                    "(No column name)": "4"
                                },
                                {
                                    "SZALLAS_NEV": "Kentaur Hotel",
                                    "(No column name)": "2"
                                },
                                {
                                    "SZALLAS_NEV": "Lagúna Hotel",
                                    "(No column name)": "3"
                                },
                                {
                                    "SZALLAS_NEV": "Gold Hotel",
                                    "(No column name)": "1"
                                },
                                {
                                    "SZALLAS_NEV": "Hotel Három Hattyú",
                                    "(No column name)": "3"
                                },
                                {
                                    "SZALLAS_NEV": "Hotel Három Hattyú",
                                    "(No column name)": "2"
                                },
                                {
                                    "SZALLAS_NEV": "Gold Hotel",
                                    "(No column name)": "4"
                                },
                                {
                                    "SZALLAS_NEV": "Kentaur Hotel",
                                    "(No column name)": "3"
                                },
                                {
                                    "SZALLAS_NEV": "Szieszta Apartmanház",
                                    "(No column name)": "2"
                                },
                                {
                                    "SZALLAS_NEV": "Lagúna Hotel",
                                    "(No column name)": "2"
                                },
                                {
                                    "SZALLAS_NEV": "Fortuna Panzió",
                                    "(No column name)": "3"
                                },
                                {
                                    "SZALLAS_NEV": "Hotel Három Hattyú",
                                    "(No column name)": "2"
                                },
                                {
                                    "SZALLAS_NEV": "Gold Hotel",
                                    "(No column name)": "2"
                                },
                                {
                                    "SZALLAS_NEV": "Hotel Három Hattyú",
                                    "(No column name)": "2"
                                },
                                {
                                    "SZALLAS_NEV": "Jáde panzió",
                                    "(No column name)": "3"
                                },
                                {
                                    "SZALLAS_NEV": "Kentaur Hotel",
                                    "(No column name)": "3"
                                },
                                {
                                    "SZALLAS_NEV": "Szieszta Apartmanház",
                                    "(No column name)": "3"
                                },
                                {
                                    "SZALLAS_NEV": "Hotel Három Hattyú",
                                    "(No column name)": "3"
                                },
                                {
                                    "SZALLAS_NEV": "Sába-Ház",
                                    "(No column name)": "1"
                                },
                                {
                                    "SZALLAS_NEV": "Fortuna Panzió",
                                    "(No column name)": "2"
                                },
                                {
                                    "SZALLAS_NEV": "Hotel Három Hattyú",
                                    "(No column name)": "2"
                                },
                                {
                                    "SZALLAS_NEV": "Gold Hotel",
                                    "(No column name)": "3"
                                },
                                {
                                    "SZALLAS_NEV": "Hotel Három Hattyú",
                                    "(No column name)": "2"
                                },
                                {
                                    "SZALLAS_NEV": "Hotel Három Hattyú",
                                    "(No column name)": "3"
                                },
                                {
                                    "SZALLAS_NEV": "Fortuna panzió",
                                    "(No column name)": "1"
                                },
                                {
                                    "SZALLAS_NEV": "Hotel Három Hattyú",
                                    "(No column name)": "3"
                                },
                                {
                                    "SZALLAS_NEV": "Hotel Három Hattyú",
                                    "(No column name)": "3"
                                },
                                {
                                    "SZALLAS_NEV": "Hotel Három Hattyú",
                                    "(No column name)": "2"
                                },
                                {
                                    "SZALLAS_NEV": "Fortuna Apartman",
                                    "(No column name)": "3"
                                },
                                {
                                    "SZALLAS_NEV": "Kentaur Hotel",
                                    "(No column name)": "3"
                                },
                                {
                                    "SZALLAS_NEV": "Jáde panzió",
                                    "(No column name)": "2"
                                },
                                {
                                    "SZALLAS_NEV": "Fortuna Panzió",
                                    "(No column name)": "2"
                                },
                                {
                                    "SZALLAS_NEV": "Sába-Ház",
                                    "(No column name)": "4"
                                },
                                {
                                    "SZALLAS_NEV": "Fortuna panzió",
                                    "(No column name)": "2"
                                },
                                {
                                    "SZALLAS_NEV": "Lagúna Hotel",
                                    "(No column name)": "2"
                                },
                                {
                                    "SZALLAS_NEV": "Hotel Három Hattyú",
                                    "(No column name)": "3"
                                },
                                {
                                    "SZALLAS_NEV": "Lagúna Hotel",
                                    "(No column name)": "1"
                                },
                                {
                                    "SZALLAS_NEV": "Családi Ház",
                                    "(No column name)": "4"
                                },
                                {
                                    "SZALLAS_NEV": "Hotel Három Hattyú",
                                    "(No column name)": "1"
                                },
                                {
                                    "SZALLAS_NEV": "Sába-Ház",
                                    "(No column name)": "3"
                                },
                                {
                                    "SZALLAS_NEV": "Lagúna Hotel",
                                    "(No column name)": "2"
                                },
                                {
                                    "SZALLAS_NEV": "Fortuna Panzió",
                                    "(No column name)": "3"
                                },
                                {
                                    "SZALLAS_NEV": "Fortuna Panzió",
                                    "(No column name)": "3"
                                },
                                {
                                    "SZALLAS_NEV": "Szieszta Apartmanház",
                                    "(No column name)": "3"
                                },
                                {
                                    "SZALLAS_NEV": "Fortuna Apartman",
                                    "(No column name)": "3"
                                },
                                {
                                    "SZALLAS_NEV": "Kentaur Hotel",
                                    "(No column name)": "4"
                                },
                                {
                                    "SZALLAS_NEV": "Lagúna Hotel",
                                    "(No column name)": "2"
                                },
                                {
                                    "SZALLAS_NEV": "Fortuna Panzió",
                                    "(No column name)": "3"
                                },
                                {
                                    "SZALLAS_NEV": "Fortuna Panzió",
                                    "(No column name)": "2"
                                },
                                {
                                    "SZALLAS_NEV": "Hotel Három Hattyú",
                                    "(No column name)": "3"
                                },
                                {
                                    "SZALLAS_NEV": "Hotel Három Hattyú",
                                    "(No column name)": "4"
                                },
                                {
                                    "SZALLAS_NEV": "Fortuna panzió",
                                    "(No column name)": "3"
                                },
                                {
                                    "SZALLAS_NEV": "Kentaur Hotel",
                                    "(No column name)": "2"
                                },
                                {
                                    "SZALLAS_NEV": "Lagúna Hotel",
                                    "(No column name)": "2"
                                },
                                {
                                    "SZALLAS_NEV": "Gold Hotel",
                                    "(No column name)": "3"
                                },
                                {
                                    "SZALLAS_NEV": "Hotel Három Hattyú",
                                    "(No column name)": "2"
                                },
                                {
                                    "SZALLAS_NEV": "Lagúna Hotel",
                                    "(No column name)": "3"
                                },
                                {
                                    "SZALLAS_NEV": "Kentaur Hotel",
                                    "(No column name)": "2"
                                },
                                {
                                    "SZALLAS_NEV": "Gold Hotel",
                                    "(No column name)": "4"
                                },
                                {
                                    "SZALLAS_NEV": "Hotel Három Hattyú",
                                    "(No column name)": "2"
                                },
                                {
                                    "SZALLAS_NEV": "Partiszél Vendégház",
                                    "(No column name)": "3"
                                },
                                {
                                    "SZALLAS_NEV": "Hotel Három Hattyú",
                                    "(No column name)": "3"
                                },
                                {
                                    "SZALLAS_NEV": "Gold Hotel",
                                    "(No column name)": "2"
                                },
                                {
                                    "SZALLAS_NEV": "Fortuna panzió",
                                    "(No column name)": "1"
                                },
                                {
                                    "SZALLAS_NEV": "Hotel Három Hattyú",
                                    "(No column name)": "3"
                                },
                                {
                                    "SZALLAS_NEV": "Gold Hotel",
                                    "(No column name)": "3"
                                },
                                {
                                    "SZALLAS_NEV": "Partiszél Vendégház",
                                    "(No column name)": "3"
                                },
                                {
                                    "SZALLAS_NEV": "Lagúna Hotel",
                                    "(No column name)": "4"
                                },
                                {
                                    "SZALLAS_NEV": "Kentaur Hotel",
                                    "(No column name)": "3"
                                },
                                {
                                    "SZALLAS_NEV": "Hotel Három Hattyú",
                                    "(No column name)": "3"
                                },
                                {
                                    "SZALLAS_NEV": "Szieszta Apartmanház",
                                    "(No column name)": "2"
                                },
                                {
                                    "SZALLAS_NEV": "Gold Hotel",
                                    "(No column name)": "1"
                                },
                                {
                                    "SZALLAS_NEV": "Kentaur Hotel",
                                    "(No column name)": "3"
                                },
                                {
                                    "SZALLAS_NEV": "Lagúna Hotel",
                                    "(No column name)": "1"
                                },
                                {
                                    "SZALLAS_NEV": "Hotel Három Hattyú",
                                    "(No column name)": "3"
                                },
                                {
                                    "SZALLAS_NEV": "Kentaur Hotel",
                                    "(No column name)": "4"
                                },
                                {
                                    "SZALLAS_NEV": "Fortuna Panzió",
                                    "(No column name)": "1"
                                },
                                {
                                    "SZALLAS_NEV": "Kentaur Hotel",
                                    "(No column name)": "2"
                                },
                                {
                                    "SZALLAS_NEV": "Hotel Három Hattyú",
                                    "(No column name)": "2"
                                },
                                {
                                    "SZALLAS_NEV": "Kentaur Hotel",
                                    "(No column name)": "3"
                                }
                            ]
                        },
                        "text/html": [
                            "<table>",
                            "<tr><th>SZALLAS_NEV</th><th>(No column name)</th></tr>",
                            "<tr><td>Szieszta Apartmanház</td><td>3</td></tr>",
                            "<tr><td>Jáde panzió</td><td>2</td></tr>",
                            "<tr><td>Sába-Ház</td><td>2</td></tr>",
                            "<tr><td>Fortuna Panzió</td><td>2</td></tr>",
                            "<tr><td>Sába-Ház</td><td>1</td></tr>",
                            "<tr><td>Kentaur Hotel</td><td>4</td></tr>",
                            "<tr><td>Sába-Ház</td><td>2</td></tr>",
                            "<tr><td>Lagúna Hotel</td><td>2</td></tr>",
                            "<tr><td>Fortuna Apartman</td><td>2</td></tr>",
                            "<tr><td>Gold Hotel</td><td>1</td></tr>",
                            "<tr><td>Kentaur Hotel</td><td>2</td></tr>",
                            "<tr><td>Sába-Ház</td><td>2</td></tr>",
                            "<tr><td>Partiszél Vendégház</td><td>2</td></tr>",
                            "<tr><td>Gold Hotel</td><td>2</td></tr>",
                            "<tr><td>Kentaur Hotel</td><td>2</td></tr>",
                            "<tr><td>Gold Hotel</td><td>2</td></tr>",
                            "<tr><td>Gold Hotel</td><td>2</td></tr>",
                            "<tr><td>Lagúna Hotel</td><td>4</td></tr>",
                            "<tr><td>Hotel Három Hattyú</td><td>3</td></tr>",
                            "<tr><td>Lagúna Hotel</td><td>3</td></tr>",
                            "<tr><td>Gold Hotel</td><td>3</td></tr>",
                            "<tr><td>Lagúna Hotel</td><td>2</td></tr>",
                            "<tr><td>Jáde panzió</td><td>2</td></tr>",
                            "<tr><td>Lagúna Hotel</td><td>3</td></tr>",
                            "<tr><td>Lagúna Hotel</td><td>2</td></tr>",
                            "<tr><td>Kentaur Hotel</td><td>3</td></tr>",
                            "<tr><td>Lagúna Hotel</td><td>2</td></tr>",
                            "<tr><td>Kentaur Hotel</td><td>3</td></tr>",
                            "<tr><td>Hotel Három Hattyú</td><td>1</td></tr>",
                            "<tr><td>Hotel Három Hattyú</td><td>1</td></tr>",
                            "<tr><td>Lagúna Hotel</td><td>4</td></tr>",
                            "<tr><td>Fortuna Panzió</td><td>3</td></tr>",
                            "<tr><td>Fortuna Panzió</td><td>2</td></tr>",
                            "<tr><td>Lagúna Hotel</td><td>2</td></tr>",
                            "<tr><td>Gold Hotel</td><td>2</td></tr>",
                            "<tr><td>Kentaur Hotel</td><td>3</td></tr>",
                            "<tr><td>Lagúna Hotel</td><td>2</td></tr>",
                            "<tr><td>Kentaur Hotel</td><td>2</td></tr>",
                            "<tr><td>Hotel Három Hattyú</td><td>3</td></tr>",
                            "<tr><td>Hotel Három Hattyú</td><td>2</td></tr>",
                            "<tr><td>Fortuna panzió</td><td>4</td></tr>",
                            "<tr><td>Partiszél Vendégház</td><td>3</td></tr>",
                            "<tr><td>Gold Hotel</td><td>1</td></tr>",
                            "<tr><td>Fortuna panzió</td><td>1</td></tr>",
                            "<tr><td>Fortuna Apartman</td><td>4</td></tr>",
                            "<tr><td>Fortuna Panzió</td><td>3</td></tr>",
                            "<tr><td>Fortuna panzió</td><td>2</td></tr>",
                            "<tr><td>Hotel Három Hattyú</td><td>3</td></tr>",
                            "<tr><td>Fortuna panzió</td><td>4</td></tr>",
                            "<tr><td>Hotel Három Hattyú</td><td>3</td></tr>",
                            "<tr><td>Gold Hotel</td><td>2</td></tr>",
                            "<tr><td>Sába-Ház</td><td>2</td></tr>",
                            "<tr><td>Hotel Három Hattyú</td><td>1</td></tr>",
                            "<tr><td>Fortuna panzió</td><td>2</td></tr>",
                            "<tr><td>Hotel Három Hattyú</td><td>2</td></tr>",
                            "<tr><td>Jáde panzió</td><td>2</td></tr>",
                            "<tr><td>Hotel Három Hattyú</td><td>3</td></tr>",
                            "<tr><td>Gold Hotel</td><td>3</td></tr>",
                            "<tr><td>Hotel Három Hattyú</td><td>2</td></tr>",
                            "<tr><td>Hotel Három Hattyú</td><td>3</td></tr>",
                            "<tr><td>Hotel Három Hattyú</td><td>2</td></tr>",
                            "<tr><td>Jáde panzió</td><td>2</td></tr>",
                            "<tr><td>Sába-Ház</td><td>1</td></tr>",
                            "<tr><td>Hotel Három Hattyú</td><td>2</td></tr>",
                            "<tr><td>Kentaur Hotel</td><td>2</td></tr>",
                            "<tr><td>Hotel Három Hattyú</td><td>3</td></tr>",
                            "<tr><td>Fortuna panzió</td><td>4</td></tr>",
                            "<tr><td>Kentaur Hotel</td><td>2</td></tr>",
                            "<tr><td>Fortuna Apartman</td><td>2</td></tr>",
                            "<tr><td>Fortuna panzió</td><td>3</td></tr>",
                            "<tr><td>Fortuna Panzió</td><td>3</td></tr>",
                            "<tr><td>Sába-Ház</td><td>3</td></tr>",
                            "<tr><td>Partiszél Vendégház</td><td>2</td></tr>",
                            "<tr><td>Hotel Három Hattyú</td><td>1</td></tr>",
                            "<tr><td>Hotel Három Hattyú</td><td>2</td></tr>",
                            "<tr><td>Gold Hotel</td><td>3</td></tr>",
                            "<tr><td>Gold Hotel</td><td>2</td></tr>",
                            "<tr><td>Hotel Három Hattyú</td><td>4</td></tr>",
                            "<tr><td>Hotel Három Hattyú</td><td>2</td></tr>",
                            "<tr><td>Hotel Három Hattyú</td><td>2</td></tr>",
                            "<tr><td>Kentaur Hotel</td><td>1</td></tr>",
                            "<tr><td>Partiszél Vendégház</td><td>3</td></tr>",
                            "<tr><td>Gold Hotel</td><td>2</td></tr>",
                            "<tr><td>Lagúna Hotel</td><td>3</td></tr>",
                            "<tr><td>Kentaur Hotel</td><td>2</td></tr>",
                            "<tr><td>Hotel Három Hattyú</td><td>2</td></tr>",
                            "<tr><td>Gold Hotel</td><td>2</td></tr>",
                            "<tr><td>Kentaur Hotel</td><td>4</td></tr>",
                            "<tr><td>Kentaur Hotel</td><td>3</td></tr>",
                            "<tr><td>Szieszta Apartmanház</td><td>2</td></tr>",
                            "<tr><td>Lagúna Hotel</td><td>1</td></tr>",
                            "<tr><td>Lagúna Hotel</td><td>2</td></tr>",
                            "<tr><td>Kentaur Hotel</td><td>2</td></tr>",
                            "<tr><td>Sába-Ház</td><td>1</td></tr>",
                            "<tr><td>Lagúna Hotel</td><td>1</td></tr>",
                            "<tr><td>Partiszél Vendégház</td><td>2</td></tr>",
                            "<tr><td>Hotel Három Hattyú</td><td>2</td></tr>",
                            "<tr><td>Jáde panzió</td><td>2</td></tr>",
                            "<tr><td>Hotel Három Hattyú</td><td>2</td></tr>",
                            "<tr><td>Lagúna Hotel</td><td>1</td></tr>",
                            "<tr><td>Fortuna Panzió</td><td>3</td></tr>",
                            "<tr><td>Gold Hotel</td><td>2</td></tr>",
                            "<tr><td>Fortuna Apartman</td><td>3</td></tr>",
                            "<tr><td>Lagúna Hotel</td><td>1</td></tr>",
                            "<tr><td>Gold Hotel</td><td>4</td></tr>",
                            "<tr><td>Családi Ház</td><td>4</td></tr>",
                            "<tr><td>Lagúna Hotel</td><td>2</td></tr>",
                            "<tr><td>Hotel Három Hattyú</td><td>2</td></tr>",
                            "<tr><td>Sába-Ház</td><td>3</td></tr>",
                            "<tr><td>Kentaur Hotel</td><td>3</td></tr>",
                            "<tr><td>Kentaur Hotel</td><td>3</td></tr>",
                            "<tr><td>Gold Hotel</td><td>1</td></tr>",
                            "<tr><td>Fortuna Panzió</td><td>2</td></tr>",
                            "<tr><td>Hotel Három Hattyú</td><td>3</td></tr>",
                            "<tr><td>Gold Hotel</td><td>3</td></tr>",
                            "<tr><td>Gold Hotel</td><td>2</td></tr>",
                            "<tr><td>Kentaur Hotel</td><td>3</td></tr>",
                            "<tr><td>Gold Hotel</td><td>3</td></tr>",
                            "<tr><td>Kentaur Hotel</td><td>2</td></tr>",
                            "<tr><td>Gold Hotel</td><td>3</td></tr>",
                            "<tr><td>Lagúna Hotel</td><td>2</td></tr>",
                            "<tr><td>Gold Hotel</td><td>3</td></tr>",
                            "<tr><td>Gold Hotel</td><td>2</td></tr>",
                            "<tr><td>Kentaur Hotel</td><td>2</td></tr>",
                            "<tr><td>Gold Hotel</td><td>2</td></tr>",
                            "<tr><td>Kentaur Hotel</td><td>2</td></tr>",
                            "<tr><td>Gold Hotel</td><td>1</td></tr>",
                            "<tr><td>Hotel Három Hattyú</td><td>2</td></tr>",
                            "<tr><td>Fortuna panzió</td><td>2</td></tr>",
                            "<tr><td>Családi Ház</td><td>2</td></tr>",
                            "<tr><td>Fortuna panzió</td><td>2</td></tr>",
                            "<tr><td>Hotel Három Hattyú</td><td>1</td></tr>",
                            "<tr><td>Gold Hotel</td><td>2</td></tr>",
                            "<tr><td>Hotel Három Hattyú</td><td>2</td></tr>",
                            "<tr><td>Lagúna Hotel</td><td>2</td></tr>",
                            "<tr><td>Gold Hotel</td><td>2</td></tr>",
                            "<tr><td>Sába-Ház</td><td>2</td></tr>",
                            "<tr><td>Gold Hotel</td><td>3</td></tr>",
                            "<tr><td>Fortuna Apartman</td><td>3</td></tr>",
                            "<tr><td>Sába-Ház</td><td>1</td></tr>",
                            "<tr><td>Kentaur Hotel</td><td>3</td></tr>",
                            "<tr><td>Gold Hotel</td><td>2</td></tr>",
                            "<tr><td>Kentaur Hotel</td><td>3</td></tr>",
                            "<tr><td>Kentaur Hotel</td><td>2</td></tr>",
                            "<tr><td>Kentaur Hotel</td><td>1</td></tr>",
                            "<tr><td>Lagúna Hotel</td><td>4</td></tr>",
                            "<tr><td>Kentaur Hotel</td><td>3</td></tr>",
                            "<tr><td>Fortuna panzió</td><td>1</td></tr>",
                            "<tr><td>Hotel Három Hattyú</td><td>2</td></tr>",
                            "<tr><td>Fortuna panzió</td><td>3</td></tr>",
                            "<tr><td>Hotel Három Hattyú</td><td>1</td></tr>",
                            "<tr><td>Gold Hotel</td><td>1</td></tr>",
                            "<tr><td>Gold Hotel</td><td>2</td></tr>",
                            "<tr><td>Gold Hotel</td><td>3</td></tr>",
                            "<tr><td>Kentaur Hotel</td><td>3</td></tr>",
                            "<tr><td>Fortuna Apartman</td><td>2</td></tr>",
                            "<tr><td>Kentaur Hotel</td><td>3</td></tr>",
                            "<tr><td>Hotel Három Hattyú</td><td>2</td></tr>",
                            "<tr><td>Hotel Három Hattyú</td><td>3</td></tr>",
                            "<tr><td>Hotel Három Hattyú</td><td>2</td></tr>",
                            "<tr><td>Hotel Három Hattyú</td><td>5</td></tr>",
                            "<tr><td>Kentaur Hotel</td><td>3</td></tr>",
                            "<tr><td>Partiszél Vendégház</td><td>4</td></tr>",
                            "<tr><td>Gold Hotel</td><td>2</td></tr>",
                            "<tr><td>Hotel Három Hattyú</td><td>2</td></tr>",
                            "<tr><td>Hotel Három Hattyú</td><td>2</td></tr>",
                            "<tr><td>Lagúna Hotel</td><td>2</td></tr>",
                            "<tr><td>Fortuna panzió</td><td>2</td></tr>",
                            "<tr><td>Hotel Három Hattyú</td><td>4</td></tr>",
                            "<tr><td>Hotel Három Hattyú</td><td>2</td></tr>",
                            "<tr><td>Fortuna panzió</td><td>4</td></tr>",
                            "<tr><td>Szieszta Apartmanház</td><td>2</td></tr>",
                            "<tr><td>Lagúna Hotel</td><td>2</td></tr>",
                            "<tr><td>Gold Hotel</td><td>3</td></tr>",
                            "<tr><td>Hotel Három Hattyú</td><td>2</td></tr>",
                            "<tr><td>Lagúna Hotel</td><td>1</td></tr>",
                            "<tr><td>Kentaur Hotel</td><td>3</td></tr>",
                            "<tr><td>Hotel Három Hattyú</td><td>2</td></tr>",
                            "<tr><td>Kentaur Hotel</td><td>3</td></tr>",
                            "<tr><td>Hotel Három Hattyú</td><td>2</td></tr>",
                            "<tr><td>Sába-Ház</td><td>3</td></tr>",
                            "<tr><td>Hotel Három Hattyú</td><td>2</td></tr>",
                            "<tr><td>Gold Hotel</td><td>2</td></tr>",
                            "<tr><td>Hotel Három Hattyú</td><td>4</td></tr>",
                            "<tr><td>Partiszél Vendégház</td><td>2</td></tr>",
                            "<tr><td>Gold Hotel</td><td>2</td></tr>",
                            "<tr><td>Fortuna Apartman</td><td>2</td></tr>",
                            "<tr><td>Lagúna Hotel</td><td>2</td></tr>",
                            "<tr><td>Gold Hotel</td><td>3</td></tr>",
                            "<tr><td>Gold Hotel</td><td>3</td></tr>",
                            "<tr><td>Fortuna panzió</td><td>4</td></tr>",
                            "<tr><td>Gold Hotel</td><td>4</td></tr>",
                            "<tr><td>Fortuna panzió</td><td>4</td></tr>",
                            "<tr><td>Lagúna Hotel</td><td>2</td></tr>",
                            "<tr><td>Fortuna Panzió</td><td>2</td></tr>",
                            "<tr><td>Gold Hotel</td><td>2</td></tr>",
                            "<tr><td>Hotel Három Hattyú</td><td>3</td></tr>",
                            "<tr><td>Fortuna Apartman</td><td>1</td></tr>",
                            "<tr><td>Kentaur Hotel</td><td>3</td></tr>",
                            "<tr><td>Szieszta Apartmanház</td><td>1</td></tr>",
                            "<tr><td>Fortuna panzió</td><td>4</td></tr>",
                            "<tr><td>Sába-Ház</td><td>2</td></tr>",
                            "<tr><td>Jáde panzió</td><td>2</td></tr>",
                            "<tr><td>Lagúna Hotel</td><td>2</td></tr>",
                            "<tr><td>Hotel Három Hattyú</td><td>3</td></tr>",
                            "<tr><td>Családi Ház</td><td>3</td></tr>",
                            "<tr><td>Gold Hotel</td><td>3</td></tr>",
                            "<tr><td>Lagúna Hotel</td><td>2</td></tr>",
                            "<tr><td>Gold Hotel</td><td>2</td></tr>",
                            "<tr><td>Fortuna Apartman</td><td>3</td></tr>",
                            "<tr><td>Lagúna Hotel</td><td>4</td></tr>",
                            "<tr><td>Kentaur Hotel</td><td>2</td></tr>",
                            "<tr><td>Fortuna Panzió</td><td>3</td></tr>",
                            "<tr><td>Lagúna Hotel</td><td>2</td></tr>",
                            "<tr><td>Sába-Ház</td><td>3</td></tr>",
                            "<tr><td>Kentaur Hotel</td><td>2</td></tr>",
                            "<tr><td>Gold Hotel</td><td>2</td></tr>",
                            "<tr><td>Sába-Ház</td><td>3</td></tr>",
                            "<tr><td>Hotel Három Hattyú</td><td>3</td></tr>",
                            "<tr><td>Fortuna panzió</td><td>2</td></tr>",
                            "<tr><td>Fortuna Apartman</td><td>3</td></tr>",
                            "<tr><td>Jáde panzió</td><td>1</td></tr>",
                            "<tr><td>Hotel Három Hattyú</td><td>2</td></tr>",
                            "<tr><td>Gold Hotel</td><td>1</td></tr>",
                            "<tr><td>Partiszél Vendégház</td><td>1</td></tr>",
                            "<tr><td>Lagúna Hotel</td><td>2</td></tr>",
                            "<tr><td>Lagúna Hotel</td><td>2</td></tr>",
                            "<tr><td>Gold Hotel</td><td>4</td></tr>",
                            "<tr><td>Hotel Három Hattyú</td><td>2</td></tr>",
                            "<tr><td>Kentaur Hotel</td><td>1</td></tr>",
                            "<tr><td>Sába-Ház</td><td>4</td></tr>",
                            "<tr><td>Lagúna Hotel</td><td>3</td></tr>",
                            "<tr><td>Sába-Ház</td><td>1</td></tr>",
                            "<tr><td>Családi Ház</td><td>2</td></tr>",
                            "<tr><td>Gold Hotel</td><td>4</td></tr>",
                            "<tr><td>Fortuna Panzió</td><td>3</td></tr>",
                            "<tr><td>Gold Hotel</td><td>4</td></tr>",
                            "<tr><td>Sába-Ház</td><td>3</td></tr>",
                            "<tr><td>Lagúna Hotel</td><td>3</td></tr>",
                            "<tr><td>Kentaur Hotel</td><td>4</td></tr>",
                            "<tr><td>Kentaur Hotel</td><td>3</td></tr>",
                            "<tr><td>Gold Hotel</td><td>1</td></tr>",
                            "<tr><td>Fortuna Panzió</td><td>2</td></tr>",
                            "<tr><td>Hotel Három Hattyú</td><td>3</td></tr>",
                            "<tr><td>Fortuna Panzió</td><td>2</td></tr>",
                            "<tr><td>Sába-Ház</td><td>1</td></tr>",
                            "<tr><td>Lagúna Hotel</td><td>3</td></tr>",
                            "<tr><td>Fortuna Apartman</td><td>3</td></tr>",
                            "<tr><td>Hotel Három Hattyú</td><td>2</td></tr>",
                            "<tr><td>Fortuna panzió</td><td>3</td></tr>",
                            "<tr><td>Lagúna Hotel</td><td>2</td></tr>",
                            "<tr><td>Hotel Három Hattyú</td><td>3</td></tr>",
                            "<tr><td>Hotel Három Hattyú</td><td>3</td></tr>",
                            "<tr><td>Kentaur Hotel</td><td>2</td></tr>",
                            "<tr><td>Lagúna Hotel</td><td>2</td></tr>",
                            "<tr><td>Családi Ház</td><td>3</td></tr>",
                            "<tr><td>Kentaur Hotel</td><td>3</td></tr>",
                            "<tr><td>Hotel Három Hattyú</td><td>3</td></tr>",
                            "<tr><td>Gold Hotel</td><td>3</td></tr>",
                            "<tr><td>Szieszta Apartmanház</td><td>3</td></tr>",
                            "<tr><td>Sába-Ház</td><td>1</td></tr>",
                            "<tr><td>Kentaur Hotel</td><td>2</td></tr>",
                            "<tr><td>Fortuna Apartman</td><td>3</td></tr>",
                            "<tr><td>Fortuna panzió</td><td>3</td></tr>",
                            "<tr><td>Kentaur Hotel</td><td>2</td></tr>",
                            "<tr><td>Fortuna Panzió</td><td>3</td></tr>",
                            "<tr><td>Fortuna Panzió</td><td>3</td></tr>",
                            "<tr><td>Lagúna Hotel</td><td>3</td></tr>",
                            "<tr><td>Fortuna Panzió</td><td>2</td></tr>",
                            "<tr><td>Hotel Három Hattyú</td><td>2</td></tr>",
                            "<tr><td>Sába-Ház</td><td>4</td></tr>",
                            "<tr><td>Fortuna panzió</td><td>3</td></tr>",
                            "<tr><td>Kentaur Hotel</td><td>4</td></tr>",
                            "<tr><td>Gold Hotel</td><td>2</td></tr>",
                            "<tr><td>Sába-Ház</td><td>3</td></tr>",
                            "<tr><td>Lagúna Hotel</td><td>2</td></tr>",
                            "<tr><td>Lagúna Hotel</td><td>1</td></tr>",
                            "<tr><td>Gold Hotel</td><td>5</td></tr>",
                            "<tr><td>Hotel Három Hattyú</td><td>2</td></tr>",
                            "<tr><td>Hotel Három Hattyú</td><td>3</td></tr>",
                            "<tr><td>Kentaur Hotel</td><td>2</td></tr>",
                            "<tr><td>Gold Hotel</td><td>1</td></tr>",
                            "<tr><td>Lagúna Hotel</td><td>3</td></tr>",
                            "<tr><td>Hotel Három Hattyú</td><td>4</td></tr>",
                            "<tr><td>Gold Hotel</td><td>2</td></tr>",
                            "<tr><td>Lagúna Hotel</td><td>2</td></tr>",
                            "<tr><td>Szieszta Apartmanház</td><td>3</td></tr>",
                            "<tr><td>Kentaur Hotel</td><td>1</td></tr>",
                            "<tr><td>Fortuna Panzió</td><td>1</td></tr>",
                            "<tr><td>Kentaur Hotel</td><td>3</td></tr>",
                            "<tr><td>Fortuna Apartman</td><td>2</td></tr>",
                            "<tr><td>Lagúna Hotel</td><td>2</td></tr>",
                            "<tr><td>Sába-Ház</td><td>3</td></tr>",
                            "<tr><td>Fortuna Panzió</td><td>3</td></tr>",
                            "<tr><td>Fortuna Apartman</td><td>1</td></tr>",
                            "<tr><td>Hotel Három Hattyú</td><td>2</td></tr>",
                            "<tr><td>Gold Hotel</td><td>1</td></tr>",
                            "<tr><td>Kentaur Hotel</td><td>3</td></tr>",
                            "<tr><td>Családi Ház</td><td>4</td></tr>",
                            "<tr><td>Gold Hotel</td><td>1</td></tr>",
                            "<tr><td>Hotel Három Hattyú</td><td>1</td></tr>",
                            "<tr><td>Szieszta Apartmanház</td><td>3</td></tr>",
                            "<tr><td>Kentaur Hotel</td><td>1</td></tr>",
                            "<tr><td>Hotel Három Hattyú</td><td>3</td></tr>",
                            "<tr><td>Kentaur Hotel</td><td>3</td></tr>",
                            "<tr><td>Gold Hotel</td><td>3</td></tr>",
                            "<tr><td>Hotel Három Hattyú</td><td>2</td></tr>",
                            "<tr><td>Kentaur Hotel</td><td>2</td></tr>",
                            "<tr><td>Szieszta Apartmanház</td><td>2</td></tr>",
                            "<tr><td>Gold Hotel</td><td>1</td></tr>",
                            "<tr><td>Gold Hotel</td><td>4</td></tr>",
                            "<tr><td>Kentaur Hotel</td><td>3</td></tr>",
                            "<tr><td>Fortuna panzió</td><td>2</td></tr>",
                            "<tr><td>Kentaur Hotel</td><td>3</td></tr>",
                            "<tr><td>Fortuna panzió</td><td>1</td></tr>",
                            "<tr><td>Sába-Ház</td><td>2</td></tr>",
                            "<tr><td>Kentaur Hotel</td><td>2</td></tr>",
                            "<tr><td>Kentaur Hotel</td><td>2</td></tr>",
                            "<tr><td>Sába-Ház</td><td>3</td></tr>",
                            "<tr><td>Kentaur Hotel</td><td>3</td></tr>",
                            "<tr><td>Kentaur Hotel</td><td>1</td></tr>",
                            "<tr><td>Hotel Három Hattyú</td><td>2</td></tr>",
                            "<tr><td>Gold Hotel</td><td>1</td></tr>",
                            "<tr><td>Jáde panzió</td><td>1</td></tr>",
                            "<tr><td>Sába-Ház</td><td>2</td></tr>",
                            "<tr><td>Kentaur Hotel</td><td>2</td></tr>",
                            "<tr><td>Hotel Három Hattyú</td><td>1</td></tr>",
                            "<tr><td>Kentaur Hotel</td><td>3</td></tr>",
                            "<tr><td>Fortuna panzió</td><td>2</td></tr>",
                            "<tr><td>Kentaur Hotel</td><td>2</td></tr>",
                            "<tr><td>Fortuna Panzió</td><td>3</td></tr>",
                            "<tr><td>Kentaur Hotel</td><td>2</td></tr>",
                            "<tr><td>Lagúna Hotel</td><td>3</td></tr>",
                            "<tr><td>Kentaur Hotel</td><td>1</td></tr>",
                            "<tr><td>Gold Hotel</td><td>1</td></tr>",
                            "<tr><td>Lagúna Hotel</td><td>1</td></tr>",
                            "<tr><td>Fortuna panzió</td><td>2</td></tr>",
                            "<tr><td>Fortuna panzió</td><td>5</td></tr>",
                            "<tr><td>Családi Ház</td><td>2</td></tr>",
                            "<tr><td>Gold Hotel</td><td>1</td></tr>",
                            "<tr><td>Gold Hotel</td><td>3</td></tr>",
                            "<tr><td>Fortuna panzió</td><td>2</td></tr>",
                            "<tr><td>Gold Hotel</td><td>2</td></tr>",
                            "<tr><td>Fortuna panzió</td><td>2</td></tr>",
                            "<tr><td>Kentaur Hotel</td><td>2</td></tr>",
                            "<tr><td>Gold Hotel</td><td>3</td></tr>",
                            "<tr><td>Fortuna panzió</td><td>1</td></tr>",
                            "<tr><td>Gold Hotel</td><td>4</td></tr>",
                            "<tr><td>Fortuna Apartman</td><td>2</td></tr>",
                            "<tr><td>Lagúna Hotel</td><td>2</td></tr>",
                            "<tr><td>Lagúna Hotel</td><td>2</td></tr>",
                            "<tr><td>Jáde panzió</td><td>3</td></tr>",
                            "<tr><td>Jáde panzió</td><td>2</td></tr>",
                            "<tr><td>Partiszél Vendégház</td><td>2</td></tr>",
                            "<tr><td>Gold Hotel</td><td>3</td></tr>",
                            "<tr><td>Gold Hotel</td><td>2</td></tr>",
                            "<tr><td>Fortuna Panzió</td><td>3</td></tr>",
                            "<tr><td>Lagúna Hotel</td><td>2</td></tr>",
                            "<tr><td>Fortuna Apartman</td><td>3</td></tr>",
                            "<tr><td>Gold Hotel</td><td>2</td></tr>",
                            "<tr><td>Sába-Ház</td><td>3</td></tr>",
                            "<tr><td>Fortuna panzió</td><td>4</td></tr>",
                            "<tr><td>Fortuna panzió</td><td>2</td></tr>",
                            "<tr><td>Hotel Három Hattyú</td><td>3</td></tr>",
                            "<tr><td>Partiszél Vendégház</td><td>4</td></tr>",
                            "<tr><td>Hotel Három Hattyú</td><td>1</td></tr>",
                            "<tr><td>Fortuna Panzió</td><td>3</td></tr>",
                            "<tr><td>Gold Hotel</td><td>3</td></tr>",
                            "<tr><td>Gold Hotel</td><td>5</td></tr>",
                            "<tr><td>Partiszél Vendégház</td><td>3</td></tr>",
                            "<tr><td>Gold Hotel</td><td>2</td></tr>",
                            "<tr><td>Kentaur Hotel</td><td>2</td></tr>",
                            "<tr><td>Gold Hotel</td><td>4</td></tr>",
                            "<tr><td>Hotel Három Hattyú</td><td>2</td></tr>",
                            "<tr><td>Fortuna Panzió</td><td>3</td></tr>",
                            "<tr><td>Partiszél Vendégház</td><td>3</td></tr>",
                            "<tr><td>Fortuna Apartman</td><td>2</td></tr>",
                            "<tr><td>Kentaur Hotel</td><td>1</td></tr>",
                            "<tr><td>Kentaur Hotel</td><td>2</td></tr>",
                            "<tr><td>Gold Hotel</td><td>3</td></tr>",
                            "<tr><td>Kentaur Hotel</td><td>2</td></tr>",
                            "<tr><td>Gold Hotel</td><td>3</td></tr>",
                            "<tr><td>Kentaur Hotel</td><td>4</td></tr>",
                            "<tr><td>Partiszél Vendégház</td><td>2</td></tr>",
                            "<tr><td>Hotel Három Hattyú</td><td>4</td></tr>",
                            "<tr><td>Hotel Három Hattyú</td><td>3</td></tr>",
                            "<tr><td>Gold Hotel</td><td>2</td></tr>",
                            "<tr><td>Fortuna Apartman</td><td>1</td></tr>",
                            "<tr><td>Sába-Ház</td><td>2</td></tr>",
                            "<tr><td>Sába-Ház</td><td>3</td></tr>",
                            "<tr><td>Fortuna Apartman</td><td>1</td></tr>",
                            "<tr><td>Sába-Ház</td><td>1</td></tr>",
                            "<tr><td>Kentaur Hotel</td><td>3</td></tr>",
                            "<tr><td>Sába-Ház</td><td>2</td></tr>",
                            "<tr><td>Gold Hotel</td><td>3</td></tr>",
                            "<tr><td>Hotel Három Hattyú</td><td>3</td></tr>",
                            "<tr><td>Kentaur Hotel</td><td>1</td></tr>",
                            "<tr><td>Fortuna Panzió</td><td>1</td></tr>",
                            "<tr><td>Lagúna Hotel</td><td>4</td></tr>",
                            "<tr><td>Gold Hotel</td><td>3</td></tr>",
                            "<tr><td>Gold Hotel</td><td>3</td></tr>",
                            "<tr><td>Hotel Három Hattyú</td><td>2</td></tr>",
                            "<tr><td>Fortuna Panzió</td><td>3</td></tr>",
                            "<tr><td>Kentaur Hotel</td><td>2</td></tr>",
                            "<tr><td>Hotel Három Hattyú</td><td>3</td></tr>",
                            "<tr><td>Kentaur Hotel</td><td>4</td></tr>",
                            "<tr><td>Hotel Három Hattyú</td><td>2</td></tr>",
                            "<tr><td>Sába-Ház</td><td>1</td></tr>",
                            "<tr><td>Hotel Három Hattyú</td><td>2</td></tr>",
                            "<tr><td>Hotel Három Hattyú</td><td>3</td></tr>",
                            "<tr><td>Lagúna Hotel</td><td>2</td></tr>",
                            "<tr><td>Lagúna Hotel</td><td>3</td></tr>",
                            "<tr><td>Sába-Ház</td><td>2</td></tr>",
                            "<tr><td>Fortuna panzió</td><td>3</td></tr>",
                            "<tr><td>Hotel Három Hattyú</td><td>3</td></tr>",
                            "<tr><td>Családi Ház</td><td>4</td></tr>",
                            "<tr><td>Gold Hotel</td><td>1</td></tr>",
                            "<tr><td>Hotel Három Hattyú</td><td>2</td></tr>",
                            "<tr><td>Kentaur Hotel</td><td>1</td></tr>",
                            "<tr><td>Gold Hotel</td><td>5</td></tr>",
                            "<tr><td>Gold Hotel</td><td>3</td></tr>",
                            "<tr><td>Fortuna panzió</td><td>2</td></tr>",
                            "<tr><td>Lagúna Hotel</td><td>1</td></tr>",
                            "<tr><td>Gold Hotel</td><td>1</td></tr>",
                            "<tr><td>Kentaur Hotel</td><td>4</td></tr>",
                            "<tr><td>Kentaur Hotel</td><td>2</td></tr>",
                            "<tr><td>Gold Hotel</td><td>2</td></tr>",
                            "<tr><td>Fortuna panzió</td><td>5</td></tr>",
                            "<tr><td>Fortuna Panzió</td><td>3</td></tr>",
                            "<tr><td>Kentaur Hotel</td><td>2</td></tr>",
                            "<tr><td>Jáde panzió</td><td>2</td></tr>",
                            "<tr><td>Gold Hotel</td><td>2</td></tr>",
                            "<tr><td>Sába-Ház</td><td>1</td></tr>",
                            "<tr><td>Gold Hotel</td><td>3</td></tr>",
                            "<tr><td>Hotel Három Hattyú</td><td>2</td></tr>",
                            "<tr><td>Gold Hotel</td><td>3</td></tr>",
                            "<tr><td>Hotel Három Hattyú</td><td>2</td></tr>",
                            "<tr><td>Kentaur Hotel</td><td>3</td></tr>",
                            "<tr><td>Hotel Három Hattyú</td><td>3</td></tr>",
                            "<tr><td>Kentaur Hotel</td><td>1</td></tr>",
                            "<tr><td>Hotel Három Hattyú</td><td>4</td></tr>",
                            "<tr><td>Jáde panzió</td><td>2</td></tr>",
                            "<tr><td>Kentaur Hotel</td><td>2</td></tr>",
                            "<tr><td>Sába-Ház</td><td>1</td></tr>",
                            "<tr><td>Hotel Három Hattyú</td><td>4</td></tr>",
                            "<tr><td>Fortuna panzió</td><td>2</td></tr>",
                            "<tr><td>Jáde panzió</td><td>2</td></tr>",
                            "<tr><td>Fortuna Apartman</td><td>1</td></tr>",
                            "<tr><td>Kentaur Hotel</td><td>1</td></tr>",
                            "<tr><td>Hotel Három Hattyú</td><td>3</td></tr>",
                            "<tr><td>Gold Hotel</td><td>2</td></tr>",
                            "<tr><td>Kentaur Hotel</td><td>3</td></tr>",
                            "<tr><td>Partiszél Vendégház</td><td>2</td></tr>",
                            "<tr><td>Gold Hotel</td><td>3</td></tr>",
                            "<tr><td>Fortuna panzió</td><td>3</td></tr>",
                            "<tr><td>Kentaur Hotel</td><td>2</td></tr>",
                            "<tr><td>Lagúna Hotel</td><td>2</td></tr>",
                            "<tr><td>Gold Hotel</td><td>1</td></tr>",
                            "<tr><td>Hotel Három Hattyú</td><td>3</td></tr>",
                            "<tr><td>Gold Hotel</td><td>1</td></tr>",
                            "<tr><td>Fortuna Panzió</td><td>1</td></tr>",
                            "<tr><td>Fortuna Panzió</td><td>3</td></tr>",
                            "<tr><td>Sába-Ház</td><td>3</td></tr>",
                            "<tr><td>Gold Hotel</td><td>4</td></tr>",
                            "<tr><td>Gold Hotel</td><td>3</td></tr>",
                            "<tr><td>Fortuna panzió</td><td>3</td></tr>",
                            "<tr><td>Jáde panzió</td><td>3</td></tr>",
                            "<tr><td>Lagúna Hotel</td><td>2</td></tr>",
                            "<tr><td>Hotel Három Hattyú</td><td>1</td></tr>",
                            "<tr><td>Kentaur Hotel</td><td>4</td></tr>",
                            "<tr><td>Családi Ház</td><td>3</td></tr>",
                            "<tr><td>Hotel Három Hattyú</td><td>4</td></tr>",
                            "<tr><td>Gold Hotel</td><td>3</td></tr>",
                            "<tr><td>Fortuna panzió</td><td>4</td></tr>",
                            "<tr><td>Lagúna Hotel</td><td>3</td></tr>",
                            "<tr><td>Fortuna panzió</td><td>3</td></tr>",
                            "<tr><td>Hotel Három Hattyú</td><td>1</td></tr>",
                            "<tr><td>Fortuna Apartman</td><td>3</td></tr>",
                            "<tr><td>Hotel Három Hattyú</td><td>4</td></tr>",
                            "<tr><td>Szieszta Apartmanház</td><td>2</td></tr>",
                            "<tr><td>Sába-Ház</td><td>4</td></tr>",
                            "<tr><td>Gold Hotel</td><td>2</td></tr>",
                            "<tr><td>Jáde panzió</td><td>2</td></tr>",
                            "<tr><td>Hotel Három Hattyú</td><td>2</td></tr>",
                            "<tr><td>Lagúna Hotel</td><td>2</td></tr>",
                            "<tr><td>Gold Hotel</td><td>4</td></tr>",
                            "<tr><td>Családi Ház</td><td>3</td></tr>",
                            "<tr><td>Jáde panzió</td><td>3</td></tr>",
                            "<tr><td>Lagúna Hotel</td><td>2</td></tr>",
                            "<tr><td>Lagúna Hotel</td><td>2</td></tr>",
                            "<tr><td>Hotel Három Hattyú</td><td>1</td></tr>",
                            "<tr><td>Hotel Három Hattyú</td><td>2</td></tr>",
                            "<tr><td>Hotel Három Hattyú</td><td>2</td></tr>",
                            "<tr><td>Sába-Ház</td><td>3</td></tr>",
                            "<tr><td>Fortuna panzió</td><td>3</td></tr>",
                            "<tr><td>Fortuna panzió</td><td>2</td></tr>",
                            "<tr><td>Kentaur Hotel</td><td>3</td></tr>",
                            "<tr><td>Kentaur Hotel</td><td>3</td></tr>",
                            "<tr><td>Fortuna Panzió</td><td>1</td></tr>",
                            "<tr><td>Szieszta Apartmanház</td><td>1</td></tr>",
                            "<tr><td>Lagúna Hotel</td><td>2</td></tr>",
                            "<tr><td>Szieszta Apartmanház</td><td>2</td></tr>",
                            "<tr><td>Fortuna panzió</td><td>3</td></tr>",
                            "<tr><td>Lagúna Hotel</td><td>2</td></tr>",
                            "<tr><td>Hotel Három Hattyú</td><td>3</td></tr>",
                            "<tr><td>Kentaur Hotel</td><td>2</td></tr>",
                            "<tr><td>Lagúna Hotel</td><td>3</td></tr>",
                            "<tr><td>Gold Hotel</td><td>3</td></tr>",
                            "<tr><td>Fortuna Panzió</td><td>1</td></tr>",
                            "<tr><td>Gold Hotel</td><td>2</td></tr>",
                            "<tr><td>Partiszél Vendégház</td><td>4</td></tr>",
                            "<tr><td>Sába-Ház</td><td>4</td></tr>",
                            "<tr><td>Fortuna Apartman</td><td>3</td></tr>",
                            "<tr><td>Kentaur Hotel</td><td>3</td></tr>",
                            "<tr><td>Hotel Három Hattyú</td><td>2</td></tr>",
                            "<tr><td>Sába-Ház</td><td>2</td></tr>",
                            "<tr><td>Gold Hotel</td><td>1</td></tr>",
                            "<tr><td>Partiszél Vendégház</td><td>2</td></tr>",
                            "<tr><td>Fortuna panzió</td><td>2</td></tr>",
                            "<tr><td>Lagúna Hotel</td><td>3</td></tr>",
                            "<tr><td>Fortuna panzió</td><td>3</td></tr>",
                            "<tr><td>Szieszta Apartmanház</td><td>1</td></tr>",
                            "<tr><td>Kentaur Hotel</td><td>3</td></tr>",
                            "<tr><td>Kentaur Hotel</td><td>2</td></tr>",
                            "<tr><td>Fortuna panzió</td><td>4</td></tr>",
                            "<tr><td>Hotel Három Hattyú</td><td>3</td></tr>",
                            "<tr><td>Kentaur Hotel</td><td>2</td></tr>",
                            "<tr><td>Hotel Három Hattyú</td><td>4</td></tr>",
                            "<tr><td>Kentaur Hotel</td><td>2</td></tr>",
                            "<tr><td>Lagúna Hotel</td><td>3</td></tr>",
                            "<tr><td>Fortuna Panzió</td><td>3</td></tr>",
                            "<tr><td>Hotel Három Hattyú</td><td>2</td></tr>",
                            "<tr><td>Jáde panzió</td><td>3</td></tr>",
                            "<tr><td>Gold Hotel</td><td>3</td></tr>",
                            "<tr><td>Kentaur Hotel</td><td>2</td></tr>",
                            "<tr><td>Kentaur Hotel</td><td>3</td></tr>",
                            "<tr><td>Gold Hotel</td><td>2</td></tr>",
                            "<tr><td>Gold Hotel</td><td>3</td></tr>",
                            "<tr><td>Kentaur Hotel</td><td>2</td></tr>",
                            "<tr><td>Hotel Három Hattyú</td><td>3</td></tr>",
                            "<tr><td>Lagúna Hotel</td><td>3</td></tr>",
                            "<tr><td>Sába-Ház</td><td>3</td></tr>",
                            "<tr><td>Lagúna Hotel</td><td>2</td></tr>",
                            "<tr><td>Szieszta Apartmanház</td><td>3</td></tr>",
                            "<tr><td>Hotel Három Hattyú</td><td>1</td></tr>",
                            "<tr><td>Szieszta Apartmanház</td><td>1</td></tr>",
                            "<tr><td>Kentaur Hotel</td><td>2</td></tr>",
                            "<tr><td>Lagúna Hotel</td><td>3</td></tr>",
                            "<tr><td>Fortuna Apartman</td><td>3</td></tr>",
                            "<tr><td>Partiszél Vendégház</td><td>2</td></tr>",
                            "<tr><td>Szieszta Apartmanház</td><td>2</td></tr>",
                            "<tr><td>Hotel Három Hattyú</td><td>1</td></tr>",
                            "<tr><td>Sába-Ház</td><td>3</td></tr>",
                            "<tr><td>Jáde panzió</td><td>3</td></tr>",
                            "<tr><td>Lagúna Hotel</td><td>1</td></tr>",
                            "<tr><td>Kentaur Hotel</td><td>2</td></tr>",
                            "<tr><td>Fortuna Apartman</td><td>3</td></tr>",
                            "<tr><td>Lagúna Hotel</td><td>2</td></tr>",
                            "<tr><td>Gold Hotel</td><td>3</td></tr>",
                            "<tr><td>Lagúna Hotel</td><td>3</td></tr>",
                            "<tr><td>Fortuna Panzió</td><td>3</td></tr>",
                            "<tr><td>Kentaur Hotel</td><td>3</td></tr>",
                            "<tr><td>Lagúna Hotel</td><td>2</td></tr>",
                            "<tr><td>Hotel Három Hattyú</td><td>3</td></tr>",
                            "<tr><td>Kentaur Hotel</td><td>2</td></tr>",
                            "<tr><td>Sába-Ház</td><td>3</td></tr>",
                            "<tr><td>Hotel Három Hattyú</td><td>3</td></tr>",
                            "<tr><td>Gold Hotel</td><td>3</td></tr>",
                            "<tr><td>Kentaur Hotel</td><td>3</td></tr>",
                            "<tr><td>Sába-Ház</td><td>2</td></tr>",
                            "<tr><td>Hotel Három Hattyú</td><td>3</td></tr>",
                            "<tr><td>Családi Ház</td><td>3</td></tr>",
                            "<tr><td>Fortuna Apartman</td><td>4</td></tr>",
                            "<tr><td>Sába-Ház</td><td>2</td></tr>",
                            "<tr><td>Sába-Ház</td><td>2</td></tr>",
                            "<tr><td>Gold Hotel</td><td>2</td></tr>",
                            "<tr><td>Hotel Három Hattyú</td><td>1</td></tr>",
                            "<tr><td>Fortuna Panzió</td><td>2</td></tr>",
                            "<tr><td>Fortuna panzió</td><td>1</td></tr>",
                            "<tr><td>Sába-Ház</td><td>2</td></tr>",
                            "<tr><td>Gold Hotel</td><td>2</td></tr>",
                            "<tr><td>Fortuna Apartman</td><td>3</td></tr>",
                            "<tr><td>Sába-Ház</td><td>3</td></tr>",
                            "<tr><td>Gold Hotel</td><td>2</td></tr>",
                            "<tr><td>Gold Hotel</td><td>2</td></tr>",
                            "<tr><td>Gold Hotel</td><td>3</td></tr>",
                            "<tr><td>Fortuna Panzió</td><td>3</td></tr>",
                            "<tr><td>Lagúna Hotel</td><td>2</td></tr>",
                            "<tr><td>Lagúna Hotel</td><td>2</td></tr>",
                            "<tr><td>Gold Hotel</td><td>2</td></tr>",
                            "<tr><td>Kentaur Hotel</td><td>3</td></tr>",
                            "<tr><td>Jáde panzió</td><td>3</td></tr>",
                            "<tr><td>Fortuna panzió</td><td>3</td></tr>",
                            "<tr><td>Sába-Ház</td><td>3</td></tr>",
                            "<tr><td>Sába-Ház</td><td>3</td></tr>",
                            "<tr><td>Gold Hotel</td><td>3</td></tr>",
                            "<tr><td>Hotel Három Hattyú</td><td>1</td></tr>",
                            "<tr><td>Lagúna Hotel</td><td>3</td></tr>",
                            "<tr><td>Lagúna Hotel</td><td>1</td></tr>",
                            "<tr><td>Sába-Ház</td><td>3</td></tr>",
                            "<tr><td>Fortuna panzió</td><td>3</td></tr>",
                            "<tr><td>Kentaur Hotel</td><td>1</td></tr>",
                            "<tr><td>Lagúna Hotel</td><td>2</td></tr>",
                            "<tr><td>Gold Hotel</td><td>3</td></tr>",
                            "<tr><td>Hotel Három Hattyú</td><td>2</td></tr>",
                            "<tr><td>Kentaur Hotel</td><td>2</td></tr>",
                            "<tr><td>Sába-Ház</td><td>2</td></tr>",
                            "<tr><td>Kentaur Hotel</td><td>2</td></tr>",
                            "<tr><td>Hotel Három Hattyú</td><td>2</td></tr>",
                            "<tr><td>Fortuna Apartman</td><td>4</td></tr>",
                            "<tr><td>Lagúna Hotel</td><td>2</td></tr>",
                            "<tr><td>Hotel Három Hattyú</td><td>1</td></tr>",
                            "<tr><td>Kentaur Hotel</td><td>2</td></tr>",
                            "<tr><td>Gold Hotel</td><td>1</td></tr>",
                            "<tr><td>Gold Hotel</td><td>1</td></tr>",
                            "<tr><td>Fortuna Apartman</td><td>4</td></tr>",
                            "<tr><td>Szieszta Apartmanház</td><td>3</td></tr>",
                            "<tr><td>Sába-Ház</td><td>2</td></tr>",
                            "<tr><td>Gold Hotel</td><td>5</td></tr>",
                            "<tr><td>Lagúna Hotel</td><td>1</td></tr>",
                            "<tr><td>Jáde panzió</td><td>3</td></tr>",
                            "<tr><td>Kentaur Hotel</td><td>3</td></tr>",
                            "<tr><td>Hotel Három Hattyú</td><td>3</td></tr>",
                            "<tr><td>Gold Hotel</td><td>3</td></tr>",
                            "<tr><td>Sába-Ház</td><td>2</td></tr>",
                            "<tr><td>Gold Hotel</td><td>3</td></tr>",
                            "<tr><td>Gold Hotel</td><td>2</td></tr>",
                            "<tr><td>Fortuna panzió</td><td>2</td></tr>",
                            "<tr><td>Kentaur Hotel</td><td>1</td></tr>",
                            "<tr><td>Fortuna Panzió</td><td>1</td></tr>",
                            "<tr><td>Gold Hotel</td><td>2</td></tr>",
                            "<tr><td>Szieszta Apartmanház</td><td>3</td></tr>",
                            "<tr><td>Partiszél Vendégház</td><td>1</td></tr>",
                            "<tr><td>Kentaur Hotel</td><td>3</td></tr>",
                            "<tr><td>Hotel Három Hattyú</td><td>2</td></tr>",
                            "<tr><td>Lagúna Hotel</td><td>3</td></tr>",
                            "<tr><td>Gold Hotel</td><td>2</td></tr>",
                            "<tr><td>Fortuna Apartman</td><td>5</td></tr>",
                            "<tr><td>Szieszta Apartmanház</td><td>3</td></tr>",
                            "<tr><td>Lagúna Hotel</td><td>2</td></tr>",
                            "<tr><td>Fortuna Apartman</td><td>2</td></tr>",
                            "<tr><td>Lagúna Hotel</td><td>4</td></tr>",
                            "<tr><td>Fortuna Panzió</td><td>3</td></tr>",
                            "<tr><td>Lagúna Hotel</td><td>3</td></tr>",
                            "<tr><td>Kentaur Hotel</td><td>1</td></tr>",
                            "<tr><td>Lagúna Hotel</td><td>3</td></tr>",
                            "<tr><td>Gold Hotel</td><td>4</td></tr>",
                            "<tr><td>Partiszél Vendégház</td><td>3</td></tr>",
                            "<tr><td>Fortuna Apartman</td><td>4</td></tr>",
                            "<tr><td>Fortuna Panzió</td><td>2</td></tr>",
                            "<tr><td>Kentaur Hotel</td><td>3</td></tr>",
                            "<tr><td>Hotel Három Hattyú</td><td>4</td></tr>",
                            "<tr><td>Hotel Három Hattyú</td><td>3</td></tr>",
                            "<tr><td>Gold Hotel</td><td>3</td></tr>",
                            "<tr><td>Fortuna Apartman</td><td>2</td></tr>",
                            "<tr><td>Hotel Három Hattyú</td><td>1</td></tr>",
                            "<tr><td>Fortuna panzió</td><td>2</td></tr>",
                            "<tr><td>Hotel Három Hattyú</td><td>3</td></tr>",
                            "<tr><td>Gold Hotel</td><td>3</td></tr>",
                            "<tr><td>Hotel Három Hattyú</td><td>4</td></tr>",
                            "<tr><td>Kentaur Hotel</td><td>3</td></tr>",
                            "<tr><td>Jáde panzió</td><td>2</td></tr>",
                            "<tr><td>Sába-Ház</td><td>4</td></tr>",
                            "<tr><td>Fortuna Panzió</td><td>3</td></tr>",
                            "<tr><td>Lagúna Hotel</td><td>3</td></tr>",
                            "<tr><td>Hotel Három Hattyú</td><td>3</td></tr>",
                            "<tr><td>Kentaur Hotel</td><td>1</td></tr>",
                            "<tr><td>Kentaur Hotel</td><td>1</td></tr>",
                            "<tr><td>Hotel Három Hattyú</td><td>3</td></tr>",
                            "<tr><td>Fortuna Panzió</td><td>2</td></tr>",
                            "<tr><td>Hotel Három Hattyú</td><td>2</td></tr>",
                            "<tr><td>Kentaur Hotel</td><td>3</td></tr>",
                            "<tr><td>Gold Hotel</td><td>1</td></tr>",
                            "<tr><td>Gold Hotel</td><td>2</td></tr>",
                            "<tr><td>Kentaur Hotel</td><td>3</td></tr>",
                            "<tr><td>Kentaur Hotel</td><td>2</td></tr>",
                            "<tr><td>Kentaur Hotel</td><td>3</td></tr>",
                            "<tr><td>Fortuna panzió</td><td>2</td></tr>",
                            "<tr><td>Sába-Ház</td><td>2</td></tr>",
                            "<tr><td>Fortuna Apartman</td><td>2</td></tr>",
                            "<tr><td>Gold Hotel</td><td>4</td></tr>",
                            "<tr><td>Kentaur Hotel</td><td>3</td></tr>",
                            "<tr><td>Lagúna Hotel</td><td>2</td></tr>",
                            "<tr><td>Hotel Három Hattyú</td><td>2</td></tr>",
                            "<tr><td>Gold Hotel</td><td>3</td></tr>",
                            "<tr><td>Fortuna Panzió</td><td>3</td></tr>",
                            "<tr><td>Családi Ház</td><td>2</td></tr>",
                            "<tr><td>Hotel Három Hattyú</td><td>4</td></tr>",
                            "<tr><td>Kentaur Hotel</td><td>4</td></tr>",
                            "<tr><td>Hotel Három Hattyú</td><td>3</td></tr>",
                            "<tr><td>Gold Hotel</td><td>2</td></tr>",
                            "<tr><td>Gold Hotel</td><td>2</td></tr>",
                            "<tr><td>Hotel Három Hattyú</td><td>1</td></tr>",
                            "<tr><td>Gold Hotel</td><td>1</td></tr>",
                            "<tr><td>Sába-Ház</td><td>1</td></tr>",
                            "<tr><td>Szieszta Apartmanház</td><td>3</td></tr>",
                            "<tr><td>Lagúna Hotel</td><td>2</td></tr>",
                            "<tr><td>Kentaur Hotel</td><td>2</td></tr>",
                            "<tr><td>Lagúna Hotel</td><td>2</td></tr>",
                            "<tr><td>Sába-Ház</td><td>2</td></tr>",
                            "<tr><td>Kentaur Hotel</td><td>1</td></tr>",
                            "<tr><td>Lagúna Hotel</td><td>3</td></tr>",
                            "<tr><td>Sába-Ház</td><td>4</td></tr>",
                            "<tr><td>Kentaur Hotel</td><td>2</td></tr>",
                            "<tr><td>Lagúna Hotel</td><td>3</td></tr>",
                            "<tr><td>Hotel Három Hattyú</td><td>4</td></tr>",
                            "<tr><td>Kentaur Hotel</td><td>3</td></tr>",
                            "<tr><td>Partiszél Vendégház</td><td>2</td></tr>",
                            "<tr><td>Gold Hotel</td><td>2</td></tr>",
                            "<tr><td>Gold Hotel</td><td>2</td></tr>",
                            "<tr><td>Kentaur Hotel</td><td>2</td></tr>",
                            "<tr><td>Szieszta Apartmanház</td><td>2</td></tr>",
                            "<tr><td>Fortuna Panzió</td><td>2</td></tr>",
                            "<tr><td>Hotel Három Hattyú</td><td>2</td></tr>",
                            "<tr><td>Kentaur Hotel</td><td>2</td></tr>",
                            "<tr><td>Szieszta Apartmanház</td><td>3</td></tr>",
                            "<tr><td>Sába-Ház</td><td>3</td></tr>",
                            "<tr><td>Fortuna panzió</td><td>3</td></tr>",
                            "<tr><td>Gold Hotel</td><td>2</td></tr>",
                            "<tr><td>Kentaur Hotel</td><td>3</td></tr>",
                            "<tr><td>Gold Hotel</td><td>3</td></tr>",
                            "<tr><td>Kentaur Hotel</td><td>2</td></tr>",
                            "<tr><td>Lagúna Hotel</td><td>2</td></tr>",
                            "<tr><td>Kentaur Hotel</td><td>2</td></tr>",
                            "<tr><td>Hotel Három Hattyú</td><td>3</td></tr>",
                            "<tr><td>Lagúna Hotel</td><td>3</td></tr>",
                            "<tr><td>Partiszél Vendégház</td><td>2</td></tr>",
                            "<tr><td>Kentaur Hotel</td><td>3</td></tr>",
                            "<tr><td>Hotel Három Hattyú</td><td>3</td></tr>",
                            "<tr><td>Fortuna Apartman</td><td>2</td></tr>",
                            "<tr><td>Kentaur Hotel</td><td>2</td></tr>",
                            "<tr><td>Lagúna Hotel</td><td>3</td></tr>",
                            "<tr><td>Hotel Három Hattyú</td><td>3</td></tr>",
                            "<tr><td>Fortuna Panzió</td><td>2</td></tr>",
                            "<tr><td>Partiszél Vendégház</td><td>2</td></tr>",
                            "<tr><td>Kentaur Hotel</td><td>2</td></tr>",
                            "<tr><td>Lagúna Hotel</td><td>2</td></tr>",
                            "<tr><td>Fortuna Panzió</td><td>3</td></tr>",
                            "<tr><td>Hotel Három Hattyú</td><td>2</td></tr>",
                            "<tr><td>Lagúna Hotel</td><td>4</td></tr>",
                            "<tr><td>Hotel Három Hattyú</td><td>3</td></tr>",
                            "<tr><td>Szieszta Apartmanház</td><td>2</td></tr>",
                            "<tr><td>Szieszta Apartmanház</td><td>3</td></tr>",
                            "<tr><td>Jáde panzió</td><td>3</td></tr>",
                            "<tr><td>Gold Hotel</td><td>2</td></tr>",
                            "<tr><td>Fortuna Panzió</td><td>2</td></tr>",
                            "<tr><td>Gold Hotel</td><td>3</td></tr>",
                            "<tr><td>Hotel Három Hattyú</td><td>2</td></tr>",
                            "<tr><td>Jáde panzió</td><td>1</td></tr>",
                            "<tr><td>Kentaur Hotel</td><td>3</td></tr>",
                            "<tr><td>Gold Hotel</td><td>1</td></tr>",
                            "<tr><td>Fortuna Panzió</td><td>2</td></tr>",
                            "<tr><td>Lagúna Hotel</td><td>4</td></tr>",
                            "<tr><td>Sába-Ház</td><td>4</td></tr>",
                            "<tr><td>Hotel Három Hattyú</td><td>1</td></tr>",
                            "<tr><td>Lagúna Hotel</td><td>4</td></tr>",
                            "<tr><td>Gold Hotel</td><td>2</td></tr>",
                            "<tr><td>Hotel Három Hattyú</td><td>3</td></tr>",
                            "<tr><td>Fortuna Apartman</td><td>3</td></tr>",
                            "<tr><td>Gold Hotel</td><td>2</td></tr>",
                            "<tr><td>Kentaur Hotel</td><td>2</td></tr>",
                            "<tr><td>Sába-Ház</td><td>2</td></tr>",
                            "<tr><td>Szieszta Apartmanház</td><td>3</td></tr>",
                            "<tr><td>Fortuna panzió</td><td>3</td></tr>",
                            "<tr><td>Kentaur Hotel</td><td>3</td></tr>",
                            "<tr><td>Gold Hotel</td><td>3</td></tr>",
                            "<tr><td>Kentaur Hotel</td><td>4</td></tr>",
                            "<tr><td>Kentaur Hotel</td><td>3</td></tr>",
                            "<tr><td>Gold Hotel</td><td>2</td></tr>",
                            "<tr><td>Kentaur Hotel</td><td>3</td></tr>",
                            "<tr><td>Kentaur Hotel</td><td>2</td></tr>",
                            "<tr><td>Gold Hotel</td><td>1</td></tr>",
                            "<tr><td>Hotel Három Hattyú</td><td>3</td></tr>",
                            "<tr><td>Kentaur Hotel</td><td>2</td></tr>",
                            "<tr><td>Hotel Három Hattyú</td><td>2</td></tr>",
                            "<tr><td>Kentaur Hotel</td><td>3</td></tr>",
                            "<tr><td>Sába-Ház</td><td>3</td></tr>",
                            "<tr><td>Fortuna panzió</td><td>2</td></tr>",
                            "<tr><td>Gold Hotel</td><td>1</td></tr>",
                            "<tr><td>Hotel Három Hattyú</td><td>3</td></tr>",
                            "<tr><td>Lagúna Hotel</td><td>1</td></tr>",
                            "<tr><td>Hotel Három Hattyú</td><td>1</td></tr>",
                            "<tr><td>Gold Hotel</td><td>3</td></tr>",
                            "<tr><td>Kentaur Hotel</td><td>3</td></tr>",
                            "<tr><td>Gold Hotel</td><td>1</td></tr>",
                            "<tr><td>Hotel Három Hattyú</td><td>2</td></tr>",
                            "<tr><td>Fortuna panzió</td><td>2</td></tr>",
                            "<tr><td>Kentaur Hotel</td><td>2</td></tr>",
                            "<tr><td>Gold Hotel</td><td>3</td></tr>",
                            "<tr><td>Családi Ház</td><td>3</td></tr>",
                            "<tr><td>Kentaur Hotel</td><td>2</td></tr>",
                            "<tr><td>Szieszta Apartmanház</td><td>2</td></tr>",
                            "<tr><td>Gold Hotel</td><td>1</td></tr>",
                            "<tr><td>Fortuna panzió</td><td>1</td></tr>",
                            "<tr><td>Hotel Három Hattyú</td><td>3</td></tr>",
                            "<tr><td>Hotel Három Hattyú</td><td>3</td></tr>",
                            "<tr><td>Hotel Három Hattyú</td><td>3</td></tr>",
                            "<tr><td>Hotel Három Hattyú</td><td>5</td></tr>",
                            "<tr><td>Gold Hotel</td><td>3</td></tr>",
                            "<tr><td>Lagúna Hotel</td><td>3</td></tr>",
                            "<tr><td>Lagúna Hotel</td><td>2</td></tr>",
                            "<tr><td>Szieszta Apartmanház</td><td>3</td></tr>",
                            "<tr><td>Hotel Három Hattyú</td><td>2</td></tr>",
                            "<tr><td>Lagúna Hotel</td><td>3</td></tr>",
                            "<tr><td>Fortuna panzió</td><td>4</td></tr>",
                            "<tr><td>Jáde panzió</td><td>3</td></tr>",
                            "<tr><td>Hotel Három Hattyú</td><td>2</td></tr>",
                            "<tr><td>Kentaur Hotel</td><td>2</td></tr>",
                            "<tr><td>Kentaur Hotel</td><td>1</td></tr>",
                            "<tr><td>Kentaur Hotel</td><td>1</td></tr>",
                            "<tr><td>Hotel Három Hattyú</td><td>2</td></tr>",
                            "<tr><td>Lagúna Hotel</td><td>3</td></tr>",
                            "<tr><td>Lagúna Hotel</td><td>4</td></tr>",
                            "<tr><td>Lagúna Hotel</td><td>2</td></tr>",
                            "<tr><td>Hotel Három Hattyú</td><td>1</td></tr>",
                            "<tr><td>Hotel Három Hattyú</td><td>2</td></tr>",
                            "<tr><td>Hotel Három Hattyú</td><td>1</td></tr>",
                            "<tr><td>Gold Hotel</td><td>2</td></tr>",
                            "<tr><td>Kentaur Hotel</td><td>3</td></tr>",
                            "<tr><td>Fortuna panzió</td><td>3</td></tr>",
                            "<tr><td>Hotel Három Hattyú</td><td>2</td></tr>",
                            "<tr><td>Kentaur Hotel</td><td>1</td></tr>",
                            "<tr><td>Fortuna panzió</td><td>2</td></tr>",
                            "<tr><td>Fortuna panzió</td><td>2</td></tr>",
                            "<tr><td>Kentaur Hotel</td><td>2</td></tr>",
                            "<tr><td>Gold Hotel</td><td>2</td></tr>",
                            "<tr><td>Kentaur Hotel</td><td>1</td></tr>",
                            "<tr><td>Hotel Három Hattyú</td><td>2</td></tr>",
                            "<tr><td>Kentaur Hotel</td><td>3</td></tr>",
                            "<tr><td>Gold Hotel</td><td>3</td></tr>",
                            "<tr><td>Fortuna panzió</td><td>2</td></tr>",
                            "<tr><td>Kentaur Hotel</td><td>2</td></tr>",
                            "<tr><td>Gold Hotel</td><td>2</td></tr>",
                            "<tr><td>Hotel Három Hattyú</td><td>5</td></tr>",
                            "<tr><td>Hotel Három Hattyú</td><td>2</td></tr>",
                            "<tr><td>Hotel Három Hattyú</td><td>3</td></tr>",
                            "<tr><td>Lagúna Hotel</td><td>4</td></tr>",
                            "<tr><td>Hotel Három Hattyú</td><td>3</td></tr>",
                            "<tr><td>Kentaur Hotel</td><td>1</td></tr>",
                            "<tr><td>Hotel Három Hattyú</td><td>2</td></tr>",
                            "<tr><td>Hotel Három Hattyú</td><td>2</td></tr>",
                            "<tr><td>Szieszta Apartmanház</td><td>3</td></tr>",
                            "<tr><td>Partiszél Vendégház</td><td>2</td></tr>",
                            "<tr><td>Lagúna Hotel</td><td>2</td></tr>",
                            "<tr><td>Hotel Három Hattyú</td><td>2</td></tr>",
                            "<tr><td>Hotel Három Hattyú</td><td>1</td></tr>",
                            "<tr><td>Gold Hotel</td><td>3</td></tr>",
                            "<tr><td>Szieszta Apartmanház</td><td>3</td></tr>",
                            "<tr><td>Kentaur Hotel</td><td>3</td></tr>",
                            "<tr><td>Gold Hotel</td><td>2</td></tr>",
                            "<tr><td>Hotel Három Hattyú</td><td>2</td></tr>",
                            "<tr><td>Jáde panzió</td><td>3</td></tr>",
                            "<tr><td>Gold Hotel</td><td>2</td></tr>",
                            "<tr><td>Fortuna panzió</td><td>3</td></tr>",
                            "<tr><td>Kentaur Hotel</td><td>2</td></tr>",
                            "<tr><td>Hotel Három Hattyú</td><td>2</td></tr>",
                            "<tr><td>Gold Hotel</td><td>3</td></tr>",
                            "<tr><td>Fortuna Apartman</td><td>5</td></tr>",
                            "<tr><td>Fortuna panzió</td><td>2</td></tr>",
                            "<tr><td>Hotel Három Hattyú</td><td>2</td></tr>",
                            "<tr><td>Családi Ház</td><td>3</td></tr>",
                            "<tr><td>Hotel Három Hattyú</td><td>3</td></tr>",
                            "<tr><td>Gold Hotel</td><td>1</td></tr>",
                            "<tr><td>Gold Hotel</td><td>2</td></tr>",
                            "<tr><td>Gold Hotel</td><td>1</td></tr>",
                            "<tr><td>Sába-Ház</td><td>4</td></tr>",
                            "<tr><td>Hotel Három Hattyú</td><td>2</td></tr>",
                            "<tr><td>Fortuna Panzió</td><td>3</td></tr>",
                            "<tr><td>Kentaur Hotel</td><td>2</td></tr>",
                            "<tr><td>Gold Hotel</td><td>2</td></tr>",
                            "<tr><td>Hotel Három Hattyú</td><td>1</td></tr>",
                            "<tr><td>Gold Hotel</td><td>2</td></tr>",
                            "<tr><td>Sába-Ház</td><td>1</td></tr>",
                            "<tr><td>Kentaur Hotel</td><td>2</td></tr>",
                            "<tr><td>Lagúna Hotel</td><td>2</td></tr>",
                            "<tr><td>Lagúna Hotel</td><td>3</td></tr>",
                            "<tr><td>Sába-Ház</td><td>1</td></tr>",
                            "<tr><td>Fortuna panzió</td><td>2</td></tr>",
                            "<tr><td>Fortuna panzió</td><td>1</td></tr>",
                            "<tr><td>Gold Hotel</td><td>3</td></tr>",
                            "<tr><td>Hotel Három Hattyú</td><td>2</td></tr>",
                            "<tr><td>Kentaur Hotel</td><td>3</td></tr>",
                            "<tr><td>Hotel Három Hattyú</td><td>4</td></tr>",
                            "<tr><td>Gold Hotel</td><td>3</td></tr>",
                            "<tr><td>Családi Ház</td><td>3</td></tr>",
                            "<tr><td>Kentaur Hotel</td><td>1</td></tr>",
                            "<tr><td>Fortuna Panzió</td><td>2</td></tr>",
                            "<tr><td>Hotel Három Hattyú</td><td>3</td></tr>",
                            "<tr><td>Kentaur Hotel</td><td>2</td></tr>",
                            "<tr><td>Kentaur Hotel</td><td>2</td></tr>",
                            "<tr><td>Lagúna Hotel</td><td>2</td></tr>",
                            "<tr><td>Gold Hotel</td><td>2</td></tr>",
                            "<tr><td>Lagúna Hotel</td><td>1</td></tr>",
                            "<tr><td>Kentaur Hotel</td><td>2</td></tr>",
                            "<tr><td>Hotel Három Hattyú</td><td>3</td></tr>",
                            "<tr><td>Szieszta Apartmanház</td><td>3</td></tr>",
                            "<tr><td>Fortuna panzió</td><td>2</td></tr>",
                            "<tr><td>Hotel Három Hattyú</td><td>2</td></tr>",
                            "<tr><td>Szieszta Apartmanház</td><td>3</td></tr>",
                            "<tr><td>Kentaur Hotel</td><td>2</td></tr>",
                            "<tr><td>Kentaur Hotel</td><td>3</td></tr>",
                            "<tr><td>Fortuna panzió</td><td>2</td></tr>",
                            "<tr><td>Lagúna Hotel</td><td>2</td></tr>",
                            "<tr><td>Kentaur Hotel</td><td>1</td></tr>",
                            "<tr><td>Lagúna Hotel</td><td>4</td></tr>",
                            "<tr><td>Gold Hotel</td><td>3</td></tr>",
                            "<tr><td>Kentaur Hotel</td><td>2</td></tr>",
                            "<tr><td>Kentaur Hotel</td><td>2</td></tr>",
                            "<tr><td>Kentaur Hotel</td><td>1</td></tr>",
                            "<tr><td>Gold Hotel</td><td>4</td></tr>",
                            "<tr><td>Hotel Három Hattyú</td><td>4</td></tr>",
                            "<tr><td>Családi Ház</td><td>1</td></tr>",
                            "<tr><td>Lagúna Hotel</td><td>3</td></tr>",
                            "<tr><td>Lagúna Hotel</td><td>3</td></tr>",
                            "<tr><td>Hotel Három Hattyú</td><td>3</td></tr>",
                            "<tr><td>Gold Hotel</td><td>2</td></tr>",
                            "<tr><td>Jáde panzió</td><td>2</td></tr>",
                            "<tr><td>Jáde panzió</td><td>2</td></tr>",
                            "<tr><td>Fortuna panzió</td><td>3</td></tr>",
                            "<tr><td>Kentaur Hotel</td><td>2</td></tr>",
                            "<tr><td>Fortuna panzió</td><td>2</td></tr>",
                            "<tr><td>Lagúna Hotel</td><td>2</td></tr>",
                            "<tr><td>Fortuna panzió</td><td>1</td></tr>",
                            "<tr><td>Hotel Három Hattyú</td><td>2</td></tr>",
                            "<tr><td>Hotel Három Hattyú</td><td>3</td></tr>",
                            "<tr><td>Hotel Három Hattyú</td><td>4</td></tr>",
                            "<tr><td>Gold Hotel</td><td>2</td></tr>",
                            "<tr><td>Hotel Három Hattyú</td><td>2</td></tr>",
                            "<tr><td>Hotel Három Hattyú</td><td>2</td></tr>",
                            "<tr><td>Partiszél Vendégház</td><td>2</td></tr>",
                            "<tr><td>Hotel Három Hattyú</td><td>2</td></tr>",
                            "<tr><td>Hotel Három Hattyú</td><td>2</td></tr>",
                            "<tr><td>Lagúna Hotel</td><td>2</td></tr>",
                            "<tr><td>Gold Hotel</td><td>2</td></tr>",
                            "<tr><td>Sába-Ház</td><td>2</td></tr>",
                            "<tr><td>Hotel Három Hattyú</td><td>4</td></tr>",
                            "<tr><td>Hotel Három Hattyú</td><td>3</td></tr>",
                            "<tr><td>Hotel Három Hattyú</td><td>5</td></tr>",
                            "<tr><td>Kentaur Hotel</td><td>3</td></tr>",
                            "<tr><td>Gold Hotel</td><td>3</td></tr>",
                            "<tr><td>Családi Ház</td><td>3</td></tr>",
                            "<tr><td>Hotel Három Hattyú</td><td>4</td></tr>",
                            "<tr><td>Hotel Három Hattyú</td><td>3</td></tr>",
                            "<tr><td>Hotel Három Hattyú</td><td>3</td></tr>",
                            "<tr><td>Gold Hotel</td><td>2</td></tr>",
                            "<tr><td>Gold Hotel</td><td>3</td></tr>",
                            "<tr><td>Kentaur Hotel</td><td>1</td></tr>",
                            "<tr><td>Fortuna Apartman</td><td>4</td></tr>",
                            "<tr><td>Kentaur Hotel</td><td>2</td></tr>",
                            "<tr><td>Lagúna Hotel</td><td>3</td></tr>",
                            "<tr><td>Gold Hotel</td><td>1</td></tr>",
                            "<tr><td>Hotel Három Hattyú</td><td>3</td></tr>",
                            "<tr><td>Hotel Három Hattyú</td><td>2</td></tr>",
                            "<tr><td>Gold Hotel</td><td>4</td></tr>",
                            "<tr><td>Kentaur Hotel</td><td>3</td></tr>",
                            "<tr><td>Szieszta Apartmanház</td><td>2</td></tr>",
                            "<tr><td>Lagúna Hotel</td><td>2</td></tr>",
                            "<tr><td>Fortuna Panzió</td><td>3</td></tr>",
                            "<tr><td>Hotel Három Hattyú</td><td>2</td></tr>",
                            "<tr><td>Gold Hotel</td><td>2</td></tr>",
                            "<tr><td>Hotel Három Hattyú</td><td>2</td></tr>",
                            "<tr><td>Jáde panzió</td><td>3</td></tr>",
                            "<tr><td>Kentaur Hotel</td><td>3</td></tr>",
                            "<tr><td>Szieszta Apartmanház</td><td>3</td></tr>",
                            "<tr><td>Hotel Három Hattyú</td><td>3</td></tr>",
                            "<tr><td>Sába-Ház</td><td>1</td></tr>",
                            "<tr><td>Fortuna Panzió</td><td>2</td></tr>",
                            "<tr><td>Hotel Három Hattyú</td><td>2</td></tr>",
                            "<tr><td>Gold Hotel</td><td>3</td></tr>",
                            "<tr><td>Hotel Három Hattyú</td><td>2</td></tr>",
                            "<tr><td>Hotel Három Hattyú</td><td>3</td></tr>",
                            "<tr><td>Fortuna panzió</td><td>1</td></tr>",
                            "<tr><td>Hotel Három Hattyú</td><td>3</td></tr>",
                            "<tr><td>Hotel Három Hattyú</td><td>3</td></tr>",
                            "<tr><td>Hotel Három Hattyú</td><td>2</td></tr>",
                            "<tr><td>Fortuna Apartman</td><td>3</td></tr>",
                            "<tr><td>Kentaur Hotel</td><td>3</td></tr>",
                            "<tr><td>Jáde panzió</td><td>2</td></tr>",
                            "<tr><td>Fortuna Panzió</td><td>2</td></tr>",
                            "<tr><td>Sába-Ház</td><td>4</td></tr>",
                            "<tr><td>Fortuna panzió</td><td>2</td></tr>",
                            "<tr><td>Lagúna Hotel</td><td>2</td></tr>",
                            "<tr><td>Hotel Három Hattyú</td><td>3</td></tr>",
                            "<tr><td>Lagúna Hotel</td><td>1</td></tr>",
                            "<tr><td>Családi Ház</td><td>4</td></tr>",
                            "<tr><td>Hotel Három Hattyú</td><td>1</td></tr>",
                            "<tr><td>Sába-Ház</td><td>3</td></tr>",
                            "<tr><td>Lagúna Hotel</td><td>2</td></tr>",
                            "<tr><td>Fortuna Panzió</td><td>3</td></tr>",
                            "<tr><td>Fortuna Panzió</td><td>3</td></tr>",
                            "<tr><td>Szieszta Apartmanház</td><td>3</td></tr>",
                            "<tr><td>Fortuna Apartman</td><td>3</td></tr>",
                            "<tr><td>Kentaur Hotel</td><td>4</td></tr>",
                            "<tr><td>Lagúna Hotel</td><td>2</td></tr>",
                            "<tr><td>Fortuna Panzió</td><td>3</td></tr>",
                            "<tr><td>Fortuna Panzió</td><td>2</td></tr>",
                            "<tr><td>Hotel Három Hattyú</td><td>3</td></tr>",
                            "<tr><td>Hotel Három Hattyú</td><td>4</td></tr>",
                            "<tr><td>Fortuna panzió</td><td>3</td></tr>",
                            "<tr><td>Kentaur Hotel</td><td>2</td></tr>",
                            "<tr><td>Lagúna Hotel</td><td>2</td></tr>",
                            "<tr><td>Gold Hotel</td><td>3</td></tr>",
                            "<tr><td>Hotel Három Hattyú</td><td>2</td></tr>",
                            "<tr><td>Lagúna Hotel</td><td>3</td></tr>",
                            "<tr><td>Kentaur Hotel</td><td>2</td></tr>",
                            "<tr><td>Gold Hotel</td><td>4</td></tr>",
                            "<tr><td>Hotel Három Hattyú</td><td>2</td></tr>",
                            "<tr><td>Partiszél Vendégház</td><td>3</td></tr>",
                            "<tr><td>Hotel Három Hattyú</td><td>3</td></tr>",
                            "<tr><td>Gold Hotel</td><td>2</td></tr>",
                            "<tr><td>Fortuna panzió</td><td>1</td></tr>",
                            "<tr><td>Hotel Három Hattyú</td><td>3</td></tr>",
                            "<tr><td>Gold Hotel</td><td>3</td></tr>",
                            "<tr><td>Partiszél Vendégház</td><td>3</td></tr>",
                            "<tr><td>Lagúna Hotel</td><td>4</td></tr>",
                            "<tr><td>Kentaur Hotel</td><td>3</td></tr>",
                            "<tr><td>Hotel Három Hattyú</td><td>3</td></tr>",
                            "<tr><td>Szieszta Apartmanház</td><td>2</td></tr>",
                            "<tr><td>Gold Hotel</td><td>1</td></tr>",
                            "<tr><td>Kentaur Hotel</td><td>3</td></tr>",
                            "<tr><td>Lagúna Hotel</td><td>1</td></tr>",
                            "<tr><td>Hotel Három Hattyú</td><td>3</td></tr>",
                            "<tr><td>Kentaur Hotel</td><td>4</td></tr>",
                            "<tr><td>Fortuna Panzió</td><td>1</td></tr>",
                            "<tr><td>Kentaur Hotel</td><td>2</td></tr>",
                            "<tr><td>Hotel Három Hattyú</td><td>2</td></tr>",
                            "<tr><td>Kentaur Hotel</td><td>3</td></tr>",
                            "</table>"
                        ]
                    }
                }
            ],
            "execution_count": 14
        },
        {
            "cell_type": "markdown",
            "source": [
                "Készítsen lekérdezést, amely megjeleníti, hogy szálláshelyenként, azon belül a pótágyak száma szerint hány főre foglaltak összesen (felnőtt + gyermek)!\n",
                "\n",
                "- Jelenjenek meg a részösszegek és a végösszeg is!"
            ],
            "metadata": {
                "language": "sql",
                "azdata_cell_guid": "682150e3-983d-4faa-a3dc-6319dabc66f0"
            },
            "attachments": {}
        },
        {
            "cell_type": "code",
            "source": [
                "select  iif(GROUPING_ID(szh.SZALLAS_NEV) = 1, 'Összesen', cast(szh.SZALLAS_NEV as nvarchar(20)))\r\n",
                "from szoba sz join szallashely szh on sz.SZALLAS_FK = szh.SZALLAS_ID\r\n",
                "                join Foglalas f on f.SZOBA_FK = sz.SZOBA_ID\r\n",
                "GROUP by rollup(szh.SZALLAS_NEV, POTAGY, (f.FELNOTT_SZAM + f.GYERMEK_SZAM))\r\n",
                "\r\n",
                ""
            ],
            "metadata": {
                "language": "sql",
                "azdata_cell_guid": "7dbf5748-ed0f-488b-9a46-9f1279ae631d",
                "tags": []
            },
            "outputs": [
                {
                    "output_type": "display_data",
                    "data": {
                        "text/html": "(143 rows affected)"
                    },
                    "metadata": {}
                },
                {
                    "output_type": "display_data",
                    "data": {
                        "text/html": "Total execution time: 00:00:00.038"
                    },
                    "metadata": {}
                },
                {
                    "output_type": "execute_result",
                    "metadata": {},
                    "execution_count": 15,
                    "data": {
                        "application/vnd.dataresource+json": {
                            "schema": {
                                "fields": [
                                    {
                                        "name": "(No column name)"
                                    }
                                ]
                            },
                            "data": [
                                {
                                    "(No column name)": "Családi Ház"
                                },
                                {
                                    "(No column name)": "Családi Ház"
                                },
                                {
                                    "(No column name)": "Családi Ház"
                                },
                                {
                                    "(No column name)": "Családi Ház"
                                },
                                {
                                    "(No column name)": "Családi Ház"
                                },
                                {
                                    "(No column name)": "Családi Ház"
                                },
                                {
                                    "(No column name)": "Családi Ház"
                                },
                                {
                                    "(No column name)": "Családi Ház"
                                },
                                {
                                    "(No column name)": "Családi Ház"
                                },
                                {
                                    "(No column name)": "Családi Ház"
                                },
                                {
                                    "(No column name)": "Családi Ház"
                                },
                                {
                                    "(No column name)": "Fortuna Apartman"
                                },
                                {
                                    "(No column name)": "Fortuna Apartman"
                                },
                                {
                                    "(No column name)": "Fortuna Apartman"
                                },
                                {
                                    "(No column name)": "Fortuna Apartman"
                                },
                                {
                                    "(No column name)": "Fortuna Apartman"
                                },
                                {
                                    "(No column name)": "Fortuna Apartman"
                                },
                                {
                                    "(No column name)": "Fortuna Apartman"
                                },
                                {
                                    "(No column name)": "Fortuna Apartman"
                                },
                                {
                                    "(No column name)": "Fortuna Apartman"
                                },
                                {
                                    "(No column name)": "Fortuna Apartman"
                                },
                                {
                                    "(No column name)": "Fortuna Apartman"
                                },
                                {
                                    "(No column name)": "Fortuna Apartman"
                                },
                                {
                                    "(No column name)": "Fortuna Apartman"
                                },
                                {
                                    "(No column name)": "Fortuna Apartman"
                                },
                                {
                                    "(No column name)": "Fortuna Apartman"
                                },
                                {
                                    "(No column name)": "Fortuna Apartman"
                                },
                                {
                                    "(No column name)": "Fortuna Apartman"
                                },
                                {
                                    "(No column name)": "Fortuna Panzió"
                                },
                                {
                                    "(No column name)": "Fortuna panzió"
                                },
                                {
                                    "(No column name)": "Fortuna Panzió"
                                },
                                {
                                    "(No column name)": "Fortuna Panzió"
                                },
                                {
                                    "(No column name)": "Fortuna panzió"
                                },
                                {
                                    "(No column name)": "Fortuna panzió"
                                },
                                {
                                    "(No column name)": "Fortuna panzió"
                                },
                                {
                                    "(No column name)": "Fortuna panzió"
                                },
                                {
                                    "(No column name)": "Fortuna panzió"
                                },
                                {
                                    "(No column name)": "Fortuna panzió"
                                },
                                {
                                    "(No column name)": "Fortuna panzió"
                                },
                                {
                                    "(No column name)": "Fortuna panzió"
                                },
                                {
                                    "(No column name)": "Fortuna panzió"
                                },
                                {
                                    "(No column name)": "Fortuna panzió"
                                },
                                {
                                    "(No column name)": "Fortuna Panzió"
                                },
                                {
                                    "(No column name)": "Gold Hotel"
                                },
                                {
                                    "(No column name)": "Gold Hotel"
                                },
                                {
                                    "(No column name)": "Gold Hotel"
                                },
                                {
                                    "(No column name)": "Gold Hotel"
                                },
                                {
                                    "(No column name)": "Gold Hotel"
                                },
                                {
                                    "(No column name)": "Gold Hotel"
                                },
                                {
                                    "(No column name)": "Gold Hotel"
                                },
                                {
                                    "(No column name)": "Gold Hotel"
                                },
                                {
                                    "(No column name)": "Gold Hotel"
                                },
                                {
                                    "(No column name)": "Gold Hotel"
                                },
                                {
                                    "(No column name)": "Gold Hotel"
                                },
                                {
                                    "(No column name)": "Gold Hotel"
                                },
                                {
                                    "(No column name)": "Gold Hotel"
                                },
                                {
                                    "(No column name)": "Gold Hotel"
                                },
                                {
                                    "(No column name)": "Gold Hotel"
                                },
                                {
                                    "(No column name)": "Gold Hotel"
                                },
                                {
                                    "(No column name)": "Hotel Három Hattyú"
                                },
                                {
                                    "(No column name)": "Hotel Három Hattyú"
                                },
                                {
                                    "(No column name)": "Hotel Három Hattyú"
                                },
                                {
                                    "(No column name)": "Hotel Három Hattyú"
                                },
                                {
                                    "(No column name)": "Hotel Három Hattyú"
                                },
                                {
                                    "(No column name)": "Hotel Három Hattyú"
                                },
                                {
                                    "(No column name)": "Hotel Három Hattyú"
                                },
                                {
                                    "(No column name)": "Hotel Három Hattyú"
                                },
                                {
                                    "(No column name)": "Hotel Három Hattyú"
                                },
                                {
                                    "(No column name)": "Hotel Három Hattyú"
                                },
                                {
                                    "(No column name)": "Hotel Három Hattyú"
                                },
                                {
                                    "(No column name)": "Hotel Három Hattyú"
                                },
                                {
                                    "(No column name)": "Hotel Három Hattyú"
                                },
                                {
                                    "(No column name)": "Hotel Három Hattyú"
                                },
                                {
                                    "(No column name)": "Hotel Három Hattyú"
                                },
                                {
                                    "(No column name)": "Hotel Három Hattyú"
                                },
                                {
                                    "(No column name)": "Jáde panzió"
                                },
                                {
                                    "(No column name)": "Jáde panzió"
                                },
                                {
                                    "(No column name)": "Jáde panzió"
                                },
                                {
                                    "(No column name)": "Jáde panzió"
                                },
                                {
                                    "(No column name)": "Jáde panzió"
                                },
                                {
                                    "(No column name)": "Kentaur Hotel"
                                },
                                {
                                    "(No column name)": "Kentaur Hotel"
                                },
                                {
                                    "(No column name)": "Kentaur Hotel"
                                },
                                {
                                    "(No column name)": "Kentaur Hotel"
                                },
                                {
                                    "(No column name)": "Kentaur Hotel"
                                },
                                {
                                    "(No column name)": "Kentaur Hotel"
                                },
                                {
                                    "(No column name)": "Kentaur Hotel"
                                },
                                {
                                    "(No column name)": "Kentaur Hotel"
                                },
                                {
                                    "(No column name)": "Kentaur Hotel"
                                },
                                {
                                    "(No column name)": "Kentaur Hotel"
                                },
                                {
                                    "(No column name)": "Kentaur Hotel"
                                },
                                {
                                    "(No column name)": "Kentaur Hotel"
                                },
                                {
                                    "(No column name)": "Kentaur Hotel"
                                },
                                {
                                    "(No column name)": "Kentaur Hotel"
                                },
                                {
                                    "(No column name)": "Kentaur Hotel"
                                },
                                {
                                    "(No column name)": "Lagúna Hotel"
                                },
                                {
                                    "(No column name)": "Lagúna Hotel"
                                },
                                {
                                    "(No column name)": "Lagúna Hotel"
                                },
                                {
                                    "(No column name)": "Lagúna Hotel"
                                },
                                {
                                    "(No column name)": "Lagúna Hotel"
                                },
                                {
                                    "(No column name)": "Lagúna Hotel"
                                },
                                {
                                    "(No column name)": "Lagúna Hotel"
                                },
                                {
                                    "(No column name)": "Lagúna Hotel"
                                },
                                {
                                    "(No column name)": "Lagúna Hotel"
                                },
                                {
                                    "(No column name)": "Lagúna Hotel"
                                },
                                {
                                    "(No column name)": "Lagúna Hotel"
                                },
                                {
                                    "(No column name)": "Lagúna Hotel"
                                },
                                {
                                    "(No column name)": "Lagúna Hotel"
                                },
                                {
                                    "(No column name)": "Lagúna Hotel"
                                },
                                {
                                    "(No column name)": "Lagúna Hotel"
                                },
                                {
                                    "(No column name)": "Partiszél Vendégház"
                                },
                                {
                                    "(No column name)": "Partiszél Vendégház"
                                },
                                {
                                    "(No column name)": "Partiszél Vendégház"
                                },
                                {
                                    "(No column name)": "Partiszél Vendégház"
                                },
                                {
                                    "(No column name)": "Partiszél Vendégház"
                                },
                                {
                                    "(No column name)": "Partiszél Vendégház"
                                },
                                {
                                    "(No column name)": "Partiszél Vendégház"
                                },
                                {
                                    "(No column name)": "Partiszél Vendégház"
                                },
                                {
                                    "(No column name)": "Partiszél Vendégház"
                                },
                                {
                                    "(No column name)": "Partiszél Vendégház"
                                },
                                {
                                    "(No column name)": "Partiszél Vendégház"
                                },
                                {
                                    "(No column name)": "Partiszél Vendégház"
                                },
                                {
                                    "(No column name)": "Partiszél Vendégház"
                                },
                                {
                                    "(No column name)": "Sába-Ház"
                                },
                                {
                                    "(No column name)": "Sába-Ház"
                                },
                                {
                                    "(No column name)": "Sába-Ház"
                                },
                                {
                                    "(No column name)": "Sába-Ház"
                                },
                                {
                                    "(No column name)": "Sába-Ház"
                                },
                                {
                                    "(No column name)": "Sába-Ház"
                                },
                                {
                                    "(No column name)": "Sába-Ház"
                                },
                                {
                                    "(No column name)": "Sába-Ház"
                                },
                                {
                                    "(No column name)": "Sába-Ház"
                                },
                                {
                                    "(No column name)": "Sába-Ház"
                                },
                                {
                                    "(No column name)": "Szieszta Apartmanház"
                                },
                                {
                                    "(No column name)": "Szieszta Apartmanház"
                                },
                                {
                                    "(No column name)": "Szieszta Apartmanház"
                                },
                                {
                                    "(No column name)": "Szieszta Apartmanház"
                                },
                                {
                                    "(No column name)": "Szieszta Apartmanház"
                                },
                                {
                                    "(No column name)": "Szieszta Apartmanház"
                                },
                                {
                                    "(No column name)": "Szieszta Apartmanház"
                                },
                                {
                                    "(No column name)": "Szieszta Apartmanház"
                                },
                                {
                                    "(No column name)": "Szieszta Apartmanház"
                                },
                                {
                                    "(No column name)": "Összesen"
                                }
                            ]
                        },
                        "text/html": [
                            "<table>",
                            "<tr><th>(No column name)</th></tr>",
                            "<tr><td>Családi Ház</td></tr>",
                            "<tr><td>Családi Ház</td></tr>",
                            "<tr><td>Családi Ház</td></tr>",
                            "<tr><td>Családi Ház</td></tr>",
                            "<tr><td>Családi Ház</td></tr>",
                            "<tr><td>Családi Ház</td></tr>",
                            "<tr><td>Családi Ház</td></tr>",
                            "<tr><td>Családi Ház</td></tr>",
                            "<tr><td>Családi Ház</td></tr>",
                            "<tr><td>Családi Ház</td></tr>",
                            "<tr><td>Családi Ház</td></tr>",
                            "<tr><td>Fortuna Apartman</td></tr>",
                            "<tr><td>Fortuna Apartman</td></tr>",
                            "<tr><td>Fortuna Apartman</td></tr>",
                            "<tr><td>Fortuna Apartman</td></tr>",
                            "<tr><td>Fortuna Apartman</td></tr>",
                            "<tr><td>Fortuna Apartman</td></tr>",
                            "<tr><td>Fortuna Apartman</td></tr>",
                            "<tr><td>Fortuna Apartman</td></tr>",
                            "<tr><td>Fortuna Apartman</td></tr>",
                            "<tr><td>Fortuna Apartman</td></tr>",
                            "<tr><td>Fortuna Apartman</td></tr>",
                            "<tr><td>Fortuna Apartman</td></tr>",
                            "<tr><td>Fortuna Apartman</td></tr>",
                            "<tr><td>Fortuna Apartman</td></tr>",
                            "<tr><td>Fortuna Apartman</td></tr>",
                            "<tr><td>Fortuna Apartman</td></tr>",
                            "<tr><td>Fortuna Apartman</td></tr>",
                            "<tr><td>Fortuna Panzió</td></tr>",
                            "<tr><td>Fortuna panzió</td></tr>",
                            "<tr><td>Fortuna Panzió</td></tr>",
                            "<tr><td>Fortuna Panzió</td></tr>",
                            "<tr><td>Fortuna panzió</td></tr>",
                            "<tr><td>Fortuna panzió</td></tr>",
                            "<tr><td>Fortuna panzió</td></tr>",
                            "<tr><td>Fortuna panzió</td></tr>",
                            "<tr><td>Fortuna panzió</td></tr>",
                            "<tr><td>Fortuna panzió</td></tr>",
                            "<tr><td>Fortuna panzió</td></tr>",
                            "<tr><td>Fortuna panzió</td></tr>",
                            "<tr><td>Fortuna panzió</td></tr>",
                            "<tr><td>Fortuna panzió</td></tr>",
                            "<tr><td>Fortuna Panzió</td></tr>",
                            "<tr><td>Gold Hotel</td></tr>",
                            "<tr><td>Gold Hotel</td></tr>",
                            "<tr><td>Gold Hotel</td></tr>",
                            "<tr><td>Gold Hotel</td></tr>",
                            "<tr><td>Gold Hotel</td></tr>",
                            "<tr><td>Gold Hotel</td></tr>",
                            "<tr><td>Gold Hotel</td></tr>",
                            "<tr><td>Gold Hotel</td></tr>",
                            "<tr><td>Gold Hotel</td></tr>",
                            "<tr><td>Gold Hotel</td></tr>",
                            "<tr><td>Gold Hotel</td></tr>",
                            "<tr><td>Gold Hotel</td></tr>",
                            "<tr><td>Gold Hotel</td></tr>",
                            "<tr><td>Gold Hotel</td></tr>",
                            "<tr><td>Gold Hotel</td></tr>",
                            "<tr><td>Gold Hotel</td></tr>",
                            "<tr><td>Hotel Három Hattyú</td></tr>",
                            "<tr><td>Hotel Három Hattyú</td></tr>",
                            "<tr><td>Hotel Három Hattyú</td></tr>",
                            "<tr><td>Hotel Három Hattyú</td></tr>",
                            "<tr><td>Hotel Három Hattyú</td></tr>",
                            "<tr><td>Hotel Három Hattyú</td></tr>",
                            "<tr><td>Hotel Három Hattyú</td></tr>",
                            "<tr><td>Hotel Három Hattyú</td></tr>",
                            "<tr><td>Hotel Három Hattyú</td></tr>",
                            "<tr><td>Hotel Három Hattyú</td></tr>",
                            "<tr><td>Hotel Három Hattyú</td></tr>",
                            "<tr><td>Hotel Három Hattyú</td></tr>",
                            "<tr><td>Hotel Három Hattyú</td></tr>",
                            "<tr><td>Hotel Három Hattyú</td></tr>",
                            "<tr><td>Hotel Három Hattyú</td></tr>",
                            "<tr><td>Hotel Három Hattyú</td></tr>",
                            "<tr><td>Jáde panzió</td></tr>",
                            "<tr><td>Jáde panzió</td></tr>",
                            "<tr><td>Jáde panzió</td></tr>",
                            "<tr><td>Jáde panzió</td></tr>",
                            "<tr><td>Jáde panzió</td></tr>",
                            "<tr><td>Kentaur Hotel</td></tr>",
                            "<tr><td>Kentaur Hotel</td></tr>",
                            "<tr><td>Kentaur Hotel</td></tr>",
                            "<tr><td>Kentaur Hotel</td></tr>",
                            "<tr><td>Kentaur Hotel</td></tr>",
                            "<tr><td>Kentaur Hotel</td></tr>",
                            "<tr><td>Kentaur Hotel</td></tr>",
                            "<tr><td>Kentaur Hotel</td></tr>",
                            "<tr><td>Kentaur Hotel</td></tr>",
                            "<tr><td>Kentaur Hotel</td></tr>",
                            "<tr><td>Kentaur Hotel</td></tr>",
                            "<tr><td>Kentaur Hotel</td></tr>",
                            "<tr><td>Kentaur Hotel</td></tr>",
                            "<tr><td>Kentaur Hotel</td></tr>",
                            "<tr><td>Kentaur Hotel</td></tr>",
                            "<tr><td>Lagúna Hotel</td></tr>",
                            "<tr><td>Lagúna Hotel</td></tr>",
                            "<tr><td>Lagúna Hotel</td></tr>",
                            "<tr><td>Lagúna Hotel</td></tr>",
                            "<tr><td>Lagúna Hotel</td></tr>",
                            "<tr><td>Lagúna Hotel</td></tr>",
                            "<tr><td>Lagúna Hotel</td></tr>",
                            "<tr><td>Lagúna Hotel</td></tr>",
                            "<tr><td>Lagúna Hotel</td></tr>",
                            "<tr><td>Lagúna Hotel</td></tr>",
                            "<tr><td>Lagúna Hotel</td></tr>",
                            "<tr><td>Lagúna Hotel</td></tr>",
                            "<tr><td>Lagúna Hotel</td></tr>",
                            "<tr><td>Lagúna Hotel</td></tr>",
                            "<tr><td>Lagúna Hotel</td></tr>",
                            "<tr><td>Partiszél Vendégház</td></tr>",
                            "<tr><td>Partiszél Vendégház</td></tr>",
                            "<tr><td>Partiszél Vendégház</td></tr>",
                            "<tr><td>Partiszél Vendégház</td></tr>",
                            "<tr><td>Partiszél Vendégház</td></tr>",
                            "<tr><td>Partiszél Vendégház</td></tr>",
                            "<tr><td>Partiszél Vendégház</td></tr>",
                            "<tr><td>Partiszél Vendégház</td></tr>",
                            "<tr><td>Partiszél Vendégház</td></tr>",
                            "<tr><td>Partiszél Vendégház</td></tr>",
                            "<tr><td>Partiszél Vendégház</td></tr>",
                            "<tr><td>Partiszél Vendégház</td></tr>",
                            "<tr><td>Partiszél Vendégház</td></tr>",
                            "<tr><td>Sába-Ház</td></tr>",
                            "<tr><td>Sába-Ház</td></tr>",
                            "<tr><td>Sába-Ház</td></tr>",
                            "<tr><td>Sába-Ház</td></tr>",
                            "<tr><td>Sába-Ház</td></tr>",
                            "<tr><td>Sába-Ház</td></tr>",
                            "<tr><td>Sába-Ház</td></tr>",
                            "<tr><td>Sába-Ház</td></tr>",
                            "<tr><td>Sába-Ház</td></tr>",
                            "<tr><td>Sába-Ház</td></tr>",
                            "<tr><td>Szieszta Apartmanház</td></tr>",
                            "<tr><td>Szieszta Apartmanház</td></tr>",
                            "<tr><td>Szieszta Apartmanház</td></tr>",
                            "<tr><td>Szieszta Apartmanház</td></tr>",
                            "<tr><td>Szieszta Apartmanház</td></tr>",
                            "<tr><td>Szieszta Apartmanház</td></tr>",
                            "<tr><td>Szieszta Apartmanház</td></tr>",
                            "<tr><td>Szieszta Apartmanház</td></tr>",
                            "<tr><td>Szieszta Apartmanház</td></tr>",
                            "<tr><td>Összesen</td></tr>",
                            "</table>"
                        ]
                    }
                }
            ],
            "execution_count": 15
        },
        {
            "cell_type": "markdown",
            "source": [
                "A Szoba tábla Ferohely oszlopára végezzük el a következő számításokat:\n",
                "\n",
                "- Különböző értékek száma\n",
                "- Minimum, maximum, átlag\n",
                "- Null és Not null értékek százalékos aránya"
            ],
            "metadata": {
                "language": "sql",
                "azdata_cell_guid": "a3fbbac6-1946-4ebe-a029-62802658a3d4"
            },
            "attachments": {}
        },
        {
            "cell_type": "code",
            "source": [
                "select max(sz.FEROHELY) as 'Max férőhely',\r\n",
                "    min(sz.FEROHELY) as 'Min férőhely',\r\n",
                "    sum(case when sz.FEROHELY is null then 1\r\n",
                "            when sz.FEROHELY is not null then 0 end)/cast(count(*) as decimal(5,0))*100 as 'hiány, %',\r\n",
                "            count(distinct sz.FEROHELY)\r\n",
                "            \r\n",
                "from szoba sz"
            ],
            "metadata": {
                "language": "sql",
                "azdata_cell_guid": "feac1c0a-82fe-4e9d-a71a-364ab7a4740f"
            },
            "outputs": [
                {
                    "output_type": "display_data",
                    "data": {
                        "text/html": "(1 row affected)"
                    },
                    "metadata": {}
                },
                {
                    "output_type": "display_data",
                    "data": {
                        "text/html": "Total execution time: 00:00:00.023"
                    },
                    "metadata": {}
                },
                {
                    "output_type": "execute_result",
                    "metadata": {},
                    "execution_count": 16,
                    "data": {
                        "application/vnd.dataresource+json": {
                            "schema": {
                                "fields": [
                                    {
                                        "name": "Max férőhely"
                                    },
                                    {
                                        "name": "Min férőhely"
                                    },
                                    {
                                        "name": "hiány, %"
                                    },
                                    {
                                        "name": "(No column name)"
                                    }
                                ]
                            },
                            "data": [
                                {
                                    "Max férőhely": "4",
                                    "Min férőhely": "1",
                                    "hiány, %": "0.000000",
                                    "(No column name)": "4"
                                }
                            ]
                        },
                        "text/html": [
                            "<table>",
                            "<tr><th>Max férőhely</th><th>Min férőhely</th><th>hiány, %</th><th>(No column name)</th></tr>",
                            "<tr><td>4</td><td>1</td><td>0.000000</td><td>4</td></tr>",
                            "</table>"
                        ]
                    }
                }
            ],
            "execution_count": 16
        },
        {
            "cell_type": "markdown",
            "source": [
                "Oldja meg REDIS-ben a következő feladatokat:\n",
                "\n",
                "- hozzon létre egy string kulcsot, amely egy könyvtár nevét tartalmazza\n",
                "- hozzon létre egy hash kulcsot, amely egy könyv legalább 3 adatát tartalmazza\n",
                "- hozzon létre egy set kulcsot, amely a könyvtárban lévő könyvek műfajait tartalmazza (legalább 3)\n",
                "- hozzon létre egy list kulcsot, amely a kikölcsönzött könyvek címeit tartalmazza (legalább 3)\n",
                "- hozzon létre egy sorted set kulcsot, amely az adott könyvek címeit és a könyv kölcsönzéseinek számát tartalmazza (legalább 3)"
            ],
            "metadata": {
                "language": "sql",
                "azdata_cell_guid": "5cc4636c-c6e3-4c93-bf55-ea17c65535d6"
            },
            "attachments": {}
        },
        {
            "cell_type": "markdown",
            "source": [
                "<span style=\"color: rgb(181, 182, 192); font-family: Inconsolata; font-weight: 700; white-space: pre-line; background-color: rgb(23, 23, 23);\">set konyvternev 'Szechenyi'</span>\n",
                "\n",
                "<span style=\"color: rgb(181, 182, 192); font-family: Inconsolata; font-weight: 700; white-space: pre-line; background-color: rgb(23, 23, 23);\">hset konyv:1 cim 'A Pát utcai fiúk' kiadas_eve '1906' iro 'Molnár Ferenc'</span><span style=\"color: rgb(181, 182, 192); font-family: Inconsolata; font-weight: 700; white-space: pre-line; background-color: rgb(23, 23, 23);\"><br></span>\n",
                "\n",
                "<span style=\"color: rgb(181, 182, 192); font-family: Inconsolata; font-weight: 700; white-space: pre-line; background-color: rgb(23, 23, 23);\">sadd mufajok 'Regény' 'Líra' 'Dráma'</span><span style=\"color: rgb(181, 182, 192); font-family: Inconsolata; font-weight: 700; white-space: pre-line; background-color: rgb(23, 23, 23);\"><br></span>\n",
                "\n",
                "<span style=\"color: rgb(181, 182, 192); font-family: Inconsolata; font-weight: 700; white-space: pre-line; background-color: rgb(23, 23, 23);\">rpush kolcsonzesek 'Bambi' 'Antigoné' 'Toldi'</span><span style=\"color: rgb(181, 182, 192); font-family: Inconsolata; font-weight: 700; white-space: pre-line; background-color: rgb(23, 23, 23);\"><br></span>\n",
                "\n",
                "<span style=\"color: rgb(181, 182, 192); font-family: Inconsolata; font-weight: 700; white-space: pre-line; background-color: rgb(23, 23, 23);\">zadd kolcsonzesek_szama 5 'Bambi' 2 'Antigoné' 6 'Toldi'</span><span style=\"color: rgb(181, 182, 192); font-family: Inconsolata; font-weight: 700; white-space: pre-line; background-color: rgb(23, 23, 23);\"><br></span>"
            ],
            "metadata": {
                "language": "sql",
                "azdata_cell_guid": "e2f7ed3e-2784-4656-8c66-99dc9d7a5aa5"
            },
            "attachments": {}
        },
        {
            "cell_type": "markdown",
            "source": [
                "Cassandra CQL Shellben hozza létre a következő táblát:\n",
                "\n",
                "STUDENT(ID, Nev, Teljesitett\\_felevek, Eredmenyek, Nyelvtudas)\n",
                "\n",
                "- Az ID legyen az elsődleges kulcs\n",
                "- A Teljesitett félévek legyen LIST, tartalma egész számok, pl: 1, 2, 3\n",
                "- Az Eredmenyek legyen MAP, tartalma, hogy melyik félévben mennyi volt az átlag, pl: 1: 3,00, 2: 4.55, 3: 4,10\n",
                "- A Nyelvtudas legyen SET, tartalma a nyelvek megnevezése\n",
                "\n",
                "Vigyen fel legalább 2 rekordot!"
            ],
            "metadata": {
                "language": "sql",
                "azdata_cell_guid": "9e9f6645-e75d-471f-b498-5317e3148c1b"
            },
            "attachments": {}
        },
        {
            "cell_type": "markdown",
            "source": [
                "token@cqlsh:Movies\\> create table STUDENT(ID INT, nev text, Teljesitett\\_felevek list\\<int\\>, Eredmenyek map\\<int, float\\>, nyelvtudas set\\<text\\>, primary key(ID));\n",
                "\n",
                "token@cqlsh:Movies\\> insert into STUDENT(ID, nev, Teljesitett\\_felevek, Eredmenyek, nyelvtudas) values (1. 'Kovács Pál', \\[1,2\\], {3: 4.4, 4: 3.99}, {'Német'});\n",
                "\n",
                "token@cqlsh:Movies\\> insert into STUDENT(ID, nev, Teljesitett\\_felevek, Eredmenyek, nyelvtudas) values (1, 'Kovács Pál', \\[1,2\\], {3: 4.4, 4: 3.99}, {'Német'}) ;\n",
                "\n",
                "token@cqlsh:Movies\\> insert into STUDENT(ID, nev, Teljesitett\\_felevek, Eredmenyek, nyelvtudas) values (2, 'Juhász Pisti', \\[3,4\\], {3: 4.4, 4: 3.99}, {'Német'}) ;\n",
                "\n",
                "  \n",
                "\n",
                "id | eredmenyek        | nev          | nyelvtudas | teljesitett\\_felevek\n",
                "\n",
                "\\----+-------------------+--------------+------------+---------------------\n",
                "\n",
                "  1 | {3: 4.4, 4: 3.99} |   Kovács Pál |  {'Német'} |              \\[1, 2\\]\n",
                "\n",
                "  2 | {3: 4.4, 4: 3.99} | Juhász Pisti |  {'Német'} |              \\[3, 4\\]"
            ],
            "metadata": {
                "language": "",
                "azdata_cell_guid": "dabf87ec-a944-449b-9ecb-ff2bcee51c53"
            },
            "attachments": {}
        },
        {
            "cell_type": "markdown",
            "source": [
                "A Neo4j Sandbox-ban vagy a Desktopban jelenítsük meg azon személyeket, akik egy filmben szerepeltek Tom Hanks-sel.\n",
                "\n",
                "- Egy szereplő neve csak egyszer jelenjen meg\n",
                "- Tom Hanks ne legyen benne a listában"
            ],
            "metadata": {
                "azdata_cell_guid": "ffa472cd-199c-438e-b0e9-419037e7d673"
            },
            "attachments": {}
        },
        {
            "cell_type": "markdown",
            "source": [
                "<span style=\"color: #859900;\">match</span> <span style=\"color: #586e75;\">(</span><span style=\"color: #333333;\">p</span><span style=\"color: #586e75;\">:</span><span style=\"color: #333333;\">Person</span><span style=\"color: #586e75;\">)-[:</span><span style=\"color: #333333;\">ACTED_IN</span><span style=\"color: #586e75;\">]-&gt;(</span><span style=\"color: #333333;\">m</span><span style=\"color: #586e75;\">:</span><span style=\"color: #333333;\">Movie</span><span style=\"color: #586e75;\">)&lt;-[:</span><span style=\"color: #333333;\">ACTED_IN</span><span style=\"color: #586e75;\">]-(</span><span style=\"color: #333333;\">p2</span><span style=\"color: #586e75;\">:</span><span style=\"color: #333333;\">Person</span><span style=\"color: #586e75;\">)</span>\n",
                "\n",
                "<span style=\"color: #859900;\">where</span> <span style=\"color: #333333;\">&nbsp;p2</span><span style=\"color: #586e75;\">.</span><span style=\"color: #859900;\">name</span> <span style=\"color: #586e75;\">=</span> <span style=\"color: #b58900;\">'Tom&nbsp;Hanks'</span> <span style=\"color: #859900;\">and</span> <span style=\"color: #333333;\">&nbsp;p</span><span style=\"color: #586e75;\">.</span><span style=\"color: #859900;\">name</span> <span style=\"color: #586e75;\">&lt;&gt;</span> <span style=\"color: #b58900;\">'Tom&nbsp;Hanks'</span>\n",
                "\n",
                "<span style=\"color: #859900;\">return</span> <span style=\"color: #333333;\">&nbsp;p</span><span style=\"color: #586e75;\">.</span><span style=\"color: #859900;\">name</span>"
            ],
            "metadata": {
                "azdata_cell_guid": "16076815-78e9-45fd-a327-e0ac4a2edee2"
            },
            "attachments": {}
        }
    ]
}
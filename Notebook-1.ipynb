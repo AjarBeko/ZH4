{
    "metadata": {
        "kernelspec": {
            "name": "SQL",
            "display_name": "SQL",
            "language": "sql"
        },
        "language_info": {
            "name": "sql",
            "version": ""
        }
    },
    "nbformat_minor": 2,
    "nbformat": 4,
    "cells": [
        {
            "cell_type": "markdown",
            "source": [
                "Listázzuk azon vendégek nevét, email-címét és felhasználói nevét, akik egynél többször foglaltak!\n",
                "\n",
                "- Hagyjuk ki azokat a vendégeket, akik május hónapban születtek!"
            ],
            "metadata": {
                "azdata_cell_guid": "0dda1f1b-6a3d-4a95-97f8-eeb9c80f3797"
            },
            "attachments": {}
        },
        {
            "cell_type": "code",
            "source": [
                "select v.email, v.USERNEV\r\n",
                "from vendeg v join foglalas f on v.USERNEV = f.ugyfel_fk\r\n",
                "GROUP by v.email, v.usernev\r\n",
                "having count(*) > 1"
            ],
            "metadata": {
                "azdata_cell_guid": "35a19385-72c0-4901-b9b1-553341c93992",
                "language": "sql"
            },
            "outputs": [
                {
                    "output_type": "display_data",
                    "data": {
                        "text/html": "(187 rows affected)"
                    },
                    "metadata": {}
                },
                {
                    "output_type": "display_data",
                    "data": {
                        "text/html": "Total execution time: 00:00:00.061"
                    },
                    "metadata": {}
                },
                {
                    "output_type": "execute_result",
                    "metadata": {},
                    "execution_count": 6,
                    "data": {
                        "application/vnd.dataresource+json": {
                            "schema": {
                                "fields": [
                                    {
                                        "name": "email"
                                    },
                                    {
                                        "name": "USERNEV"
                                    }
                                ]
                            },
                            "data": [
                                {
                                    "email": "ádám.kiss@mail.hu",
                                    "USERNEV": "adam1"
                                },
                                {
                                    "email": "adam3@gmail.com",
                                    "USERNEV": "adam3"
                                },
                                {
                                    "email": "ádám.bieniek@mail.hu",
                                    "USERNEV": "adam4"
                                },
                                {
                                    "email": "agnes@gmail.com",
                                    "USERNEV": "agnes"
                                },
                                {
                                    "email": "agnes3@gmail.com",
                                    "USERNEV": "agnes3"
                                },
                                {
                                    "email": "AGNESH@gmail.com",
                                    "USERNEV": "AGNESH"
                                },
                                {
                                    "email": "AGNESK@gmail.com",
                                    "USERNEV": "AGNESK"
                                },
                                {
                                    "email": "ákos.bíró@mail.hu",
                                    "USERNEV": "akos"
                                },
                                {
                                    "email": "aladár.dunai@mail.hu",
                                    "USERNEV": "aladar"
                                },
                                {
                                    "email": "alexandra.bagóczki@mail.hu",
                                    "USERNEV": "alexandra"
                                },
                                {
                                    "email": "andrea.maródi@mail.hu",
                                    "USERNEV": "andi"
                                },
                                {
                                    "email": "andrás.tóth@mail.hu",
                                    "USERNEV": "andras2"
                                },
                                {
                                    "email": "andrás.molnár@mail.hu",
                                    "USERNEV": "andras21"
                                },
                                {
                                    "email": "andrás.vígh@mail.hu",
                                    "USERNEV": "andras3"
                                },
                                {
                                    "email": "andras4@gmail.com",
                                    "USERNEV": "andras4"
                                },
                                {
                                    "email": "andras41@gmail.com",
                                    "USERNEV": "andras41"
                                },
                                {
                                    "email": "ANDRASE@gmail.com",
                                    "USERNEV": "ANDRASE"
                                },
                                {
                                    "email": "andrea.kiss@mail.hu",
                                    "USERNEV": "andrea"
                                },
                                {
                                    "email": "andrea4@gmail.com",
                                    "USERNEV": "andrea4"
                                },
                                {
                                    "email": "ANDREAT@gmail.com",
                                    "USERNEV": "ANDREAT"
                                },
                                {
                                    "email": "anett.pivarcsi@mail.hu",
                                    "USERNEV": "anett3"
                                },
                                {
                                    "email": "aniko@gmail.com",
                                    "USERNEV": "aniko"
                                },
                                {
                                    "email": "aniko4@gmail.com",
                                    "USERNEV": "aniko4"
                                },
                                {
                                    "email": "ANIKOS@gmail.com",
                                    "USERNEV": "ANIKOS"
                                },
                                {
                                    "email": "anita.hamvay-kovács@mail.hu",
                                    "USERNEV": "anita"
                                },
                                {
                                    "email": "annamária.szűcs@mail.hu",
                                    "USERNEV": "annamaria1"
                                },
                                {
                                    "email": "ANNAMARIAR@gmail.com",
                                    "USERNEV": "ANNAMARIAR"
                                },
                                {
                                    "email": "aron2@gmail.com",
                                    "USERNEV": "aron2"
                                },
                                {
                                    "email": "áron.kelemen@mail.hu",
                                    "USERNEV": "ARONK"
                                },
                                {
                                    "email": "árpád.ötvös@mail.hu",
                                    "USERNEV": "arpad2"
                                },
                                {
                                    "email": "árpád.horváth@mail.hu",
                                    "USERNEV": "ARPADH"
                                },
                                {
                                    "email": "árpád.móricz@mail.hu",
                                    "USERNEV": "ARPADM"
                                },
                                {
                                    "email": "attila@gmail.com",
                                    "USERNEV": "attila"
                                },
                                {
                                    "email": "attila.gulyás@mail.hu",
                                    "USERNEV": "attila1"
                                },
                                {
                                    "email": "attila.baróti@mail.hu",
                                    "USERNEV": "attila4"
                                },
                                {
                                    "email": "ATTILAO@gmail.com",
                                    "USERNEV": "ATTILAO"
                                },
                                {
                                    "email": "balázs.bozsik@mail.hu",
                                    "USERNEV": "balazs1"
                                },
                                {
                                    "email": "balázs.szűcs@mail.hu",
                                    "USERNEV": "balazs2"
                                },
                                {
                                    "email": "balazs3@gmail.com",
                                    "USERNEV": "balazs3"
                                },
                                {
                                    "email": "balint@gmail.com",
                                    "USERNEV": "balint"
                                },
                                {
                                    "email": "balint1@gmail.com",
                                    "USERNEV": "balint1"
                                },
                                {
                                    "email": "balint2@gmail.com",
                                    "USERNEV": "balint2"
                                },
                                {
                                    "email": "bálint.endresz@mail.hu",
                                    "USERNEV": "balu"
                                },
                                {
                                    "email": "beáta.bagi@mail.hu",
                                    "USERNEV": "beata4"
                                },
                                {
                                    "email": "beatrix.kerényi@mail.hu",
                                    "USERNEV": "BEATRIXK"
                                },
                                {
                                    "email": "beatrix.szekendi@mail.hu",
                                    "USERNEV": "BEATRIXS"
                                },
                                {
                                    "email": "BELAF@gmail.com",
                                    "USERNEV": "BELAF"
                                },
                                {
                                    "email": "bence@gmail.com",
                                    "USERNEV": "bence"
                                },
                                {
                                    "email": "bence.bajusz@mail.hu",
                                    "USERNEV": "BENCEB"
                                },
                                {
                                    "email": "bernadett1@gmail.com",
                                    "USERNEV": "bernadett1"
                                },
                                {
                                    "email": "bernadett.kovács@mail.hu",
                                    "USERNEV": "bernadett2"
                                },
                                {
                                    "email": "bernadett.orbán@mail.hu",
                                    "USERNEV": "BERNADETTO"
                                },
                                {
                                    "email": "bertalan@gmail.com",
                                    "USERNEV": "bertalan"
                                },
                                {
                                    "email": "brigitta.székely@mail.hu",
                                    "USERNEV": "brigitta"
                                },
                                {
                                    "email": "brigitta.pataki@mail.hu",
                                    "USERNEV": "brigitta3"
                                },
                                {
                                    "email": "csongor.nagymihály@mail.hu",
                                    "USERNEV": "csongor3"
                                },
                                {
                                    "email": "daniel@gmail.com",
                                    "USERNEV": "dani"
                                },
                                {
                                    "email": "dániel.rácz@mail.hu",
                                    "USERNEV": "daniel"
                                },
                                {
                                    "email": "dániel.keszler@mail.hu",
                                    "USERNEV": "daniel1"
                                },
                                {
                                    "email": "david@gmail.com",
                                    "USERNEV": "david"
                                },
                                {
                                    "email": "david1@gmail.com",
                                    "USERNEV": "david1"
                                },
                                {
                                    "email": "debóra.barna@mail.hu",
                                    "USERNEV": "debora"
                                },
                                {
                                    "email": "denes@gmail.com",
                                    "USERNEV": "denes"
                                },
                                {
                                    "email": "dóra.sarodi@mail.hu",
                                    "USERNEV": "dora3"
                                },
                                {
                                    "email": "edit.bittmann@mail.hu",
                                    "USERNEV": "edit"
                                },
                                {
                                    "email": "emese.kuruc@mail.hu",
                                    "USERNEV": "emese"
                                },
                                {
                                    "email": "eszter.molnár@mail.hu",
                                    "USERNEV": "eszter"
                                },
                                {
                                    "email": "eszter.balogh@mail.hu",
                                    "USERNEV": "eszter2"
                                },
                                {
                                    "email": "eszter.fülöp@mail.hu",
                                    "USERNEV": "eszter4"
                                },
                                {
                                    "email": "eszter.érsek@mail.hu",
                                    "USERNEV": "ESZTERE"
                                },
                                {
                                    "email": "eva@gmail.com",
                                    "USERNEV": "eva"
                                },
                                {
                                    "email": "eva2@gmail.com",
                                    "USERNEV": "eva2"
                                },
                                {
                                    "email": "EVAV@gmail.com",
                                    "USERNEV": "EVAV"
                                },
                                {
                                    "email": "ferenc.orosz@mail.hu",
                                    "USERNEV": "ferenc1"
                                },
                                {
                                    "email": "fruzsina4@gmail.com",
                                    "USERNEV": "fruzsina4"
                                },
                                {
                                    "email": "gabor1@gmail.com",
                                    "USERNEV": "gabor1"
                                },
                                {
                                    "email": "gábor.telek@mail.hu",
                                    "USERNEV": "gabor4"
                                },
                                {
                                    "email": "gabriella1@gmail.com",
                                    "USERNEV": "gabriella1"
                                },
                                {
                                    "email": "georgij.nyíri@mail.hu",
                                    "USERNEV": "georgij"
                                },
                                {
                                    "email": "gusztav@gmail.com",
                                    "USERNEV": "gusztav"
                                },
                                {
                                    "email": "gyöngyi.kornseé@mail.hu",
                                    "USERNEV": "GYONGYIK"
                                },
                                {
                                    "email": "GYORGYO@gmail.com",
                                    "USERNEV": "GYORGYO"
                                },
                                {
                                    "email": "henrik.nádudvari@mail.hu",
                                    "USERNEV": "henrik3"
                                },
                                {
                                    "email": "ibolya.andor@mail.hu",
                                    "USERNEV": "IBOLYAA"
                                },
                                {
                                    "email": "ilona3@gmail.com",
                                    "USERNEV": "ilona3"
                                },
                                {
                                    "email": "imre.búza@mail.hu",
                                    "USERNEV": "imre"
                                },
                                {
                                    "email": "imre.papp@mail.hu",
                                    "USERNEV": "imre1"
                                },
                                {
                                    "email": "istvan@gmail.com",
                                    "USERNEV": "istvan"
                                },
                                {
                                    "email": "istván.vizi@mail.hu",
                                    "USERNEV": "istvan1"
                                },
                                {
                                    "email": "ISTVANV@gmail.com",
                                    "USERNEV": "ISTVANV"
                                },
                                {
                                    "email": "janos3@gmail.com",
                                    "USERNEV": "janos3"
                                },
                                {
                                    "email": "JANOSG@gmail.com",
                                    "USERNEV": "JANOSG"
                                },
                                {
                                    "email": "JANOSP@gmail.com",
                                    "USERNEV": "JANOSP"
                                },
                                {
                                    "email": "jozsef@gmail.com",
                                    "USERNEV": "jozsef"
                                },
                                {
                                    "email": "józsef.vajda@mail.hu",
                                    "USERNEV": "jozsef2"
                                },
                                {
                                    "email": "józsef.gyuris@mail.hu",
                                    "USERNEV": "JOZSEFG"
                                },
                                {
                                    "email": "JUDITH@gmail.com",
                                    "USERNEV": "JUDITH"
                                },
                                {
                                    "email": "julia@gmail.com",
                                    "USERNEV": "julia"
                                },
                                {
                                    "email": "julia4@gmail.com",
                                    "USERNEV": "julia4"
                                },
                                {
                                    "email": "julianna4@gmail.com",
                                    "USERNEV": "julianna4"
                                },
                                {
                                    "email": "katalin.gondos@mail.hu",
                                    "USERNEV": "kata"
                                },
                                {
                                    "email": "katalin.horváth@mail.hu",
                                    "USERNEV": "katalin"
                                },
                                {
                                    "email": "katalin4@gmail.com",
                                    "USERNEV": "katalin4"
                                },
                                {
                                    "email": "katalin.zatykó@mail.hu",
                                    "USERNEV": "kati"
                                },
                                {
                                    "email": "katalin.kovács@mail.hu",
                                    "USERNEV": "katka"
                                },
                                {
                                    "email": "klaudia.bakó@mail.hu",
                                    "USERNEV": "klaudia2"
                                },
                                {
                                    "email": "kornél.lukács@mail.hu",
                                    "USERNEV": "kornel4"
                                },
                                {
                                    "email": "kristof4@gmail.com",
                                    "USERNEV": "kristof4"
                                },
                                {
                                    "email": "kriszti@gmail.com",
                                    "USERNEV": "kriszti"
                                },
                                {
                                    "email": "krisztián.czérna@mail.hu",
                                    "USERNEV": "krisztian4"
                                },
                                {
                                    "email": "KRISZTIANM@gmail.com",
                                    "USERNEV": "KRISZTIANM"
                                },
                                {
                                    "email": "krisztina@gmail.com",
                                    "USERNEV": "krisztina"
                                },
                                {
                                    "email": "krisztina.bori@mail.hu",
                                    "USERNEV": "krisztina1"
                                },
                                {
                                    "email": "KRISZTINAG@gmail.com",
                                    "USERNEV": "KRISZTINAG"
                                },
                                {
                                    "email": "lajos.kiss@mail.hu",
                                    "USERNEV": "lajos"
                                },
                                {
                                    "email": "lajos.nagymihály@mail.hu",
                                    "USERNEV": "lala"
                                },
                                {
                                    "email": "lászló.móra@mail.hu",
                                    "USERNEV": "laszlo2"
                                },
                                {
                                    "email": "lászló.antal@mail.hu",
                                    "USERNEV": "LASZLOA"
                                },
                                {
                                    "email": "lászló.nagy@mail.hu",
                                    "USERNEV": "LASZLON"
                                },
                                {
                                    "email": "mária.baráth@mail.hu",
                                    "USERNEV": "maria1"
                                },
                                {
                                    "email": "márk.kispál@mail.hu",
                                    "USERNEV": "mark"
                                },
                                {
                                    "email": "márk.horváth@mail.hu",
                                    "USERNEV": "MARKH"
                                },
                                {
                                    "email": "marton@gmail.com",
                                    "USERNEV": "marton"
                                },
                                {
                                    "email": "máté.koza@mail.hu",
                                    "USERNEV": "MATEK"
                                },
                                {
                                    "email": "matyas2@gmail.com",
                                    "USERNEV": "matyas2"
                                },
                                {
                                    "email": "mátyás.szilágyi@mail.hu",
                                    "USERNEV": "MATYASS"
                                },
                                {
                                    "email": "mihály.juhász@mail.hu",
                                    "USERNEV": "MIHALYJ"
                                },
                                {
                                    "email": "miklos2@gmail.com",
                                    "USERNEV": "miklos2"
                                },
                                {
                                    "email": "miklós.balla@mail.hu",
                                    "USERNEV": "MIKLOSB"
                                },
                                {
                                    "email": "mónika.mohos@mail.hu",
                                    "USERNEV": "MONIKAM"
                                },
                                {
                                    "email": "nándor.fő@mail.hu",
                                    "USERNEV": "NANDORF"
                                },
                                {
                                    "email": "nikolett3@gmail.com",
                                    "USERNEV": "nikolett3"
                                },
                                {
                                    "email": "nikoletta4@gmail.com",
                                    "USERNEV": "nikoletta4"
                                },
                                {
                                    "email": "nikoletta.tatár@mail.hu",
                                    "USERNEV": "NIKOLETTAT"
                                },
                                {
                                    "email": "norbert@gmail.com",
                                    "USERNEV": "norbert"
                                },
                                {
                                    "email": "norbert.hegedűs@mail.hu",
                                    "USERNEV": "norbert2"
                                },
                                {
                                    "email": "norbert4@gmail.com",
                                    "USERNEV": "norbert4"
                                },
                                {
                                    "email": "norbert5@gmail.com",
                                    "USERNEV": "norbert5"
                                },
                                {
                                    "email": "pál.barabás@mail.hu",
                                    "USERNEV": "pal"
                                },
                                {
                                    "email": "peter1@gmail.com",
                                    "USERNEV": "peter1"
                                },
                                {
                                    "email": "peter2@gmail.com",
                                    "USERNEV": "peter2"
                                },
                                {
                                    "email": "peter3@gmail.com",
                                    "USERNEV": "peter3"
                                },
                                {
                                    "email": "péter.bíró@mail.hu",
                                    "USERNEV": "peter4"
                                },
                                {
                                    "email": "péter.berendi@mail.hu",
                                    "USERNEV": "PETERB"
                                },
                                {
                                    "email": "polla@gmail.com",
                                    "USERNEV": "polla"
                                },
                                {
                                    "email": "rajmond.rácz@mail.hu",
                                    "USERNEV": "rajmond4"
                                },
                                {
                                    "email": "réka.szikszai@mail.hu",
                                    "USERNEV": "reka4"
                                },
                                {
                                    "email": "renáta.kardos@mail.hu",
                                    "USERNEV": "RENATAK"
                                },
                                {
                                    "email": "RENATAS@gmail.com",
                                    "USERNEV": "RENATAS"
                                },
                                {
                                    "email": "robert2@gmail.com",
                                    "USERNEV": "robert2"
                                },
                                {
                                    "email": "róbert.iván@mail.hu",
                                    "USERNEV": "ROBERTI"
                                },
                                {
                                    "email": "ROBERTP@gmail.com",
                                    "USERNEV": "ROBERTP"
                                },
                                {
                                    "email": "roland@gmail.com",
                                    "USERNEV": "roland"
                                },
                                {
                                    "email": "roland.ferencz@mail.hu",
                                    "USERNEV": "roland1"
                                },
                                {
                                    "email": "roza2@gmail.com",
                                    "USERNEV": "roza2"
                                },
                                {
                                    "email": "sandor@gmail.com",
                                    "USERNEV": "sandor"
                                },
                                {
                                    "email": "sándor.farkas@mail.hu",
                                    "USERNEV": "sandor3"
                                },
                                {
                                    "email": "sandor4@gmail.com",
                                    "USERNEV": "sandor4"
                                },
                                {
                                    "email": "sára.farkas@mail.hu",
                                    "USERNEV": "sara"
                                },
                                {
                                    "email": "SEBASTIANF@gmail.com",
                                    "USERNEV": "SEBASTIANF"
                                },
                                {
                                    "email": "sebestyen@gmail.com",
                                    "USERNEV": "sebestyen"
                                },
                                {
                                    "email": "szabolcs.miklós@mail.hu",
                                    "USERNEV": "SZABOLCSM"
                                },
                                {
                                    "email": "szilárd.szalai@mail.hu",
                                    "USERNEV": "SZILARDS"
                                },
                                {
                                    "email": "szilvia.tari@mail.hu",
                                    "USERNEV": "szilvia1"
                                },
                                {
                                    "email": "tamara.miklós@mail.hu",
                                    "USERNEV": "tamara2"
                                },
                                {
                                    "email": "tamás.antal@mail.hu",
                                    "USERNEV": "tamas"
                                },
                                {
                                    "email": "TAMASF@gmail.com",
                                    "USERNEV": "TAMASF"
                                },
                                {
                                    "email": "tibor.gombos@mail.hu",
                                    "USERNEV": "tibor"
                                },
                                {
                                    "email": "tihamér.kazy@mail.hu",
                                    "USERNEV": "tihamer"
                                },
                                {
                                    "email": "tímea.dusha@mail.hu",
                                    "USERNEV": "timea2"
                                },
                                {
                                    "email": "tunde@gmail.com",
                                    "USERNEV": "tunde"
                                },
                                {
                                    "email": "valentin.feró@mail.hu",
                                    "USERNEV": "valentin"
                                },
                                {
                                    "email": "veronika4@gmail.com",
                                    "USERNEV": "veronika4"
                                },
                                {
                                    "email": "viktoria.urbán@mail.hu",
                                    "USERNEV": "VIKTORIAU"
                                },
                                {
                                    "email": "viktor.keresztúri@mail.hu",
                                    "USERNEV": "VIKTORK"
                                },
                                {
                                    "email": "vivien3@gmail.com",
                                    "USERNEV": "vivien3"
                                },
                                {
                                    "email": "zoltán.fodor@mail.hu",
                                    "USERNEV": "zoltan"
                                },
                                {
                                    "email": "zoltan4@gmail.com",
                                    "USERNEV": "zoltan4"
                                },
                                {
                                    "email": "zoltán.pintér@mail.hu",
                                    "USERNEV": "ZOLTANP"
                                },
                                {
                                    "email": "zoltán.tóth@mail.hu",
                                    "USERNEV": "ZOLTANT"
                                },
                                {
                                    "email": "zsofi1@gmail.com",
                                    "USERNEV": "zsofi1"
                                },
                                {
                                    "email": "zsolt.pulai@mail.hu",
                                    "USERNEV": "zsolt1"
                                },
                                {
                                    "email": "ZSOLTJ@gmail.com",
                                    "USERNEV": "ZSOLTJ"
                                },
                                {
                                    "email": "zsuzsanna@gmail.com",
                                    "USERNEV": "zsuzsa"
                                },
                                {
                                    "email": "zsuzsa.varsányi@mail.hu",
                                    "USERNEV": "zsuzsa3"
                                },
                                {
                                    "email": "zsuzsanna.barta@mail.hu",
                                    "USERNEV": "zsuzsanna"
                                },
                                {
                                    "email": "zsuzsa.vajda@mail.hu",
                                    "USERNEV": "ZSUZSAV"
                                }
                            ]
                        },
                        "text/html": [
                            "<table>",
                            "<tr><th>email</th><th>USERNEV</th></tr>",
                            "<tr><td>ádám.kiss@mail.hu</td><td>adam1</td></tr>",
                            "<tr><td>adam3@gmail.com</td><td>adam3</td></tr>",
                            "<tr><td>ádám.bieniek@mail.hu</td><td>adam4</td></tr>",
                            "<tr><td>agnes@gmail.com</td><td>agnes</td></tr>",
                            "<tr><td>agnes3@gmail.com</td><td>agnes3</td></tr>",
                            "<tr><td>AGNESH@gmail.com</td><td>AGNESH</td></tr>",
                            "<tr><td>AGNESK@gmail.com</td><td>AGNESK</td></tr>",
                            "<tr><td>ákos.bíró@mail.hu</td><td>akos</td></tr>",
                            "<tr><td>aladár.dunai@mail.hu</td><td>aladar</td></tr>",
                            "<tr><td>alexandra.bagóczki@mail.hu</td><td>alexandra</td></tr>",
                            "<tr><td>andrea.maródi@mail.hu</td><td>andi</td></tr>",
                            "<tr><td>andrás.tóth@mail.hu</td><td>andras2</td></tr>",
                            "<tr><td>andrás.molnár@mail.hu</td><td>andras21</td></tr>",
                            "<tr><td>andrás.vígh@mail.hu</td><td>andras3</td></tr>",
                            "<tr><td>andras4@gmail.com</td><td>andras4</td></tr>",
                            "<tr><td>andras41@gmail.com</td><td>andras41</td></tr>",
                            "<tr><td>ANDRASE@gmail.com</td><td>ANDRASE</td></tr>",
                            "<tr><td>andrea.kiss@mail.hu</td><td>andrea</td></tr>",
                            "<tr><td>andrea4@gmail.com</td><td>andrea4</td></tr>",
                            "<tr><td>ANDREAT@gmail.com</td><td>ANDREAT</td></tr>",
                            "<tr><td>anett.pivarcsi@mail.hu</td><td>anett3</td></tr>",
                            "<tr><td>aniko@gmail.com</td><td>aniko</td></tr>",
                            "<tr><td>aniko4@gmail.com</td><td>aniko4</td></tr>",
                            "<tr><td>ANIKOS@gmail.com</td><td>ANIKOS</td></tr>",
                            "<tr><td>anita.hamvay-kovács@mail.hu</td><td>anita</td></tr>",
                            "<tr><td>annamária.szűcs@mail.hu</td><td>annamaria1</td></tr>",
                            "<tr><td>ANNAMARIAR@gmail.com</td><td>ANNAMARIAR</td></tr>",
                            "<tr><td>aron2@gmail.com</td><td>aron2</td></tr>",
                            "<tr><td>áron.kelemen@mail.hu</td><td>ARONK</td></tr>",
                            "<tr><td>árpád.ötvös@mail.hu</td><td>arpad2</td></tr>",
                            "<tr><td>árpád.horváth@mail.hu</td><td>ARPADH</td></tr>",
                            "<tr><td>árpád.móricz@mail.hu</td><td>ARPADM</td></tr>",
                            "<tr><td>attila@gmail.com</td><td>attila</td></tr>",
                            "<tr><td>attila.gulyás@mail.hu</td><td>attila1</td></tr>",
                            "<tr><td>attila.baróti@mail.hu</td><td>attila4</td></tr>",
                            "<tr><td>ATTILAO@gmail.com</td><td>ATTILAO</td></tr>",
                            "<tr><td>balázs.bozsik@mail.hu</td><td>balazs1</td></tr>",
                            "<tr><td>balázs.szűcs@mail.hu</td><td>balazs2</td></tr>",
                            "<tr><td>balazs3@gmail.com</td><td>balazs3</td></tr>",
                            "<tr><td>balint@gmail.com</td><td>balint</td></tr>",
                            "<tr><td>balint1@gmail.com</td><td>balint1</td></tr>",
                            "<tr><td>balint2@gmail.com</td><td>balint2</td></tr>",
                            "<tr><td>bálint.endresz@mail.hu</td><td>balu</td></tr>",
                            "<tr><td>beáta.bagi@mail.hu</td><td>beata4</td></tr>",
                            "<tr><td>beatrix.kerényi@mail.hu</td><td>BEATRIXK</td></tr>",
                            "<tr><td>beatrix.szekendi@mail.hu</td><td>BEATRIXS</td></tr>",
                            "<tr><td>BELAF@gmail.com</td><td>BELAF</td></tr>",
                            "<tr><td>bence@gmail.com</td><td>bence</td></tr>",
                            "<tr><td>bence.bajusz@mail.hu</td><td>BENCEB</td></tr>",
                            "<tr><td>bernadett1@gmail.com</td><td>bernadett1</td></tr>",
                            "<tr><td>bernadett.kovács@mail.hu</td><td>bernadett2</td></tr>",
                            "<tr><td>bernadett.orbán@mail.hu</td><td>BERNADETTO</td></tr>",
                            "<tr><td>bertalan@gmail.com</td><td>bertalan</td></tr>",
                            "<tr><td>brigitta.székely@mail.hu</td><td>brigitta</td></tr>",
                            "<tr><td>brigitta.pataki@mail.hu</td><td>brigitta3</td></tr>",
                            "<tr><td>csongor.nagymihály@mail.hu</td><td>csongor3</td></tr>",
                            "<tr><td>daniel@gmail.com</td><td>dani</td></tr>",
                            "<tr><td>dániel.rácz@mail.hu</td><td>daniel</td></tr>",
                            "<tr><td>dániel.keszler@mail.hu</td><td>daniel1</td></tr>",
                            "<tr><td>david@gmail.com</td><td>david</td></tr>",
                            "<tr><td>david1@gmail.com</td><td>david1</td></tr>",
                            "<tr><td>debóra.barna@mail.hu</td><td>debora</td></tr>",
                            "<tr><td>denes@gmail.com</td><td>denes</td></tr>",
                            "<tr><td>dóra.sarodi@mail.hu</td><td>dora3</td></tr>",
                            "<tr><td>edit.bittmann@mail.hu</td><td>edit</td></tr>",
                            "<tr><td>emese.kuruc@mail.hu</td><td>emese</td></tr>",
                            "<tr><td>eszter.molnár@mail.hu</td><td>eszter</td></tr>",
                            "<tr><td>eszter.balogh@mail.hu</td><td>eszter2</td></tr>",
                            "<tr><td>eszter.fülöp@mail.hu</td><td>eszter4</td></tr>",
                            "<tr><td>eszter.érsek@mail.hu</td><td>ESZTERE</td></tr>",
                            "<tr><td>eva@gmail.com</td><td>eva</td></tr>",
                            "<tr><td>eva2@gmail.com</td><td>eva2</td></tr>",
                            "<tr><td>EVAV@gmail.com</td><td>EVAV</td></tr>",
                            "<tr><td>ferenc.orosz@mail.hu</td><td>ferenc1</td></tr>",
                            "<tr><td>fruzsina4@gmail.com</td><td>fruzsina4</td></tr>",
                            "<tr><td>gabor1@gmail.com</td><td>gabor1</td></tr>",
                            "<tr><td>gábor.telek@mail.hu</td><td>gabor4</td></tr>",
                            "<tr><td>gabriella1@gmail.com</td><td>gabriella1</td></tr>",
                            "<tr><td>georgij.nyíri@mail.hu</td><td>georgij</td></tr>",
                            "<tr><td>gusztav@gmail.com</td><td>gusztav</td></tr>",
                            "<tr><td>gyöngyi.kornseé@mail.hu</td><td>GYONGYIK</td></tr>",
                            "<tr><td>GYORGYO@gmail.com</td><td>GYORGYO</td></tr>",
                            "<tr><td>henrik.nádudvari@mail.hu</td><td>henrik3</td></tr>",
                            "<tr><td>ibolya.andor@mail.hu</td><td>IBOLYAA</td></tr>",
                            "<tr><td>ilona3@gmail.com</td><td>ilona3</td></tr>",
                            "<tr><td>imre.búza@mail.hu</td><td>imre</td></tr>",
                            "<tr><td>imre.papp@mail.hu</td><td>imre1</td></tr>",
                            "<tr><td>istvan@gmail.com</td><td>istvan</td></tr>",
                            "<tr><td>istván.vizi@mail.hu</td><td>istvan1</td></tr>",
                            "<tr><td>ISTVANV@gmail.com</td><td>ISTVANV</td></tr>",
                            "<tr><td>janos3@gmail.com</td><td>janos3</td></tr>",
                            "<tr><td>JANOSG@gmail.com</td><td>JANOSG</td></tr>",
                            "<tr><td>JANOSP@gmail.com</td><td>JANOSP</td></tr>",
                            "<tr><td>jozsef@gmail.com</td><td>jozsef</td></tr>",
                            "<tr><td>józsef.vajda@mail.hu</td><td>jozsef2</td></tr>",
                            "<tr><td>józsef.gyuris@mail.hu</td><td>JOZSEFG</td></tr>",
                            "<tr><td>JUDITH@gmail.com</td><td>JUDITH</td></tr>",
                            "<tr><td>julia@gmail.com</td><td>julia</td></tr>",
                            "<tr><td>julia4@gmail.com</td><td>julia4</td></tr>",
                            "<tr><td>julianna4@gmail.com</td><td>julianna4</td></tr>",
                            "<tr><td>katalin.gondos@mail.hu</td><td>kata</td></tr>",
                            "<tr><td>katalin.horváth@mail.hu</td><td>katalin</td></tr>",
                            "<tr><td>katalin4@gmail.com</td><td>katalin4</td></tr>",
                            "<tr><td>katalin.zatykó@mail.hu</td><td>kati</td></tr>",
                            "<tr><td>katalin.kovács@mail.hu</td><td>katka</td></tr>",
                            "<tr><td>klaudia.bakó@mail.hu</td><td>klaudia2</td></tr>",
                            "<tr><td>kornél.lukács@mail.hu</td><td>kornel4</td></tr>",
                            "<tr><td>kristof4@gmail.com</td><td>kristof4</td></tr>",
                            "<tr><td>kriszti@gmail.com</td><td>kriszti</td></tr>",
                            "<tr><td>krisztián.czérna@mail.hu</td><td>krisztian4</td></tr>",
                            "<tr><td>KRISZTIANM@gmail.com</td><td>KRISZTIANM</td></tr>",
                            "<tr><td>krisztina@gmail.com</td><td>krisztina</td></tr>",
                            "<tr><td>krisztina.bori@mail.hu</td><td>krisztina1</td></tr>",
                            "<tr><td>KRISZTINAG@gmail.com</td><td>KRISZTINAG</td></tr>",
                            "<tr><td>lajos.kiss@mail.hu</td><td>lajos</td></tr>",
                            "<tr><td>lajos.nagymihály@mail.hu</td><td>lala</td></tr>",
                            "<tr><td>lászló.móra@mail.hu</td><td>laszlo2</td></tr>",
                            "<tr><td>lászló.antal@mail.hu</td><td>LASZLOA</td></tr>",
                            "<tr><td>lászló.nagy@mail.hu</td><td>LASZLON</td></tr>",
                            "<tr><td>mária.baráth@mail.hu</td><td>maria1</td></tr>",
                            "<tr><td>márk.kispál@mail.hu</td><td>mark</td></tr>",
                            "<tr><td>márk.horváth@mail.hu</td><td>MARKH</td></tr>",
                            "<tr><td>marton@gmail.com</td><td>marton</td></tr>",
                            "<tr><td>máté.koza@mail.hu</td><td>MATEK</td></tr>",
                            "<tr><td>matyas2@gmail.com</td><td>matyas2</td></tr>",
                            "<tr><td>mátyás.szilágyi@mail.hu</td><td>MATYASS</td></tr>",
                            "<tr><td>mihály.juhász@mail.hu</td><td>MIHALYJ</td></tr>",
                            "<tr><td>miklos2@gmail.com</td><td>miklos2</td></tr>",
                            "<tr><td>miklós.balla@mail.hu</td><td>MIKLOSB</td></tr>",
                            "<tr><td>mónika.mohos@mail.hu</td><td>MONIKAM</td></tr>",
                            "<tr><td>nándor.fő@mail.hu</td><td>NANDORF</td></tr>",
                            "<tr><td>nikolett3@gmail.com</td><td>nikolett3</td></tr>",
                            "<tr><td>nikoletta4@gmail.com</td><td>nikoletta4</td></tr>",
                            "<tr><td>nikoletta.tatár@mail.hu</td><td>NIKOLETTAT</td></tr>",
                            "<tr><td>norbert@gmail.com</td><td>norbert</td></tr>",
                            "<tr><td>norbert.hegedűs@mail.hu</td><td>norbert2</td></tr>",
                            "<tr><td>norbert4@gmail.com</td><td>norbert4</td></tr>",
                            "<tr><td>norbert5@gmail.com</td><td>norbert5</td></tr>",
                            "<tr><td>pál.barabás@mail.hu</td><td>pal</td></tr>",
                            "<tr><td>peter1@gmail.com</td><td>peter1</td></tr>",
                            "<tr><td>peter2@gmail.com</td><td>peter2</td></tr>",
                            "<tr><td>peter3@gmail.com</td><td>peter3</td></tr>",
                            "<tr><td>péter.bíró@mail.hu</td><td>peter4</td></tr>",
                            "<tr><td>péter.berendi@mail.hu</td><td>PETERB</td></tr>",
                            "<tr><td>polla@gmail.com</td><td>polla</td></tr>",
                            "<tr><td>rajmond.rácz@mail.hu</td><td>rajmond4</td></tr>",
                            "<tr><td>réka.szikszai@mail.hu</td><td>reka4</td></tr>",
                            "<tr><td>renáta.kardos@mail.hu</td><td>RENATAK</td></tr>",
                            "<tr><td>RENATAS@gmail.com</td><td>RENATAS</td></tr>",
                            "<tr><td>robert2@gmail.com</td><td>robert2</td></tr>",
                            "<tr><td>róbert.iván@mail.hu</td><td>ROBERTI</td></tr>",
                            "<tr><td>ROBERTP@gmail.com</td><td>ROBERTP</td></tr>",
                            "<tr><td>roland@gmail.com</td><td>roland</td></tr>",
                            "<tr><td>roland.ferencz@mail.hu</td><td>roland1</td></tr>",
                            "<tr><td>roza2@gmail.com</td><td>roza2</td></tr>",
                            "<tr><td>sandor@gmail.com</td><td>sandor</td></tr>",
                            "<tr><td>sándor.farkas@mail.hu</td><td>sandor3</td></tr>",
                            "<tr><td>sandor4@gmail.com</td><td>sandor4</td></tr>",
                            "<tr><td>sára.farkas@mail.hu</td><td>sara</td></tr>",
                            "<tr><td>SEBASTIANF@gmail.com</td><td>SEBASTIANF</td></tr>",
                            "<tr><td>sebestyen@gmail.com</td><td>sebestyen</td></tr>",
                            "<tr><td>szabolcs.miklós@mail.hu</td><td>SZABOLCSM</td></tr>",
                            "<tr><td>szilárd.szalai@mail.hu</td><td>SZILARDS</td></tr>",
                            "<tr><td>szilvia.tari@mail.hu</td><td>szilvia1</td></tr>",
                            "<tr><td>tamara.miklós@mail.hu</td><td>tamara2</td></tr>",
                            "<tr><td>tamás.antal@mail.hu</td><td>tamas</td></tr>",
                            "<tr><td>TAMASF@gmail.com</td><td>TAMASF</td></tr>",
                            "<tr><td>tibor.gombos@mail.hu</td><td>tibor</td></tr>",
                            "<tr><td>tihamér.kazy@mail.hu</td><td>tihamer</td></tr>",
                            "<tr><td>tímea.dusha@mail.hu</td><td>timea2</td></tr>",
                            "<tr><td>tunde@gmail.com</td><td>tunde</td></tr>",
                            "<tr><td>valentin.feró@mail.hu</td><td>valentin</td></tr>",
                            "<tr><td>veronika4@gmail.com</td><td>veronika4</td></tr>",
                            "<tr><td>viktoria.urbán@mail.hu</td><td>VIKTORIAU</td></tr>",
                            "<tr><td>viktor.keresztúri@mail.hu</td><td>VIKTORK</td></tr>",
                            "<tr><td>vivien3@gmail.com</td><td>vivien3</td></tr>",
                            "<tr><td>zoltán.fodor@mail.hu</td><td>zoltan</td></tr>",
                            "<tr><td>zoltan4@gmail.com</td><td>zoltan4</td></tr>",
                            "<tr><td>zoltán.pintér@mail.hu</td><td>ZOLTANP</td></tr>",
                            "<tr><td>zoltán.tóth@mail.hu</td><td>ZOLTANT</td></tr>",
                            "<tr><td>zsofi1@gmail.com</td><td>zsofi1</td></tr>",
                            "<tr><td>zsolt.pulai@mail.hu</td><td>zsolt1</td></tr>",
                            "<tr><td>ZSOLTJ@gmail.com</td><td>ZSOLTJ</td></tr>",
                            "<tr><td>zsuzsanna@gmail.com</td><td>zsuzsa</td></tr>",
                            "<tr><td>zsuzsa.varsányi@mail.hu</td><td>zsuzsa3</td></tr>",
                            "<tr><td>zsuzsanna.barta@mail.hu</td><td>zsuzsanna</td></tr>",
                            "<tr><td>zsuzsa.vajda@mail.hu</td><td>ZSUZSAV</td></tr>",
                            "</table>"
                        ]
                    }
                }
            ],
            "execution_count": 6
        },
        {
            "cell_type": "markdown",
            "source": [
                "Listázzuk azon vendégek adatait, akik a legtöbb férőhelyes szobát (vagy szobákat) már lefoglalták!\n",
                "\n",
                "- Csak klímás szoba jöhet számításba"
            ],
            "metadata": {
                "azdata_cell_guid": "2377d67c-57d0-4055-8adb-6567db8d04d6"
            },
            "attachments": {}
        },
        {
            "cell_type": "code",
            "source": [
                ""
            ],
            "metadata": {
                "azdata_cell_guid": "8905b315-67e6-45c5-bf2f-7907c2951fb8",
                "language": "sql"
            },
            "outputs": [],
            "execution_count": null
        },
        {
            "cell_type": "markdown",
            "source": [
                "Jelenítsük meg, hogy az egyes szálláshelyek szobáit esetén a legutolsó 5 foglalás átlagosan hány főre történt!\n",
                "\n",
                "- A számításnál vegyük figyelembe a felnőtteket és a gyermekeket is\n",
                "- A foglalás dátumánál a METTOL mezőt használjuk"
            ],
            "metadata": {
                "language": "sql",
                "azdata_cell_guid": "2c38723a-5ef0-4eae-845d-12da44e1f60a"
            },
            "attachments": {}
        },
        {
            "cell_type": "code",
            "source": [
                ""
            ],
            "metadata": {
                "language": "sql",
                "azdata_cell_guid": "3d2e8c1b-f489-4479-a4ab-8778d907fc73"
            },
            "outputs": [],
            "execution_count": null
        },
        {
            "cell_type": "markdown",
            "source": [
                "Készítsen lekérdezést, amely megjeleníti, hogy szálláshelyenként, azon belül a pótágyak száma szerint hány főre foglaltak összesen (felnőtt + gyermek)!\n",
                "\n",
                "- Jelenjenek meg a részösszegek és a végösszeg is!"
            ],
            "metadata": {
                "language": "sql",
                "azdata_cell_guid": "682150e3-983d-4faa-a3dc-6319dabc66f0"
            },
            "attachments": {}
        },
        {
            "cell_type": "code",
            "source": [
                ""
            ],
            "metadata": {
                "language": "sql",
                "azdata_cell_guid": "7dbf5748-ed0f-488b-9a46-9f1279ae631d"
            },
            "outputs": [],
            "execution_count": null
        },
        {
            "cell_type": "markdown",
            "source": [
                "A Szoba tábla Ferohely oszlopára végezzük el a következő számításokat:\n",
                "\n",
                "- Különböző értékek száma\n",
                "- Minimum, maximum, átlag\n",
                "- Null és Not null értékek százalékos aránya"
            ],
            "metadata": {
                "language": "sql",
                "azdata_cell_guid": "a3fbbac6-1946-4ebe-a029-62802658a3d4"
            },
            "attachments": {}
        },
        {
            "cell_type": "code",
            "source": [
                ""
            ],
            "metadata": {
                "language": "sql",
                "azdata_cell_guid": "feac1c0a-82fe-4e9d-a71a-364ab7a4740f"
            },
            "outputs": [],
            "execution_count": null
        }
    ]
}